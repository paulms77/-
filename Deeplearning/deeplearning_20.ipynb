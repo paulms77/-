{
  "nbformat": 4,
  "nbformat_minor": 0,
  "metadata": {
    "colab": {
      "name": "deeplearning_20.ipynb",
      "provenance": []
    },
    "kernelspec": {
      "name": "python3",
      "display_name": "Python 3"
    },
    "language_info": {
      "name": "python"
    }
  },
  "cells": [
    {
      "cell_type": "markdown",
      "source": [
        "# 20. 모델 저장하고 복원하기\n",
        "\n",
        "학습이 이루어진 모델을 저장하고 복원할 수 있습니다.\n",
        "\n",
        "케라스는 HDF5(.h5) 표준 포맷을 제공해서, 모델의 가중치, 모델 구성, 옵티마이저 설정까지 저장합니다.\n",
        "\n",
        "저장한 모델을 TensorFlow.js로 불러와서 웹 브라우저에서 모델을 다시 훈련하고 실행하거나, 모바일 장치에 맞도록 변환해서 사용할 수 있습니다.\n",
        "\n",
        "아래의 MNIST 손글씨 이미지 인식 예제에서 save()와 load_model()메서드의 사용에 대해 알아봅니다."
      ],
      "metadata": {
        "id": "z7jEBg174kwX"
      }
    },
    {
      "cell_type": "markdown",
      "source": [
        "## 모델 저장\n",
        "\n",
        "예제"
      ],
      "metadata": {
        "id": "TS2lH8ob5wZ8"
      }
    },
    {
      "cell_type": "code",
      "execution_count": 3,
      "metadata": {
        "colab": {
          "base_uri": "https://localhost:8080/"
        },
        "id": "_qA35wq24hXk",
        "outputId": "77fc3855-82d3-4f0b-ec8f-bde9b12c4703"
      },
      "outputs": [
        {
          "output_type": "stream",
          "name": "stdout",
          "text": [
            "Epoch 1/5\n",
            "1875/1875 [==============================] - 12s 6ms/step - loss: 0.2019 - accuracy: 0.9398\n",
            "Epoch 2/5\n",
            "1875/1875 [==============================] - 11s 6ms/step - loss: 0.0809 - accuracy: 0.9754\n",
            "Epoch 3/5\n",
            "1875/1875 [==============================] - 11s 6ms/step - loss: 0.0530 - accuracy: 0.9832\n",
            "Epoch 4/5\n",
            "1875/1875 [==============================] - 12s 7ms/step - loss: 0.0381 - accuracy: 0.9875\n",
            "Epoch 5/5\n",
            "1875/1875 [==============================] - 16s 8ms/step - loss: 0.0270 - accuracy: 0.9915\n"
          ]
        }
      ],
      "source": [
        "import tensorflow as tf\n",
        "\n",
        "# 1. MNIST 데이터셋 임포트\n",
        "mnist = tf.keras.datasets.mnist\n",
        "(x_train, y_train), (x_test, y_test) = mnist.load_data()\n",
        "\n",
        "# 2. 데이터 전처리\n",
        "x_train, x_test = x_train/255.0, x_test/255.0\n",
        "\n",
        "# 3. 모델 구성\n",
        "model = tf.keras.models.Sequential([\n",
        "  tf.keras.layers.Flatten(input_shape=(28,28)),\n",
        "  tf.keras.layers.Dense(512, activation=tf.nn.relu),\n",
        "  tf.keras.layers.Dense(10, activation=tf.nn.softmax)\n",
        "])\n",
        "\n",
        "# 4. 모델 컴파일\n",
        "model.compile(optimizer='adam',\n",
        "              loss = 'sparse_categorical_crossentropy',\n",
        "              metrics=['accuracy'])\n",
        "\n",
        "# 5. 모델 훈련\n",
        "model.fit(x_train, y_train, epochs = 5)\n",
        "\n",
        "# 6. 모델 저장\n",
        "model.save('model1.h5')\n"
      ]
    },
    {
      "cell_type": "markdown",
      "source": [
        "5회의 에포크 동안 학습이 이루어진 모델을 save() 메서드를 이용해서 저장했습니다.\n",
        "\n",
        "이제 'model1.h5' 파일이 생성됩니다."
      ],
      "metadata": {
        "id": "lV148xHV6lOl"
      }
    },
    {
      "cell_type": "markdown",
      "source": [
        "## 모델 복원하기\n",
        "\n",
        "예제"
      ],
      "metadata": {
        "id": "kwRHqRqD7Fqz"
      }
    },
    {
      "cell_type": "code",
      "source": [
        "import tensorflow as tf\n",
        "\n",
        "mnist = tf.keras.datasets.mnist\n",
        "(x_train, y_train), (x_test, y_test) = mnist.load_data()\n",
        "x_train, x_test = x_train/255.0, x_test/255.0\n",
        "\n",
        "# 모델 복원\n",
        "loaded_model = tf.keras.models.load_model('model1.h5')\n",
        "loaded_model.summary()\n",
        "\n",
        "loss,acc = loaded_model.evaluate(x_test, y_test, verbose = 2)\n",
        "print('loss: ', loss)\n",
        "print('acc: ', acc)"
      ],
      "metadata": {
        "colab": {
          "base_uri": "https://localhost:8080/"
        },
        "id": "JWBvtonz6kDS",
        "outputId": "48c3cf0c-3fde-4440-9e85-9680988f9d1b"
      },
      "execution_count": 4,
      "outputs": [
        {
          "output_type": "stream",
          "name": "stdout",
          "text": [
            "Model: \"sequential_2\"\n",
            "_________________________________________________________________\n",
            " Layer (type)                Output Shape              Param #   \n",
            "=================================================================\n",
            " flatten_2 (Flatten)         (None, 784)               0         \n",
            "                                                                 \n",
            " dense_4 (Dense)             (None, 512)               401920    \n",
            "                                                                 \n",
            " dense_5 (Dense)             (None, 10)                5130      \n",
            "                                                                 \n",
            "=================================================================\n",
            "Total params: 407,050\n",
            "Trainable params: 407,050\n",
            "Non-trainable params: 0\n",
            "_________________________________________________________________\n",
            "313/313 - 1s - loss: 0.0676 - accuracy: 0.9794 - 836ms/epoch - 3ms/step\n",
            "loss:  0.06764272600412369\n",
            "acc:  0.9793999791145325\n"
          ]
        }
      ]
    },
    {
      "cell_type": "markdown",
      "source": [
        "load_model() 메서드를 이용해서 저장한 모델('model1.h5')을 불러왔습니다.\n",
        "\n",
        "summary()를 이용해서 모델의 대한 정보를 확인합니다.\n",
        "\n",
        "그리고 evaluate()를 이용해서 이전의 훈련의 결과를 확인합니다.\n",
        "\n",
        "공식 문서에 의하면, 모델의 구조를 저장할 수 있지만, 모델을 로드한 후에 다시 컴파일 해야합니다.\n",
        "\n",
        "즉, 옵티마이저의 상태는 유지되지 않습니다."
      ],
      "metadata": {
        "id": "6k_6fYSB7sgt"
      }
    },
    {
      "cell_type": "code",
      "source": [
        ""
      ],
      "metadata": {
        "id": "_G9s8KTf7nen"
      },
      "execution_count": null,
      "outputs": []
    }
  ]
}