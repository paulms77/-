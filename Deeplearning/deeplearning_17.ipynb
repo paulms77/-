{
  "nbformat": 4,
  "nbformat_minor": 0,
  "metadata": {
    "colab": {
      "name": "deeplearning_17.ipynb",
      "provenance": []
    },
    "kernelspec": {
      "name": "python3",
      "display_name": "Python 3"
    },
    "language_info": {
      "name": "python"
    }
  },
  "cells": [
    {
      "cell_type": "markdown",
      "source": [
        "# 17. 시냅스 가중치 적용하기"
      ],
      "metadata": {
        "id": "XtwMwBiO6WP8"
      }
    },
    {
      "cell_type": "markdown",
      "source": [
        "tf.keras.layers 모듈의 모든 레이어는 set_weights()메서드를 포함합니다.\n",
        "\n",
        "set_weights()메서드를 이용해서 미리 생성, 가공하거나, 불러온 가중치 값(weights)들을 모델에 적용할 수 있습니다.\n",
        "\n",
        "아래 예제에서는 임의의 가중치 값을 갖는 NumPy 어레이를 생성하고 모델에 적용해보겠습니다."
      ],
      "metadata": {
        "id": "IYC2jogz6cQW"
      }
    },
    {
      "cell_type": "markdown",
      "source": [
        "# 예제"
      ],
      "metadata": {
        "id": "FbfZTR4p6z1L"
      }
    },
    {
      "cell_type": "code",
      "execution_count": 1,
      "metadata": {
        "id": "ysm38fYK3xmy"
      },
      "outputs": [],
      "source": [
        "import numpy as np\n",
        "import tensorflow as tf\n",
        "\n",
        "# 1. MNIST 데이터셋 임포트\n",
        "mnist = tf.keras.datasets.mnist\n",
        "(x_train, y_train), (x_test, y_test) = mnist.load_data()\n",
        "\n",
        "# 2. 데이터 전처리\n",
        "x_train, x_test = x_train/255.0, x_test/255.0\n",
        "\n",
        "# 3. 모델 구성\n",
        "model = tf.keras.models.Sequential([\n",
        "  tf.keras.layers.Flatten(input_shape=(28,28)),\n",
        "  tf.keras.layers.Dense(512, activation=tf.nn.relu),\n",
        "  tf.keras.layers.Dense(10, activation=tf.nn.softmax)\n",
        "])\n",
        "\n",
        "# 4. 웨이트 생성하기\n",
        "weight0 = np.random.rand(784, 512) * 0.1\n",
        "weight1 = np.zeros(512)\n",
        "weight2 = np.random.rand(512, 10) * 0.05\n",
        "weight3 = np.zeros(10)\n",
        "\n",
        "weights = np.array([weight0, weight1, weight2, weight3])\n",
        "\n",
        "# 5.웨이트 적용하기\n",
        "model.set_weights(weights)\n",
        "\n",
        "print(model.get_weights())"
      ]
    },
    {
      "cell_type": "markdown",
      "source": [
        "생성한 가중치 값들이 모델에 적용됩니다."
      ],
      "metadata": {
        "id": "-MZ7pNPG74NO"
      }
    },
    {
      "cell_type": "markdown",
      "source": [
        "## 설명"
      ],
      "metadata": {
        "id": "hNr_Hwc277zs"
      }
    },
    {
      "cell_type": "code",
      "source": [
        "# 4. 웨이트 생성하기\n",
        "weight0 = np.random.rand(784, 512) * 0.1\n",
        "weight1 = np.zeros(512)\n",
        "weight2 = np.random.rand(512, 10) * 0.05\n",
        "weight3 = np.zeros(10)\n",
        "\n",
        "weights = np.array([weight0, weight1, weight2, weight3])"
      ],
      "metadata": {
        "id": "M-OUK6f061rW"
      },
      "execution_count": null,
      "outputs": []
    },
    {
      "cell_type": "markdown",
      "source": [
        "각 레이어별로 적용할 가중치 값과 바이어스 값을 각각의 어레이로 만들었습니다.\n",
        "\n",
        "NumPy의 random.rand()함수를 이용해서\n",
        "\n",
        "첫번째 레이어의 가중치 값은 0에서 0.1사이의 임의의 값을 갖도록,\n",
        "\n",
        "두번째 레이어의 가중치 값은 0에서 0.05 사이의 임의의 값을 갖도록 만들어 주었습니다.\n",
        "\n",
        "또한 NumPy의 zeros()함수를 이용해서 바이어스 값은 모두 0으로 합니다.\n",
        "\n",
        "그리고 네 개의 어레이를 하나의 NumPy 어레이로 합쳐 주었습니다."
      ],
      "metadata": {
        "id": "hy_-B9-48CHx"
      }
    },
    {
      "cell_type": "code",
      "source": [
        "# 5. 웨이트 적용하기\n",
        "model.set_weights(weights)"
      ],
      "metadata": {
        "id": "wmoIuOIe8Bsh"
      },
      "execution_count": null,
      "outputs": []
    },
    {
      "cell_type": "markdown",
      "source": [
        "이제 set_weights()를 이용해서 생성한 weights를 모델에 적용해줍니다."
      ],
      "metadata": {
        "id": "MdzvDCyE8vJc"
      }
    },
    {
      "cell_type": "code",
      "source": [
        "print(model.get_weights())"
      ],
      "metadata": {
        "id": "E0Wu2pt_8u4j"
      },
      "execution_count": null,
      "outputs": []
    },
    {
      "cell_type": "markdown",
      "source": [
        "시냅스 가중치 얻기 페이지에서 다루었던 get_weights() 메서드를 이용해서 모델의 가중치 값을 출력해보면\n",
        "\n",
        "생성한 가중치 값들이 적용되어 있음을 알 수 있습니다."
      ],
      "metadata": {
        "id": "w7NlzFuS80--"
      }
    },
    {
      "cell_type": "markdown",
      "source": [
        "## 바이어스 사용하지 않기"
      ],
      "metadata": {
        "id": "4wOWuinh9vrA"
      }
    },
    {
      "cell_type": "code",
      "source": [
        "import numpy as np\n",
        "import tensorflow as tf\n",
        "\n",
        "# 1 MNIST 데이터셋 임포트\n",
        "mnist = tf.keras.datasets.mnist\n",
        "(x_train, y_train), (x_test, y_test) = mnist.load_data()\n",
        "\n",
        "# 2. 데이터 전처리\n",
        "x_train, x_test = x_train/255.0, x_test/255.0\n",
        "\n",
        "# 3. 모델 구성\n",
        "model = tf.keras.models.Sequential([\n",
        "  tf.keras.layers.Flatten(input_shape=(28,28)),\n",
        "  tf.keras.layers.Dense(512, activation=tf.nn.relu, use_bias = False), #바이어스 사용하지 않기, use_bias = False\n",
        "  tf.keras.layers.Dense(10, activation=tf.nn.softmax, use_bias = False)\n",
        "])\n",
        "\n",
        "weights = model.get_weights()\n",
        "\n",
        "print(weights)\n",
        "print(len(weights))\n",
        "print(weights[0].shape)\n",
        "print(weights[1].shape)"
      ],
      "metadata": {
        "colab": {
          "base_uri": "https://localhost:8080/"
        },
        "id": "GAhzlrCd80oH",
        "outputId": "020b9591-6f8b-401a-c575-901e2968d5f6"
      },
      "execution_count": 2,
      "outputs": [
        {
          "output_type": "stream",
          "name": "stdout",
          "text": [
            "Downloading data from https://storage.googleapis.com/tensorflow/tf-keras-datasets/mnist.npz\n",
            "11493376/11490434 [==============================] - 0s 0us/step\n",
            "11501568/11490434 [==============================] - 0s 0us/step\n",
            "[array([[ 0.02788258, -0.06246598, -0.00531098, ...,  0.01288572,\n",
            "        -0.01710593, -0.03326653],\n",
            "       [-0.04480006, -0.00312543,  0.00170244, ...,  0.0453319 ,\n",
            "        -0.05406794,  0.03202682],\n",
            "       [ 0.05840707,  0.06774625, -0.02338541, ..., -0.06071645,\n",
            "        -0.03155698,  0.00169101],\n",
            "       ...,\n",
            "       [ 0.04310898,  0.0088537 , -0.04799803, ..., -0.03549021,\n",
            "         0.01976594,  0.06615664],\n",
            "       [-0.01409343, -0.0587365 , -0.00168154, ...,  0.05957684,\n",
            "        -0.02314982,  0.06765398],\n",
            "       [-0.02522045,  0.00246575,  0.01155356, ...,  0.0295435 ,\n",
            "        -0.02156535,  0.04991223]], dtype=float32), array([[-0.10234541, -0.06233354, -0.07260426, ...,  0.0887197 ,\n",
            "        -0.04541019,  0.09156405],\n",
            "       [-0.01177541, -0.0913982 ,  0.0510511 , ..., -0.10291555,\n",
            "         0.09037573,  0.01474165],\n",
            "       [-0.05591973,  0.00511157, -0.06244902, ..., -0.10053698,\n",
            "        -0.10530378,  0.09425377],\n",
            "       ...,\n",
            "       [-0.08405755, -0.07590733,  0.08390666, ..., -0.05787298,\n",
            "        -0.0212563 , -0.07727838],\n",
            "       [-0.0891021 , -0.01344872, -0.06291406, ..., -0.09359445,\n",
            "        -0.03589123,  0.00660401],\n",
            "       [-0.0025683 ,  0.01740319,  0.03298347, ..., -0.03025329,\n",
            "         0.09688278,  0.00735024]], dtype=float32)]\n",
            "2\n",
            "(784, 512)\n",
            "(512, 10)\n"
          ]
        }
      ]
    },
    {
      "cell_type": "markdown",
      "source": [
        "각 레이어를 구성할 때, use_bias=False로 설정하면 바이어스를 나타내는 NumPy 어레이가 생성되지 않습니다.\n",
        "\n",
        "모델의 시냅스 가중치를 출력해보면 (784, 512)와 (512, 10)형태의 두 개의 NumPy 어레이가 생성되었음을 알 수 있습니다."
      ],
      "metadata": {
        "id": "IQEjXxYG_IHK"
      }
    },
    {
      "cell_type": "markdown",
      "source": [
        "## tf.keras.initalizers.RandomNormal 사용하기\n",
        "\n",
        "tf.keras.initializers.RandomNormal는 표준분포를 갖는 텐서(tensor)를 생성합니다.\n"
      ],
      "metadata": {
        "id": "ic275gNTAR13"
      }
    },
    {
      "cell_type": "code",
      "source": [
        "import numpy as np\n",
        "import tensorflow as tf\n",
        "\n",
        "# 1. MNIST 데이터셋 임포트\n",
        "mnist = tf.keras.datasets.mnist\n",
        "(x_train, y_train), (x_test, y_test) = mnist.load_data()\n",
        "\n",
        "# 2. 데이터 전처리\n",
        "x_train, x_test = x_train/255, x_test/255\n",
        "\n",
        "# 3. tf.keras.initializers.RandomNormal 사용하기\n",
        "initializer1 = tf.keras.initializers.RandomNormal(mean=2.0, stddev = 0.05, seed=None)\n",
        "initializer2 = tf.keras.initializers.RandomNormal(mean=-2.0, stddev = 0.01, seed=None)\n",
        "\n",
        "# 4. 모델 구성\n",
        "model = tf.keras.models.Sequential([\n",
        "  tf.keras.layers.Flatten(input_shape=(28,28)),\n",
        "  tf.keras.layers.Dense(512, activation=tf.nn.relu, use_bias=False, kernel_initializer=initializer1),\n",
        "  tf.keras.layers.Dense(10, activation=tf.nn.softmax, use_bias=False, kernel_initializer=initializer2)\n",
        "])\n",
        "\n",
        "# 5. 시냅스 가중치 출력\n",
        "weights = model.get_weights()\n",
        "print(weights)\n",
        "\n",
        "# 6. Matplotlib 시각화하기\n",
        "import matplotlib.pyplot as plt\n",
        "\n",
        "plt.hist(weights[0], bins =100, alpha=0.7, histtype='step')\n",
        "plt.hist(weights[1], bins =100, alpha=0.7, histtype='step')\n",
        "plt.show()"
      ],
      "metadata": {
        "colab": {
          "base_uri": "https://localhost:8080/",
          "height": 744
        },
        "id": "gBlIuukF-1lh",
        "outputId": "8c48720d-3c7f-41fa-a3fd-b69628e3145e"
      },
      "execution_count": 4,
      "outputs": [
        {
          "output_type": "stream",
          "name": "stdout",
          "text": [
            "[array([[2.0357292, 2.0138893, 2.0196948, ..., 2.0330918, 1.9829334,\n",
            "        1.8935621],\n",
            "       [1.9867274, 1.9355361, 2.0034418, ..., 1.9236127, 2.016306 ,\n",
            "        1.9944457],\n",
            "       [1.9519284, 2.0236084, 2.069694 , ..., 2.0694642, 1.9868551,\n",
            "        2.038374 ],\n",
            "       ...,\n",
            "       [2.097893 , 1.9217156, 1.9746457, ..., 2.0250769, 1.9854388,\n",
            "        1.9992251],\n",
            "       [2.0055432, 2.0310793, 1.9320983, ..., 1.9783545, 2.0673463,\n",
            "        2.1392934],\n",
            "       [2.0106566, 2.0669436, 1.9724635, ..., 2.0321174, 2.006657 ,\n",
            "        1.9629525]], dtype=float32), array([[-2.0209136, -2.0044339, -1.9774593, ..., -2.017154 , -1.9966458,\n",
            "        -1.9965818],\n",
            "       [-2.0045578, -2.0116045, -1.9935712, ..., -1.9853144, -2.0030186,\n",
            "        -2.000123 ],\n",
            "       [-2.0074625, -2.0082202, -2.013038 , ..., -1.9861165, -1.9999143,\n",
            "        -1.9973581],\n",
            "       ...,\n",
            "       [-2.0318348, -2.003012 , -1.9964797, ..., -2.0024436, -1.9986839,\n",
            "        -1.9955832],\n",
            "       [-1.9990256, -1.9952036, -1.999667 , ..., -2.0019038, -2.0064497,\n",
            "        -1.9885356],\n",
            "       [-2.0026646, -1.9893823, -1.9931077, ..., -2.0018768, -2.020635 ,\n",
            "        -1.9983085]], dtype=float32)]\n"
          ]
        },
        {
          "output_type": "display_data",
          "data": {
            "text/plain": [
              "<Figure size 432x288 with 1 Axes>"
            ],
            "image/png": "[encoded data removed]"
          },
          "metadata": {
            "needs_background": "light"
          }
        }
      ]
    },
    {
      "cell_type": "markdown",
      "source": [
        "tf.keras.layer 모듈의 각 레이어를 구성하면서 kernel_initializer 인자를 사용해서 미리 생성한 표준분포를 갖는 텐서를 모델의 시냅스 가중치로 적용했습니다.\n",
        "\n",
        "\n",
        "각각 평균 2.0, 표준편차 0.05, 평균 -2.0, 표준편차 0.01인 시냅스 가중치 값들이 생성되었음을 알 수 있습니다."
      ],
      "metadata": {
        "id": "mFvmblVvCjT_"
      }
    },
    {
      "cell_type": "markdown",
      "source": [
        "## tf.keras.initializers.RandomUniform 사용하기\n",
        "\n",
        "tf.keras.initializers.RandomUniform은 균등 분포를 갖는 텐서(tensor)를 생성합니다."
      ],
      "metadata": {
        "id": "8vBFEOBADKQZ"
      }
    },
    {
      "cell_type": "code",
      "source": [
        "import numpy as np\n",
        "import tensorflow as tf\n",
        "\n",
        "# 1. MNIST 데이터셋 임포트\n",
        "mnist = tf.keras.datasets.mnist\n",
        "(x_train, y_train), (x_test, y_test) = mnist.load_data()\n",
        "\n",
        "# 2. 데이터 전처리\n",
        "x_train, x_test = x_train/255, x_test/255\n",
        "\n",
        "# 3. tf.keras.initializers.RandomNormal 사용하기\n",
        "initializer1 = tf.keras.initializers.RandomUniform(minval=-0.05, maxval=0.05, seed=None)\n",
        "initializer2 = tf.keras.initializers.RandomUniform(minval=-0.1, maxval=0.1, seed=None)\n",
        "\n",
        "model = tf.keras.models.Sequential([\n",
        "  tf.keras.layers.Flatten(input_shape=(28,28)),\n",
        "  tf.keras.layers.Dense(512, activation=tf.nn.relu, use_bias = False, kernel_initializer=initializer1),\n",
        "  tf.keras.layers.Dense(10, activation=tf.nn.softmax, use_bias=False, kernel_initializer=initializer2)\n",
        "])\n",
        "\n",
        "# 4. 시냅스 가중치 출력\n",
        "weights = model.get_weights()\n",
        "print(weights)\n",
        "\n",
        "# 6. Matplotlib 시각화 하기\n",
        "import matplotlib.pyplot as plt\n",
        "\n",
        "plt.hist(weights[0], bins = 100, alpha = 0.7, histtype='step')\n",
        "plt.hist(weights[1], bins = 100, alpha = 0.7, histtype='step')"
      ],
      "metadata": {
        "colab": {
          "base_uri": "https://localhost:8080/",
          "height": 1000
        },
        "id": "s7w-BH3oBy47",
        "outputId": "a0986935-9e01-4ad0-a466-e9e6dd52153f"
      },
      "execution_count": 8,
      "outputs": [
        {
          "output_type": "stream",
          "name": "stdout",
          "text": [
            "[array([[-0.02845371, -0.00235624, -0.04058757, ..., -0.02665004,\n",
            "         0.0016606 ,  0.04535959],\n",
            "       [ 0.02834967,  0.01743938, -0.03233665, ..., -0.02069018,\n",
            "         0.01227316,  0.04734084],\n",
            "       [-0.03753493, -0.00327772,  0.02946335, ..., -0.04643693,\n",
            "         0.02895376, -0.02398959],\n",
            "       ...,\n",
            "       [ 0.02884579, -0.03608732,  0.00675255, ..., -0.00098662,\n",
            "        -0.01592517, -0.03921781],\n",
            "       [-0.02264261,  0.00839329, -0.04437039, ..., -0.00689074,\n",
            "         0.01555354, -0.02624738],\n",
            "       [-0.02861528, -0.03431567,  0.01352957, ..., -0.03131169,\n",
            "        -0.03550588, -0.00487455]], dtype=float32), array([[ 0.07395595,  0.06206553, -0.01214214, ...,  0.06057454,\n",
            "         0.02471578,  0.01704166],\n",
            "       [-0.01170973, -0.04651206, -0.08336425, ..., -0.0019114 ,\n",
            "        -0.09385762, -0.08993602],\n",
            "       [-0.04181073, -0.04647634, -0.03752084, ...,  0.09967909,\n",
            "         0.0128175 , -0.03857293],\n",
            "       ...,\n",
            "       [ 0.0493455 ,  0.02179442, -0.07925615, ..., -0.04497392,\n",
            "         0.09368635,  0.00151308],\n",
            "       [-0.00082834, -0.06784168,  0.02063651, ...,  0.09721103,\n",
            "         0.09668157, -0.09633157],\n",
            "       [-0.01443329, -0.0003062 ,  0.06603954, ...,  0.09123331,\n",
            "         0.01090195,  0.07275484]], dtype=float32)]\n"
          ]
        },
        {
          "output_type": "execute_result",
          "data": {
            "text/plain": [
              "(array([[ 3.,  6.,  6.,  3.,  2.,  4.,  6.,  2.,  5.,  2.,  1.,  6.,  2.,\n",
              "          5.,  3.,  4.,  2., 10., 12.,  1.,  3.,  2., 13.,  3.,  5.,  6.,\n",
              "          6.,  7.,  6.,  7.,  6.,  6.,  8.,  4.,  7.,  2.,  5.,  6.,  6.,\n",
              "          7.,  7.,  3.,  3.,  2.,  6.,  6., 10.,  2.,  6.,  3.,  2.,  4.,\n",
              "          4.,  8.,  6.,  4.,  7.,  4.,  6.,  5.,  5.,  3.,  8.,  7.,  4.,\n",
              "          6.,  8.,  7.,  6.,  7.,  3.,  3.,  6.,  5.,  6.,  6.,  5.,  5.,\n",
              "          4.,  7.,  8.,  4.,  5.,  4.,  7.,  3.,  2.,  3.,  2., 10.,  5.,\n",
              "          9.,  4.,  4.,  4.,  7.,  3.,  4.,  6.,  9.],\n",
              "        [ 4.,  7.,  6., 12.,  2.,  6.,  6.,  4.,  4.,  6.,  4.,  5.,  7.,\n",
              "          8.,  4., 12.,  3.,  3.,  7.,  5.,  3.,  3.,  3.,  4.,  4.,  5.,\n",
              "          5.,  6.,  4.,  6.,  7.,  5.,  3.,  5.,  9.,  4.,  7.,  7.,  3.,\n",
              "          2.,  9.,  7.,  3.,  6.,  0.,  7.,  3.,  2.,  5.,  2.,  5., 11.,\n",
              "          7.,  6.,  3.,  6.,  3.,  2., 10.,  7., 10.,  5.,  4.,  3.,  3.,\n",
              "          6.,  8.,  6.,  4.,  2.,  2.,  2.,  4.,  6.,  5.,  5.,  1.,  9.,\n",
              "          2.,  3.,  2.,  8.,  3.,  6.,  3.,  8.,  4.,  6.,  5., 11.,  1.,\n",
              "          7., 12.,  8.,  3.,  3.,  5.,  5.,  1.,  7.],\n",
              "        [ 4.,  6.,  3.,  2.,  3.,  7.,  8.,  7.,  7.,  7.,  7.,  5.,  6.,\n",
              "          5.,  5.,  4.,  2., 10.,  5.,  7.,  5.,  6.,  5.,  3., 10.,  6.,\n",
              "          8.,  2.,  1.,  2.,  6.,  8.,  6.,  6.,  4.,  3.,  6.,  6.,  5.,\n",
              "          8.,  3.,  9.,  2.,  3.,  1.,  4.,  7.,  4.,  4.,  6.,  6.,  2.,\n",
              "          9.,  5.,  5.,  2.,  2.,  1., 10.,  2.,  4.,  1.,  2.,  4.,  7.,\n",
              "         10.,  8.,  4.,  3.,  5.,  4.,  5.,  3.,  5.,  8.,  6.,  3., 10.,\n",
              "          6.,  6.,  4.,  6.,  5.,  6.,  7.,  5.,  4.,  7.,  5.,  6.,  7.,\n",
              "          4.,  4.,  9.,  5.,  5.,  1.,  6.,  6.,  3.],\n",
              "        [ 7.,  4.,  4.,  9.,  4.,  4.,  4.,  3.,  9.,  3.,  5.,  4.,  3.,\n",
              "          9.,  3.,  6.,  6., 11., 11.,  8.,  4.,  4.,  5.,  6.,  6.,  5.,\n",
              "          8.,  4.,  4.,  3.,  4.,  7.,  5.,  5.,  6.,  8.,  7.,  9.,  5.,\n",
              "          3.,  4.,  4.,  7.,  4.,  5.,  7.,  2.,  5.,  1.,  4.,  4.,  5.,\n",
              "          2.,  6.,  3.,  6.,  9.,  4.,  3.,  7.,  3.,  6.,  3.,  4.,  5.,\n",
              "          4.,  1.,  7.,  4.,  3.,  4.,  9.,  3.,  3.,  3.,  6.,  7.,  4.,\n",
              "          6.,  5.,  2.,  5.,  6.,  2.,  6.,  4.,  6.,  6.,  4.,  5.,  7.,\n",
              "          8.,  7., 10.,  4.,  5.,  4.,  4.,  6.,  4.],\n",
              "        [ 6.,  5.,  9.,  4.,  5.,  5.,  1.,  5.,  7.,  6.,  5.,  4.,  5.,\n",
              "         12.,  2.,  3.,  6.,  5.,  6., 10.,  7.,  4.,  7.,  4.,  6.,  2.,\n",
              "          9.,  3.,  3.,  5.,  1.,  6.,  5.,  6.,  5.,  4.,  4.,  6.,  4.,\n",
              "          4.,  8.,  2.,  3.,  7.,  3.,  7.,  8.,  7.,  3.,  3.,  2.,  5.,\n",
              "          5.,  4.,  3.,  5.,  0.,  6.,  6.,  4.,  4.,  2.,  3.,  6.,  1.,\n",
              "          9.,  5.,  4.,  2.,  4.,  4.,  4.,  7.,  8.,  4.,  6.,  3.,  7.,\n",
              "          7.,  8.,  5.,  4.,  8.,  6.,  8.,  9.,  7.,  7.,  7.,  8.,  2.,\n",
              "          8.,  5.,  6.,  5.,  5.,  3.,  0.,  7.,  7.],\n",
              "        [ 4.,  6.,  8.,  6.,  5.,  9.,  7.,  2., 10.,  2.,  3.,  5.,  3.,\n",
              "          5.,  5.,  3.,  5.,  1., 10.,  1.,  3.,  4.,  3.,  7.,  2.,  5.,\n",
              "          7.,  6.,  7.,  7.,  7.,  3.,  3.,  5.,  5.,  7.,  6.,  5.,  5.,\n",
              "          6.,  3.,  7., 11.,  3.,  5.,  5.,  7.,  7.,  7.,  3.,  4.,  7.,\n",
              "          5.,  6.,  3.,  6.,  3.,  7.,  6.,  9.,  2.,  1.,  5.,  7.,  6.,\n",
              "          7.,  5.,  7.,  1.,  3.,  5.,  5.,  5.,  5.,  4.,  6.,  6.,  8.,\n",
              "          7.,  4.,  8.,  6.,  6., 11.,  3.,  3.,  1.,  2.,  7.,  3.,  2.,\n",
              "          1.,  5.,  9.,  6.,  3.,  3.,  5.,  3.,  9.],\n",
              "        [ 8.,  8.,  8.,  3.,  4.,  3.,  3.,  8.,  5.,  2.,  4.,  2., 10.,\n",
              "          2.,  6.,  6.,  4.,  5.,  3.,  5.,  4.,  4.,  7.,  9.,  8.,  2.,\n",
              "          7.,  9.,  9.,  4.,  2.,  8.,  3.,  1.,  7.,  7.,  3.,  6.,  6.,\n",
              "          3.,  4.,  4.,  3.,  6.,  9.,  8.,  9.,  5.,  9., 11.,  5.,  7.,\n",
              "          3.,  4.,  5.,  3.,  2.,  7.,  6.,  7.,  9.,  7.,  4.,  1.,  3.,\n",
              "          5.,  6.,  4., 10.,  3.,  4.,  5.,  6.,  7.,  5.,  1.,  3.,  3.,\n",
              "          3.,  4.,  8.,  4.,  5.,  7.,  4.,  2.,  2.,  6.,  5.,  3.,  5.,\n",
              "          2.,  4.,  3.,  5.,  9.,  3.,  7.,  5.,  5.],\n",
              "        [ 9.,  8.,  5.,  5.,  7.,  3.,  7.,  6.,  5.,  6.,  5.,  2., 11.,\n",
              "         10.,  7.,  4.,  4.,  4.,  2.,  3.,  8.,  3.,  4.,  5.,  3.,  6.,\n",
              "          3.,  3.,  4.,  3.,  2.,  6.,  3.,  8.,  6.,  8.,  8.,  3.,  2.,\n",
              "          4.,  2.,  5.,  8.,  7.,  7.,  1.,  6.,  3.,  7.,  5.,  5., 10.,\n",
              "          3.,  8.,  0.,  5.,  6.,  4.,  5.,  7.,  3.,  5.,  7.,  4.,  4.,\n",
              "          8.,  2.,  3.,  5.,  4.,  4.,  6.,  4.,  5.,  7.,  7.,  6.,  2.,\n",
              "          4.,  5.,  4.,  3.,  5.,  4.,  4.,  9.,  1.,  7.,  8.,  8.,  7.,\n",
              "          6., 11.,  0.,  6.,  3.,  4.,  7.,  6.,  5.],\n",
              "        [ 2.,  4.,  4.,  5.,  2.,  2.,  5.,  4.,  5.,  4.,  8.,  8.,  4.,\n",
              "          4.,  3.,  7.,  4.,  3.,  7.,  8.,  7.,  8.,  5.,  5.,  5.,  6.,\n",
              "          5.,  6.,  5.,  4.,  1., 12.,  8.,  5.,  2.,  8.,  6.,  5.,  5.,\n",
              "          8.,  5.,  4.,  3.,  4.,  6.,  7.,  1.,  4.,  3.,  5.,  6.,  1.,\n",
              "          7.,  4.,  5.,  6.,  5.,  6.,  5.,  8., 10.,  4.,  9.,  4.,  8.,\n",
              "          2.,  2.,  3.,  3.,  9.,  4.,  8.,  2.,  6.,  5.,  5.,  4.,  4.,\n",
              "          9.,  5.,  4.,  3.,  6.,  5.,  4.,  6.,  6.,  8.,  5.,  5.,  2.,\n",
              "          6.,  3.,  8.,  5.,  5.,  6.,  4.,  5.,  6.],\n",
              "        [ 4., 10.,  6.,  5.,  4.,  9.,  5.,  8.,  2.,  4.,  9.,  4.,  8.,\n",
              "          3.,  6.,  3.,  3.,  4.,  5.,  7.,  4.,  5.,  7.,  9.,  7.,  6.,\n",
              "          5.,  6.,  5.,  4.,  5.,  3.,  5.,  4.,  8., 10.,  9.,  7.,  7.,\n",
              "          4.,  6.,  4.,  6.,  2.,  6.,  6.,  5.,  5.,  4.,  7.,  4.,  3.,\n",
              "          5.,  3.,  4.,  4., 12.,  2.,  4.,  4.,  8.,  4.,  6.,  6.,  6.,\n",
              "          3.,  4.,  5.,  5.,  2., 11.,  5.,  4.,  3.,  1.,  6.,  7.,  7.,\n",
              "          2.,  1.,  7.,  4.,  2.,  8.,  8.,  3.,  6.,  4.,  4.,  4.,  3.,\n",
              "          3.,  5.,  6.,  7.,  3.,  3.,  4.,  3.,  4.]]),\n",
              " array([-9.9981926e-02, -9.7983271e-02, -9.5984615e-02, -9.3985960e-02,\n",
              "        -9.1987304e-02, -8.9988656e-02, -8.7990001e-02, -8.5991345e-02,\n",
              "        -8.3992690e-02, -8.1994034e-02, -7.9995379e-02, -7.7996723e-02,\n",
              "        -7.5998068e-02, -7.3999420e-02, -7.2000764e-02, -7.0002109e-02,\n",
              "        -6.8003453e-02, -6.6004798e-02, -6.4006142e-02, -6.2007491e-02,\n",
              "        -6.0008835e-02, -5.8010180e-02, -5.6011524e-02, -5.4012872e-02,\n",
              "        -5.2014217e-02, -5.0015561e-02, -4.8016906e-02, -4.6018250e-02,\n",
              "        -4.4019599e-02, -4.2020943e-02, -4.0022288e-02, -3.8023632e-02,\n",
              "        -3.6024980e-02, -3.4026325e-02, -3.2027669e-02, -3.0029016e-02,\n",
              "        -2.8030360e-02, -2.6031706e-02, -2.4033051e-02, -2.2034397e-02,\n",
              "        -2.0035742e-02, -1.8037088e-02, -1.6038433e-02, -1.4039778e-02,\n",
              "        -1.2041124e-02, -1.0042469e-02, -8.0438145e-03, -6.0451599e-03,\n",
              "        -4.0465053e-03, -2.0478508e-03, -4.9196184e-05,  1.9494584e-03,\n",
              "         3.9481129e-03,  5.9467675e-03,  7.9454221e-03,  9.9440766e-03,\n",
              "         1.1942731e-02,  1.3941386e-02,  1.5940040e-02,  1.7938696e-02,\n",
              "         1.9937349e-02,  2.1936005e-02,  2.3934659e-02,  2.5933314e-02,\n",
              "         2.7931968e-02,  2.9930623e-02,  3.1929277e-02,  3.3927932e-02,\n",
              "         3.5926588e-02,  3.7925240e-02,  3.9923895e-02,  4.1922551e-02,\n",
              "         4.3921206e-02,  4.5919858e-02,  4.7918513e-02,  4.9917169e-02,\n",
              "         5.1915824e-02,  5.3914480e-02,  5.5913132e-02,  5.7911787e-02,\n",
              "         5.9910443e-02,  6.1909098e-02,  6.3907750e-02,  6.5906405e-02,\n",
              "         6.7905061e-02,  6.9903716e-02,  7.1902372e-02,  7.3901027e-02,\n",
              "         7.5899675e-02,  7.7898331e-02,  7.9896986e-02,  8.1895642e-02,\n",
              "         8.3894297e-02,  8.5892953e-02,  8.7891608e-02,  8.9890264e-02,\n",
              "         9.1888912e-02,  9.3887568e-02,  9.5886223e-02,  9.7884879e-02,\n",
              "         9.9883534e-02], dtype=float32),\n",
              " <a list of 10 Lists of Patches objects>)"
            ]
          },
          "metadata": {},
          "execution_count": 8
        },
        {
          "output_type": "display_data",
          "data": {
            "text/plain": [
              "<Figure size 432x288 with 1 Axes>"
            ],
            "image/png": "[encoded data removed]"
          },
          "metadata": {
            "needs_background": "light"
          }
        }
      ]
    },
    {
      "cell_type": "markdown",
      "source": [
        "tf.keras.initializers.RandomUniform의 minval, maxval은 균등분포의 범위를 지정합니다.\n",
        "\n",
        "각각 최소 -0.05, 최대 0.05, 그리고 최소 -0.1, 최대 0.1범위를 갖는 임의의 시냅스 가중치가 생성되었음을 알 수 있습니다."
      ],
      "metadata": {
        "id": "7wlCGZx1FNEa"
      }
    },
    {
      "cell_type": "code",
      "source": [
        ""
      ],
      "metadata": {
        "id": "wOJWKozrFC2K"
      },
      "execution_count": null,
      "outputs": []
    }
  ]
}