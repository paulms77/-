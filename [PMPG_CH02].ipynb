{
  "nbformat": 4,
  "nbformat_minor": 0,
  "metadata": {
    "colab": {
      "name": "[PMPG_CH02].ipynb",
      "provenance": [],
      "collapsed_sections": []
    },
    "kernelspec": {
      "name": "python3",
      "display_name": "Python 3"
    }
  },
  "cells": [
    {
      "cell_type": "markdown",
      "metadata": {
        "id": "0Jz7IapABPcj"
      },
      "source": [
        "***CH02. 사이킷런으로 시작하는 머신러닝***"
      ]
    },
    {
      "cell_type": "markdown",
      "metadata": {
        "id": "3kubgwZRBaXW"
      },
      "source": [
        "# **01.사이킷런 소개와 특징**\r\n"
      ]
    },
    {
      "cell_type": "markdown",
      "metadata": {
        "id": "aWepPF97BiEs"
      },
      "source": [
        "- 사이킷런(scikit-learn)은 파이썬 머신러닝 라이브러리 중 가장 많이 사용되는 라이브러리이다.\r\n",
        "- 최근에는 텐서플로, 케라스 등 딥러닝 전문 라이브러리의 강세로 대중적인 관심이 줄고있지만 여전히 많은 분석가가 의존하는 대표적인 파이썬 ML 라이브러리이다."
      ]
    },
    {
      "cell_type": "markdown",
      "metadata": {
        "id": "cVUqvK2ZcsGT"
      },
      "source": [
        "- 사이킷런(scikit-learn) 설치\r\n",
        "```\r\n",
        "# pip install scikit-learn\r\n",
        "```\r\n",
        "- 사이킷런(scikit-learn) 셋업 (임포트)\r\n",
        "```\r\n",
        "# import sklearn\r\n",
        "```\r\n"
      ]
    },
    {
      "cell_type": "code",
      "metadata": {
        "colab": {
          "base_uri": "https://localhost:8080/"
        },
        "id": "vCIVTXSrBD4c",
        "outputId": "dad0453c-2068-458d-e112-9d7d6f7d1071"
      },
      "source": [
        "import sklearn\r\n",
        "print(sklearn.__version__) # scikit-learn 버전 확인"
      ],
      "execution_count": null,
      "outputs": [
        {
          "output_type": "stream",
          "text": [
            "0.22.2.post1\n"
          ],
          "name": "stdout"
        }
      ]
    },
    {
      "cell_type": "markdown",
      "metadata": {
        "id": "QZ6fLUkMd8yj"
      },
      "source": [
        "# **02. 첫 번째 머신러닝 만들어 보기 - 붓꽃 품종 예측하기**\r\n"
      ]
    },
    {
      "cell_type": "markdown",
      "metadata": {
        "id": "jmikArzZeMli"
      },
      "source": [
        "붓꽃 데이터 세트는 꽃잎의 길이와 너비, 꽃받침의 길이와 너비 피처를 기반으로 꽃의 품종을 예측하기 위한 것\r\n",
        "\r\n",
        "* Sepal length\r\n",
        "* Sepal width\r\n",
        "* Petal length\r\n",
        "* Petal width"
      ]
    },
    {
      "cell_type": "markdown",
      "metadata": {
        "id": "-2jhtUzBe_rU"
      },
      "source": [
        "- 사이킷런에서 사용할 모듈 임포트\r\n",
        "1. sklearn.datasets 내의 모듈은 사이킷런에서 자체적으로 제공하는 데이터 세트 생성하는 모듈의 모임\r\n",
        "\r\n",
        "2. sklearn.tree 내의 모듈은 트리 기반 ML 알고리즘을 구현한 클래스의 모임\r\n",
        "\r\n",
        "3. sklearn.model_selection은 학습 데이터와 검증 데이터, 예측 데이터로 데이터를 분리하거나 최적의 하이퍼 파라미터로 평가하기 위한 다양한 모듈의 모임\r\n",
        "\r\n",
        "> 하이퍼 파라미터란? : 머신러닝 알고리즘별로 최적의 학습을 위해 직접 입력하는 파라미터들을 통칭, 하이퍼 파라미터를 통해 머신러닝 알고리즘의 성능을 튜닝할 수 있다.\r\n",
        "\r\n",
        "- 붓꽃 데이터 세트를 생성하는데 load_iris()를 이용\r\n",
        "- ML알고리즘은 의사 결정 트리(DecisionTreeClassifier) 적용"
      ]
    },
    {
      "cell_type": "code",
      "metadata": {
        "id": "nhPWzt7-dal6"
      },
      "source": [
        "from sklearn.datasets import load_iris\r\n",
        "from sklearn.tree import DecisionTreeClassifier\r\n",
        "from sklearn.model_selection import train_test_split"
      ],
      "execution_count": null,
      "outputs": []
    },
    {
      "cell_type": "code",
      "metadata": {
        "id": "PElR5D1YhHNv"
      },
      "source": [
        "import pandas as pd"
      ],
      "execution_count": null,
      "outputs": []
    },
    {
      "cell_type": "code",
      "metadata": {
        "colab": {
          "base_uri": "https://localhost:8080/",
          "height": 253
        },
        "id": "MYYnTZh_iiqZ",
        "outputId": "9559a06d-9947-422a-c648-c413064ad1ed"
      },
      "source": [
        "# iris 데이터 세트를 로딩\r\n",
        "iris = load_iris()\r\n",
        "\r\n",
        "# iris.data는 iris 데이터 세트에서 피처(feature)만으로 된 데이터를 numpy로 가지고 있습니다.\r\n",
        "iris_data = iris.data\r\n",
        "\r\n",
        "# iris.target은 iris 데이터 세트에서 레이블(결정 값) 데이터를 numpy로 가지고 있습니다.\r\n",
        "iris_label = iris.target\r\n",
        "print('iris target 값 :',iris_label)\r\n",
        "print('iris target 명 :',iris.target_names)\r\n",
        "\r\n",
        "# iris 데이터 세트를 자세히 보기 위해 데이터프레임으로 변환\r\n",
        "iris_df = pd.DataFrame(data = iris_data, columns = iris.feature_names)\r\n",
        "iris_df['label'] = iris.target\r\n",
        "iris_df.head(3)"
      ],
      "execution_count": null,
      "outputs": [
        {
          "output_type": "stream",
          "text": [
            "iris target 값 : [0 0 0 0 0 0 0 0 0 0 0 0 0 0 0 0 0 0 0 0 0 0 0 0 0 0 0 0 0 0 0 0 0 0 0 0 0\n",
            " 0 0 0 0 0 0 0 0 0 0 0 0 0 1 1 1 1 1 1 1 1 1 1 1 1 1 1 1 1 1 1 1 1 1 1 1 1\n",
            " 1 1 1 1 1 1 1 1 1 1 1 1 1 1 1 1 1 1 1 1 1 1 1 1 1 1 2 2 2 2 2 2 2 2 2 2 2\n",
            " 2 2 2 2 2 2 2 2 2 2 2 2 2 2 2 2 2 2 2 2 2 2 2 2 2 2 2 2 2 2 2 2 2 2 2 2 2\n",
            " 2 2]\n",
            "iris target 명 : ['setosa' 'versicolor' 'virginica']\n"
          ],
          "name": "stdout"
        },
        {
          "output_type": "execute_result",
          "data": {
            "text/html": [
              "<div>\n",
              "<style scoped>\n",
              "    .dataframe tbody tr th:only-of-type {\n",
              "        vertical-align: middle;\n",
              "    }\n",
              "\n",
              "    .dataframe tbody tr th {\n",
              "        vertical-align: top;\n",
              "    }\n",
              "\n",
              "    .dataframe thead th {\n",
              "        text-align: right;\n",
              "    }\n",
              "</style>\n",
              "<table border=\"1\" class=\"dataframe\">\n",
              "  <thead>\n",
              "    <tr style=\"text-align: right;\">\n",
              "      <th></th>\n",
              "      <th>sepal length (cm)</th>\n",
              "      <th>sepal width (cm)</th>\n",
              "      <th>petal length (cm)</th>\n",
              "      <th>petal width (cm)</th>\n",
              "      <th>label</th>\n",
              "    </tr>\n",
              "  </thead>\n",
              "  <tbody>\n",
              "    <tr>\n",
              "      <th>0</th>\n",
              "      <td>5.1</td>\n",
              "      <td>3.5</td>\n",
              "      <td>1.4</td>\n",
              "      <td>0.2</td>\n",
              "      <td>0</td>\n",
              "    </tr>\n",
              "    <tr>\n",
              "      <th>1</th>\n",
              "      <td>4.9</td>\n",
              "      <td>3.0</td>\n",
              "      <td>1.4</td>\n",
              "      <td>0.2</td>\n",
              "      <td>0</td>\n",
              "    </tr>\n",
              "    <tr>\n",
              "      <th>2</th>\n",
              "      <td>4.7</td>\n",
              "      <td>3.2</td>\n",
              "      <td>1.3</td>\n",
              "      <td>0.2</td>\n",
              "      <td>0</td>\n",
              "    </tr>\n",
              "  </tbody>\n",
              "</table>\n",
              "</div>"
            ],
            "text/plain": [
              "   sepal length (cm)  sepal width (cm)  ...  petal width (cm)  label\n",
              "0                5.1               3.5  ...               0.2      0\n",
              "1                4.9               3.0  ...               0.2      0\n",
              "2                4.7               3.2  ...               0.2      0\n",
              "\n",
              "[3 rows x 5 columns]"
            ]
          },
          "metadata": {
            "tags": []
          },
          "execution_count": 41
        }
      ]
    },
    {
      "cell_type": "markdown",
      "metadata": {
        "id": "7jFS3KbbkwaZ"
      },
      "source": [
        "- iris 데이터 세트를 학습데이터와 테스트데이터로 분리\r\n",
        "> why? : 학습데이터로 학습된 모델이 얼마나 뛰어난 성능을 가지는지 평가 하려면 테스트데이터(검증데이터)가 필요하기 때문에\r\n",
        "- test_size = 0.2 # 학습데이터 80%, 테스트데이터(검증데이터) 20%로 분리\r\n",
        "- 첫번째 파라미터는 iris_data 피처 데이터 세트\r\n",
        "- 두번째 파라미터는 iris_label 레이블 데이터 세트\r\n",
        "- random_state = 11 # 호출할 때마다 같은 학습/테스트 용 데이터를 생성하기 위해 주어지는 난수 발생 값입니다.\r\n",
        "- X_train,X_test,y_train,y_test"
      ]
    },
    {
      "cell_type": "code",
      "metadata": {
        "id": "QEuWdqTrioq5"
      },
      "source": [
        "X_train, X_test, y_train, y_test = train_test_split(iris_data,iris_label,test_size = 0.2, random_state = 11)"
      ],
      "execution_count": null,
      "outputs": []
    },
    {
      "cell_type": "markdown",
      "metadata": {
        "id": "YiBLtNgtmUkY"
      },
      "source": [
        "- **데이터를 기반으로 머신러닝 분류 알고리즘의 하나인 의사 결정 트리를 이용해 학습과 예측을 수행**\r\n",
        "- 사이킷런의 의사 결정 트리 클래스인 DecisionTreeClassifier를 객체로 생성\r\n",
        "- 생성된 DecisionTreeClassifier 객체의 fit() 메서트에 학습용 피처 데이터 속성과 결정 값 데이터세트를 입력해 호출하면 학습을 수행"
      ]
    },
    {
      "cell_type": "code",
      "metadata": {
        "id": "mzePeX6smTw7"
      },
      "source": [
        "# DecisionTreeClassifier 객체 생성\r\n",
        "dt_clf = DecisionTreeClassifier(random_state=11)"
      ],
      "execution_count": null,
      "outputs": []
    },
    {
      "cell_type": "markdown",
      "metadata": {
        "id": "38833GsODR0H"
      },
      "source": [
        "- 생성된 DecisionTreeClassifier 객체의 fit() 메서드에 학습용 피처 데이터 속성과 결정 값 데이터 세트를 입력해 호출하면 학습을 수행"
      ]
    },
    {
      "cell_type": "code",
      "metadata": {
        "colab": {
          "base_uri": "https://localhost:8080/"
        },
        "id": "xhcG49X2C-st",
        "outputId": "91469410-d991-47ec-bf35-36bd8d3e531b"
      },
      "source": [
        "# 학습 수행\r\n",
        "dt_clf.fit(X_train,y_train)"
      ],
      "execution_count": null,
      "outputs": [
        {
          "output_type": "execute_result",
          "data": {
            "text/plain": [
              "DecisionTreeClassifier(ccp_alpha=0.0, class_weight=None, criterion='gini',\n",
              "                       max_depth=None, max_features=None, max_leaf_nodes=None,\n",
              "                       min_impurity_decrease=0.0, min_impurity_split=None,\n",
              "                       min_samples_leaf=1, min_samples_split=2,\n",
              "                       min_weight_fraction_leaf=0.0, presort='deprecated',\n",
              "                       random_state=11, splitter='best')"
            ]
          },
          "metadata": {
            "tags": []
          },
          "execution_count": 44
        }
      ]
    },
    {
      "cell_type": "markdown",
      "metadata": {
        "id": "7xN1R0GBFRQv"
      },
      "source": [
        "- 학습이 완료된 DecisionTreeClassifier 객체를 이용해 예측을 수행\r\n",
        "- 예측은 학습데이터가 아닌 다른데이터를 이용. 일반적으로는 테스트데이터를 사용 \r\n",
        "- DecisionTreeClassifier 객체의 predict() 메서드에 테스트용 피처 데이터 세트를 입력해 호출하면 학습된 모델 기반으로 테스트데이터 세트에 대한 예측값을 반환하게 됩니다."
      ]
    },
    {
      "cell_type": "code",
      "metadata": {
        "id": "uhCyGM1MEBd8"
      },
      "source": [
        "# 학습이 완료된 DecisionTreeClassifier 객체에서 테스트데이터 세트로 예측 수행\r\n",
        "pred = dt_clf.predict(X_test)"
      ],
      "execution_count": null,
      "outputs": []
    },
    {
      "cell_type": "code",
      "metadata": {
        "colab": {
          "base_uri": "https://localhost:8080/"
        },
        "id": "Y3vgc1ntGI-2",
        "outputId": "91cd3485-8247-468c-f81d-ab71bd5df335"
      },
      "source": [
        "pred"
      ],
      "execution_count": null,
      "outputs": [
        {
          "output_type": "execute_result",
          "data": {
            "text/plain": [
              "array([2, 2, 1, 1, 2, 0, 1, 0, 0, 1, 1, 1, 1, 2, 2, 0, 2, 1, 2, 2, 1, 0,\n",
              "       0, 1, 0, 0, 2, 1, 0, 1])"
            ]
          },
          "metadata": {
            "tags": []
          },
          "execution_count": 46
        }
      ]
    },
    {
      "cell_type": "markdown",
      "metadata": {
        "id": "sdTcFRnPGWb_"
      },
      "source": [
        "- 예측 결과를 기반으로 의사 결정 트리 기반의 DecisionTreeClassifier의 예측 성능을 평가\r\n",
        "- 머신러닝 모델의 성능 평가 방법은 여러가지가 있으나, 여기서는 정확도를 측정해 본다.\r\n",
        "- 예측한 붓꽃 품종과 실제 테스트 데이터 세트의 붓꽃 품종이 얼마나 일치하는지 확인\r\n",
        "- 사이킷런은 정확도 측정을 위해 accuracy_score() 함수 제공.\r\n",
        "- accuracy_score() 의 첫번째 파라미터는 실제 레이블 데이터 세트, 두번째 파라미터는 예측 레이블 데이터 세트 입력"
      ]
    },
    {
      "cell_type": "code",
      "metadata": {
        "colab": {
          "base_uri": "https://localhost:8080/"
        },
        "id": "HvxhW2dhGV-r",
        "outputId": "6ac4cc21-e40c-47b1-d470-b67c6666e766"
      },
      "source": [
        "from sklearn.metrics import accuracy_score\r\n",
        "acc = accuracy_score(y_test,pred)\r\n",
        "print('예측 정확도 : {0:4f}'.format(acc))"
      ],
      "execution_count": null,
      "outputs": [
        {
          "output_type": "stream",
          "text": [
            "예측 정확도 : 0.933333\n"
          ],
          "name": "stdout"
        }
      ]
    },
    {
      "cell_type": "markdown",
      "metadata": {
        "id": "9wPNwnbNHuSl"
      },
      "source": [
        "##### **[ 정리 ]**\r\n",
        "1. 데이터 세트 분리 : 데이터를 학습데이터와 테스트데이터로 분리\r\n",
        "2. 모델 학습 : 학습데이터를 기반으로 ML 알고리즘을 적용해 모델을 학습\r\n",
        "3. 예측 수행 : 학습된 ML 모델을 이용해 테스트데이터의 분류(즉 붓꽃 품종)를 예측\r\n",
        "4. 평가 : 이렇게 예측된 결과값과 테스트데이터의 실제 결과값을 비교해 ML 모델 성능을 평가"
      ]
    },
    {
      "cell_type": "markdown",
      "metadata": {
        "id": "9-Rg6JCeJsbu"
      },
      "source": [
        "![scikit-learn capture.jpg](data:image/jpeg;base64,/9j/4AAQSkZJRgABAQAAAQABAAD/4gIoSUNDX1BST0ZJTEUAAQEAAAIYAAAAAAIQAABtbnRyUkdCIFhZWiAAAAAAAAAAAAAAAABhY3NwAAAAAAAAAAAAAAAAAAAAAAAAAAAAAAAAAAAAAQAA9tYAAQAAAADTLQAAAAAAAAAAAAAAAAAAAAAAAAAAAAAAAAAAAAAAAAAAAAAAAAAAAAAAAAAAAAAAAAAAAAlkZXNjAAAA8AAAAHRyWFlaAAABZAAAABRnWFlaAAABeAAAABRiWFlaAAABjAAAABRyVFJDAAABoAAAAChnVFJDAAABoAAAAChiVFJDAAABoAAAACh3dHB0AAAByAAAABRjcHJ0AAAB3AAAADxtbHVjAAAAAAAAAAEAAAAMZW5VUwAAAFgAAAAcAHMAUgBHAEIAAAAAAAAAAAAAAAAAAAAAAAAAAAAAAAAAAAAAAAAAAAAAAAAAAAAAAAAAAAAAAAAAAAAAAAAAAAAAAAAAAAAAAAAAAAAAAAAAAAAAAAAAAFhZWiAAAAAAAABvogAAOPUAAAOQWFlaIAAAAAAAAGKZAAC3hQAAGNpYWVogAAAAAAAAJKAAAA+EAAC2z3BhcmEAAAAAAAQAAAACZmYAAPKnAAANWQAAE9AAAApbAAAAAAAAAABYWVogAAAAAAAA9tYAAQAAAADTLW1sdWMAAAAAAAAAAQAAAAxlblVTAAAAIAAAABwARwBvAG8AZwBsAGUAIABJAG4AYwAuACAAMgAwADEANv/bAEMAAwICAwICAwMDAwQDAwQFCAUFBAQFCgcHBggMCgwMCwoLCw0OEhANDhEOCwsQFhARExQVFRUMDxcYFhQYEhQVFP/bAEMBAwQEBQQFCQUFCRQNCw0UFBQUFBQUFBQUFBQUFBQUFBQUFBQUFBQUFBQUFBQUFBQUFBQUFBQUFBQUFBQUFBQUFP/AABEIA8AC0AMBIgACEQEDEQH/xAAdAAACAgMBAQEAAAAAAAAAAAADBAIFAQYHAAgJ/8QASxAAAQMDAwIDBQYFAwMDAgENAQIDEQAEIQUSMUFRBiJhE3GBkfAHFDKhscEII0LR4RVS8SRichYzghclNCaSNkNTY7IYJzWTosL/xAAbAQADAQEBAQEAAAAAAAAAAAAAAQIDBAUGB//EADMRAQEAAgEEAQIGAgEDBQADAAABAhEDBBIhMUEyUQUTIjNhcRQjUkKBoRVikbHBBtHw/9oADAMBAAIRAxEAPwDeynYVqSqD/TuPWqbWLdzUgtLbAKkmSomJ9/yn41cM7iFErTKhBPX0/X/jquvBWgBKnMApPlyoKgjPXYeDiDxXTtjyTfhrDGpNBlKHwtkCUK2ZA2yJmRjHXt7q2ez2qZb2qCxtEGMx7/j+dVa9IU4olEBClEr83Gf+aZZ0tKHW0F5SUJgpSIxiD0/5oYdq12AKKkhJKkwRxjn9/wAqkpSGmxtSpRKoIkSaTU4hhnyqKsGRMk9D19fzqCLlNupIkFCUkebypOc5g55+IqtqkUWtWlxc3aHbRspuBIC1gKkAyecfHnFA0rSNQ091a0KUfakD+YfMIQEgk8yQBn962ZFyhbntBtSmDKiI+GaG7qzQUUBwSjqOuae/DSeDNm48m1QFPIKhgK2kY6de0Y9K86G3n1xJWUlO4cx9RVOvWmW0bQ4IOAOY+hSb/iyytlkqUoyPxJgx0n3iohZeV/dMN3CXPaNhQVPlMHd/zNAShhpLbaSJbAKCR2yM+8D5DtWr3HjQOIWENgn+hSiUiZH/AGk9+lVz/jJ5KoZZiRHnnHY8f261UKXUb8EoDSUKSPZhJKjPHGaGbhtC5K0iSAABie/zFaG94qvllaEKSCoGFST8D9daWVq98s/jSiEknZkg4kmnaPPt0J29bU82or8gEc153VLZCtoVuSJUFETk/wCJrm7t/euOpT7YgAGAJxk/HpS7lw60hO9S175jPTtjjrWY7nTnb1nYklydsEE4+PHrS69VYJDgWhSQmSQYkT+mfrFc2l9YUkqMA7kjt6/5oqGVFIG8kRBWTwY/TH+aPRb23pWv2ybbcVpCkiPL6ZBFSd8VWskFZVP4iPNHWtHcaKXobEk9hz7z+VQXZueXyqIVkgTj0FPZyVvn/qq0ZUgKd2ojBIiOYobniu1VIU4qAZ2xxn3fU1pvsC6E7twSfxFIB6fX51hDBWuJhcFXzHx9Kjelarb0eK2kEw7E8+UiO8mccisu+MbXcNzqlTE7Z9JrTW7dS1hWQEzz0zyKKqxX5MjbuI2nPXj67U9lY2w+LWEEFMyr+pY4x/gfKvf+rrdtKtyMFOQAcnAmtZ+4BS0JJASQRtAInFRUwtatw2gyJSpPI/5HSlulcflt6PGFq2k5QkCCSQcisp8bWqgCZKV9TwDWnqtkIUAoEkEgxipO252plBlP4QP6RJ+fFPafLbj4ytBtSpyHFekgCif+q2GFFanZB5CeAf1rTE2ISqd3m7KyCZ9Ky2wpS0HbA7CfqIFI5tuzXiqyfUmXPNJiTI4pk+KrIBG93asyMzjzY/UfKtCVarI3JRkq5A4NSRYb0qDkrJJ8scDpE0Lm29NeKbVtXlfSoAZzMGmh4jtDBFwhRHZVc4Vae0UUpREY98f3qKNOEEqUQomfQ9o+EfnS3ot2Ono1tp0+z9oFAnJGcQP8flTCdQZLm0KQcAwFfX0a5OGVtk7VqBEEz19/yFSFxcFaZcUmJ8wUfTk/XWlbstuuN6i2iUhYCuE55x/mstXgWB5gnbgQoGc/3NcmVc3SvZhDigDAnPPeTU7XVblowbgqgxk4MT9daWtjbq7im9qoAWZgCYnMDPxoiH0DzJABKQdsxNcxTr12hKwlYCUgHI5OOJFTR4rv2k5hWODkiP8Ag/OqGnSHkou2UtL2lM7tv51h+yt7gqKgZgSdxrRP/WbqyCG47FSuk/XX4UwnxvscUXGySDgT2NHtW42JegMJ9ltdUjZEJ54zGR/biry2/lNpCjvIEFXBrSmfGzDiwVIMnp0B9/vp9nxZbBM7whJzBPAongm1NyVqEyOQJ5rFyVLYXCSTMFMwTx1qia8R2ry5D6ROJJE+78x86dRqrG4BS5kkgEj5fXpV7RqJXunOXdoUKdICkzAHA4oVrZX6tP8AYvLSr0Ig8fXzNH+/pUpW1WOCI/T86Om5SjO4HMgzj6gVNqhdMS+xbBJGwRCYMTwB+lOoXvUraMAxk8ZpNNy0QpBKTAJOaIm6Ss555kmI+ooPRy4TuYgiTAJFUzRQ67coQuQFJKyRg44+Ain1ufy1AFSjVe5brGnhpspSpak71DqJ8wHwmKNmr9Rt3nLtY2pXiStJwBP/ADVj4fs3rdzappbbQlKZ4I9Kje6N7V1hCCpDSlArKVQYGY+MR8auWSkSlGE9AevFJNppoQBMpz0oqFAJAHEHmlkrKhE8RkYml7jUWrOPaEEdz2prhbxM83bWICEBbqlJCAYJ5GY9MmqjUbyyu2FBQO9ICdxEwqDx8xRNVVb3T5uH3yltaUtNJSeFGZJ6dP8AioCy2tWbbDqDtJWsK5Wozn8qRa0da0Vt1KUe0JcSEqBX5oIMj17/ADq8sbYWrIQVb5EyY+NJ6XZLZQp1Z2urVKgcxjAmrCJmZmeh4p7KeDCU+WQc7p6dqNCQtKvNAzHw/vQNxBA5SBjNGUqGxGTH4ZqLGsqCW0ryUzjGKgSUnAk4BPSBRlHghJEZPr9Zqr1G5DDS20kyeBHX1oY2FNSvNzikk7RzzmkA2keZWSCJVEwaipW9YUARwokkRzWXN7YAEJiMqTPzxTgkSJGwxkAbeOc1FQBUEq27iO3P1+9ZQZT6gyZEHnrii7A4AD0E5491PatAt+UqSoQTkRyMD9qOGwDuBAOcfAZ4oajtO6Z2qAJ9Y91ESohSTvjMyPdStVEPYFSzkEcj51gbiryJhP8AUQrp3NHSoJIITMwO4NSQiZIkK4gYmluqTs7ZZUUmZJkSJ6gxWx2tslppKCCIyCRSlhazscJKZGCBn41apKtpGwnHXtWdVoNTYcUVYEd81lCdkeT3mffRVjCkwJmDGff7qklBSAf6oH4szUI08REJICYEY/Kok/zFSmQcCMj1oivPggAg8mpDzFXAmE+8fX60gF7Iqe6cZMTUyABwO0dKlukwM4xFSAKUxtGY4pjSLLIQlBICiRyRk96ktCHIXBMwMD31nmEAHbEHNECClQBzJ+WaRaQ2bW4IAAGQOvFTG6FmNwyfr661ndlBGJIyTRUpgA8jvyKFRhls7z0JODE+7/ipJSohQIlJ7c8ipGSCYggEx+dek7kApO3d5iBOKmrQU2YO4Y5jn0pS6cLDMoSInkSZMT04xTrg2jMCfLJESOox760/xxrSrC2DAcWl5wgn2ZGB6dO4/vWedkm60wxueWom8r2jxVv3LIO4D691QIUEKiCBmSJM9P1PzrVtK8VNqWUXbPslAke0B57yY9351sBvkrQVgJWkpEeYHr6Vw5THN2duWHtozj6A6hLi4hXUenP1+1RU+yHJUvEJI3GIg9j760V/xU+8yvEnaUlS+OnJ+NVZ1C7u0+a4KCOAgnOTI57R8uvNfQR49y3XRn9VtbdS/OMJkpHHUQarXvFbVulwoUCoGe8+mekzWngLLhUsqK1HKTmRme+OKyu1ccQCCkJB68HJ69QZPyo2PNXb/ixKy4ElS1pEIB6YwfSg/wCvXVw25CPZpJghHv49wn8/Wq5FhKEqVB3CMAAj1+YOKdTZ+zKYbASowYIOOTPz/OnsaJ3OoXq0S64pKETwMZBkwPrmg3Diy4XkuFLkAkLMRBx+dWS2hvUSlCgRM9AOY49RisOWJdJOwJ8xJBJIj/n9aWz7VaLVT6U7pKEkyN2czPFDNq28pR27ACZzmZgz8Zq7TbhCJCCk8hIEz0yKii22twkhKSThWSSZPx6/KolHarV2xlOI2mOeY+uPhS67QwhSVkq3wodTBxj31eG2KlpBAT0ITBx1Of0qaWtq17klSsbY5E9prXaVY1ZhP8xe5B7KPofmP71BtKWwk7NqAM8dcGrZVqHUYSAoZIOczzz9T6VIsjYmRIUASP8AaYP18qna4qU28KiYJ4BHuz+Z/KsM2SnmtzhMHGRxmrltpJBSEgZzB9DWG7cpCR7NIVugGcEx76Zdqs+5+zUF7N2DBBg/WfzrItFeWMNgwkTOZ+f/ABVv90bX5IKSRMDM/wCKmzbIRO2Zicek0HMVSLJRWlBBAOBGCOKJ93QgJ42gcgz/AMxVn7HcrKQJAH18qGWiHACFCIEg8jvSovgi3bp2SggA5GOg/PpR0MJbflRHGYGPhTTDalIMICcx7s0dFgoKkDg7gSRxxFSc8q51nz7m0pKVckGM9Iz6mouWqUNgEbWwR16VbexDySstbk7gPKqJPvIPahuWyS2ny47kAziKD0QFsFIO7IAmQASZHT5V4WjbSStX8wczAzViWUqKAUzKhII6VJxjaQlQIlPJPJoTvwrWLVJQQoCIwTGT2rzrKSD5hv2nbjA5irJu2UkrUkBSRyZrCmPaELOHASOM006V4tlJSuY4xPf0mpJsglG8q3jlRMT9Zq1cZQUwFAKInyj5flUW7beVk4BBEj691JciqFrCyAFExEq696Ku02rCgJkzBHE06LaeSrckwSDicdPnTCmlOOKEeTiAOYx9e4UqelR90CtplJAnM5BnJnr9eleTaQ2PIlST0MxnpmrRduFEf1qzI3GT8aK0ggHyyCCRBgfv+lSNKVdkg5ABUJ5PSevyoTtoFgqSkgbQJA/Tuau1W4Sl1SRHf39OfSPzrCLMFkQI9/E009qpctxuAKQlIH4Z6d5qAtNwKtgKVDgcAdoq1ctvZynYNs4E5FeRahSdhEA8ySI+FOFpUC2DCT+KIgmOawbNS0gIAESN3WfWrg2+5KcDHSec1lFvCtqUpH/jTVpTItCyk7kIKsnnj0n4mhO2u4kiE7iUyYPOeo+p4q6VbKUUwJIPAHB4rKrNK21CAFAztgx0o2mxRKsytXVIGJ7mf+flUxbbkLEdB+MYq5NuFCYBB4wY9fr1oCWfYqUCEpBGOfWaVSpFWpWpaSsJB/q4PHX3zHwrKUvsq/8AcVOBKT76uXLcQFFBVmYjue/zrDzBO4gbf/GD260062RF5dW2wC4cEiMnpTTOu6g2tCUuJcQlXm3f3qYtN7g3JJg7cdPw8fnWHbYskAJLczMdcR9e6lVaNI8YXLREjbJn6/OrJjxgEtjcgjfkZiTJ/vVCuzhakBsdx680M2pEqgJ9J4nnFLapK3S18ZWiwd0iIkEQP1pu38TWV3KUPJk5nAIn6Fc8VbpQZCjvJnyzj6M+lQ+6nGxOwp5IifnS2Xl1lvUULgb4IHeKOxdIB3BYhU5Pf0+Vco9tcNqKUvuwIIjtTDN5esIWoXC1rQTtnExxS2NbdWQ8mAEmdw4Tmlb3T27479/GQI61oNp4svGYbWA5CSPdn/j5VZWvjogKDjCzJI8pme2PlT3tU8LbUPD1xdIQhCklsTu3YJB5iOD0+JpjTNNXb3za3GwEoASkHr68Ugx4wYKk7V+cdFCIHera11y3ulFKXUknqTz/AJzQVbA24VAgCIGM80ZO1GVA5PIM1Us6i2kKKnAZMc8RRjdhxuAeRAPJHQ0yWSDvCszB614K2gkCAOZpH2+wzJOeBnNSNyS0ZAjkAGDH1FAlGvLoNNLAJkSJiteuXC8tSlrMmR6Dip3rzz7hUsFuDxNIqUUkFeU9SetVuKk2KkkFACuc0TafMsAlBEk/KhtrghQMSJnpxU1XACQN6R27GpVIyG0sT5d5Oc9TNEbUT7QK2zMDOOtRCgQVEhUZif7VFCwFBSUJSndgDAB9f70gmVKO2FlMwJngmKltOCR65Bx1rCV70EkQJkAT6VNJClBJEK4J6ZoJNtG6OpjOfdVlp9mpx5CymGwcj/NB05gvLICIkfiPEfRrYLVpLDG1KRiRk0W6OChtXlGAOAB2oiU+zX5lkjnr2/MYryVwD37jIGPfRFIkRCUzweOOtZWmwhKWxgbjk88Vkq8wjB7c16QlXPSYH161NKBMRuAwYpB4oIT25yfr6mptHagEq3SAM+//ADUtgMSncI4PwqCUSiCmUREHpikE0J/lzugVnaFLQUmAOQODQ04Cj05PeiBMqOInrSCSG9oBHBz3ipAQcHIPasgFAJJ3JkmcYrJkFWI9PWmEW2gsbp354I9aMEjakCAPwistkKM+SZiQPr0om4bRIjkj6+uaDDQMkAQRiRzUwnYMmcTXkIJE85IzUm0A7ccdjU1c8lL5wW7LjiyUBI3buOP+a474nu16jqLrhWpSOQFQQB2zxzPz+G7+PdbLbX3VonacuHsDIA+ccVz25BXKllITIn07V5PU8u72R7XR8Op31XIb3+dJAAG4R/T0/fmmm9WuLBft21GJAUhXUduPWmba3hBVE9pJyBmfo9qFdWynG1+ygLV/UTI99cU5Lj5jvywmXixzRm1FzvcQlQDmZUrAAGDFONWCdoKiEHCtyEkEkz069afat0uFKCEgBBOAZkxJ+VNtNBLRQClSZA3czivsJXxOPlVWdk5IjhR6GYxx/wA9fycTaJUsbUbY59PdTwt5UCk4JMjqOTnvUigkEFKQpIBnbiOTQ6JNQgLYKI3IK1TwTmD3/Kj/AHdIbaSElQ4ySZ+fHb4U0WClKN4hREq6SP2xPyrzSoUNvmUCIUBEY9aRlG7YrcTylABOxIweefjH5VNxoIIJRAmQJjaccfKPiabbZO9RWACnmeeM0VTStyAQVAEmeSeOB8fXpQCSWwtwqiAM7U+8z+tYXbISHDB84VyMgQZ495pxlaFNIcQPapUQZAEEc/Ef4qIaITt/GOkAdRxQVhFDIKCraCQnAAjp+lBXbKcb3JJSATiMkDgE81aqbS2vJEmYTzWFpKCUkRI4ABimwspRltaAUFwkH0jmZH5/l0rwSVgiYUTBj0jrTKLZLbg3eVCTgd+ZHp/xU0s+zbKglSgYE84oa4gKtgQDAJgZUJzBqYaJCSBt6piYFFU2FLUFHzAA+XiPdGOKIEjJUFbSoHI9fr50NNFUJCVSpIVIwR/x9ZqSmUqQCBsJ4k/lRgEHzpTtV+ET9R1qSbdQkbZIM+cTEz9fH5uEULIS8Fb8EiBHP5fU1NDMCQRPoJH6YphbKghO+fwkQO+f2qSLY+yClBJAEn19YH1mkVmy6kBIKQgESFgx9RRS0UgiEiU8kyOBHz/ejIYLoJUJHO3OOwowQG0Qd0zBxiP+KSpCn3ZISUkJByDOCOO396mllO9IPAgxu5Mn/Jo6bcqIO1ISOnUGcc1JLACckQYJI7fRoPRVDG4KWVDgRI7dPyob7BU8mcmTicenrzTzjRaSmFJEmYknrI/apNNFzIHIjHERQjRdFqpQG4YHII4NZXapjcn8QHPY9Z+Y+VMNAezK1kCPMIHPFFW2kKJIlMTQqQkW/aAwNx3SCJ8tTbYQiUAbT0jr8/0pgNpQN8J7jGeM1JTai4QobT17RQei4AlHlJP5/pFQUkRsAJBJAjpifd/zTq2ikSEDJGZGBFeLcGVBIjOffNTTLBlPswSkpUOJiTnHT31J2Gk8fhkD55o+zZ+EblEf1DHPWpPsHYUpBk4ggD3/ALfnUkQLRWxJ2wRkDgVP2S9yhMpGdoH1NNJt4QQEnb/tP17vo1hxG9SwUkyI3AZmhOiv3b2inNpMcGR15/evBiUjcSFcqUQPiacLMpmQCnkDjj6+VYDIQVCSTgCRn4UER+7hLZGBtE+tRTaK/CEqGOPr6zT7zKVAlQ3FW7HoR/mpotQ9KoASCQMdeKZkTbAykZBhW6fr6FectkrSpSZBOCoCPT691OraIQMQTyB9e+sNsOkGcjMHmePl1qNnpXIYlcAlAOQY+NCXblLpyVADqeeatlMgp83E5yKibUCVYCuQOh4mrjPKKxVqeFJwRwOuam7bBIGB3kx9dasHmVPCN0D19aipA3GYJ3eYduKNlIr02hUkgACOvrPuHYfKoG3CFSQVZAgVbexBmOZkjjNYcttx3E8f0kczRtppVfcwkrMAJWOR9etQVabCEhMH5Ej6E1ZqSVEHbEiZSM59YqQYSkqXEbgYUBxwKWyVCmI3FMEbiCSOoqLtoVKUkBJMQD0M/tV2GgpZ5ODgjrxQA0SVDyzzt7Dv+QphUGyG5WCoHGT+cVhdlyVKKQZMAVcoYUkBZSnzZMR681AWwKdpTJ2ztj9Ki+zVJZ3oJSmCUnzQD0oYtlL2bkCfxDbifr96tvZrBTsAOwYxImPzqL1uswsJJO4iBgRnP6RQFOi0JQHCIKSAQrMZ/P8AxQ/uq22fZgqECTu/L3VdC1DaSk4V0BOKj903tT7ParmI79arbPSrYurm1SAhxUJE/ip638Q3jJ9oXCtZgcYn6x8qI5aHZOM4xH51F603DbJSRzAiTM0tlqrRvxsQ2fbI8pGSn69atrXxdaKASpSwpMkbyQBitQTaJAbhUEqAj49O3FQXbGTKPwmJGPX480KkroltrFrfLTtUggiRBo0MPpIEAjHI5rmQYUkqKHHECMAKMZ9PiPnTbeq3tsobbhS93RSpj6xRKrToAsWxCgqI/wC3gDp+VAuLFSYI8x6/l0rUrbxjcNs7HgHFQDzHPf5fnVxZ+M2LkJ3FTZCRKTzj6zRs4sQ2tCNjgIPO0COkUN47AQBwZEc805aa3bXSzucTESZjtxTKEW12ZhMcwD7ulOC1XNq9s4kGUEkzjFWVhZOPHckBJSP8Vmz01reXOM8DJn51ZW60tlSEAFuJHPzpkctWAwjamCYAM/oaKFwhKEkEExJoLLkKHYyIj3xRG1jcojg/l1qDNJa8pQCIAn6+YqbkBHBlKgTihIUU5CpIHAyKyCSg5KswDxNRTSCSAncSoAgZ60ZJMgTOJ/F0oKBsmJKcjI4HxoiydqSP80EKTkdADipKBVAiQOkZ+uKGfwyomYxBxPoPnUm3JBPlmYJJyKSoz7MbDJmemMY4op8qDAJPNBUrzJ5wZqaXZCzwJjjikKMDIEpIE1NDQ2lImJj/ADQUnfkD1FGbkgRgTTJJBAJ8smfr9Jons4BB8wJwkjHPur24gmIAHUZzWQdxlJ785pW6VIklIEDmiutLcbUUj0J/yKLY2ilvIASBn5GrlVilDQQEgz34rk5eTtnh2cPF3Xy5ZrWgB8vLcJK+qlCScn+/61ql/oRt2m4RI5Hv7V27UtJbcZ3CE7+Y61R3GipubU7kgjjjjFeNnvK7e3he2ajjTll93SUqGIwoiSAT0jiaG835eSlCYMpMTInpXRNV8LJLKgEDj9K1e+0FxoqG2Eg+Wf6eT8vT0rLTeZbaB9wQA0jaqEn3D3/pXk2pQiEoMgZgnj4/GiBktNkpREmYJz9QKZ2kKbCUgmMgmAPWvsnxEmiiGiAoNokBRMfi/Lvn66EDRU4SVQQfxbeo/wCPyoyUKSobvOhUwN2K8zBSeE4VlHB+s05W0CcaadShKyf/ABnAE/8APzoobSwoQVCcyP0H5VlSA64hSgoNhPEYPYH515CQ4STuKkiQVHjjH10pltANiCAsEtkDr2zP5VNpBS2EtiYIIGSSOek1jb7YkJISpU5gwT7vl8qYS2oAwFgDgChULwlS8wAR0HFYLSSJSRGCYz1x8KJbhtToggHaSe/rRDaiQFAhIESRPT3VWgTUErWkb9mIIB6fr61JNulISpJ80GFTx9TRw02lQCo3pRJTn6iopIUVYBBJTgROPr5elGmdxYcQtQPaYG0TXvY7vKJgGBFHSjeZJUFAySD9Y4+VDWohJUnzSOg9OtJcmgkpSSoyQCAJ7dfr4URI2oIMkzBOfWppbQQZjK56xU3MBJPk5Jzx8/lPrSVAVtIdQqBIImYge6iJgx5dqlREcGOKI2Njm0KkmST9H0osBaAYJgzE8mZ7+/50HChY8xMnPmhXcfnTAR7NYBTBVOfd/wAVJqdy5UckAj07fpUloEL3QrHmE/i+s0GFtDgMkJwAdwiBH+T86wprcqDIMdB1o4bIKisFSiVDcTWFI/8AcyT1JJOR6/XSnpKCANyd+TMyQMDPy7VNtPs9xkJAVIxMZrLaQSBuz0I6+6ptpUkncfIOZPPpSNFSUFQSAFFJnOc96ylKW14Co4IH5VIIGCM45+FSQlKEnICScjiPrilsAFreASUhMERH16/Ki+zQDAGR+dQWyVKEEgxiMR8aOhsKC1HJOe/50wAEoUk4gzIPeppIWswJ3HJ5+ulGS0hCjyCeY715LKVqUoE5MgEc1AQQlERAA4MVFxCUgymVFP19e6jOpzgQOYjk1mPaAqHEyCetVC2ChgFSNg6SBH16/nWVK2hU5UZEjkfWaKWysqgiOxqZa9oCmSCBG4fvSpFG28cbUxycYk1NDJzwCrnMelHDZESE7ojn4YooCXHISAY6jkUvZwmhkhwz0JMjiayPMhO5HlPQ0yGisbiqesjA99RDZ8u0EKHQHj0oKgFopyZIGAPzrKEyYHIIMdsU0ElWQczAzOawlMCSBmRIoKUBLJSlasZPBxzXidqxgBMzBGffRS3LgAJCe3P61PakJCCZMkz6VKypQglQSIk9Y+utYcZ3KJEEgd+JIpgsiBjMYJMEAGvRtJCVEk9I44/xVJoJRsPAJJnisLaA3EjzHiB86bWN3O4SJ7e+hu/hCQTngVBFwztGAo7QTA99ZdCfMOSTAkjpTmz2QIA94FC2QZCTJIHryfr4UKKt2qipSlp28AEdvqaw4wFq3nITkyfLgyKd9n7Ue7j3/UVAslQU3gpjbEfWKNETCEpQCtInHlE4P1+9ZDe9wgghKlRMzPpTi2lIAjISZBqSG94AEEHGDTIm20DuUByZ9O9eLXtXDkA4B+JpoNlIhRBg5PevFsJUAcK5x09aFEVW5SlRyQoEbY5+prL9sHEhEEkdR9CnvYpWInaAcHuMY+u9eSkuQrEiSc4FLRK520EklJIA7ms/dkN74SSqJM8n51YlsJCYIyOR9cUNTO0pEABURHf1paPRBVskHKCAMk9CeP71B1hTwJKU44+fNWOwITujzpEYM/L5UFbam1pBH4jAk0DSvftQlQIHXPm93Shu2aQJgTGevf8AxVuphSSEkqJBMyeM1hy39pISojePgO9BqRbUKEwBjzDAGJ+vdUVWjTSRuCljbic8k/Pr86t1Wi5WU943bcnFY9nsUZIRODPUz/agtKIacCrelICVkbSY+hQnbNuUJ9nIMjH1jBrY2rYpHmMpGAOPr/FLvWqQVAJMDIPwxUFpRIZJcUGyocDAgRmmrTUb232qbdKY75AEd6fNkHishJKowoiJI9KXds0KPtDPsz6cZ5/WnKcPs+Nrq3ZUVW+45GDxxVvZ+MLdW1pw+zUTA6Dr+4rU1W+2QoBaQeCM/A/KvLsd8mN3UiOarY06Xa6yw+2dqhHQDmrJl5CkghUk4kHFcqbbctoIc27RuO3j3VbWesXzQMrBgTBH5d6XccdGbc2KSkjM9TijJUFABPBOfmenvrTrTxO84EJUkqPWB0q7srz7wVQRkxBj5z9cUeyXKSEICieBBMYGe9SSolpQGT2NLb9qsjaAJMV4K9mBtx3HHNIjLSySCfL3H17qK25MkkyRgmkQ8kFJnjBEcfWanvSmFJ4GMH671Oxo4XOSmfU980YKKUySQPypDfKSYmBIJMTnNMIc3IASCDAEZ+VCjJdS2ZmeBHajtLBIzM9Z5pNP4pP4DmaaSSrgnHAAzSt0cgqJCpAyMT1NP2tuq5UUAY7n0oDFsp8BJJ2yJgZNbFZtBlAQPwmNx7/UmuXk5ZPEdfHw781i0tfYKbjJCoz1p9SZTKh8agmCpPUzmjPZGJivPyy7npY49pV1sHcTB2jj4Um0wl1paCJVuwQB86fcgsEzgT+1KW7gLy9pjAnM/wCK561+CLmkpWCkCUk81UX2gEpKjKZhMwDz75rbmG0gAJHJnHU1N20DiYKYB79alUr5FJUopGBJEQTHJmfzpgJ8ysziFAz5TGJqLTKkqV7QBIEEg/X1iiKBB25CSCCBzX2GnymKKUJSkAgnee3FSQlS3FSCgEEFM4B7/mKIUhS0hKsQP6uMZ+Pp6UNbobXBhSfxAnpjr8j86FopSrfv5EbACBPH/NSWneDkEKPbqOfr3UhrGt2mjMKuX1paCCAcZVPbuYzWnv8AjbVrlydM0Z51nEKcAiDEKweDz9ClcpDmNb8hGxzzNkRgyO9FLxCkqIKhMJkCVCK5uu/8dXjigzpzDDZxucIkD0HH59eKirSfHjrO9eoWrSgCEY/sn30b2qYukFtLjbSjKsZAPocVlKUqWkbSBJif1rmfhjxhrNt4td0HWSl1xQKm3RHaRnrgjPeunuqUEHYFBQ7d6qVdxsAIAAKhKDB3HkgdPzrCz7MkJRCQQNswRHX9KKqIUXMBOEjOBXloTsEAk9evQn9vqapnYhG1BJCjzGCTU3E7gSJKvwykQR0ohQFQOUoPTHac/KoJQUJgSVKOJMxUbGkVIW2vcohQOOYOOf0FSQFRKiOCP/IfRrLzDoXAhIkGZ5+pqbKIQpTm0xjIE96Ai2re4YSMDk8H4UdB5BSVT1nBoTDZ3KUJjGY5xx+VEUlISE/0zgT8KDRV0KgNxg+nxr0FC5SSlYHQ9Jr0EYysRzGev+PnRBCxKhGJ7ZoAaUKSpcqxOM4rO3eTxvzg8xJ/xWENylGNsGc9OJppaQEkpTnKh+9NIRTDgSDI4ANZdASfwAbid2YiY70x7NJWQfNj8q8gJUskYVBAE5pKLIT5iYVMAY60VTiVbVEes5objSUvKKiQIyB07fXpUvNtMCB1yT0qAyZSUyPSZzH/ACKKBkBOfTtmaghDm9HJgdc0VEohO+DjPMVewyk+0bBiCk9Rx9RUSN6FwQE8EA/GpyMlKfP1VGIqDgUUKUPxYyMVAZTsVuhQgZ5xzUy2gARJGf6vr691a74h8UMeHjah21u7l+5c9m2zat73FKgkwmZPuFA0nx5Y6vqqNIXa3+n6g4gupbvbRbSlJHJBODEjriQOacLTaVtyJIhM8jrWUJ2KG4ATB83BFDvLlu1t1uurhpsSVHp36fUVq1p9qfhJ5UDXLVtLagk+1UUGcf7gM5ikem2FEgweMc1IJUAo45MBU1FDgcbKkGQvg96IyZjiBwIigng04ygSkETgDOIrxRggDYTiBz8KwkkwCQd3Q0fLWSTuEnA9OaVIJCQkblJ3JBOZipZ8qsjMwehrxUkt+TylOCSOM0RICiJHzpEHsSFJAKpIjvXtpUkpwUQc+veiFATBggjPuioiE7Sr+kQAKFIupKBmQRUSmI8sgEH96LsISmUwocyIishsAzwOmBgU01EpCiQExnGM81EJKztmZAn96KsbUqI2+USI6TXpHAyoGSKNGGpkoTHmOOI5+pqCkrU4QICpkD691HKEFJUswSqAJxWSQocyJAMZigAEEDcE+WeTWS0YPlhZON2BmiBA8skk85FTX1VmMAHrSACGsuFUlPEGKIpuFAjjGBFTB3eZKT69Kz7IpaPUGRmgwGR+ERniK97FK9pAAB6TH/FEA/mSBmMkgZiiBI2gSlI6UABI9oYgAHJIHSooQUkpI9YkflTaUgk4BwZOOagW8Kg5HE5k0tnot7FaDz+X1Fe9isgkZVgDqOufr1p0tCQkgGMj40Io6QCQOQKZFjbhTh3ZSDyeTWEMlZAImMwfd9fOmVNhSYSCkYkQZ5ohREbSNvB70Aols7PKCc9TMfX7VEIUgjy4/OmvJM/1RzNYUj+Zu5kYoBfYSCFZJggD/FLra3tLUUgyPxbeD3qxUyVEKUQArG0jiPWhpYjcN0A559TSMillSwZOBgwInj6+NSFsEFSQPN+LbxNOpZVzJiD8T3ryUbEBP4gDRoELhrbyCf6jHfND9glZSkAZEz6R0+dWRaJ2QOCRHeoLZ2BJ4UIx69RU2eTV6LaUKG0KUFZ65oP3dDZ37ee/xn9quWW1eyUCZ3cziouM7VEhJ2rBJ6H6zSSqhayptMAbgYxiKP8AcQlYSBAB5p72G6FbEjgRxRmkQRKQcQSaNHC9ra7BuyVciROKvdNZKVkpwocetBZt0KVJgqI75q509oNpSEiD6UELqrahprzjYAUhJUIGfr0rS7fxRcqeaSpMyqDjkRP7fmK6K+37W1Wk5BBBmuV3Vq2084IIWzIhOJzn8x+VcvNlcfMdfT4TPcrYLLXmHHIOHAIhXNWbV0hbh8wBiSBkjvXOUK2PFO7cUgT5Y7fXxq3ZvHkoVC1BU9PjXLOo17dd6X7N+ZuUuSUqE9geBTTVyFD/ALSeJrnadcuQtUuKAIiRimWdTeefbHtT3V0z1p/5MTOkroSVkgkYGBuHSrCzAJ88Ee6tb0t/c2kqBCoHX51dWjx9ulIB4NY5c9y8NceDHFsFsSpyOoxEVdsqStCduYjitbtlo3EqhQHMZn8q2G0X/LaQATAFc1rp7dG2YS4kwRBozqenE96WbV/NSP6cZpshJMjA5NEMFxuLdwgSRVdpze4qgAiIkVaBIDD05mlWgGVGDntSoM24TkmMUwkDaSMHjFLN7eZBjrTIOFgHpMRRIm+HyKGvZrQ2EbYEEEk/P+//ABUXyUGfxRMDINFTlRjaUkbp9ZHyH+aghY9mnBLoMZmY9fjPHYV9e+d1r0XQtTQSSVKAnrxUtg27N0zAwcj8/WiQg7iAFqEz6cf5+RqZbSEhSuR68/nSp6czsnmPEvj+5TcOpdFl/wC2wqInEwO8H5Ct9KrVllQO1ISSIKj0EY+CfzrTvEP2VW2q6ivUre6XY3bqt7nsjgmICh2MCDHY0ux9kalBCbrWrp5USqVFU55yT+9Y3e/TazG68t1c1i1aVsduWmwokjcoDgfRxVdqnj7RdNQ4pV8wtQBIabVukjnj3VR2v2Q6IhKw994ekgK3OGDHMjHbt0qw0zwp4WsL0+yt7dVwJlK1gqJJMj8z6ZpeSkx+6q8KaLca54nuPEF217NsJ2MNq6p56xnjPpXSAnABTxgEn09/SoexbaQtbaRHJjFFO4ABIBMSCDmtIWV2EQAsJSMkZE4ipJZSpSpAJATnuPr9aKggAEBJUQMj69aig+1SoRAmMqpoZQUmSEhZ659RWPZJStSv6vwwRGKikbVAA9JycH6/vRC0QCCoKkEn09fdS2EkqEH+kEgZFSKNqoSQIOBQEQpKkyDAwOIzJ5qKUJc3+UEcAj691MGUISECBMDnjMV5SPLB47DqD0rLW0gCFA94xUiYmAZGTgx1/tQAlKBQUjBAMAe6oBJTvBMGOQc57/nU2k+aTgDEGO3+aISUSR5iO5xU27DCOAFHcYMftRUFRVuSAYEbiegrDLRJ3fihXE+vT3UVuQ3K0+UkAxijyenkpUhRSR1Ijt0oQKg9tMHknP8AijkrAECe5HH/ABXnmklajzknbHHNBgJO7aYAg5gRPNTK9pSvbgEEAetZDUzAGRic/pU0JOYAMHqMj/NBWPJUS5kCTycYrLKgtSlnABniOJj9aylIBEJ2gH/dImsoTBEAxBO4qx9YpEIpCoAEQetQcSUI8xBgZjtFFCimPKBGZrCjJwUkDOfr1pm5R9oOk+JbvWW7m1ZfdtGXAtj2dxZpShURIDg3TlQyYzig/Z/p3iWz1Gzbvbe4cs2lrh+4at3S3IMj2iHSRyOE4B7Gi/aM5pGvatZFOpaFqP3RxYe0nUdRS2laxEeUBUqHmB3CPhNMfZ3pRZ8QP3DCdJ0mzUwEnTNMvfvAKgZS4pISEpgbhI9fitq9Nj+0q+vLPRVs2ds5cC5llz2Vst+EkEKkIII9Dn3duPrd1Bu4dcvNFUbFVoiyLK7S8YBQkyFe0U2Qk8CZ+Vdd+0Vc2No1ICnLxhuQYMlYz8DVFa+ML3w74rvdNtrW98QWrkO/9Mne7ZqMSM4KD0lWCFRIgBypb3orwvNKtHdqWtzaSEhRIAj3D9Ks0oKZJXtERA/WvNuSAspgrjHUUZIEyEiT39MUk1lCZIKZIH+awGoATJKSYBj6615BEQfMEyKlvJQkkSetBABkqz6ciiJBDWMniU8wf+PzrBGSCkET0AxiiJKVcplQGKVCSkh2IiM47VEp6CFI9OPr+9ScgZHXnp8fnWUKIUlOZOD7v+f0pBhSVCDG6oeyUZz7zPHrRiJKuJ29s1JM7uME4kHGaoAKBAKQJk++aIEFDZjr1rJyRtiYmKkWyDuxtwE4iigIlQEEkDuOteSD5ok9AntRFKKgBAEczUlDyJ2GenHrUjQCEbcqgY/3UQIhCoIBOcZ9PnxUlgH/ALiYBPSvBBIMJkp60tq0wCPwkHb1z78fKKwT/KgglXJgf2qWwBAjM8z+dZSAskRjJFMkdhIIEiR2rEGVcHBj1NSUpSSZlSIk5Hb31Bt9KiUxuMk9+Kg4MuFA7SQRx+VZCAoe/uc+lZSd0ggEjMkSKw2CUlUpCeDQoMoKSfMVQMDGantBUAACT+dEDKTzHBBA6Vn2M5nkd+n1FVEaBSiMEg4/DFYUgnynmc5o8JiPwqBn6+VZLZWIiATnFG1SFUIhEDBmJnnrFZCCQeSFCADRAnaAeTwRNZcB7H4Y60toCCRuMkmIH7z+oNeSxCY5M9OfrmmCobSkgkyaGvM7SRESI60lgrQSoDcP/iZry7cHySEj0o62/JClSCJMqqZaTmCQf3p7PRaAVCBgV4t71+bI7A0420kpBAyBE8/XFDU2pXlwkDvU7Gizg2qlIxxHM+6pezC2xuG0TwD8vzpkMlO9QgxxOJryUKUIEZGPfSRUG7cr24yMzFFbt4WDtIIB460ZLR5/F2k0ww0SkT5enf8AOnFemGWkDAITjkfXrVlYskKCR+EiTnn30BpskiEkKjBirBhuFgj8RzPUelJNMto2gAJ47VzbxW2bfVXwg4PmPTkdfka6WowZSY9BWj+Pm/Z3SHduFIIKj3+jXL1E/Rt29JdcjSWpW4oKQAoTkQMTMZo7i9iUhXPJBNCsgOCoCcn0FEVtKwqRk4gSfWPyrx693STNuZUpUABIwD3+GabtlqF42I2mCdg+ueKEFK9m4JAJOCB2/f8AtXrXeLkqOUxAE8d/jxSJuukulSAUqJnMmr1he8wmMCTn31q2luAAeXaAOYq/07cFAJUDOBFNm2S1UUpMkniROa2K0c3HcI6Ex0rUW3C2TJynj31f6e8UoSQPKTzNBVcNpl6AI4yashiO571W2qy4+mBKRVoqAoxgCqkQGcpUCAJpQSVq9IP51J1+HABmTFKh4pf29TH6/wCammdt0wRIHEY5pnb5VHBJ5oLYJWM49/FNthIHmE44q4LHx+yn2rQCfKnmRz+lYQ82yhS1RkZPOMxUkt+yUSCUnsBzxWXgCsSnZHOJxmvqJXzrKVFyCklIjJVkk/GqfxR4jb8PWDj6yVqSqA2kSVGZAHefWKuUOIUNyUqSsDt61y77Wbw2es6Qu6STZpWFqU3KiYUJxTt8baYTuulnoem6/wCJLpu/vr37napWFC3anzpgZJ/v863YuttKC1LQ3tTtBWrJz7vr40g14k0u30dL5umktJRuA3joPfxg1zLx/wCKbvxMVt6Iy65bWwDi1NiN/I954qLZI1mNyunZm0p+7yAIJJ/bH10rk32qeDbbSmhrNm86xdpcSVpJI3cnCuh46wROKNoX2x2LelM/emLpL4SEqSlA2kyQTz+VDu7jVPtO1Jlo2hstEb86lPZLhxA/Oo7pfC8ccsMv1R0Twjcvah4esnbuDcKbCXAonJgyf0q1ShGFbgQQeOvaKDp9r9xYS0E+UCdoM8cxTXtTKPIFRjdj51rHPfIe8ebKlf0zxHFRjzzE/wBJxxWSqGsiSewqTSRM9Se1NNEbRtbIJHmB6Z4/4rwBcWIEDqQTzn0rChJkgiOijzzUywhIjkiRI5j6NToaDLcoJBClRgR6da9tCdpEeoA4NeQn2aj5RAEQCM1MDc4N8Eeg5MVRpBKd+VRJyQJA/KsJd2JSASoT07e+iloJSSkq5mD0rCkhSgsDMwJ5HP5VN8jT0bwSmDI/M15CQMbpAJSQBz9CK9tGwAjBPB5+s1MoDsZnMxHw+vdRBp5opJQAox0MUxAKCAAcEGRyKE0mSmcQY2nMR+lG37ZmCDnHT5fWKKbBcTuwYAOFfP8A5rAUkRCgSMZrBbEFMQvucxivKWNikiJ5iIoJhKt2OcAwRzE8UVISorIIkY564oYMJBBAwfnRWx/LJgCQcj69KCe2bYI4Ofd9ZqbSCoGCeJn191RSolsY4ycx9f4oghAjJ7Y93+aAwEgpySFe7H1msupJdB3E8gkA9qm2pKPw9esioOj2g2g7MnIz8PzpbJyb7QLu+b1m4Y0+200tsWirpYu7EPKcMxtT5ht4Hfnij/Zk2q51d775pGj2901bM3DT+n2gbKQ6k4JI5iQQPTJnFxqf2eanduPOJ8VXifaJWkp+6tb0pP8ATvACu3birXwh4Z1Xw28lN3rP+p26UbEINolpQEYJUFEn40T0oh4+cbY/0pDqQ4lV82fN1iVfsDNav4f+1HTrbUVsW2g3to3cOIdW4goUSVEp3qBVPKfXjit28Y+H7nV7zSywgezZugpwlUQgDp8cfGtO0z7G9RtlMBV8y6Wm7ZtxakkLX7J0rJHTIXwfWiSa8lHXGpPBg8TM0QJIBIOPnUWWwhvaCFdz61NaTPfJmelTsklStJG0J7SfrvUNomFrj1ipIBAncNpOI44rJSQAnjb0P+aewgWe+Uz0qaPKAY4M+tZWYQFQZB4gEe+sgbweOwjkUggEgHbPXHvqewjblIITNZSCkxHlOZioiXIBABAwKEvRMdiMTREgJAnzz0rKmwEyBt75/KvFogSJOOp6d/SgBSSrI2xAkzkZ9KzMpEYjJ5mslB3ExiSY71IoKCkjJnj0oPTyhuQP6kmfrihltQRhO0gc0YyEwqNoBj1NYG3OPVOfhStERiYEc5iCKItPtCQogiBB56D+9EAJERmMT9etYSgJCgRx0HTipWE42AkQkT3FSHuGJMCsBIUD5+OfTFF2bW4SDExJFPY0rNZu06fp9xcOj+W2g5JiYHc8VwNOpabe6i7cNWush24dcWq9sXnVoYJk7h7Ba0qG4gdxzX0U4hKkKSoBQViFDEVwjVm7LVtW1Ru80zwdZ/d3SlFhq1mU3LiU8L9slQCQqZBhWKRV2Pwq8i+8O2bqblVz/KSkuuJUlSzESQoAyT3qzWtCSQVJE4EmMxWvfZ6bE+ErK4060VYWr6N4tvaFwN9wlUmRMwRj3Vx/xlq//qLXtQOn6k0kod/kNuXZtVBewJCkhRAJBBweSevVQ30IjasAJVuT6VFZKDE4HQ9a0z7JP9Ub0BxGpvNuFCj7KFhagkCMweuT9RW9JSAgyJI7DH5/GnsIrZ8wIVgCM/rUZhZAVRQnzBXAAqK0QmRPyoCKmtwgYzMRWW0bYEkJJ4P5VNuTtMeWOua8nnJEHp2pbRUSncop4Ec9J61hLSpkEd44opSreDtGMACpYAiJ6c5jvRs55LrbBJ6noKmpIUNpggmZ60ZsAGfSc1jakhRSMnMUtqiJRtSNp9IqSkf0jmYkUVKUqhMwew6VkhKSkp84gRI/egAFPlUSYgYBwZ5oraJTgRESmppbC1JO3Eg+6iJEDEAx3pwmCkBYKYx6UZpsInBPXivBG8gZniKKApKAlO0EgZPzpEK2jIAInpGYpwJIAzEdqWaahaefdPp/zTpkSEpEDv2oSwkbwMg9p7Vq3j229ppgXk7VAEnoD/x+dbYJG0HAPwNU3i1j2+hXR279iZ294zWXJN42Ojhus5XLWP8A21JSckRPf30OYcSkmDPAOKZCkJtlgq3efB6wD/yaVcAMkciIEz+v1ivDr6OGXFShO1cgg5+Jo1k+smIggc9uPdSji0lATgLAzj0pmzVtEEbUwB6zx8OKlTY7BwbAlKgqDMgz1/5rYtPeKXE4yO9anZLUlcdeZrYdLcWVAqVAJnHaqZ2Ni3S4mCFEdK2HTlw02FR8vfWqWjpaWgyN2JI61slqZQM7T3FKe0Ve6c//ADoPfn5VcrUFAgQO9UWmDa7JyRwau9w6j5VpGfos61tO4ETKRzEZpR1ChcpITInmKsyn2kgcSOaUdTueznMD50tHB2nSFJI5ot0ohSJB2xmKG0nbB+VEezsHwpivkjYtSt+/bIyBBokFRCiCSRzzH5cUO5G3ykwCM/P/AAa8kmEpMQBIxnB49ea+mkfO6ECCsqIEDAxg9xVP4i8M2HiaxFvqCA4lKitCgSFoPAI+HTg9RV0lwMsuHG2MGcEVrGtfaJoekPLaev2i8k7CEkKI+A91Fs+WmMy3+lQNfYporCky5cuoSUwlS4JgA5jJGDjrJrcdO8P2mjWiW7doIQngR6f3rTL/AO27QUE+zdddiAIRnjBz2kTVPffxC6W0ShqxuV7jEq2pEQM8/XrWfdhPl0/l82XxXUE6Fp63lD7kySMhRaE9/wB6cYtWWfK2NiCYge7kVxZ/+IlKVAW+njbkfzXYPPp6j869Y/xFlx5BuNMEAgS2qD6nPbFR+Zhsf4/L9ncS3KCpJ3CIPWRisLQpCVqJJ8pgj6+ppLQNetPEemNXtm7uadAI6R6QeoqyTlagSSTxHr2ronpz2a8UswmTt59E4IoylBIIVHmIA+fWjJUlBUoJBPp+lAKwtSVRAVzj6imkUg+XG4/kK8zIEAnnG4/v9cVNS9xECcx09Kh5isBRgdMdfWg0UhJ3JmSDBg9KImEwRkkxuMc/CoKKg5kwAe3FRAXJ83lyRmppDqj2RAiR0J54rKfwiAAs9MxPehtkhyDPOIGKPCk+bgETBpANxASmPMocxJknFZSCpM98EfUV4Khw+fjBx8fr4VDeEggyAIwenp+VMxwuAClMT3P160YLO4qBMdQRkzQJgEqWkmfxDpTAUAj4HnpQRdbylKyOYIJohALigYkjpk4rL7eFJBG7IMflWCDhRhE5yfSkEZQPINxPQ9uKrPEfjHR/DDCDqV43ae0SYSvKld4AyckCrVpKgAR8FHmq5vQbdGovXrgDr7gABXBKEjgD4z86Yaur7bvCbKj7S+caSD+M27kfkIirG1+2HwlcFAb1dkzn8KpPHpitpbtm1NhO1Kk9ARj1/Kay5pNs4Cl63ZWnk7kAz8xSLcUTf2oeFHgSnW7FCT/Uu4SkGOck+v5HtTdv400J5tCm9YsSqZ2/eET6zmmT4T0daVqXpViVqgEm2QSR8R6mqm6+y/wq/vSvQdPUk5gMAehGIqR4bBa6vYXJSpq8adBBI2OA/vWdS1i30q3W+86lCG07lEkQBPJ9MVrCvsg8J3Kif9FYTuxKCoK+YM15j7F/Cdq+24jTD/LIWGi+4puQcSkqg/EUKkjYfDeuo8RaTbX7YTDu5QAzEEiPyq4SqFQSCY+JNaRq32VaVqd+5fs3WoaXdLVvX/ptwWkuGIJUIInjiOOtAX9l18yP+j8Za6yEk7Q++Hh8oH12peYeo6Aoo3qCZgzBIrxT5cnrG7n6zXPnPBHjG32C28dvgJGTcae04T8frisf6J9pTJUGvEGjXiQBCn7RbKiZ4ITuFLdGpXQhsE5IPUnjiPhWNpKgpRwDBiuel77S2D/MsfD9+B0bedaUfSVCPTA+dQf8YeObBKg74HTdAYm21NuDnkSmfyHupzdT2uit7lEnoOakARyokenStX8L+Nzrjy7S60u70PU0p9oq2vEHKZ/ElUQoe75RmtrY5UTIHI+FBaeAC5UoyQI9aiVHBj0qe0oJxOeM14wCVbfgTTJBKSgbSSAAFQR9etTSkuFQkR0MdaklsLSo8TzivIaAyD5ZHPFTaJEktS3hQHvFQjavkScyKmUqmQAJrzgIIgSRn4UlIoSYAgECsqTM+6JHvrIIUYSMHNEA3kjMEwD8f81Oy0idoURnyiR9fKsBR3K3E5GB3FZWlKtsExHH6/oa8GzuxJjPGfriqNJtG05JB4rCkEKk4qbKITByR3rDpIRidpx/mlDJ6gz99tXGQ6tgrSUh1owpM9Qe9cP8Q61ZaXqjlpfeLRcKt3g3t13w+m7bnBCfaNITj49Old1vitFq4tDRecSkqDSCApePwiSBJOJJA9a4pqF5cs6ih53wl4i82oJuiFWSXUoKQBP8pa8eUdBP5VUiLfLpvg68dvPDTL7l1Y3g2fy39PbU20pAEDyqUY6g56dOK5Fd+Ktd8UNKYumtLurRbjcpVb+YpWtQ2ncSOEqExie9dX+zpFifDrVpYrfft2lLR/1NstlYklW0pWATAIE/vNUV99iduw665pGp3duta0rLNy77VoQvdCRtJAmcT1pSzZrn7Nf9I/0kNadZNWD6TtubdlMezWPLtI+HNbkpClHJO2Zn0qk8H+Erfwlp5t2YcuFqLj9wZ3PLP9RJJMx04q/E7ojaI70r7MEJClEjgxMzUwnkKBIB61kJhRx8Y4rwA547k/KkmvJBISkiAOs/Xao7d0pkD1OKJtPU46xzUkJCVGTkTHegSIttwREZEHNRKAJxyYk5j6/eipkxHxk9KyUlSYEgR3pKQSkFslPbkVPYlKRAnOQKkEqKeYxk9ayW1KTk+sRmgkEDaDAnAgjg1JaCQlInIiRzNZRCVBPUYkUXze0kEAAzB4oDATAnaR/VjrWEtExAj1ijhAKsHZIg++pBJzkgREx0pkg2kK2qBJPFFCSnaSYHFZSk7UwZI6UZKCdwzBFCdiJh1tMSFAYI5mKPuABEGePQ0BtsCYEHpBiiKgEQfcM5FATSBuEml9Sty/YvIIkKSZA91M7ZVnOZ5rBJUggZBFRl5a43y49etBCVIPlAVtGzHrVc62tLkCCFZgJzycVe67ZJt7h1KkzKzJHvqhbbCznymTg++vDz8XT6PC7xlFICgNoAPJHPNNWqoSckKMzngE0odq/6SIgGe1NsSlqSQCcgDMdIrNpFnbOpQASrzd49B/er/SrsryVEkjOMda1YZEdvXkxV1p61BtIBKYGY44/5xVQq2S1dKnEAfhiMfXrWy2T/ALNCdxCiAST61rGliXkok54kYFX6F+ycRnA6ChDarFwKeTnNWwVByTHFaxZvbXUgRHP9qvGHCopiABmSaplViHktHJmaTUN9ymDieSKC86pxxAA5Me7NHbG11Pbt64/zTOHlAAJI715TiQ4k8kGouElQjAH5Uuo+bmKonyettZgL8yoyevP186KAkkEp2zkmJBMevwqK0eclStojv6n+9YUotW7izJjMflX0z5+OQfbB9ox00HS7J0pVB9qQSNvp7+K4JdXzr9yVrdUoKO8Kk7p6/vWxeO7/AP1DxJeOgfyysgE+/wDP4c1rPsUpR7TBOZgk9PX3CvMzz7q+o4OHHiwmp5YcKloQkLKhOABkcVhSlBa4WTEAH4cfrWwX/hC6ttJttVQE3Fq+gqBZBOwgxKvnVCu3UlzeULC04O5MmJjOe3vrLKV0zVZZgqO8FKf9yz7uZHoTx/avW7W9aOkkYPqO4qI3hQKiCogmCqTz/mpsoKTM7TMkQcdaIWn0f9gDr3/p+43ElHtTsjrgTI9/611krlcgkjbIIntzXPPsU0tNl4MtnCY9oVOSDxJx78Vv62VHoraQRAPBg16uE1jHzHP+5lYIhQWPT/Ofyr2wFKiT+HP19dakEwFROJmAJ5xUg3tWqMARkirc1RUktgBPE9RM5rChvQEJELI6n5fnREhasqggwSOc1EwFQDBUeCI6jn5VOzYMrBxI5OR6/wCKm0dxIUEweOlQJLKNuOOfoVJCgQVTniaAmAFuQJgERPuomwLUUn8Pacc1j2RIMHqRI7fUVJTeQAeDNBhrPlWdpGIBPBrDSypROwiQBJPb6/OjKlW5PCQeR+1TDaZnAAA4xQSISlWRAKuhPFFO0A7xKYBjqcVBtuckkEEZjmvLB3Ynd/tnA7VFIxvCCoQJJPHWhuyZ3JMc4+VYLRUE5xwRUSkyes8k0bEQddQ0wpZTASCfjFGYTvakpOU5MUO/ANsuEpUopiPSI/cUdEIY2+mBPuqjqZQEp6jtmo3LpaSXIBO3IisoBkFX8wzkkYND1FwJtXSAFHacdTSqSydVVsBW2SqJUExFERqbU+YKQO3rSSUAshSgQTHwwaiDKiSMEBOUwetQvtWadTbQgqAnp8Ip5p8vW6VwTu/I+6tduQEW6ynKoMCtit2ptkSf6RiKY1pJtOIwYTyTzXnHvYJU4ZCQOT0iiqQSYRBn19/+KBrDQFk7/wCBJEdY4pU4im/YWgQsFCuoM+6il5ClHarygcgiqFpspQAAYwMCjhnYkbcJ56e+p2rS79pmEkGcj/NRWqJwVEGTHJx9fOqdaVoXumQMVIbiuQcE4/vRsaOXOm297eWdy4iXbZSlNqHIlJSRPYg8eg7VZDalMbcQQSDnjiqO2VcC6aBcVJWJI6zWwpbIyRJmQBiqnlnfAXs5VyMzXlDyqESSOP7VNVqTEiBUvZFIA/qHXp7qek7eAVsjaD76ipIDccH6iiEFQSCPSaiRjJkAGRS0onqd8jT7N25AKg2jcE94ExWjpY+0m+U5eNXmiWSVypqyfZcc2J6BxQjMc7THat/euGmlJbc2bVkQFenSsuPtiNrqJ4wZmps2bnQ1T7TdO/8AxGi6DrKRibC6ctlH/wDybgevbpWE/aP4qsAE6l9n2oJTJldjdNv9MnaM/XNdIbjAAgDj96kQkqMgGI45o0e59nO7f7abJhH/AF/h3xDpgBPmuNOWU9eCmSZxwOuacsvts8IXspb1dLShIP3hpxrb796Rj1rd1MgTxn0pS60Wyv0bbq0Yu0ASUPNhafkZE0aZ7hSw8aaDeJItdZ0+5gSUtXTaintIBq5CkqRLR3J5BB3T9ZrV737LfCWokl/w9pv/AJNW6W1D4pAI4qqV9ifhtohdgm+0l4cOWN880pPyVnjrPFGl+G9GFNgtqEzWUJnHYZnOa5+r7K9VsQP9M8ea+wRlIvi1eJB9y0j85+NZ/wDT/wBomnEm38V6ZqoCBCdQ0stcd1NLGT7vhQLI6K2lKZVwPUxWUHeAUkfCufG/+0e3Z2OaRoN2tcp9pa3biAnsdq00Oy1vXPAlkiy1HR73W2mySm90xsLJBM+ZvkQSRMmRFIadGWBkEwk85rMZEyqM81oKftr8MsvKY1E3+lObvZ7dQsXmpV2/D61fab9ovhfVFlNtr2nOrMQn7ygK+RINA1Y2DJ8pBwcVJbA3hSY56dcf5obVyytG5DiV9ZBB6GipWD+E7lcDiklnCTEZ4jvisBBJ3AT3ipBuZM56TUxnbxj86QiG07gfoUVSEiRk9cczXlJBAJM9prwIEz0zNB7ZbQY7GvN8iMCpKMRBrO7YmcBVBbRyVZgxyRU5IIhGB9RXusADA7cmiIhZBMJHcdKZMQZ4xPBNFa/AQYA6GKwU47pSPmaIhRTIgAdh86YRQAnzYBUPzoyU7YEDGZqCWYKDyTzijhPlgiBEdhSS83G8zBwMj86kuERIEGOeTWG0bSBMmBE+4f4oxAIBnnietLYkRRlAJGDwJ/KsnagAbT8YqCcZIHrj96IEzwnnufdU1pi5r4vX7HUnE7ecgHoK1lIKyAMkf0/XvravtAQUaqFAfiQMjjmtZZCSDPA5McQJNeNyzWdfQ8PnCPNp3GclxSgY7HH7k0chMbSdwVmOn1illOgICkdFDMTNEZ3J29REmT9elYtzaAEuAmMGIPTFW+lKC/andAHl5np0qhdeSU5ztzirTTXgpMiU4CiCfypk2rS3v5qFnqQJHbrV6HErdEQAO3JrWNOcCtkGcRMRVy25tIAmQrHqIpobDZOecpA7DvV/auGIIBHqK1nT3ELcTnn1yBWzWqwUkSIPY1XwimCswFQZnvRUOb30JAnImhNpC0x6zip2xCLnPE+7FCdnVqyPzqLwSUnEKrLgG4zgVlW0pgnPurfDHaLXyhtUqFGI3ASM+79aq/Ft0bHQb24K1IKGVZEEH6mrZSuVHySZ2HMVpX2s3hsfBtyNwVvgFQzI5ifhXv53Urx+PHuykfMOsPC4unpj8RWTPMzz8v8AFJN2qH0qgEAnP9vyo1y4F+0JBJUJEDkSfyrbfDngx3V7Nu7/ANT0+0BJVsuHAlWMTEZnNeVJbX1lsxjZPs+9v4Q0q4udbuUNaQ8dwtnPOpxRA4SDzhPu60K/8f8Ahf2rgt/DTDwiAtcAK+EGOaaufAi/FVyld74ltLoto2pS2JCE44z6fmfcKh3wd4Ts/O74lbWpIhTbTC1AE85B9OtbWX4ckuFy3WkaxdIur51bDX3dpajtbQd2zsATzSzbcrQMhUwYmSJH+aa1YMM3bibVa3LcqIQtwZUOJ/WsaZa/e37dlKilS1BIkdzWPy7PUfXHgKy+5eEtNCUhI9kFgcjIn31sSG2zsW5AIxJ/L40rozIY0i2aCYAbHWIx/inFI3AggZPQ4I61688R8nnd21lEhQKTuB6/v+leDocXAVgc+tZ27QpRV0IGeKgEyTAge8zStZJlcgg8dPX6msFC1gmZI/p7d6Jt3ZAIEiemKz5dgIVCx34PwqaARuCCBwrB+VHbAAHEnoOK8iJAj1J6UVlCI6e/0pTcUygpLXrMgzWExtJycSM4FE9kUqkAAxzUH0KSEqkjrgfXaqgDWghtW0+Y8R0qSVFv8SuRGTXmkhwnCpmZPBqSbQqCyUiT1IzFNIhQVEFfHAPx/wCKK2gbiYgkcz8682ycAEe+aOzaxMq3d/zpWEElYS4QQRnn/j5VEp3KSeg4NGWhQXgZ9cVFDCwAlQyeoP6UtK8FtQam2XHeCJih3pX9zdS2tTTns9oUiJSehzj54pu9QopTtO5KljrPXNSvLMqtHUFJWooI2hIVPwqpB4B032j1oyVS44W0ypYAMxBJAxPux2qOps7LN3oSnuBVpaWGxlsKRwkRiBgdhUNTtD9xcVt4iB8cUa2lrtw61aW63XHA2ygblLWYCUjqT0FR9slxHlKSkxCpx1inNR0j/VdNuLRTikh5BbVt52kf5qjT4Bdbs1WNrfeysXMLYdR7UpSZBCCTKRnqSAYgUdp3JaXLCi1CEymDAnEnv+dbQ0x7JlCepGDVYq1UlkACeB+n+avtU0h690e6YtVhu6cZUlpxSiAlceUyB3o0NhtW4kCAkYMdaFqbBFk+NspCT+lL23hnxM0whJ1qyJQkJ3IsVJUffLp7Vf6tabNMdSAJ29qmw5WootcBIIzER9elB1O9tNBsXLzUHvY2zZAUQhSz5lBIAABJMkDA61sDNpMDpEdR3qt8T6O0/pkvvhptp1t9SlI3CEOJXESOwzUdrTuam947sFXzdq3Y6k4XFJQlxu18gUpJUAokjadokyMRmtubtd6d4TBMVoep+DLq81+3v3XNCduWHApTaLh+3cWSAG9yklRBwnAGRgyK6u3YfyUFIAPrR2p2qLeyBuGSR+JSfhitlTYztBEe+lWNP3XbIkAbvfW0N2CUgSIrSRFqjFmUK/CM4APFZXp52GRBq++5JUpMg4ov3ETkT7+lPTNrf+nmQCD2GKG5ZBJEkRnB61tSLILBkVBemgmdsgntS0NuaeKLAtqZgDyzwPdWvKtHHQmJ3GYzEetdL8U6aIZBTIM4+VaNrOq6b4betmtQfbtEvA7XHlBKcROT7xR2juViVXDRUlKlJ2kCZOfSrvw0tdwt8lSiQBhX9OKT0vU9K1+4cb0/ULa/9mNyjbOJcABnqCexraPCmlJFzeNT5kJQdvodwB+MH5VPbo9pJtyJJ4PrWFshRJAzEETj6/tV+vTZlIFLv6SUNq5IjP8AzU6PbUla2ltwoW2QAojHWiI121WnyylM8x0qv1GxWi5cSAZ3KM89aUctVIhJTJMQe1PRytg/1a3UN/tMchJEYpzaHEhScpV861L7soFKciDIFbrbtEtN7uY49Kmw9oBBSCBBgTFeAORyJyKIGilQUYgH1zSV/wC0DiClW0HNSRpxsOJJKErSRBBEyPd8fzqg1L7P/DWrKUq60HT31rG1S1W6Nyh2JirBGovN7YAOeo5orV8kzuTnjHWg/LUR9iPhZE/cbS50hQO4L029dt9s9ghQH5VH/wCmur2SD/pfjvXbZYVj76WbxA+CkA/JQrebO6+9oKkJ2EY7zR8hJHXrilfN3R3VzxWl/aRp60hnVdB1ZkTm+t3WHT7iglP5detEZ8XeNrBIRe+CfvME7ndO1Btz4hCgk1vy1BtslWMdevFTSttROUq7R8/7VKpWhJ+2HT7U7dV0fW9FUJCje6csAZ5lM4+uoqx0/wC1HwnqqtttrtoozASpew/EGDW2HapO38WSkHvVdqfhTR9Zn79pVleHJ3P2yFmcGZI59fShNh1p9D6QtspcSRIUkyD6iiyF4VkjOffWueH/AAZaeEL4p0jfaae8IOnhRLSVdFImSn1AwZ9K2kJJ5EAcYzVJeyQVDtJz8qIAUHzYnjNZbIVPbrUg2FboX5u5HX4Uw8EhPOTzJqTCZzyD85xUUoKkmeOSrNE2BJV1nrNASJ84ExAmI60VIkHoaiEzOAQamhKBEiPiaVCKycQYkjg1KCErHyJPWpAzOfTPNeWJgDvPNSEsFWBj0rG0qJAP1FZHIJHWJ4rwhCiZM9KVVK5/9o6djluojkQYHY/5rVGTsacVtgKECt3+0pj2lpbuGfITgdZFaO2Cm1GRJiMV5PPNZ173TXfFC60lLCRH/dgU0pP85ME5An5ULeFKA2jamjpUkLVByBEjkfUflXM6kHk4naCT2IMYHA+NWmn/AMlhUEDMYqsQ0EqH+0q6YFM26oJ8ytoM8eg/zTFbNpbyStsrAkicYAH0au2U+YgQJMT1rWNPc23KSuN0TkcVdWT5U4CSdvXvQxsbBpLm25G4ZmPr51tNu5DeRmtT0pz+egiJJrYm3kBJBIKvU/XernpmtLZagkEHAzREOj242kkmM9qSaVtSngz2pi2Un24JPAwPWmFq4sHBMd80u66SqJO0Vi4c2yRkgUhdOlDKtvPyivT6Pj/My04+oz/Lx7nzitISBIBVHXIkkVyT7er9Tfhy3s0rPtHHIkCRAjJ57jNdbQv2x3bASDx1Argf8QmohWqWttJlDe4pGBzHf6gV28l/TXP0v6uaOKvPpQ+Paebd2TnJmrnw3oV54p1Rm1tSd6slZJSEJA5PpVMpHs1oSEHeDHPGIBHzrbvs88RseHdSNxcoLrDzRacQBJyMx9fKuGPpMre3w22w1bwl4LcdaZevb+7WktuOslKBJEEicyM5k9KqfEfh3QtT8PPa1oS7pDduR7W2eSFCCQMLnpnGff3K7ovgq6dduF67dJQRvDCbUqUATIEj+0xFI+KvFFiNIa0TQ2HmrFSgXXn8rdziR9cVpb4c2MvdubaYtQUfKZUojzdYzV74DaTdeKNNb2lQXcJgHKSJrXmkEvhOTmOP3rePsYsDeeNLJbk72juURjAn+3XvWWE3lHRy3twt/h9YMKSlltAE7fKYORUgUIWJXzwYx9c1lKUNgFIgmYisNeYAxg4gcxXqPk7Umz5AAMAAd6ylhRkjIyYnrAqSGEtNghOTk+lFSmUykHKTHrihCCBuRkRweKklsKQRJKSMDv2ozTO6YxP54ovsQgyIKQeBzVaPZdNqrdCcRkA023bhCANo5xme1SS1JBiY4ptlopVgeYdTS0Nl/ZBWBBnNZNqApMkHB+FWLNqCMxjGO1FU1BgcT2o0FX91AcVODyIFETbpcTu3HmCBVgm1lU4AOZPWjItU7ipKYBPA/erSQRZJJwkCAelFasgEJAyAJz1qzTbAJGAYwcUVNrgEJkAiY60j2ql2u1Q8k9I715Fok/0gjrjmKtjbhJMiJyAOlTbttqQfLPr+lGi2o7nTd6WpBB3p9/NPIsw2eSTnIHzH5047bpWplGPx81YItdo483EUxtXIspIyISJ4pXVLQ/d4SnkgH3TWxItSZgYmPfQdUsgbdKU48yR68yaA1U6eCo55gyBx9fvRPucpAgz0kTNXbdmCTztNSFh5ojcrvVEo125IAgZIHHqP71tLFoSkbYCe8Uo5YIPspj8acx61szVqEoERAEcVPsRWi1SmMUrqtpusXTtHEQffWwi3SSD9daW1W2SbJzdxg/nU2KjVmrEKASE+bkGIqp8a6I/qXhfUbW0S4q6ebLaPZnarzECQekTM+k1uKLWOBnvNFTaiOJgRU6Vtwx/7LdXY1Fko9kr2N2Xf9QSoLefC3krSVpKQBs2xyRAxArrttYhtlCFStQABUeTj5TVz93STxM9Kkm3BJIBkdhVewq2bVIvWABj2nzxWzN2oCcCkraz/AOtZ8o/Fj5VsrdqCkziqkZ1Wt2gMSmT3ogspVjpGasU2wg/tRfuggEYx2p6QqxaD8ISPfWBaAJH6Vbt2p4jNE+5DbkZ6UaJo/iWw3OMxAImJT7q5/wCJmn9K1GwukWzrtohLiXV2tsX3kqMbISkFW0ndJSOQnpNdc8Q2vnZ8pJM8HitE8YeCj4kTarCLS59gVE2eos+1t3JAypM/iEYMGJOM04GseGbXUn7sOajaMNoW0FsqDBbcQCcpXJJn8JIx7sY3vwzp266u1RmEgdozmqPwj4NuNCvHnV21hplkppKE2GmlSmtwJO/KUhJ6QlI+OK3vwzY/9TdwkAkIzHvpWbPasRpiEeIniVqLv3ZICC45AG5Wdp8gyORnviKce02JBGDnir8aS8nUlvbQWS2AFB5RMyf6Igc8zJ4pl2wSqe3upaPbkGo6MfvLkYJWYwOpJrn7viSLo2TTNtc6sm4W05YF8NuIbTPniCYODwAd4zXa72ym6dMH8RAketc1uvEbtjqN+yDpDYbcUpVpqWpqZfCcwuFIUlKSBKRxB5xJei2hpzJ1LSre6QgoDzYdAPIBE9P2rdjp4trYOLBCABuI6DrQrRhGoaYzctoU2h5sKSlQ8yZHBAra7zS0q0twqBCS2Z2rUgxGYKcj3jI6VncTlayLD2qNyR5TkY+VVWraftW2mJiRB91b7aaag2jRSDGwESSZ7c5+eardW0sb0Ep80n9DU9p9zQHNOE8GByKwq02I2QB05q31i/t9FvLRm5StpL+4B7aShBEfiPCQe5gTHE0YMNP3LluJK0gHMxB4IPXg8UrFSqrSWFJaUMDzRA/OrH2SgqO4npVnp2lBKHVbZ83WmHLIHPTvP5VnpTVtVbWbUgAQM5z1qrbQpAGxUg5jnpW2apYTaLiQD+lUhsl7U8mIyDU6aYkk3DiDt3EJ5ijpv3kAAmRxBqt1rW9M0JxDeoXtvaOLkoS8sArA/wBoPPwr2la1Z60x7WxdDqAYJ2kEGeoOR8alfauE3xQoKUJA4I61bpWHjgkdZPSqFTRSJxjtV7aNn7ulUQYoZ2JpQZjcJjJHvoiWiE4MyQePSpbAqVQYmpgABWdo6kc0/KKgBmJgRH1+dTCNxAIispCd0kxGRjpWQRMc44qieTgCOT0HNT2kE+WecfCsAySMkDAomCTGBU0MFIUCBI6TUwDE/wDNDSkHnielEKfKOZ7Uj0iDJBBOTwM+leiCJE9p7YqRHMflWEmEnMmaA1fx/b79IC0gQlQJjiucrWhLSQn8RkQSSJnpXVPFrXtNFfABkQcH1rlTjaUEJUN/lkLImK8vqp+t7XSXeGkLaPapHUdT070xt9kPKCSSPL2+dJWpKngdqin/AHAHj5fUU6gpcGRkRyOa43oxDb7Qp8vmmM4nM/XwphhDbSzmHAMyZJxSXtA24ZERwAPhUnn/AOafIMDFBNksiPauLKsYgnqKt7VZUQmYnJrXbdZ9iTMq7/DtVxZPB0+Y+Ugc8enupxnY2DR3EfeNsfgPIyPdWytOn2Uxn0rU9F825W+STPPuitgRcqW16E/lVys7Frb3Z2oSczjNGRdgXKRIAUeTVVaEqKpkJQOZ+vWjtrSHJI3H8I9Z/wCaeyX77oU2Dx2AFVOqXS0oSERuJ4IEUS4vJ8siJ6fnVJrdypIQUq/qAPp2r3fwyf7Y8n8Qv+muMAENbgogiIIPNfMH2y3Srjxc82R7UNJCQQckmZHw/evp4qIZCgOJBkTXyF45cdvPE+oOyVH2ikjJ4+v1FT1F1JGv4bhvkt+ygs0tK1FsXRLbSl/zFpEKCZ7d8mui2zX2dMNALutSunE8BLaQO8HA+j61p/hTRWNd1uys1uFDTiigqIjZ2/MU+9YK8H+KW2btn/8ADupUpDqSpK0g5JxwYz765cY93Kb8bbKnV/s9tnChOmaldK4lTpicGP8A3BAyOnuqt17X/Crto61pWhv2z6iClx64JAzBxJnk9q3a58NMsu6vrVo0l60ubRSmykg7VqicfE1qH2i2aLDQNDtikIV7IuugR5lEjJEZPIHu9a0ylkZ4WWzy56XENp9oQEAq4Imuq/w/M/ePFi17pShkqVycyOT865WUEKV/VkBQOd0GD+ldv/hy08Lv9TdUDu2JAMcEkz8MUcM/XD6u64cq76sIUsZiCcbhOTzU22k8AnvChxQVpKARJx0Bo5Xt24E/OvQfK0ynyiJJIHJxU0EJhJEROfhSxG8pBBTEmeOtGTGFwcdj8KC0MzhRUDhJyJom4gxuJMdODQQoJBySo9RiszsTOCfQ8VWyPtlKlhsnBEx6061gpHx9/u+VVtq7KTCSSk8fOmwrJUM/vQc8H2vKlJEme2aynOZgRiDSzVwkpMZMxAqftZnvzz9d6qF7OM7VJWkmCMTFHbSjdGCarw8QqTx1inbZwQJgn06Tn96YOtt7QOpPP18KKQYxnPJzSyHQskwRgSKM08ArMAn5UkjIaAORmphoJSZ7zA6V5CkkCTuxRmzOT+vypAFTafbNR+IKx+easWUqKTIgnERSRj7w0BnmfkasGliR1PanC2kGNrkz8qBqDRDSBz5h606lcCSMx1pXU4cDBBKfNOMTg0y2XS0EiDjPFGS1KgTPoaiiEn1Pc0ZtRJzAPSmcobrfs/ZR/vAj4ir5puQExVMQFrbj/wDaD9avkQQCBM9acFqbduIgAgZzSuq282asEkEfDIqyaASkAT3pTWUzYnEK3JweuaVOKxCJCZGfWpqRKo4B696KlPs/Lgn0ooQJHY1nppKClkKP4STmiBnamDRtkGPWKMhG6JA99MbBs2Sq9YJP9ZxHpWxhgHjr1qptG4vmcE5/athS0M9BVRnS4Z83FELGRyfeKYbb570QNgkYqmdBQyDngipBoGmEpAMVNLR7fCg41jxDb/z2vcY+Y/vVMbbf0PNbN4hTDrUgyAf1FVHsiE9eKcibSiWdw4xVl4bYm5uZzATx8aEloHMVb+Gmpfuuw2/vTvhMWX3YQcT6VhVqM4g1Yi3z614sTOCMVDTbn1/aBV27gbdxFJvaei4Un2rSHdhCkhaQYPcTwa2K+tt106Z/qP60sbUnaQD/AJpo8qJ+y3IgjA5ma2lOlpuLANqCti07VbVFKuIwoEEfCkH7VW1SY3RMR1rbbW1P3duROMx7qS55UbWlhlCUJBKUiBuMn5nmq7VbAbmzt69RW4qt8fhPyqr1a2kteWc56UtKaXdaMzcT7VpDg2keYA4PIqt07wlY6KhxNhZotULO5QbGM9AOg9Bit2+5k7vL05oSrMjAGKWiUel6eUpcBTMKzIqjf+zy5KrtTXiDU7QvuKWEMot1JRM8BbSjyZ55rf8ASbEQ8Yxu4FOqspMxianSo0J/Ql2+lBpbpfdQgJLqkgFRA5IHWqZelGAkDkc10jUrAm0dxyKoBYqVAKeBWdjXFyrxP4eL9yopDD632Sz93unFNIWnO4b0pJGCenWqjwJ4WvNIFzaXFqptoKK0FF6LlsEmYkoSsKMyZBHXqa3/AMc+DXtdTahncn2aiVCfKsEZSodQetIeC/CF7od3etu24tbZW32bCIKEc/hUORkYqO1psO405QAT0q6ttPhhIPEYxT9xpciCngGre302bZCo/pHA9KWkWtbXZQCMkdZoRt1TEEd62xWmcED4RS7um5M46QKNM9tbDBATKST+lYDZK4gQRzV+rTyCQASDS7mn7VTHSlobVAQRHrXkiPw8/rTwtiTH50FVqpPPBoGwUESADJxg9K8Mckep70RVvsT+EknrWCkzG04GKnSog5PlHOJFZmEg7j2rJMKgYJ4zzWFAKOJjmkau8QNA6RclasJbUrPSBJNckfUPbK8pChOIyfrNdl1Jn2tg8gp3goMg9orit6r2d0sbSlO6Z4J91ef1U9V6vRXcsTYYTChB8wgfvRnClpuQqCT9dqDvC2cmZxEVC5dVs4G0AGCMTXnvWgRT7ZapwRmDj3GvOqSl5QjPm55P1NLh0uKKiYJUIHQnmsLDiQpJSSVTO3p7h8DQNNgsJCIUDzAnoJp5t4hR2yCRt5g1X6ciLZBwkKAII54plo7VkGTGcUJrcNDcT90QFKElM4+u9Wza+MxH6Vr2muD2DZ/DGAOMVdNO7mgTg09squLZz2VmuZJIE1Fh72twiYwZifr1pFN2fZBExEe+o2ry1XpSRtjInHvP51cLSw1TUkMuttboUr1pTVXA9Zzznca5n9pPi9eka/aDcQ2FjcZHHUVuZuxd6aFhW5pSZ3bsGRyDXtdFezKZPO6vDuwsvy5f4gfFlot49JQA0VGMgQOlfHetPG8u3nVSQpxRnrz3+VfV32iXybbwdevIVG1vAJjOI/avkq8AuHHVoI3E+YEwBS6r3I6fw/HxlTGi2Nzeapbosg596W4A2gAyCMjI90z0FdO8fa/o7dk7pt5at6lrrLYT98YbhLeBKVKnJBkRkT2Mxz7wh4gPhwXb1uyVXj7SmG3ictTGQOhgCtk+z17VFP3LWnaTZ376vOtd01OzIAgmOh4nt61ng7+Sed34V3hXxzq/hlZt7YtPW7h3Ktn0BSDwJAxwOo+NIeOPFJ8VXqbt62Tb7EBr2bZASCDOOvFdG1vxJ4r8PLYRe6XpjAdIS02ljklUT+I1z77RNX1XU9RFnrCLdFxa7m0+xTtAkiRjBzFGfiFx/qy3pq7iUzvQBJE7Zx7q+hf4dmko0XUnVN7dzoQM9gJ//ir56YTuKCpaQs5SlPAz290f4r6c+wm3DXgrcU7faPLVzzHl/aavg+pn191w6dOS3vIV1PTvXmwZC5BE4iokjgnydFA5A99eaUkqI3JnkAZ+uf0ruvh80KkqUE7MSIz76KFbInKedxqCXEtwFIBPQn3R+9RKglfJJTBwZ4pSkKpyV+U+UxmOv0awHJSZIgdaHuWpMjygAJ717KClRMgDImPSqM625tUJmDnGen/FNJfUoBE57VXoRvghUA5GelHC9hO0kEHg+6aCPIfAO1UjPrn1ontUglQVAImRj6/xVah3c4TkdfzorK/aAg4APWPX+1VKhZIdCZ8wxAiczTDb5UomY7Qaq0qSU5A5jmmkvhCYJEDGB8KNhaoeiDM8ZnpTDLs5IzHQVUtuhW7ze6ipuCgSc44HSlslum63jqcTijoeOCIJ6dDiqcP7FjbAIxHXmmW7tTcbsn4UwdNwk3jaZOAYzziKtU3IgQAT24rXdyRqLYGAEqP6VYIfSYn3YplYuUOyAk8nMUrqr+bdMmConuZg0EXG1JOePnSd/dedokyAZEn0NPYkMXGoN2DBcdWlDSeVqMAds0j4d8Y2usJZSqbW4dQFpZdIlQPaMHn3+lVPiW6tnbS3t7hTYTcXCGUtvMe2Sskztg8GAfN05pDSrzwwnUmBa6Qyy+28phu9+4hIC04IS5txmRMwTIE0w6N7TetkAYCwTFWl/qlvpNqu5uHS2ymAYSVEyYAAAJJJIgDJrXG7gpuGOoKwD1pvxKhm/wBIdYdAO5Te0F32fmCgUEK6EKAI9QKIKvXfEem6fqDdlcX7DN47BQw4sJWqSQIB5yD8qPrLo+5iTypP61rtr4TYbC13d7c377q2nF3D607oQrchICUgATPAkyfhZaw+FWqU8ecZ+NFKF9T1/TfD9kq91O/ttNs0wFXF26GkJJwAVHGTQbTxro14LpTOoNLZtUhTzqZUhIM5BHPB4qh8b6PdeItKZtLUtbg8FL9ocABJ9D1IPwrUbXw5q1vYN2uo+G13byFqKntK1JpB2LXuKFJcCQoSAfXoRJkk3NtG/wD2g+Ir7w1pLN5Yg3Kg4W/uiEhS3yUKgCY/CYWcjCTVF4e8fa5e3KEmx9jbqvLdt64vV7S0FhEtpSBClGTA3Y3DGKuPGHie18M27FxcaU9qqyl0f9OlsqabCCp1UrUmU7UyQmSY4Nah4f1TTtX8dIYa8NhKi+XEXatUICA2lvzKYgCQdgAzxM08Z4FuncbKF3tuSIgn9K2JKQCK1iwd33rEHv8ApWxtr8uYJpIplIHwogSB7+lLpcKjFHSodapmMlMkfOiBuADQmzMiaKFR+I0gpPEDf8xoRmDiPUVVhMAYzPyq313DrQ9D76pnrxlhxlpbqUOuE7Ek5VAkx8KqFRfZwAatvC7R+83X+3aiPzqpYuG7lEtrS4AYJQqYjpV34YEv3R/8f3pUL4NHtWS3jj4UZM7cVJSCemalTT7tr/qHOPxn9aElvzGBgHFP3gh92T/Uc0EIgGOaoibrZIVMYHStssmIYQT2rX1tp9koxBiYrbbVv+QjEeUVNOAhiRVZq1smUCYE/tV8EUjqbYHs5H9X7VMNRC3AyBFQXbJPTrzVkGCcEesCsKt8TE1QlKaRZgB5OSN2Jp9VpIwKNo9vPtT1ntTq7aDk/wCKmq9Nf1GzCbN49QnFUBtfKMe81uuoW4VauCJ8pqjTbAACMetKtIo1WRKYoK7IhXHFbD90MRAigrtoUM88mo0vbXHrPcDuHFXNjaTbN46YHNFcs0+zUIk1baba/wDStymDAo0i1TrsQkny89KEqxAPr61sZtcnH+KEqznpFVpDWl2MHAJB9KArTQo8RWzqs8YHyoK7TcJA+dTYGqr0wATHXrSrml7uARHpW3rsweUg4oBsAARGOcUu0NQc0wpxxmlnrPYY61uDljvJxil1acCDI4qe1UrT3bMDPJHSOaAbRRGBittd00AqIx8JpVelqbHftU9p7arcMhLDhI8sdO1cP1Br2d0tDhlW87iPfmvo9/S/5akkTXz54mtw1rdy0fwpWQCeIn/ivO6ufpler0N/VlCclsCTtAG4Rn31X3h3wM7RESM1YvFCFHhOOP8AGKrnFpUd0ELyTXlvZjzSS20TJKiITt+NZYUXVeZQVB47zQXVBe7cDCQeOmT9ZrzRQXgFkbpAkHFAXjNykQAnamPKAasGhvUCFBMnnOKqGXRvRt/q83xn/mrmzJcU2iSSTGDPSgtLywRsQgqODP7x+VWBEqxM9u1Jj+U4kDaEp4/SjIUfaAjORMelLbJZOqAbISoBXvj65qVmo+c8qV1IpV1RWkHbG8Y75j+1MWZOQRySQIiKvH2Hz19u2pqZ1lpMiDk10j7L9eOt+E7UKWXFoT7I4zjFci+3+3KdeLkgqSeCMRTv8PviYpXd2CleUELSmYByRH5fnXt8F1I4eo9I/bPc/d/CbqUKSFFaU7Z4j/gV8yLSsblxhMKVk9eR+Qr6F/iBeS3omnIKoUXTAnsMn4z/AMV89J2pc2oIEjzEpkc1jzZd2Tq6Ka4tuieBTZaJ4U1TU7mxYvXUupbbFwjcCYkjPXKcxTela+5qWg+JNVaZY09RQ20hqzG1CJ5IE+8/Gqm7T93+zKwSlQC3r1bhCsYAI+WfzpnRPDfilvw/e6c3ozwbu3AordBTtSFSCMgZiM1ePhplJd2tvR4cvNZa8KuJa9pbtIS6+4pYwCdxkTJOa5T9oVyL3xXqK1KBHtlDExjEH1roOp+BdfRoWlt2P3j7+WyH0G5CQ2YED8cDtIxI91cr1SyuLG9eYuFIRdNkpc2EETmQSCZ4o5L8K6ebu9k2dhWPJ0BEj67Cvq/7HLUM+B7DeMrSVkA4INfKVv7NTqSncUqUMg9OK+wPs/tzaeD9LbKfZkMJkR1jqPiT8Kvp55rD8SuuPGfy2YJJTtVGQDwakG9igqc8e4UIuBIAIyrqff0qZJBBCyYAxEV1188Igw6AckCD1mpJhKjuUZPBnrNQUMKAO73D0qQCkpgiTgE+vakUiCnUteUn8UD6NRP4YIycgz6iKw4hSSlJCs+nbOT8IqOwyFR17VUuzFZLiNpmSOQRTavK2qPxE9BSLK/NkYiDTUqAO2VfUUvkmBKQNogdpyKmSduIk5j0oaDtBgmcRGJ5rAbAXG6Ige+nKDLDjgxIUlWPQfRoyXiQQUzxif70stZA2gBQP4ePrmjIJkA8x+9UNHUvHJA3EcieaM27IPofoVXpWtSymAMTIPWioUW5Sf6us0tp0bdf3jyKg5PY0Zh5xShMxxmqxCzIKYPoenwphD24AwB360bPUWaXib5MdE47Zinm7noSDzBnmtbQ6TqEBUQgjJ9atQ6SgGRIyIqtlpcpfDhPmnbmPWq/UXodZ2rCTKiE89Kj7YAQDO6RPaktReh63MT+L1ninstJ3tnb6raKYuGw42qCR1EZkHoR3pPSPCNlplylxt66eQ0suobuH1OIQsiCoAmZycmeaYadGORNMIczPEZmq2S5FwDfWgA4cnHuNOa/ojPibT/udw862yXWnVFlwtr8i0qwoGRxyK15u6Uq9tj1KyAfhWzMveYSZzmOKN6GvAFr4H0+3uLZ5N3qbirZwOoQ7qLzqdw4kKUQR6HvVtrb8MNxnzpwREivMOykpMEnrSWu3A9gzPBWOKVuzkJaprtpo1m4/ePOsNEhHtG2HHimeDCEqPxiuS+H1+HrS60n7rqHhvTXW3kOL1lCrhm8vIUCsKQttIKl5B3LVycduvsPbiTAHY9acKy7kmSY3E5xVS6UrfE6dKfDCtS1RrTEuNusNuOvoaJU6goO0qOVAKMAdYrW9C0RpfiSzuWdc07ULdLoaSp3SmDcKcbmUh1CARCEwFenWpfaZoGo6/bNJsdPRqUsXDCm1vpbKC43tCwVGMH41UaZoHt/GNlqWo+HPEA1EXIP31TjBt0oSClKYbelKBgyUkmDPaqnotO56a7/ANcyOcE/lWzNOSAR2rTdOcm/ZmAM468Vs1u9JOc1MRVmhcH1oqF7T3qubfkkg0dDu3kzVIp9CxiiJXkTSSXZGMmjIWFJGaCIa89/OaPMpJ4rUdftLi5u7V+yf+6XqULbS+ptLiEpVtKgpJIJnaIjiK2bXXIfa6wk/tWn+I9DuNY2u2dwi2ukMuMBTqSpJQ5G78JCknyiCDIjg04mm9A8L2egXAubb2e/2Ps3VNtpSXl7iStW3kyfzrefCq4fuciPL+9c28HeHrjQlKU83p1olbaUG10tsoaKhMrJIEk4xAiMlUiOg+FFkXF1kcp/f+9FEbclQPyqZM470slfOamhQg96hcUF8Al12ASdxx8a0hfjS8/1X7tbW+nvNB5bCml3ikXI28n2ewxiSATkFORNbjdqi4eBPKjitFv/AB9oui+IHLZ65t3kIB9vcqumt9qc+UokKCRA7nIMRmria3SwvEalpzdwgFLbqNyQvkSOtbzbAeyQOSBWjs3DS7RKmdqmSmUFGUlPSI6RW62ytzKO8CoyVDIbGIpDVE4ax1qxRik9SBIRHQ0odVwTBmiBJH/jVH4utrvUbFNnZP2zC7g7FC5YccStMZEoUkpP/cZ9xonhXTtW0xt5nUbq2urcEFgtle9A6hRVyOoPOYqrPG0Nh0tG1Tx7q4p4ok+tK6dEu561U32v3rN09ZsW5VfKcHsQ6w57FTeJPtEgiefWelQuXS4vWQLdwjkpNUfsPLzz1q6s3nr3SEO3LKbd9SDvaQsrCVdYJAJHvArXfEupuaBpK7tq3RdLRADanPZhU/8AdCo+VJrDPs4GeaA60JAPIrXtK8e/fHLdFzaJtlXawm2AWVhzHmEwMgjiOD76q/tCstaN8HtMhNp7Im5Cgrzn+nbA6DnnmjR7bi42IIGcTV1p7A+6tH0rR/s9vntStLz7xqKtRebcAUpbfsijyjy7SlJHvKRNdG09oG0bPWKWtJpddtmYoSmCMxA4q2U1I7VBTPajadKg25J4jNDNsMYFW5t4PAihlhPUfCmNKZdrnj8qGq0gQB8auSxHSoKYJHFIKM2Z6ihLswelXi7fHFDXakD40aG1AuzEGYoLliSrj41sBtSTmPhQ12ee3wo0e2tPWJCDgHHavmTx/b+w8XX6YGwOE+7g/Dmvrp2yBScdK+Vvths123jfUkGG0lKF+8Rn9BXB1mP+rb0uhuuXX8NNDpV7QlJV1Ame1L3i1bk+aJ6+kYqbYLSFJAMGD+VJPOJMoOADivBr6GRl5sJaKk/1HJ+dAQhLpkwk4AE/pUXFfyiQqQRjE0BlxUBeT1IB60bFmlqwQHUlJlIO4H0rZtJUPvTZJMASTP51qNu0oKGQFRBzV/pFwGn0kmD0JppbUdynlEBRA6zjpj86Y9qCSd0esenNK2hKhO4FPPwipAKVJ6DqDAPakyW9zdbilKTuG0esdaa09AFuJOYEd6qllDZMnBnAq3skww2cxHXtVT2T54/iI07+el/gQJI69K5r9lWrmw8VgphLawQQDAMnJA79a7h9v2jKudFW6lMlJ/EPdP8AavmnSXF6ZqzDwXtT7USTI68zXq8GXiOHnxuXiNy/iLvt2p6fbhQO1sqIJgTI4rirat6lrJKhHRP13rqP27XYc8VBoA7UISkAjgifzzXMfMysbTtROVA5+uaxt3XpdNP9WLY/CyL7xRd2WkfenLe2tUuOtKCQQ3J3E4g8zmcY4q18PP8AirxPeqsbDVLxexO91xx8hKAFRKiT3kes44r32Wj2Gpak8TlqzdI698elXOjsPv8A2caj/pDS13PtouEMpJUpHoBk8iujH0WdkthbxL4b8UaJpLl65rf3+3CVb1Wz6yEHoM+/vj4Vy+7Wtat61uOFZJkmTukiuo6Xa3nh3wRqz2phyyRehLLFu8NpcVySEnIx1jia5lclT6lZSnMjccwc/wBqjO6bcN9j6cJu20jzHdBIAyOf7V9neHbT7volm0kJhtpKAJ6gDp24r440JpV3qlk00ge2U6lEyRknnHxr7YtG0sWrQAghIE4wIrq6f1Xm/iV32x4JBO4RH51MImCT5vdWU7QYOM8xzWdwJSYJA5TORXQ8F5JkKVtg5B9azCtoBynoCKw2JBCyr4VLt5uBzQcrJXKxMyMjHFZJK3CmRAHTpmgKXKjByOvTmsHKzmBz76coMhAKhJIPu5qIV7MkJxiM9qwFCAqOMT/apKIkEo5jNFS8kT5AkHggn69RUXEqUsDkwBREmFhKTB796wttJkkQSOZxVRfwmp1KWxzPasIdClBRSTHT07UFDZCcgcng000kbzCPLx7qlOxgVpG44PvqSyEFIPTPFQKYWCQCAetY2ABYKgT0k8UEwgk7VJ6jjvmptkoIEk5HNLlUlCTIg8jtNESnosmFGgM26yu/UFZ/l/uenvqyQ6YGc8RFU7bkamo5ACAO3U9askOQDkn1oVo0HscwTxSGo3BRcsjoAczjpRivyT1niq3UXJuGRPCVA5z0p7My1cnaCCCnrThuFpgyYnHY5qqDwSnBGMxR23iVQB5o5PSqlRpaNPE3lokAZO4z/wCJrZ2XpIJOe0TWkt3SEanYjOVqScf9h6z6VsbLoK9ypA6Y5qirYEP7QCPlSWuvn2LUxBcEA1G3uQUiZB7RVbr11KWNypBWABznMGjYh1h8pUUhXlHFONuTwY9CapW3YIIOKbQ+lKZCifQ96i2L0uGnt0U404lMAZM5iqNp/wDqmAcT0FPM3QA/ORTGl1p7u3Umh3BrZGHdvBia07T7idRa4Bgma2RD/EDFXGWSyZd9Y60yh3cOeKq2nJNMpdIBg1p7ZbWTbpEQfjTLTkJNViF7hIo7b0czQCGvrH3ponsevupFC/Njr2oviBzdctAGRtNVyFyTkgTFG01YpISZ9KufDCpduTMA7c/D/itb9sUwRnvNXfhZ2XbvsSk/lQI29pzcSZiihfOelJNuyRmBRPag9aSlDeOlVyokx5jQF2drcyt23acJEStAVInjNeulp9u6JMbic15DkpA9eaYEhFrabGkpbbQmEpSICQBgAdK3mxcBZR3A6VoqlgtqBmD1Amt0s3E+ybjqkUqFmlcDNJamfI3B5VR0rBHalNUUCG579amKqi1201B1tLunlsvthQ9m64UJUCOZAOR7qB4TsNQsi+blu5YbUE/yru8+8qK+qgdyto4xI9wq7Qc4PNFBgGq2nRrTjlwRwarTr95Z3t8n/QdQuWkKn7xbFtSVem0uBU+5MVYaY4CXu+6rNA+NTVQszcqvdMS+thy2UtElp0QpHoR3qm1PT2NS05bN0krZIlSUmCRV/dKhhfuqjvGLi6sVt2t0bN8jyvezC9vvScGpaNC8OMsW11YGxT4h03THVn2PtFsPWr0yrIO9aZzk7eeQaP4z1HVLO/cVb6sLG1S2EFtYaQ3uIJBLixKT/wDIDvTun+BbzT9XavUu6I6sLK3FjSVtOEq/EpKkv7Qo9TtNE8TeJLvTtRNsiwtHbT2fmuH7ghSVwSB7PYQoYAncDng0/dNH7OHr+60NxWoXF5dOF1exy8etXVbJwAq3JSQBjOa6DpyJtG+mK0D7O7u2u7e++76EdDLbxC0llLftCRO6UkzzOe9dD05I+6pjgCKm+yGLc1gok0Y14igi5QZihqazMU3trG2aATLeaj7GDThbBM1j2efSjZaJKZG3vNQLIiI4p5TXxqJagyBQCK2JTjNDXbDmrItj41DZJHpQaqctsE4+VfL/ANvtmGPGa1AQVNIKxnIyB+lfWSmZr5s/iRZ9h4js1E7UqZIyPWuXqpvhydvR+OaOHPAKUD5hPpz2qpuWwp4wkpmYx24q0vEkukAyI5nHEUmw0VrWs5I6+lfOPpYSWgFsIJynoRj65qLSdh2CIAPHvrLsoeURmABn5VMOCFk7vaROE8/XNSsVC0lZMmTBBjrV5oiEqSkgAqnBrX7bcVCVEpEjjjHpWw6YlTSE4wMyKqIra7J2EJ7nkdKZbZSQTMZ6iT8aqLK43tokfhgT3+M1Z2byd4T1j3/XNDL5TWhTz4CSETyDya2NKAltA/2jaczVC4se2CkEyCDkRNX9sre0ncPMRuxTlFah9o+m/fdCukkTKDzwcY/Svi7WU/c7tTZBJDoyOv5V94eIrdL+mPpAAkZxNfFP2oaR/p3iO5S2opE7gQBgmcfka9Dp77jLKbis+2K5Nz4z1RwKO326gkDsIFaKwy9c3zTKAXXHVJSlKRncTx84rYvtAvBe+LNTcKlbU3CwR1JmJx61rSFqRde0b/kqBBSsHrz8+flS9+XXxyzCT+HVvB/g3WdDttSUrS333Lq1UwhKHW5Sop5lSwOvvoWhfZ94w0G4U9ZH7qpSTuh5J69RNc/V4s1WJGqXiinEF5Unp3pdXiHUn1EKvrpc4y6rnPAmt5lGfZnba6B4v8E+LtUtHdT1e9bWm2QVKLr0bUASSB0xn4VzF1IghM+0mBIgfWKaVf3LyEtuOOrCiJ3qJSBHPalLlwruOYkE4M/XurO6t26cMbjNVsfgZkueJtN8gCi4kKEYmZ4r7JCSbZO6VSBjivkn7JGF3XjPS0jML5HOB1FfW6UqQlCpJ7mcKx/xXfwT9LxPxC/rk/hgeXcSokDzcekmookq5x1PpH+KwVlSfwqTnIPUTRW0pLZBwOOa3s08dlxQKSQI+ZIrKCpaDPI5rDvlQRIPoeDn3++poSEAx5h0Pb30iDVvxKTggfCoRMxkAzRFL3mCkkdu5rKV+cgDnrSESQvduJxt+hUzlO3gDihtt7lqURgAiR3MdfnRHAFbZjjgc0yDHlz+IHhVT9skpVIOesVENpiYJx3xya8IWCFFQA4j69aqHGWwd5mYiI7etHQsFMpwI99LhWxYVnPMmaKwonEGe3WmdHBKiSV7VHv0rxwSmYEn8XuyeKipR4gkT8qwHSkEjoYSVUiSwASMEfniopMrExM49a8oeY48o5g1jakbTuiPSkSNu2F6g6kqJSEJzk9T/an0gJSSOOlIWxUb+4O6PKmD15V/inRwMx0oX6T3SjuAMwKp9XVtu0g/i2EiR6jj1q3K9qYSCmcgg1TauvbesgQCWzBPSlREEEklJP8A+dR0uKGecmfr4VXP6mxbLbbecS28+r2bSSrKlQTA74BPuBo/3tPtG2tyUuKBUE7oJA5/UUSi+x0XSm9Y01O3eHXSj/xHs1qn/wD1j41tjTkkRPuP61qVupP+pWZAClJUpU//ABP55rYWriHEngzEnrJq5WdXjbwITI91V2trIbZg5Doz6ZoiFboyARnuKrPEVwbdu2CUkhbsbh0wT+1Fp4w61dzCewEk9qaS7K8HpVCw8A0SrBPfpR2L5pxKSlxJChA8wzSa6bAy7BPUYpxp6IE4mR9fOue+LvGo8EWf3y5Z9paFs/zAsghYEhJEYkTB7jilfDv2ps6ves2bTLlzcOXa7cKYbWUIbTuh0r27SDtEZH4hTkTY61YPH/U2iD5QlRiPd/mtmbdIOBitN0y5KtQaBGNivNPqK2dp8/CrjHJaMunqaZbdyap23QkE/rRU3AAhJM96tmukO8EGjB046kVWtOhUSRIPyphLwUYp7TolrzxFw3GTtP60i27MzwKzrr6U3TSZAJSffSKHDtieaR6iz3lUhOJq58KObX7uT1T+lawlyVT14ir3wi7/ADbzzTlJ/L/BoLWq3MLiihXlP70kl6cUUODb1pmoblyLhzvuPPvrKVk/OlHnSp9z/wAjU0vQr3VSdm1LCUTn41ulm5DKJ7CtBcdAQqSZFbvYubrdsx/SKmxW1shzy8dMUnqrkpaxJmitr8sGlNUUYbicGke2G1jic9qPugR3pJDgkDNHK6ZHNKJPt+nn/ardAxzVLpCvM6P+6rhJ+VRfaohd5YXnpVcyfInOYp+8P/TuZ6VVsSUDMCKVWZJJNU2q+DtM1i+F4+h5FylGwO29y40Y/wDioA+81agbiTJqXTuIqTV+kaKnRQ8EX17doXB23r5e2wI8pOenUmtk0w/9Kg/rVYUyDP5VZaaItUHpFMHeTXqxNZmaZMV6O9Zr0UB4JmvfGvT04rI71IRImsFIiiYrBoAZTNRDc5opPIr0U4AlN4r5y/ieZCNQ0tw//s1j8xX0ka+ff4pWgEaKsA7pcHpGKx5/2sv6dXTXXNi+brgpCSFDdt49Z7VWqWYUUyN2AQeBTN+5KzAEExPPT/j5Ui4sNGInaJMGeRXzD6eAvFZcIAITgE0VSFNbTGZmSKV37ngcDoR3zj9qeUNyR/UAIxSXEWVD2iNwA80DE+tbEw6C3AUDOJH61rzSIca6LJBx1NbBbtJhAkCDJ9fdmgsllZOBPkIgQRuFXultCStMkAHk96oEr2upiJ6A/rWw6evY0SQIUYzzQxpqzt/vVyPX4R9RVygFKSOAkYgUnpCFQok5SOk04sgKIGSoRM/tThbK6ktQtihIMqgDsZNfKn8QWhLtdc9rsASUggDic19VOHepKIOVSRjBH0K4z/ERon3y1LyUkqEAHsa6unv6i1bdR8o6++leq3T8BYW4oyO81Sh8kBPm3K/L6xVjeOIW6olKdy8EDoTOfzqr2oaWN24nBk8kfWK3kdcbja+BWtT8IK1exuDcXTLivb28ElCRwQJzzPb5VqbaVrenbI7KMd+avfCHjO88JambhkhxpSdr9uv8K0zMYjInn9a3kWPgnxi23cN3v/p66chamXyAhOZkHj0OQPStJIxudxvn00fxd4WT4WNgDcqcdubdLyiEgBJVJx6Ajk1rLjG1xQBEcCcj0E10H7WdRtL3xC0izuUXDDLLbba2lhScAHkc/i+daAvapKEok5mfj/xUXxW/HbljLXRfsMBX4ztFSpYQkq2xxic/DNfU4C3EjywSkGJ/avmr7ALdb/i9ShICbdRJnr3/AF/KvpRPtG3EiMDEJwP7V6XF4weB+IXfNr+E1yEGJzPX5A15ElBBTEwOeKioqHmiSMyaMtZ2pI/FEKmtPby0EwpYS5IScYosj2ZSD5iOv16V5ElMRKozUHCogR5Y5IxQTCp3cgQeIisJJUqZTtA7cT/xXioK5Jnue1RGwbiDE+vWkYgXCiSTn05qaiYCYwcAkcYM1BlQVEJxUiAogE84xTJNBhGSDiPhUCgIVJJxyOleCiltAEbj1PvrLgkiOh5iqhxjaSMEAg9ffRkyDIx0599CEtqOQesUVkBRMqBIyB8KKdHELR37xWVn8RA5OY4oTWVEkyB0qcbAQgETxApJAdKgqQcAfhqbKCogmDJHNeJ2EDmehrKQN4kjdj0inaYdsopvX/LlO2BHoev1xTbatwVzE8djSNmom9uhtATtQAoHnB/xVk3kxPm6iaRIrEAEjrPuqo1L/wDuCJGQ2TjHUY/KrZa5/EYEZzVLqedRQSZAan8xSpzw1zxdYOXVzpr9m4q2umHlw8GfatpSpBCt43JxEQQZnb3pfRfCT1nfWNxc6yrUWbYqdbSplKVe0UCFErB/D5lEAAR1JiieMNBuNb+4qYQxdItXVOrs7pxSG3gUkAEgHiQcg/nSPhvw9eWOstXDVjZ6LZtpX7W3tHtwdJACfKEgCOZ5xxQtutkI1NgSdp3YnjFC8b+1FhZPMKQtxm8acS0877NDqgrCSqDGSCOkgTip2qiNTt1BXO6T8P8AFe8WfflW1g9aIedSxeNPPssEBx1tMkpTMDJ2yJyAR1ojOldOtPFz97ZnUDaMsJvfvKls3JUWmthHsNobSFmeSTGSegrY/Eb3tE24mAHRkH0P961PS3vE1zrTd6TcMaY7eexFi+w2ClgND+YTO4Eu7upxGK2PxAshFsEn+vj4GnVY+1L4p1e0tNCuG7m6XbJuG1MJWhClQpST/tBj3+6tR8Ka14L03U7S2S1orFzbW7ShfhIbK3jIUEKIEnAP/wAhW2a/dXlr4d1K4s2t901bOKZQEbjvCTtx1kgYrS/DHiq/vNfRaXWru3Dfs21j71oxty6vO9AJSmIgZiYV6QE23403fxs34eu12idevmbLcHEW6X3UoClqATKZH4hOO01Q+EzpA8UfcLXXYdF+9cGxt7BSUr2lSUhTpTJ2jBztxjmn/Gnh25159DjDTSgLG4t0hwiA4st7Tx2Cgf8ANV3hGwvtO8YIP3DW0oSV7lO3du5apStSif6UqAkTCSTjPaql8Jsdr0p+NRaBONh93StpQ7uTJlM9K0fSrr/7m3/t2KP6D+/zra23xCSMmYNXK58oskOkAgTRG3fMCcRVc1dHYTM++iMuhR3GIq9s9rtpwgzIjoaaDmcGDGaq2XfKntjgU17TAoGiHiB1P3lkzkA5qtF4kLSjdCjwOtE8QuhNw1iPLP51o3iJu+c1q0f0t+3RclhxlQukr2pSSklQUkGCI/CYmeRFVPKa6Ch2RM5/Srzwov8AnXpJg7kx8q5v4Ys9UYvHHtQuGHUhhttJZ3fzFAqKlqB4ORgfM1v3hRwLcu1TncPjikG5tubeSDRg5IwcVXJczHbpTIdAEDAGYoORRXDn/UOGTlRFZS4DGTNJXT3/AFDmc7uB761hv7Q9PZfct7m4YYukqc/le0AKEpOCufwyMycetVEVu6nAUKMxPWt3sFkMo9QK5np+pJ1TTGbkAoQ8ncJPAPE10Syc/lI4GBRTi4Q4B76S1N2FtAZk0VtcildScALYIxNSbDSjuk8CmAuRk81Xi7aQoIU4kKVO1JOT7qYQ4DIEGO3SqC10hclwdN1WyFcY5qk0hU+1MwZq3Q4CO9RVR67Ufu6/celVjZlsT+VWF24Bbu56Hiqxoy2KlcNJXEmpByT0pcqKQAeKr9R8RWelult9RQsJ3RBzSWuRwYjirPTf/wAKiO1a5p2sW+ohf3d1LhSATtMxNbBpRP3RBOTmhJ6O1ZOBWBXuaCSg15JM1kHvWYpBHk1kGvExXpoD3Wax76l0rEZoDw91Z2++vCvA9KA8qM4rgv8AFQkI0TS3iJKXVJHxFd6MZriH8UjId8J2KlcJuOO/lP18Kz5fPHl/VdHBf9uP9vkxJChCgSiZigXqC0yF/hK1Tt6iJptaC2doRyZmcUpe3JU+G4A25wfy/Svl6+rhZq2ClAwZ9/JqYPsyic4wY4MUVgFMrgHrQXlErJ6HoKlRtlW5xsEp39M54q8Q6lxwJMGD88VrNolRvAUDfKogjgA9vnV+wgBWSCo599NFqwZO59sdY6/Cr1pfsm0IWrzkcetU2ktqURiZEFXaru5V7F1vcABIwOnbFCG0aMwCgq4AHGP1qS0gXRBJjkRXtLSfuwJEHnFTca8244E9px2pxnWBbhToVzAkjvmtK+1jS2tT8PXKQiVFMAg/nW8hW1ClEgAiJ+NVfie1bc0Z4KSlQUkgg8RFbYXXlWP1SvzgvCpt5Y3KKMcc88fnV34W8D3HjFbyWH2LcNQVrfUUg89ADVZdt+3IKEpUQYOIJ9auPCngrUfFtxcGw9ihthIKi+vYJPbB6D05rvxm/DW5ajYP/ou+gebWNNRMyVvfmMZ5qKvscBj/APKHS0rHA9rEGZ7zRdM+zV2y8TWWn6kttdu824v/AKd0kjaCc8R3+FXek6V4Jvk6t7PT71CNPRucCnYCx6Qeee1b9s+zlyzy37aH4t8DI8KstOp1G11FbiylQt3N3s4zJE8Y/WtSaZI37pTsEgjgxn962Dxjd6RcXUaJaP27ARBDzpWd0mTknBEYHatdZUpK5AxkwTH1mcVy5eK7+PfbNuy/w4IB8RXrhV5UsgzHBKv8fU5+iAfakRBMSRE1wL+HCzKr3VXTgBtKQYjkkx+dd8SpYCVQRuGTOa9Lj+iPm+u889EKExGEkD+nivEBKQkcHrziooWPLBCiMd5qYXmAZnGeK0eeykgjcFAE84qGMEHPMAcVkrSnAEgdR15rMFRBxgcGgBzuATBgAmst+VUwPNABA4ryo3mBkGMCs7sCcx2EEUGm2o+yICYjrWVgqSVDIjgfnWAvAyYP+a8mElWfefSgkApTiozAjpU1jaCYgkdOpqOwJ2icmIIoijO1KomeSP2oCIaUrzH3wT9etGQASmSCCJ/vSOoanZ6PZuu3TzVvbtpK1uOHbtHvNL6B4q0vxKl1Wm3zdyGVAOIBIUmeCpJyARkEjIz1phcuQDKYAmMda8vzbCiEmTgjNeHkglIImIislwoSofCgAuI3KJ6jgjg1lifaSoyeAO9R2oWSBiOM1NOBJiSetGgjZp3Xd0TAI25HU80+gSkGc9wZqo01RD91gHzCfkKs0cEyDJifdSDzsKxuIEcjGao9RJVejOA3HHNXikhRJIGRORVFqSUjUgMABvk8jNFOI7uVdeIqbZSCJH5VE+aYAzgTyKnkiSeKRpW6knUbYiNxSvHXpOPhV0lJCgQD7iPr0qmtiEana8GUqAx3ir9uAoDk8x1FOFRAAIEYiMVR+I1FKrfnLgED3GrsLxgCDx2qk8Rr/wDwoIg+0k/I/wBqKePtTarorGtBhu5U+lDS9yTb3DjJmDyUKBPPBxSbPga1tX21talrLaUKCg2rVH1IV6ELUQR6VdNJJV5lk8/X5CiLEwDnPxrPbp00f7R9eutIvrRtnUnrBoWzzqQ3EPOBTaUoMgz+M4pPwx/rFx4ms7i21O2Tof3i4Um2Xch1xKSU5VC5ySspTHlAzzjoNxYWt4R94tm30pIgOICqFbeGNFtLlu9b0qzavUncH0sJDkxH4onj1qpU2Ns0h8f6i3uyNh5+GK2lDhUT5iMc9a0zSVJc1RsT5ghRjtWztrAMk/vWsc+UWSFgD0niitPhKUicTSCH4JyY7Vlt8Hb1zmtIwq+YfJAM59BTQdwJVVQw5BTTftphP7UbEVniVwqumpMgI4+NaH4t0W61K6s30/ermybC0vWdreLtVKUdpSrckpKogjaVAeaegrcPEl0Dctg48uSffVc3cBKdv9JyOe9XKV8kPAtne6aq4S4zd2mnwktW99c/eHArqQoqUQIjBUeOnXpPhFxQXeEgBIcG0zyNqc/OR8K1G2fiATIg1snhVw77qTjcn9KVo03FLpySflTCXikETMxVe28nicnijodxPWgelE+/uuHgSMKPFakjXrSytVOu2qtTdeunEexT7JTpgk8KKZAA4JJAgZrYn1y+vBHmpJGiad9+Xe/c2BdKBSp7YN8HnPwHypxF9re1v277T27hobW1pCoIggV0azUPYog9K5qgNs2+xACUTEDoK36xf/koP/aMUhFwhyJpTVHEj2Rnk1JpcjmffSuqnytCY81C1Nr9o/cuWptLgW1yklKXFte0RBGZEj5zTXh7StQsXnXb69bu1FISgoZLZ2j/AHeYyfURVV4l0ZzXGmUpbtroNq3G2vN3sXe26O3QwY7Ux4P0V/RxcldrZ6c04Rts7B1S2UmSSoSlIBM9Ej1q/hPy3XSFlKnjOCeKQc1PWbS+uGrbT1ag0HN5cS+gQkj8CQVA7uucevZrSFz7UAZ3VX3dzrTd2/Z2du40867ubvSylxlCI6jcDPSKWjbBaKuFaWDdjY+UeZJIJB9YxVde3zFlpzrr77dqyhJ3POrCEp9SokAU7Zu3R0j/AK3abkI85QnaCe4EmPdNIukG0dOwOeUkJIkH0qGk9NY8LOWB1FttOt3d1dJRvU3/AKmbhlUmIgqI+A9Kn498H23iZbT93c7BaoKmkh4tFHMq3JIMGY5jFap4X1FrUfFttZ3jHh/e0CtIXoLlvcb84Q4pUSAOQPlWw+N/DKtS1E3w0z7+62kIR7IN+12/1BJWQB8SKfqn7g/2YWDFsxdGyOlG03JSlWl3n3krUEgFTqtoO/A5Kj611LSVzaI9a5b9mYfYsLlLjF2wPabh98sm7dZPX/21qCvfjjrzXT9JM2aI6VOXsosQc4qUihjntUwZ5qTSBnFSBxURisikGfSvTGKjOZ61maA9M1knivHFYJmgMg4rwzWKkAQDxTDxHeuMfxNthXgu2WcBFyCZMf0kfvXZ/wBK5H/Eq2VeA5SJh9E+lRl9N/qt+H9zH+3yC6pa7gpkkA1XOOH2yyU8QOc04y6G3HHFH8MlIAz6Ugr+YgogK+v8V8rX1sYTc7t3J9YmYoaVEoAUQScDtxRGWwG1LKSCQE55oKEyoAQcAz7/APmkZrRxN2STIBKt3x99XbC07lKiFT07fQqo05pDRcV1nykj+9W1sCRJnZM+6hnYvdH2tOLkkenFWjZ9vcmRtRJ61T2wIMnIMme1WFpcbntoiZ4HU0ktyskbbduD0EU5tIbXPaM0gwoo2DlMAAEdR9Cm1SSkEmBkiqjNhTUNlMbvNEfXvpTU2Au2LKVGVAyPhTweBAECTn30neLG85Uk9qvZx+bCwkkL2kRncDn65rd/DiVaf9n+uPpV7MuuttgjpEH9/wAxWlPFJUpO0yFeZI/t3rcLe8YR9nlxal5PtlXYcUzIDm3ZGRzE9uwr0sPCssfgP7MtZt9N8Rre1G8FtblhxHtHSQlJMR7sA5rctMT4Q03TdTtP/UjLqtQGxS287RBOIx1+prXNP0HwUu1aN54ieZfUkbmksKwqMwqMwauNS8BeCdKsrG9vNeuWrW5AcaW0jd7RP/xScGO3xrbeozy7bl7rm3irTrHTtVWxp159/ZgH2xRsgnvk1SFZSRtUQVDMK+P61sXjK10a21ZKNIul3jPs9q3Xk7SFTkQAMQR061r5cSnaJCYgkg8/UVyX278JvGO9fw6BX3bVXSmQFoTPuE/v+VdrlSwO4jp+dci/h3aNtoN6+oqG9/OfxEDk/OuutrhR3e7P19TXq4fRHy3V3fNkyEkOiBg9/fUiBM8GI4qKXSDMx2jtREqKk7jIJnnmatxsyCMDhMYxFQkneQjMROcipqIUnGP6p+NY37iJ5NABJDeDz09BWCfIMGSeZxFTUCfLkAYiJrKtqRsHPMmkYjckAEdjzxXgjucExE1KVAcmQBOeKwudqEiFGfdFNKJQpO3zHtjpXiny/iBA/KpqMqSkkcczUFJlsd43CaZtItrHT9b1zVXr4PXt1pj2xpq82+zaGxKtzSRjr+JUqkHMYrWrnxj4f11GnP3LN9pmuLYBFzpjSnFMFS4SkrA2qSS3+FWCOlN6vpt94l8Y6ld6RenSmtPbVaP3LbYc+9LIn2akq8pCZSZg5URIrSfDGsafpTWlNaheNW6nRpbn85YRvQFukq7RuIPpTkKvo3TytOnWwdfNy77JO54oDZWYknb/AE+7pRVkezUAmR1BoaJ9mnz7xHI6ijK/EAQVTgQeaQYLaEDI4MCOtBKAoeXAmD76KmVp2ntIFYbSoEFIjaelPZlbJG1987uoBx6AxVqDuBPpg9qQs24uLoDcQVgxMx5QDTjZA3pkg+tTBYwop3lJlUyDxmqDU8agBBACQBPPNXxUAmOCKotScUq+kZJbByOM0UREoUnM5n30VCt0mYEwRUAswSUzmeRUxM4wOalSNulR1RhKf9qoHyzV8gllSeCojjtFUdsf/u9vB/pV8OPr4CrpCoEGROJBqoimmkhSCT26fX1FUniKWjZju5E8k+Un+9XYgACcCqTxIkKdszughwqHp5T/AHNFVj7LoVtVMyD61kT7RKiRk8dhUEjdmQRx06V5SzIUUkoHesnXBgpRVkyD/TPrRyrahIMHtPWlgSAVEge+iM9BOB37UQrD+kuJGopKVAEoPl7cVszbwgYzzNarpONURBG3YfnNbI2sTn6FbYubM37c9cURLyVAQnaZ5FIBwqJI6VNLvlOTB5rRiuWLklA6K6iKaDm4iYgjFVds9CYxnFMpf2J5Pw60FpU+Il7bxOAfJ26VWtLKjOJ+s014ieH3pAJ5Rx3zVcy+CcY7xzVSps0tmrhSQgGZ71svhG43puoBlKwM+4VqLS9qEkKiMe+th8GuFX3swUytMfKqEbs29uAmBECKZD2I4iq1DuTJiPzphK8EnmOKkWKNayXnCVbQVEJqaXAnBOTSTlxucVBJ80CKy06UqlXTpVJWClGCAeek1vNq+fYomZAFc9L5hITkSBFbxbOy02YzAoEXbT3A4oGqrwz1IM1Bh0qgRJoWqGPYmepoFEZOcx7qeQsJFVbCyTnFOhXlwJEUbC00dw7nJwN2KvEK4np3rXNFUkl3Eear5Cox0p02bxU2zkdjVFeae1qlmbd8upQvksPLZWPcpBBHwNXN4om1cjJA6VWsGUgmpaYqmz8G21jcNvM6lrflUFFp7Vrh5Co6KStagRWteO/EX+l64lh7W0WLK2khNm6+2ylwyfNuUJEGODGMiuhhVCeaQ7IWhKgeQoTNLf3Vrw1j7PrjUH03333VbTUwFj2arVYUUpjhXmOee3urpmkn/okVq1rY21kpamLZlhSvxKbbCd3vgZrZ9IJNm2fSlU60sU1lJxmoAz1qY491KgRJkV4Y6VEHipA0gzu9KyCKwM14YNASHvr0gVgT3rMR1oD1eAwZrIMCsTigPAwDXKv4jkhf2ePlX4Q6iZ45rqoxXMf4iGg99nF8kxG5P60r6rXi/cx/t8XrYSljfjGT65/zSm0FtSxBHu+utWF+2E2iEgYJM+vrSDCkqBTxOAenWfdXyd9vrp6ZeT7O0R/3SQYOM0ENhKQuIITODimblBKiAYTzHPpWBHsVyZjuPrpSGxrVIVbJwTKZPAiasbZXGMwCaTKAUBMGJz0+uacYUlwKKSd0DihK1th5TEqKRt+dWemgC9G6ZUMKHHSquycV7JsT5TyDjH/FXGkp9vcOLOCkwoe4f3oQ2e0KFLSIwIAMZnn9qffAa2kds0hYDYpMAwI5+vfT76nFKRGSVgE/P/FVERAq3bUgTjOKQ1AFTahEycGn1FalHMRmkLwEvI7Igj30WrfnC8AlYLiCsGTAPPu+YqRJ2FAwkifo/CpXIUlKSgYGT0BHPbPArcvs/wBNtLmw165u2A/93siUBQJ2KM5A78RXq4zdb5WY+WiPn2a0hMYx6Ae+p3mt3eos29s84pxm3AS0OiRMkDtW1J8ELvvCSNUt23Xrovqb9k2NwCAOcZmevEUHQ/s2vL558XrLmnIQwp0LcbzIEgAcxH6+tVcaUzx9/ZqAWt1SF8zwe/0KwluQsxuSAcp5P1xRdu13ZlG0QOMc/wCKgohwfgKkpHB4+sVzuuR9Ifw+te18HOrLYQDcriDIInBrqYwhsBIHEpiO0fpXOPsFZW34HbSQQFOrUAIjmuhGQsEA+sCPdXsYfRHx3U/vZf2MlWFJ2x3jFTS0CUgCARwke+opQTEwZipKmAodJ4puaR6QlPGM8CsbilJJThKeSKkAVJB53HHWhqAUUiJxzQLEk7V5jkcHJFSbCcmJ4EkUuJZM5juTxWRKlCCTPqaWyHDZgmcASkVk/hTBODMmsI3BAgYB6/XrWH3ChIO2J4gUyTk4PJ7RzUHnNqQSCQBzPWvBSluQeBmPl9fCoXKlSkdMUG5vffaOxo2q3Omam0zbRer9qAgyq2U0VpdAGSStKkk90niq3QvG+kaD4QXb3Llq9e2i7hu0s7mAVtJuFoQhJIzhPr360n4m8Dal4v8AEi9TuWXLVa33bFsLTAaYShRDhEAnevgyRERzSmjsv6foF6u00nU39RvLl4i8Ybcet0q+8uAgCSEkAAkhI5Gao472yEqaz7yRwaIMEbVQCZk0NhMBKZOBGcn8qMkQFKIJGYBz0pJBcTtVKQZjIqbQMRG4/wC3uPo/lUFAwB0P6VluMblGeIOKAHp5V7a6MGfacD3CnkJKjBQJ6++kbJKVvXKkkyXAZAGDAFOoSW4HHrSh2sKSCSCnaAcVSai3GoEBO4hscEYz1/KrxxRJgSRzuite1BSDqZESlSAoQeDJooiSFlIEknaJIicVOQBEAdK1bxB4jvtH1+wtrfTXtQt7hl1bgtwnekpKNp3KISB5iMntRdJ8R3upasbZeiXVlapbKjcXRR5VggBACSqcEmZH4eM0tG2K1bA1ZhRJPkVjtxWwMo2K6mDWvWRUNaaKEEpDaie3Kf7UTxF4rs/C7tiu7KktXb/sNzaSradqlSQJJ/CeKqRPtsp3bRjA4qi8RnzWuR+Mn8jQtO8e6RquoMWVpdF+4eCilIaUNoAnMjFS8SwHrUERKiPyNFXjPJdCUpQSInvzXiVFJHJkj41q/i/xuPCSbP8A6Fd4blZQAhYTsgAlRn9OtVNp9pL7q0N3lqi1ubq5aRZM7iQ60pQBVuiCoZJwOgzmstbby6dCbKtsFMxTAUAeZBrVfE3jO38IpYVeNn2L4UA4I/EI8o9YJPuBpbSftG0/Vb63sk//AIt24dt/ZIMxsKgTOJyk8USH3RvWmgDU0nk7Fe7kVfJVJV2NUGmLJ1IEJk+zVOKvwRsPEd+1axz5ioVsBniDmvNrCwAZ+eKDxuHX0qSCAcdPzq2Gj6HIEcGjId2pMgGq5pRJnj0pgrnn4UBT+I3yq8QTP4cDpyarmXtqicmfWmvEO37whRiQnJ69cVVe1TMSAeaqU12h6UpgHER6Vsng58eyuAMkuTPpArS0ODbBMiOT1FbN4LcCW7kgkSsRPuoDeGngckY70x7SRAmYqsYVHOY60z7WGyQR8aWy0pXHJdVMpyeT60RDkgcielVr70OrVn8WaK3cFQAxJyauIs0sS6QlIA5I+Oa3u0c3NIPGBXN/bKXtA4kGR763m1eIbSBI8ommUbBaLOYn30DVHzvaET1zQ7Z0Qmg6koH2ZJODQB2XSVDBBp9lflyozHWqi3WCRE+6nkucAHiq0mLjR1AF2J/FzWwMOEgGJrWdCVKXePxTV+0YBilVQS9Vtt3D6VXsKHsxmmrxw/dXJA4quYUAkfOKitofScVIZOaXS4Fe41n2gScGPfQ0MFIgc1e6Sf8Ao2xxWuoXI71f6QZtEccUmd9rFJiig4npQYkZqSelCRZiKzuzUJ3Gsp5qQICakBUQBFSJig3kq4rIqM9akD6UBmsTAr0wK9QGYrm/2+D/APp1qBMwnary8/irpAMA1oH23I9p9neqiSIQDjnnpS+GnH9c/t8S6or2jyQJwMHnOaQcRsSJncewot+2oXaoJUd0H3VJprZvVMpA68zXyVfXoOLMScGPyqNq2pwbFHEznNRdMJV/SOJPv606xbj2e8/hjIHekBAN7yU43ATHT3UxbILqNgAMzB91JKcBJ4ziO1P6cmVN9jyFYkdadSsrYqbDaSJiJzAq40I+2bCt0hQ3SRBgn+1Ul0tCc7tqpx+1bJozYISoR9RSRY2C1cAWUkiYmDT9uT7QgH+nANV9qraHFA5MiQasdMSHGXHCMHgd/qapCLyiEEjiaUQibwrBBgcR9d6cuj7NqIjM54pS1SQVkwARBHb6mkqV+b90lY2g5KTEjqfqa37wIEp8IeK390KFslISVADrH7n5Vo1ydqZ/HmZA4M/XyrffDACfs18RvAbVOrS1uEkbRtMY6+Yj4+6vZwbcnmGRrmo+F/sw0i4018Wzty86CsoCiAFERBHYH5j3ULwP4g1LW2dbf1K5VcrYs1EKWlKds46AVaK8W6X4d8BaC1eaQzqwcCyUOxKM5gmYkjNJad4r0PUdN8QuWNk1oiTaFstJcBDhndIGOuMf7TgVrb/LmmO5fHz7/wC7kThKHSRIVzM/DisezSUbgnnj0o61oU5wIgnvAmhokuCBtEj8P19RXI9fxp9RfYsgteBrEwAVKUemM1v5c2KgwVbgZrS/snZCfAelH/cjcccZ6VuBA2gmZjEnmvXnjGPiufzy5X+RUqhKZP8AaaJG4AQSD1Bnp3pRBhYE/wCKLCypMwffS2xiRUSZHxr20iQDEV4kEwUnn8ozUHiUFWDB9aZVgNblbisxtnaOtYaQcdJ61kOBUKhRHumsocnieevuoIYJCWzJHp6/nXiAUH39Kw2pKwCIIOBnrWXCFDEj1oJ4ApgT7+3SolAUoyY61JRAVED4msuKShslIjHSmFH4k8VaR4SaYd1a/ZsWnFbG1PHBVzH12pTQvtG8K6rcsWWmatZPXLk+yt2nBuPJMDnoflWr+K/GGmt+LdJef+9ITprjntUmwfcB3tEApKUFJgkcK70gz9pmia9cWj+orXpNxp+ouOtoXZPbnW07ktnKZBKSCfUcDFGjjsIVtAmB8ciihY4kH1GaAVFSQCIJzWQU75T170Egpf8AMKo+f50Vsp9ok9snNQVIB8m4TgDrXk8gJTk+nSno/Yenrh+5wBC8Ae6n0qkjMgg9fnVfp0JevCRj22M4/Cn5VYJ2iIIIHHpS1oMPeVOMGIgmqC+KE6gZ2ztGfif81fPHcUgncZgz2rX79I/1UhMK8oIzGZNKiNd8aeIGPDVirUHHYeZSpbVqHw394O2IyDPPajeHfGth4kfdtW1oZ1NgS9ZOLBWkcbhH4kf9wxT+p6ZY62wpq+t27hsj8DgkD+3FesNC03THi/a2Fsw6obS6yylCiO0gcYqp6Fp6yJb1VpRggtqSdp4yKZ8RbWbdq7K0t/dF+3JLe8kJSd23sSkqE+tK2cnV2SIA9kvE+qY/erDWtCtPEtk5Y3rZdt3B5khRSfmPfThfLPhjxNp/ia2L1i6StCUlxlxJQ63PG5JEieh4PSseIzuctMf1nA91KaN9neh6DqjGoWlu4Lxlr2CHXLhZO2ODJg8DkUx4kOx60wTCycH0Iqa0x9tM8b+HrXXbRtV9crsmrVC1KeTt8oKcmVAjEdu9ap4fuUPL0uxttfuHLcAOWzWoaNs9qkQdyHVpEnPIz271uvin7w7pira20g6wHwpl5r7wlmEEQTnntAzzWn6bp2rJ1fTxf6Tr71vbL3Mpu7lhxppQG0FSkncqBPM9+9Sutg8YeEbTxcGGb+6IaaSVIt8Eb5H8wz2Ejt5jVD4S0mz0/wATptbLWdIIZuXbp2xtW/56h5glKlbgISFDEYg++ofapoOqajdsmy0968aRZPJUG3yz5itMCR+KRPlOD6VPwqxat+INPaKtULLKnVsNPaQ60lC1jzbnSkCJnBjJp/CXW9NXt1RJ6FtQz8K2FCtyIEYzWs6YSdTBJ8vslQfiK2ZjBMjMZpxGSZI82PSTWE+Zac7Z614eaBwBmTUEACrZGmzEkfOaKFAGCRS6dxAIHpRdwBg8nFB6a54kdUi5SU8RG39/zrQ9ZevWtSCrVKbhbrKkpbLuzaZyqf8AHSt58SEi7QEmAU8RNc+8R/emrxlY++Cy9moKVYI3uhUzkQTGBx+nBPZVc+FtP1DTgpF3eKuUFCcrXu80eaJA9flXSPBTyVWz45HtDkn0rl/hK7u3kutvi5UwlQDbt2jY4sR25jPUA84ro3g9wlm6Bx/Mx8hTt+DjdkPBJAJzRg6DOeneq5D4I9aKVhCec9c1OwolvbVncrG4kntWqXP2j2em626y+tItG4SVeYrB6yAOKvX7nDgmNuZFa014lttMsWn1WLlxcPqVLKCguJAPWSBgGeeDWsZ1v1tcJcS2tJBSSImt7t3TCZBiBXNrK7TcNMup4VB2iuhWzoKWwcEJE0yi7tXP6Yx0qGoqG5pJM88Gh2zqeBk0LUH5cbHHv5oETZvWmng2VD2hTIHerBm4Q5uSlQJHMHvWl67pem3z9vcaky24y1KStxcBAPxFXWgaLpektuOaayhlL0FakKJ3QMZJPSql0Vjb9CXhz0Vmr1pwQQFD51rWiuQFgcTSbPhhx1+7U3rWp2ReWpRQ0pASJ6pCkml7JuF4sm2XwccTSTLg2iVAdiTFe9kLXTvZe0U5sRt3rMqV6mtT8d6c5rPhxds3bG83KSoMpjzRkckDmD8KltK25rULdxakpebUUHaoBYkHsaO4tI8xUlIHMmuT+GLC4tHtNZe03WdOWFy7uYSthxQHJWFEjHWM8c1Y+PtP1l3UUPaYoNMBo+33pUoKVjaccRmjXnStultqkYgjuK2DRz/0SCOlct+zp9161uS8/eXLiVBKnru2UxuO0TsCkiU9jn311HR1D7k2SIkUqn2s0qmiAwKAlXPvokxikkQH86nMetCCoiphXQ0ARKsVkmRUUiIqQGalSSc1mawJFeg0Bkda9PNZxg1igPKVWhfbWSPs51ghO8panaOua301of20oK/s31oDB9iY984/OheH1R8RuIJfWpI3See3pQyyotLVu8swZ/KrFbBgqH4jnBqN1aKasxyFdRXyVfXqVaRsnBlUmOgqxZgseUf1RPb6/ahG3UpwQmYBOOuKeNkUoQCd0g5pCk8nkkqXHUQcD/FWNmCgpVEg5B70qm0UVjECIkYjFWdrbqSkEnyxPGffQGH7cXHkGDIBIJjmtu09n2Fs3BhcSSTWs2yfaqACTBVBA/Wtqt0EpHBHHqKmIqwQsIYJ43YxV9ao2WbaeD1j1rXVKV/KTE54itlZVvKUgcU06L3SJhPJSmCaXZJAUImDEE8etWDykpWVK4HM0JVsUpCuhyBNBafmjdg7k5BB6TW7/ZjYq1+11DSr27XaaUofeHi0BuJSAJkjiIx6e+tLclSgE8JE8ZiK3b7Pb9rT0a2l91Fupy1V7NLhCd8n8Ink4OPQ17XG05L+jws7jwH4Y1DQ9Qu9J1i4vV2bRdO9IABOQCPga1DSPCbV14Q1TVVLWH7MpQhAgCTGST9YraPswcNpYa6l+wcvrEtgvBpaQQADOSRPpBntQfEnjfQl+GrrSdH0d2wVdLStRWoEYIz+ImcRGP1qsta2yxyzmXb78xypRWtSZlScmenOOffUkIUtYO5JOPKaI6g7yJ3SRBSeflWGWShaCVztPP5Z+Nc8nl6kr67+zZgN+BtISoDd7AFQGIya2NLWxaRBWAOD+9UX2eJW14L0NsqC1C0blwf1eUSfTMn41dKWd4MkiMTXr/EfE8l3nl/aRMuAx1mKLCSkZIMfKhocBAB/EelZWeBEjv1qflmkQCmJ3GckA0J07hIMcwIiiJWQlRgAjv1xXtiCJMATAnpVEWIUhsiZPI+dTS2QUxBTPTvREshSlEjjp8qwElJUAFT0pBNPlSSBniCOKm0rzHtOTQwSrBOZ60RKQOOQcUyeUDIM+8UNxAWNij5SIx0oy8gCYI6j4UFQUFecwImYoDl/i/S7TSNWZYtNQ8TXWq3hcda0/TL8gbQqVqlR2oQCQM9wBSmm292xqNpYapqPjHw8q5UEW7tzesPW7iuiN6ArarHComcemw+KG7DV9StbvT/EtrpOtWe9tLu5t5KkEp3tuNkicpHUEEVCx0e/1TULF/xD4lsL+2tX0vs21jbey3uJMpUpRWomDBgdhVT0p0FlBQhCSokgAblc1PbKiYwZkc14LAT1V61IghBMgkmfdREhpVJIgA8EGpbdyiJA7x+lDQofi5PMzRkxChz6VSiumqCnboTkOif/AM1J/SrEeUmJ7561WaWk+11AnzE3GMdm0f2qyTIjigqg4dqSo5PaqO+SPv6hkeRIke81fKShUk4HFUWoojVFZKpSke4Sf71nSQIG6ZKYnHWplQASVwAfX86gF8zHPB5NFlJAOT2phG2hzV7YgYLSzn4VsDXlIIOTnitftVKGqshLYjYrMz1HNbAn+XuAIAHpVnTA8ysdADVD4kMv2hODvP6GrtMLSCRJ71SeJ/5arUqPlKj+h/vU5Hj7LtDJJkzH1+VYiHMwOueYrza5b9/UHrWVxtPcc1m308kAuehzMZ9aK23AwAlEQKChoyVYOfnTISQkGcgyKZD6Wgm/TAj+WZz7qvWlSrGKodNUpeoJHICDPc8VfsgJEDvOauemGTK0ymMkHkisJBCjJ49KLiRIgdorAICvToKpmYaPlx1617BBNQCgcx5T8KkkeUg8e6hUumreJFKF+kyR5IyeRVKSSoAwD3A91XHiUzfARwmACYqrSgJRJUCSeTyKN6AradiRBKp/Kto8IEpbuTMkL4mtYP4eVHgcVsXg4/8ASvknKnDNL2G1oclQxHuopcC0qgRilUKwCDiK8pZ2EzgA0Jta+4pKnFqE4n0pVnS7JFy9cN2zYedAC17cq99RWrzKiYJmpNuqghJyaqJq2tShstoEJG5MfOuhWzgKEH0Fc0acKnED+pKhxXQLV4JbA9M1aYvLZUCR8aDqDhU41nFQtXJEjntS+pOn2zUfGgyGveH1eIWG2U6hcWSUqBJY2eb0O5JxVn4Y0A6Bbus/f7m8StW4feNvk9BtAxWLdZHWRzFPodiJMe+mF7oa/wAYjM1W6x4b1/Uda+92epWdq2lAS2VMrK0++FgH5U1oSwUEjJ3Z+dbE2rymga2i57RGnbXnErd2gLUkQCesCqvUtWttL0tx+5u2rBpKf/feUEpQehJNWd67FqselItgOIhQBHrSq40HwjqNqvX7UW+qaeVEq3ra1s3Dl0SJH8kn3nrED4WniTxdqtv4lOlWV1atlQQUoUhZdyOhjaODAJnFbei0t1KSSw3uSZB2CQffUbzS7LUWlt3NoxcoX+JDyAoKx1B5o3Fa8A+DF3y7B03wuEq3HYm8cbW7HEnYSMxMT1HHA3/SFbbRA7CtK0fRbDQ2lo0+zYs21HcpDCAgE94GK3PSD/0rfGRNKpqySr1xRkwaXHNFST0pJGQZgdKID3oSSBUwqaAMDgVMGBQknFSnJ91IxOnevEyKik4zXgSTSNMHOKxPes8AmsSINAZMf5rTPtaTu8BauAAR7AmD1rciOlah9qDZc8D6qmTPsTmKXwvD6o+PFWgcuVj+mZk1C7YLpCSAAIB9eKvkWRWtQTATtmT7/wDFKKtpeI5QJya+Sr63alY09TjoAMgRgjB605csiJUBIHOe2asrSwK1hAQAVdhRH7EFRECJ/egq1xFmd/4oA6981YKbDIEpChA7061pxdeSCEjMmeCKjc2wC3OsjA/tSOfYDRm1OX5IGADGOMVsjAC0rBTBMgfKq/RbfawVD8QnP5ftVgyyvftIwCDIFIU61i6ZEAgchI+u1XlqCpxQ7cfGqqwtinc7O/bjI6df0q3tUFRUuIBOPSnEWvKQnAIncc+6pvkJCgfwgdKK3ZrfcCoG0TM0nqZW3gxJkCgR+bFhaK1G8bYtWVLfcUEISIlR6QJ/Ou2NP68AhA8BWqgBtK3FIOccgfXMxFca09NxbXSFslQfSfIpseaR2A9J+VXj+reMGlJS5c6mAANx3ODPuFe5hdROeNykjqCb3xTatOtMeDbNhtapUlspCV99w3cxiesDpVffr8UXNs+2nwLYpCk7Q7/LMGMmJ6STkVrPgfTNe8Ut3Fze+ILrTdNtztcuH7hZAV0SM85/Km/FOganb6O5qWjeJ7jXLBryXADigpsQOyjPPpEdavL0xxwky14/8uP3DJS8sDCUwIH9/fivMgpK0qSdxBHoR9RRnlBMAqJJMmM9/wDNLNJU6pQBGQSJ6fX965p7e1PT7K8JtBvw1pvM/d0SQI4FWxbAERzme1IeGQRolgiAWwygZx0H+aslg7wAeMgRmZr1/h8Pnd2gBgk4HHINEEpWNxyBmstOATuEd69KNxKjB5mpQkJTIODxEcUP2oG7oCqiSJgkmenahrkKg8RzQGFOkOyJAx04qHtoWcZ93SsONhRwDPOBiolCQrikB5BiCCmcnrU9wMwk85IoTQKeVSPd9fRo0lMQT6UyeW6SEkzKfy9KE6srSoEYKYMj0qaioowIJzA60IKMwpKgI60G5n430pv/ANR6dY6d4c8PXtxfNvv3DurMwBs2nlKSSTuPIqh8NNNXNzpdxe+CvDLVjc6gvT0rskhTiVoUoKUElAESgweYjHbZdZ8W6a94nstQVb6u05p6H7dSDpNwpLgXtByEERKQaq/DfiHQDZW7V8jULM2mrP3luPuT8L3OLKSVbDghc4Pp6VcDsjbYSAlIAERAxFEUqVEJPJxQUGUSJg98frRCSATu9YP7VMIIhSUEzk+nFZSqUK3HzT8RUUuneoHipJITuG0qPcVai+nPRcXaBJIcz/8Amin9vm3Z+FV+lIUm4vVbYK35+GxI/arFKVA5O4gc0k1hY3KCjECa17UMaoVxCi2kZ4gFX+a2EInA4GDVFqaN+pEEY9mAT6yaWiYEb8ETMHNEIBAAVS6DtBEkz17fWaM2rPPNBxK0ZC9ZZXyoNLTPoSkn9BWxKQFEDOfSqCxO7V7dO7OxYBn3VsOCBglX6UxXkJKYEnHSqjxI3vNqDiHDE+41ctK6Hk8VR+IzL1mCJhZxGJ2kfoTQePsq02UuKTO4D5VheYAGCIozm0wPSfdUOY6JjAFZ2eXRt4LO/aBCRme9FB2gQc9Kg2T2MD0oiSV7ZwJ4inojOmCdQ2Aco5+VXrA2r4yao9JUTqPOPZ4zkma2Aj+ZPPNPFhk8Zg9I7dawhZRmDnFTSCQRPNZQMZq2W3mzPTA6GpLJSPfxXgnMEcda9tIERIBx60HGoeJhN8DMnYIqqTtIBUMHFXfiFH/XwDOAaqQ2UrIMQkyKlQgSVogdIiT8q2PwgR93eION+QK1xJkSTtrY/B+bR0TJCz9fkKIK2QK3GBXlrhCupg4qKSeeMda89OxauwNUlqbijK+ongVFtwlXUSaGJDixyZ9worQ8wnzdqINHrc+0W0SeVDM1vtupRjEVz1okvsJEjzDE10C28wSZzANXtF8LazeAHJoeouAutgGPfXmVBJIiZpa/WS8gUA6w4Npj9acC5RjjvVVbuKURuVAjinQrECfWnAvdAXDKv/KtkYWFJ/etU0IqDKjGJrYmXCYExA6UxE9QUE2q8/GaXt3gEpzOKlfLm1X1FKW+EgjHSO1KtItAowJqSCVLA4oCHJxzU0uEEEdqiLNoICTBnGa2bSlf9I31EVqbazn3VtOlKi0aHSKpGS1CqIkmOZzQEKBoqTSQMlXwogVmgA8UVPvxQBUkRRIoIMGpjB70AQGRUgfSagOO9SiYqVJg4rFeGK8ePeaAyDNav9pB/wDyO1ORI9ka2cVrf2gn2fhPUVRMNEx3pX1V4fVHzMbbYy6uTBEfClPu6UtAkYJA94q7fbhgJ5BOenXNBXbFSgkAEAT2r5KvqCttYltJWESuIE5FCuLL2e6SQTiOKvg37NkJEz1xS7zW4pkAzTCmdYKGSoSViBnkelBes5YUsSFxGfSrxdtKD6g0i8lSyhvIBPxqacZsbXa1Jx29aYKAAceaJNMpZICEmZAojrQ2ZII4xRpVpm0bKbNJBAJp+3lDR4mcGlkohplAHCQZFM7IbBPHWqQatnJaUcmTFVWoJHt2+gmYq3tQEWI2jBJMj31Uaon+fgFZ6D6+NTTj4E+zhDN1430xCRuQHIJzAgH/ABXTNI8f6pq/jTV9OdUyLG0af2pQ3mBidxM/AVzz7KLUDxvpxUApIUqQBziP3rdfCnh6/s/F/iK8urV1hhxh9SHVIO0lSu5HByc17+HpHUSXK7+yisbB7xT9ml3p2nEfe7W6W49btjzrTIIIT8x8KBpeg3fgPwP4hu9VT91VfNJYZYcPmcIJIxP/AHH8+1axp+l+KLd0ajplnqSfaELS9btLO9PM4EGaF4g0nxbqafb6la37yG0K2l9pSAE+6O36VOV8HMbvW/G9tLW2HCnbAA8u0Z6/XzqVs2N6dyZTwoE9amGfZtyIUJmEc/WazatFNwkATtVugHJOMVhPb032VpKSjTbQyVH2SM98dacghIOVHrjmh6c0lFhbJTOwNIAziNtMqQSBOD09K9h8Pl7oQ2uKVKQEgY9akQDGCPWc1FIl0TCVcFXSs/hwc9TmpS8uEpkDHQ1BapVM9OD1qSxImDnMcUFSVInaMnucCkbKsKSQT7hEVm1SCozMnjNDUAF+UHHM9awE7dygMlU8/XrRaRkBM4wJmKmpW4BIkQe9QbyJCeBxUydwMKhXvHegMCNygqYA/ahqIIkiJBqayfMYB79aE55TM4Ax3oCpuPFGn6frdrpt06bR+5QVsqdEIcIMFCVcbuu3mM1elxLrcA8DpXKvtD8R6TrZToaNW0K3SVlN49qDqFLtlJ42NKIlZnB4EEkHiq77PD4cS+UW/jnU33bG7LCEXeqMqRdRtO4JCcpUSQMk/oLngO1HaseURGagTMyCAeNwrLa0wTPxFZVH4geOBSgYUpSI8uCORWFOSmAkkztxQ1OEqg8DiOtRSVIMzuJPWmELFJD10Zke1kZ48omrFKk8nyqNVmluJcdvUJOUOZ//ADUn96ssKE9R0oJhyFKnoegqjvkBepLmYDYIz6mrsjgmDNUuo+bUQYAIbj357UU1NrniWx8P+ybeD7r7+4tsWzC3XFACTASDgdzioaH4vsdbujbNIuLW6SneWLthTKykGJAUBPI4qt8WWDOq6rpVv7Zy3ulKcW09b3HsXUQnIAzuGRI+PSnNG8NW+mai1cv6peapeJbKWlXru4toJE7UgAf7cxPGaPGibRZY1dgFX4m1wPiKs9W1az8P2yri/uW7W3SQNzi4knp/xVXpp36s1ByElVe8Z6adRTp5Qtbd2zcJWw8hKVezXBEkKwRBI+NOCm9E8W6Pr7pbsb9p90Z9klRCo6EA88HiseIILtoZ5WRnpg1XaZ4Tvxq1rearqqb1VsStltm3SyCopKZUck4PEjpVl4jQd9oCY80/lRVY+1Vq+otaFplze3IWWLdtTq/ZpKlQMmB1PNVGmeM7fU7tplNhqdv7RI2ruLbaiIkHcCRxHzo3itq6d0l22t7FN6h9KkO+0uQyEIIMkEg/4rXtE1LxAxqikP6On/T9jTKEp1JC0tbQQpXEnp0HFS13W4O61Y6c57K5uEtPFHtNp7cT86zYeI7C/S0pt4JDi1IQFESVDn69a1P7QfCN54vRas2rircNArU60rasmU+SeYgK+MetUHgbwZeaTr1m+9pTytrrntdQungSlsiEpSmJyczPr7q14G3aNJJF+oEQNhg1fgHdzgVQ6QkI1PAk7MCtgIlHEmOtKRlkgEgjkmiYKgCAT61gKKp4npHuryUgL9CKtmI2jkHI7zUSexiPSiJEYrwRIMxPalQ1bXwE35IyQOOJqnQoFZUZJngVa+IARfGBmBmtIvLC7uteWprU3LX+WAGktggx1JM/tUa2psiXUk5yOn+a2TwcQbJ0jj2hNaNo+nXNh7Y3N65erUZ3uJCYnoAOlbz4LQFaa5J/rOKeg2BI4zM0N5X8lzpg0RCYxHFDfn2S+o2n9KaWoE7VKMCJP70ZokwVGByfSkr51bbNwtoAuBKilJ6kcCte0/V/ETrKEr0+0jguB85E/wC3aenqaUVW526ibtmZ/EDxXQreAAcgRgzXOLMrN2wSIlQkT1rott5iAe0VbPJYtmDPPWKDduQ8gGQY5qTZImR6e+l71f8A1CATiKSDDKtipp5twKTMQetaVr3id3S7lFuybVqRPtb172aPcO5mPzq58L60dXslOK9nuSopKmV70KjGD8Ks27aCU/dyROT1q6bUSRGDWv6K4EWhVPlGaXHi91K1uI0x9yyQraq4DiMZidszTDab8xaHmlLZe6ATU7l9LlgFjIWAR61VXt2u0sHnmQkupTKQviek9Yqa0i+bJxODTCTu4rVfD+pateqIvm7JCNo//DLUVA8kEEdMdaBrX2jaf4evhaXS0MuzIC1DzDOR3pSLbtOxJI6VtGlr/wCkb91aHo2tt61ardbbUhAO0bxG71redMA+6Ng8RTTktEqB70YK6UqlQxRkrpsxwT1kxRk5FAQeaKkzS0YwIipSZ7ChpUQfSiJOaQTAjipTA61FJ6GsmBigJgwalt9KGFT0qRz3qVMzFa/48KU+GL9SxKUtk1f81R+MmQ94fvEq/Dsk/rSvqrw+qPnm5a2ttSDMEn4msMsiSraTiI9afuWgp3BEngRWG2ilzkBM18k+ntRLG1GOecUu60Co7fo1ZXKSUK2iFAcUu22do3RuHPrTKELweYBIhITxS1mwLm+2rTICZOfrtVjevJcURgGeRQtKYKXLh0jkhIPap+V7S2hakgJmeZFTcZHtm0DqZPeiNoIJJJEn51JpW+8SoCCkdfdTJJSAFkk4Tj9f70y1LiYkCSMR60P2XtSpWYPej2lufaoTunaZMigHXgGm0oAx1Aqn1FJnCTuOZBq7WZUTAIAkntVa4farEiZzMUqcfnBp2u3vh/UGrvT3S1ctklK4BiRBwcH41tWnfaX4t8T6ixpi9RBN2oMrIZbBO7ESE456RzWveHLLT7/WGGtUuDZWhJ9q8MlOMRHqB+ddR8K6B4BsvEtg5Y63cv3qVj2TJQopUY4J2x+de7xS6a8/ZPOU3f6alc+LPGGha0fD1nqi7pTCvYNot7dB3xgQCif8Un4l8aePNKbcstVubi2RcJKNjls2kKSRBAOwdOxxW8rfVoL3jXXrZM6jbv8AsEOrSD7OYk5/8h8qoGddvPGH2ceJP9ZcVdiy2usvrSN4XIG2e+R86dnhz463L2z4chWn+WI6GCO9R09O3U7dBSDvcTjqcj+9YWBuJECSSO00xp5K9Us0JVB9sgjP/dWGPuPV+K+ztP3HT7YO7QtSBITxkCjLUE4wRESaEwE/dmVhRhKRtPMVNRU45OJiYr2a+FvmoLKSRHBFRmFEYziKzKzEmTwZ71BSSkmfeaikyvgTxUd4IB4MR9fXWsqwopJI93yoSlbNqQZPfrNQbAQVqUFRt61HCOsdfdWS8QJ6nrWEOzykGP6uooAySqAIzz7qlMJMjPc1EEFInBB6msr8y+B7xTDISITB560NyVcQCBRVeQAmaX3p8xP4iMGaCcf8Q2TyNe1xF94kNtZ2bDV4tx7S7R8I9q4sBEFvdjaMkkmeKr9EVpGtaozZWPjexevFrCW2n/DjAJXkwDsTnmM9KsftCG++8XJ8udMsEr25MfeHOneB+lNJQkeI7xtSUI//ACoYV5cAKFsmQPiCD3ya0S68gBKQj+qImKwPMkVmNvmmTkjNeBBUeOKmKCAMwZA71lBmJAIjANSWoGIMAVFBAJB4maYC0wRcXgmYcGY/7RViAoJIIIAE1XWASl+6AI87oMf/ABGadWSDIJz3zQQqiCDjHIFUOoqjU52JgNDp6mr+J7npVHqJA1EoOJQMx60BqfinwU34p1SwvHnVNG0bcDam5StC1FMLSoHBG0/PtRNF8L6mjW7fUNV1VF/92acaaCLYMrVuiSshUHjgACc9K2FC5BE4mZ70RMTiTPOaWxoxYGNaaBG0bFQKH4t8OveIlaahq6Xai3uPbKcaVtXAQoCD7yD8O2KlYH/71bHcANqxtParxz8Q5E5jtVQNZsdL8Qvavpar9+1WxYKUtT7RKV3EpKQCngcknPbFXOvLG+1j/ecfD/NNIlQPmz0Jqr8QKKF2skSVkx8P81V8rx9tZ8fXdqz4Zv7a7u2rT722WELdKgCTgyQCQIkGBwa5x4JdsNK8RKunkeHWw57NsKtX3NzcI2+UKSnKoBiDzzXXFIbuVDehKhM5EisCyt21JUGEJUgykhIkHvxUtNND+0zxPqOh6tatWd/9xaXbKWvbbl2Tu9Pw4P4jiBWPB7N2PEto8u6tVugOfeLlN8HFXRXlKS0D5YifgIrfnrZq7SfaNpX/AEyRJI7UG10OytXw6zZsodScKS2ART+BpsejrjUUwZ8nM55rYj+HEGtU0lxaNVJAGESPr51fB5U4OBxRPDLI2lQAkianPnnGeBUGlb0E9amkTM4PamyETtgwY91SntGaiUhaTECsbpVA5jNBtX8QGb8x/tFc48U2mrP6gFWCHVykBLrbm1LZ6k5zxXRNeKk36gcnGarSmAAkYmO1ClF4Va1Fph/78XFDdKPar3Kj3iug+EkqRp7g/wD3h+Va0lJQCAfzraPCE/6aRAkLOe9KhfIUrPahPn+Q7/4miAgDtUHwfuzuf6TSJoeovFq0uFJG5QSogDk1rNt4jubawbbuLQtXZI2BtBKVdzyYrbCncVAj5++shlOAUDGcilBTeny5d2qogFQJSeldBbXCQePWa53aubL23HXdgVvjDyRAVEelXU5LZDo2jvSV24TdJk8piaK2+kgSQCc0pePp+8JzJjpinEKHUNX08a6bXURta2DzOgeyBORJ6VsmiXltctLTaJQGmztGyNp90UmbW2fWVKbSokGZHNPWTNvZtezt20NN9kCKfwTatLe26epUcSSPhVVpdnoOqJcv1stvvNuSoqQQoEHBKffwfSntJUlVlsJG0ggiiq8MaZcONrXbpKkGUqBI9enPxoNbXrqVWSNn4MRFUXiRG7SVrN3dWiUeYqswgrV6QpJFXF+Ut2iUp8oSapNZt7zUbP2Fqm2UlRAWLnfBH/xINJpFN4AbWvULl5F/rb6FRvTqLTKG5AgwUJBJ6/24pzxVpmg3Tztzc3aVXaTCUpQHVg9gmDnr8KX8IeEbvw9qy3Ra2bLLghxTVw+tSj/4rUQP1yahqfgnUbjWnb5tm2uULJISXVMuJxEhYk/Xzr5P4bh4IS0jR1ravH70LWZXcNhtYPYpAAHyrpenuf8ATII4jFc68L2z1jpYauLZNs6CSUpeLo553EZNb9pqv+man/aKCWiJGBFNIVjNJNrhU9KYQ5ImhmbbV0ogMEGl219aMScdKDGSqaIDg9aXEiKmgnr0qDMJOKlNCSe9TGPiaAIDIqQNDBwKkFUBOT0/OqTxl/8Ao7eQM7KuQZEjiqTxh/8Ao/dgnJTzUZfTWmH1Rw4p3vqXxFNWtqlUk8QTWAnalYOM/wCKcbTstjP4iIzXyb6clcMoQmECDPxpJ4LDbhTymAPef+KtUISUgk5HI70FVkratyBt3bjRRFA+kKXHMCrG3Cm7UJTEEmD8KSZtS/drA4KpURxVm2xtUluJSO9TFBqAO4JzEiRUmbYoaU6QJ70cJS35Twc1m4IDCEg7QTI61RbQQkjbHBE5pi0G1wrwZ/5rGwNMo7gA+6stq2p4PwoDFyottqgz3obQBW3gGIEVG4WVsxBk9OanbjYG5E9eKhXw/M5e4lSgCpIMyDx/iup6PoNnoFj4N1Vf/T3D75VcOqWdsYAweAATx391ah4Q8Rp8K6mq9NixqA9mWw1c/hSdw83wj866t4m+07UvDVtpX3nSNNcF7bpuENNgw1kjjor1/wA17/H4x216m590wxjTNR8ev+DvH+tqaabv9OuniXWXILTqeAQeAYEdes9Ip/GP2j/67pKdL0rSLbRtJCy4thjJdX3wAAPhOB2rY7n7Z7q0Qy6vwpp9u28CpDmxSQ51JGIVnk+oqp8R/avc6rplxZr8P2NobpsJS97M7o4kYE8CDmjK+PbDjxvdLcf/AC5W4pKidpAcIBmIOe9NaOknWLNHmLilpAz/ANwoLqQ27+cJMfKmNAWpWv6apSFT7ZCd05HmAmssfcenl9NfZ7LLrYSgbT0wMD9a8pCkkchQOSetH2FLaEokQI2ioLKgROREE1623wtpYI80k5znnivKTIAO7PbtUyQVzu8x4EcfU0IHbwfkKmhFe3cIkiO1CuUqcWFpgAHk0VUkgiYOM/XpUVCEpIgk9YFSZUN7liRKR+VTbXtnaYTGaI4ElODB71AgDoJHSpAwIVicTiBUguAEgcDiKGncJEyDkJ7UQgDPNUEUAEkKn3gUFKEqC4HmnHpRFEiAJPqaGlRSuFCJPNOEqX/DVg7ql3evsi4Nyw1butOpCmylClKEgjmVdewq0/060K/aG1aKvaB3cUySsCAonuO9a74qY1e2u7bV9HUq4dt0FD+mLXtbuWyZO2TCXAchXwODVO99pFhrer6DY2F2qzvnL5KbrT7lBbfQjYtUKSocEhOQSDPNX7N0RIIBKeO0elSKTJ6kdRWMITAGFdBWUKPsykqj3UEGrJIMCcnFeI2gECY6gdKyZAxREJxxk491FOKzTrttq5ukuL2EOj8asTtFWP363Mn2qD0/FXM/FTxb1+5AUdxKf0FVq3t8BRmE81lctOmcXc7Em5QpIAIM5qo1R1KtRBSoH+XGIIBzXNfvBSkJQYQMkJ4of3tZeWjzEhAmT60u9X+O6MFAKO1QI7YozQSDO5MgcEVzsXC8q3GIgCciiM3jyUHzqAAwZyKfePyK6LYAJ1m3bSZJStWOwj+4q9d/FkgVyBu/uPbtLQ84F5VO8kiju67eqIP3pwQf9312p96bw11YEggDP1/xVT4gBJtzEQr07VoLfiO/ABTdLQROAYEUO816+eW1ufWsDKZVgY7VXfs5xWNzaICiImczRoJAxg1pI1y8Cv8A3SIzgVMeIrpP4Xj26CKO5XZpughsSII/eptIJ7TPz6VpY8Q3RMFYJPWKOjX7sFICwMySKO4u1u+nBSdTInlH71eBuEgGDHOK07whqD+oX61OElQRhRrdOQIxIq55cvJNUywJRMjFFC5JmflQbdPuJOYFGA80zBqmFqaSVccR2r22DPpWQYEdPfXsQUzSU1PxAQrUCJOADxg1WFAJkmlPHdyprWIQojyDg1rzd6/uH81Z6CDNZ3J148dsbauEKInI71tHhNQ/0sDnzHNcrdv3UkJDypGDHOcU3pfim+smfZsvqKZOanvX+Ta7IAMZ9TQbtX/TOnjBrmzfjTU+PbzjqKi54z1HYQXElKuRtzS74i8Ga4OVTiCf3ryleTKoNa0jWLkpMLlR7iio1h8ApUpJgxgfvS7heKtktDvvmEzI3VvDZEdz0EVyVrX32bppcIhBkY+vWtha8cXBTJabjrFXM4j8nL4b+g9fhS13/wDiOf6ZxWqteOnN3/tJ9e9AV40XdP70sx05q5nEXhy+zc2SYg4ppLuxJHyIFagx4sUkBRakD1iKaT4oAn+VkjvV90T+Vl9nRdFXNoknCquWVkf1VzrSvGzLFuAplZ7Qat2fH9uCdzC/QA0bhflZfZuN6sG2H/lUGHMSa1pzxnbPoSnYtJPfpTLHie2JAhfb0qLWmOFbSy4BFNNryM/lWtMeI7YkQTjHFPM+I7UmN0EdKmZK7F+lU5PFbVYLBYbj/aK0NnWrZ0gBeTW76d/+Ga9wrWXbLKaWyFeaBTCTweaRQsUy2oAZyKpzm0LzPNGQvPpSyTwaYCskcUHBuxmiA4oKTUwc8VNUKCKICeKFwZqaTNICTmspUSQKgPzmiCgJAwfSqHxqonw9dgZJTAq9kE1SeMFBGhvzxAqM/prTj+uOQMtedCVCAPT1py7QG2gmsMfzbhwn8IiI+NQfc3vkSSgHtXyr6YHhQHEdKzcrcbtF8dhiKnErBSJEbqDfD2dtByVDie9Saq0pCluKE7SsnJ/Onmkk3UHIoTVstCVODEQKYsklaVqVhQyKIpl1sF4D+mDM1F1lIUls9BANMsNBdwJ/CkFR9aC8vfdYztExTQxcuBSYwCTXiQWEpGDSd2+Q+MYAz3p26IbQ13jnrxSVCt2rY8lKRgJBj1prTUKU4FLPkApLLzpyROJq0tj7FgyBATzHWpXX5juguBeyCsGQDxPvrpH2xpUprwuN6in/AE9IniTjMD3gxWhkhDnEAicd/h9Zrr32q+D9Y1ZWiXOn6c/dtN2SEL9kRggcbZnr0HSvew3cLp089mPNhbfu1b7UGUp8GeCmpUsC2PI9EgfqPjSf2pNFjw54QCWg3/0JUekE7fz6Vf8A2k6Pd/8Ao7wmly2eSW2ltuNrQfKTEA9iQOKq/tgYLOjeE24ECxMpIiDCR+350ZzxXJw3dw1965Q8ohMFJgQAQOKb8ON+01/TNqiAbps+kbxIillgOEQJjr2mrDw0qNf05BkAPIIBORKhFZYe49TL6a+zGxLKCrBSAfN0+v2oTg3Ez5fXiKYjyApHpPesFs8GI6k16r4Ens3qEEA0NYKVY4o6khBOcieOtBUk7sEGTzQYZUoq8xPHyoTiykwmQfSi7SlZSTPTHagqTBMwD1/vUG846AiOFdoqCXd0kx04qDiiEEgRnvWAVYnJBn309AwiFA569q8cKHmwcx9fGsgAJBAiRNe2FIJJjtT0ceKyl3rQlwVhcZoqnRGeOsmgLWNpCTgSZFAaZd6z4ztrlxTWhaW7aoUSl1WolJ2zgn+XjpVM19oOo6i/arRpfhq+dCwGi14gZWtMkfh8kg8xjJ99L+HfDatX03xDqjt9fXN+q6vrZDRuV+w2hS0JSGiduJgYxVB4L05ix8T6G879n9+wyjTkWq3jprQSm5GyXSZBkwZXz8Ri9E70ysqSCcSOnHwoyjAMRzzQkKAG0ADEADHyqRSJBPXrSCC1iCT7zRA4EtqO4RPXpQ1IgD+sz86g25tVEHIiOaSsXOPFjJOvXW0gokYAyPKKp1SUgg7hFW3itCf/AFFdf+KZn3VWhISvAgkzFc2T0+P1EkAeYiII+dDDZNykFUQkc9e1TSJWQBjmB9etDIh9QzITIEVDeGf6YBjOewrxKQoJg5646UlcaizbXNvbrUQt5RAA9AeY4oVr4j03VLty1t7pK7hEjbBztPmgxBI7CqCzBV96QJJ6SrivOIIVHXJB6VDze0SSfcaK45CgCCJGKCsB8q09N1eeUCtpKSAZ6dKxtyYlJjBHWo7itaCcGetOINJWJlZA3iBJ5qLbzLi3EJWk7ICoPyFav46t7i7sW0WoX99CoSpE7UJjM/OtY0o3/wB7Qzd3Nw4fvLZFsyyQgnqpahgxzmr2jfl1TClZPzqSOZAOa82mGxJk4BJEGvKASEQOaZ68No8BJUq8uJEeUCDmBP8AiuhIlJBmDwIFc/8As8Qo3r4UJJSBGfWuhCQRAkgGt8PTzub6jLPlTPUYo34VAc0C2E9AYzTATJMDHWrriTGU55jmvbpmTWIlMDk5xWIJPJHT31LSenM/HhCNcI5JQPr8q1ttQCUySFGtj+0CE63kkSnvFc117UdUt7kC3A+6x5lpgqHwPxrly9vZ4p+iNkdIB2gntNBtVfiA4nM0lojibiyUoOuurk7lOCDP1NWFqIRyc1nt0SG2lEe+vLVg4knrUEqlJkZPOK8tISgk5JpKMtSgDII6isLeQ0sBbiGyo4SogE0u6tKbRzeotiPxJJBFad4bdS9qqwyA+4DG94HcOePhSTZG8LBUpE8zgxTTSQuDuyfzpRyU7OnrTDZngEgGrRowhSgqQTt5misLO7zkyBzQA4EiB5jA5FGaBU5IzjNBWHWVSc+6IpwHyyJpBJyqP1pgSU5MY69aqVGj9s7KIBkep5qxbdAgHJPXpVNaJ2okgj1p5lcK7+tVKVXLbhlBGen18qtGHgkDEE9RVFbEpgqMZ71bIXIxRspjtYtqxAJJ9abYd2xmTNI260hMmR+1Nsny5pC4rfT1EvtpnlQ+Vdg05R+6tf8AiK41pxKbhox/UM12LTyRatg8wK6OP04OeaWjap5ppCzSLRg5zTbSq2cRxpUDkmjoJ56GlGzBGaYQSaQHSraeaOkknn0pdGYoqSAMc0qoaTAE4rIJSO9RBxUhzSMRKpOTipJMgdDQ0jNTTyRSAgz6VQ+NDGhPAZOKvAYFUXjVe3QH1cnFRyfRWnH9ccztgA2duBzSi17grG0DtTjE+xmOZOaA8ghsnmTOK+VfTPJkKBjnFVt/cLeudsGJ4PSeKZQ7tc8xI2oMD1pR3c7cLUkcE9Kmqhp94s2QbmVE1JkbUt8juaC8wVXISSYjNMtpl1KDxxntRBaKFqSVkdBEilt4bbWqOQc1lxZQl1BmJ4qC4LScHvVDQLDSbh9BI69fr0omqOAPlM4Tj3USzSlA3xkJMZquv3FFlxRmVYBFScDYUl64TtJgk8d8VdXZLVk2n+pRk/oKqtEZPk8pO3qRVtqiZ2AZCU8Uot+aKAJG1OBJ2dMV1Tx/9rV5pOo6cPDuptvW6bNCHEgFSQrmY4nOfcO1cmSP5hzCQcGhKQVrI4BBz6dJr2Mc7JqO7k4seSy5fDpdv/EL4hZA9q3Z3aBAUHmCD8NpFaf9of2h3Xjq7tHbllm3VbJKAlgnbJieSTyB1rWloWhC3CoISJmSEgfXalnW1pEg4M4npTuWVmqzx4OPDLuxmqEpZAAJ3ESSaf8ACg3+JdMAATNwhOT1Kx+5FJu+ZIBG7HUxT/hUqa8RaWe1w0BHU7hRh7jbO/pr7SS4VMT6DA6UJYSXD+xpoABEBOdvP7UstEukRAB4/avXsfBFwlO4iJHB9agqAsZ3Rn4URxJQTAH7UFSBjBgD5VIlQUuSmE4PX691BXM5GYzFEKJIxk9jQ3YQEnMCkoCJSUqUR2xxXvZkqkq99YW2GwYzmcGvJBMSo8TUgdCZRHQ9DUVDzDqJ56RUkgkdsCsBO5Kdwx2mqCP40EwIHcVBxCdkETPfrUgooUodO1RysEACTJEmpDRX9BtNOWNDZ1fULC7vrm41Nt+12IPI3JJIIgb8SOgziqPSbdV54svdKb+0q5dcaSgM2rNxbqf3QS4FD2cH+k4zzNXvihpxfjzQA0stuO2l4ykg5CilBmOv4fyrV9M0m7d0vQfDbHhi7sNR064acf1QoH3bahwFx1Lw/GVgRtwZUZAirhO0MJLCEIV/MUnBUrlRjkxRVgE9gKCgmQqAM9DWVGCQeT2NI0nFbiBgRUVNpQiREx1qB5SoSRWW+pmRQc9ub+LSlHiC6UeFBPX0qnLzZ5hKjwknJ9Y99W3i1JOvvwSQrbz7q1VSVnXmgAC2WD5vZTGcjd0mRj0rnyepx+lxuIMjGOaAlW27UDkREn69aITJ2GSeipqKSfvSkiSSnkZqNNmr/aHdFhNs5aB8X437CwQPIEErknERXvA9nZXrNo6hpxh2xSWylZk7lCdxPUkVPxxc/d22EqXY2zSwttdxeJKhtUMpEEHOJNLfZ1aXlr97JuLF/TiR7M2iDJMAGSVEiMiCCes9C9Bu7itzqOqQCDXlFMyT5ooS1EPtwTtz1rGpXjOntpcdlKVHbhJV+gx76cBlJ3pBIA6Us7uFwPKNoM4PpSv/AKgsnBb+zfStbivZhKTJBzyOlOLALrSRAOSJpovsHVtYstFt/a3KlJLitiUNoKj3PHpSNp4x0x5YQiW3XFBKQUCVn317xJoT+ptsqt3EIU2Vbi7wEkZ+vWtd03wM+65a3KnWkBhwOIKXZKxJkkc8EDjpVz0wt8uhoBWMbgDniamvcAArAnE9apNcs13Vs2hq0TdFKjg3CmtuOZTzSvha1Q6bh5dl9zeacLJSXFrBjqNx/tTV3OneASU370E4SIM++ugpWNySZI6VoHgAb718FO0hIOD+lb8E5MQffW+Pp5/L9Rq1ACT0Pc0zJkdu9LW8AFJwc0afwzBntmqcggGcDHU1mCpPr3rG8H8REGs7oBgTFS0jl/j51LetrKiAAgSo4A4rkevC31G7U6xeWinEGA2peZHQCup/aM0bjV3Wwdu5ERXGL/Sf9PvXt8ruOEuJAEDEc1zZe3s8P0xv2lspZsGlpb2KUAVdRMUwwrtOaV0ZZOnNt7TKEgHdimWpSN0SPQ1lXRPRkAAk4MHiZqQUAODNIaWrd7UJESvOetWC0wB+9SoK6BXZqBz5ZgmAa1zw9bKtddUVNt7lCQpsk4q/1VsuaY4QYG2RGK13wsSi6UoIU86kBK1lySrPP12pxNbhcYcSSTM/qRRUkJ/aKVeWPao3RjrULtews+ZQBVGKpKxSolYJEg1IObHSOsdO9QbMKBkCe9YbMuknJ5xQmqPVL9211FdqXw2l8/jB4yMVs2hW7ltYhtS90cEmcc1pXiNCnL5W23LigQokrAKszAmt20p1SrBHkKDsA2q6VRH3C4mxdKfKqDB7Vr+m39zqtwlDT4SWFbS2F8mrm4eT9wckkiM7ea1Pw8pSdeQW7d0tKMhYiB7+v/FAdXtifZISRBnJpLxX4gudAt0O2hDilY9mOaNbvE7DIKiYM03emzU0FXbraUkf/rDninIz9EvCniW91V1tNyhKEbT5ZlRM9TNbswvckx+GtX0W30q3JXZexLiuqTJivanrblm6hIvLq2ClJQAm2CkAkx+IzjI6YqtFtv2krH3tsGZ3Cuy2Ui3a7bRXDdBKkO24U6HVEjcuOa7bYqP3dsf9orbBwc98xZoXTDZM0i0ogZplCorZxnmzB9PfTCFSaTbXmOaYbVJxQDiDxmig4pZKscUZKgRSODpNFQfhQE8HNEGOTQoae1TRBPFCSegqaVQRNSBNwniqHxuQNAeJ4EGrsYNa/wCPGy74fcQOVKA/Os+T6L/TTj+uOeKcS2yAB5YxFJrXvgDMmQKndsrebbQ257MAgkgSfdUVtwCUxuAA5r5V9LPRS5AbUogiZilbKXXFGcIgkHrJqd+nb/LiFgCe0nP70xpwH3NxRBG4x8h/mp+VwRtXtrskYgZFGUlHtDJg9IpS0BbccV3o7q0+wWsycSDThUtj2igomVKME164GxGwGYET60wltK3UpVAPrSlwSp8FJ5I9wEUUGbcxaLPU+UVWaksBCEDBPwzVupHsbBEnJyfSqa8/mOCDEJ6/KlVHNIQlCwDykTTWoKMOLHJgZ7Upp6SSSnMKHPpUr263NKSQJBIEHBo+A/N91A5wcEce7rW0Wngq2ufAd3rwdcTcM3KWUtx5QkkAkk56/IfCtXUVEgKmcgg5j3107S0lH2Iak7ME3yRPUAdPzJ+Jr2sMZdvU6nK4dvb94tb3VrL7HfDWkIs9NavdV1Bv7w8+/wCaEngY6c4kd61/7QkWfjPwMx4rYsWbHUW3xbXSGRCXBGDwOCevc+lWlh4i8KeOPD9jp/iW5d0y7tAGmbptBMpBwCdpA5jOPnWs/aN4z0hPh+y8L+Ggu40xhz2r145gvKHEYEwZkwB2nmts9av2eZhL3zxe7fm/w5itsnIEYERxFPeF1keItLQEgr+8JE8R5u/wmk1kLMQRxB6xTnhnaPEmmqV+EXKAU/8Ayrnw+qPSzn6L/T7WCokDEgfioD/8sAkAqzIo5STgEAUFwCIHmPp1r2a+BAdX5zIOM0EmUmB7/wC9GKMqKeB1NDUOnJ9aimC4opICYPTNL3BCpA/WmVpAMAiY7YpV8LGRyRAE9fqKlei0QtSQk5OD24qaApQj9uK97RRIG3rz0rHtVJPGO/E1JCBRBPzx1qC3FSRAKflUwdwJPJqJBgcZOaYZCgFQVTIn1rIcBBkdIoXJx5ek0ROESRkT8aC20q9+yy01G8+9ua5riXUuKcb2XpAaKpnZghIyRA6GKwn7Ndig5/6q8SykyAdR59Pw1r32i6zZnxazpbC9ZVrNyyC0yxqRsbXbJ5UogE/+AUfjTHhf7MdctdXZ1PVvFWo7GVb0aXa3brjRI4C3HPMvpMJT15mr+Eum2ydrSG96lAJgKUZJj9aaScGBKvQ0u2kq9KY3AJH+2enJqVoqUQCCRBM461AAjiP71JYBUAQVExkcVJpOdpxmg57c08YFf/qB4HiE4rVXrV5zWGnEyGA2QVBwjMjG3g++tq8bN7NedJ6gR8q19DhSIAgkkcVhk9HjvgSQkKSDPSa9sH3geYgFHNSbG8hB6GSek9qlsHtSSZKkRI6VDpav4yY232m3DLzbNy0HCj2yN7ZTt809oxmaz4CeS+xfv7lLuHXQp1PsyhIG0bYB6GJpT7SQpX+nIUlKWd6yVlpS+EyE+Xiad8F3ytRafd+6qt07kpy2UboSMwcwOKZ/DaUEoWgnzKM1K4AdBSrIH96wCEusk4554j6miuQlzdMdsfXrSIg3o9iu7D67doupGFbc0Z5M3De08EhNGH4JJEzFDccSHWztjJ981aaq/FKlf6S6kMXL+Di2eDfxJgyJ6Vz3QrN9q8tHEsXBcU6ElaEmInrniui61f3SF2LFm4hk3LpS4pSASEgDAnuZ+dUuh6lqN5qJsUvNItm9ynYaHtFndxPQZ6RVMLPK28ROMhm3buW1uICpPsiqSeEjy+prHhW0SULUtksltfllRIyPU1fqYQokkgiTj1n/AIqQaCQAmI5oPXht3gGE6i+Cf6QK6CCIxjtWgfZ8Cb24gT5Jit/g5A7GunH08/l+o02AUg43c0RSRnGetCtlDaMHPNHcUDFNyAhQKzCcCjtGQcRmghSQ5gwQPnRmyIx86GmLlv2gLjXHAmAQgYNcn8Sue0vFsBtoLWB/MVukHHaur+P4PiF7r5RB74rlWpNou9Uuiu4KFtJltKe/rXJl7exxfTGzaNIskNFe8tpgkd6bZJabIAEk9aDpqT9xaUSAogFXrTDJDgB6gxms3RAtJZeZS77RATuXPNOqX5Tg/D317hPBTPasOJ8kgz2jrUqvorqq1HS1AgxEyOaqvD7qBqKElkNKCMbDO4evb/FXGrADS3FGEwnqMTWq+GUvi/PsHEb/AOoLRkp9KaG53J/npSAAek0vd7vatwgqzkjpRXDudRI3H0plLgAyCMZphNskZ4ipIB3EjBioBzZmAa80qd5UT6YzQTV9WhOovFSUuFShCySFIzFbtaLAsWzO4wM1oF9efd9fKVsLcLphKQ2SJk8kDHxre7aTZoMbJQDBxQka6henuomAUwTVF4YAGsKbCUtlCYwqd/P+PlVvqCj/AKW7iMVReDbhpy82JZVvTG5yDjnFUenR7aG1NwJM1WeLNOubxCCyAtEGQTkH0qxQshSABmRiKqPHD1wjTSllVwCcEtcfEfL51UZseDtAvtNv/vL6l7VIjatU55q8vNYLt8q3+93LgCglTKF+VPvHxrWvAT90bwocW+UESfbTz8a6Bb2jPtAstI3d4FUz02Pw+CHrcEqUdwyeYrtdmv8AkoPGB8a4roykpvbcDHmrslioFlIPYRW2Dh5/cWqFfrTSFCkWzkZ600hZPFa/y5DjKuxplonrn1pFswaaaURQDqJIB4oyDkUs2qUijJMGkDCTmKMMxS7asz3ou4RQqDJGZFEGKEgiijjmg2QccVSeMSf9GXAk7hV0JFUnjAkaMsiMEVhyfRl/TTj+vH+3NC4CVAESOagHAkD39qA+osLXmAr40RQCmioKgRMjpXyz6ZW3pUpbijkyT+1EtHFptEpEjkkfGki646+tCfNAAE96uFpDTQbBklI4qIv0XbciSKOhsv2kAQFHrU0WyYgESROak4sNW6hGQO1UkmXv58+lLlC3nELTgbswelT3QVqBzGKasFIH4fMRjjrSOJag+hKQmQY6Vr7jntL4RxIxVvqToDqjBiKo7V0O3ZcABIz+1FNsbCQ0ypQGU5M+tVd0S62oY3RNWKnosiJA3kcniqW7WlDpIMmDxRTj4h8BeF9I8UOXKdV1dOjBpMpccAO8yJAmPf8ACuh6ppvhfSPAK/Dtt4mYvU3N6hbjrZTuQnAJAE8QM9u3NcWCfbOJ2xClYI7RXXbTwB4T8KaVaOeL751nUL9AW2w0TDSO5ABM5Ek4xjrX0HH5jbq7rKW5X+JIq1fZf4NQRHjuxAMnaEJJnp/+sx1qk8UeAPCWl6Rd3Vl4uY1C7ZQFIYbCJcVPAAWf1MfOtp0/7LbPSftGsLd1Y1LRrxpx5krP4xtPMRxIPwFc71zwVeWul32sNpQnTWbtdsE7sgzgRzwRRyTU9I4srllP9n2+I0t4JQgebdAG0HnpTfhkFHiPTzE/9QjpGdwg/vSymg3ySYAgDmJ6054cCTr2mqggi5QSf/kDXNh9Ueln9NfaymyvaRMH4UNxsSAYjqrrRyshtJVJIEz60B1SiAcgYwK9qvz4qoAkzkUIgFZExnFHdV5ic5k4/WhLAKgOpz7qimA4mSTj1FKOJUrnEU2tW5B/pPSOOtLPqPeB+lSrZdc5AUBnkUNJVEHNSWOxxz7qw2UhMTJJAqQJESZyMZqJVuSUqMgmJNTABJPE9qiIyevOaCrAbgGDHaoEKA3DPcGiBM5k7hyKw6oyAqTH9qaXLftI1m1d1N/S3dRsAhTKFOWd1ojt8ZJMKJRAA8uOsgxWteEP9Q0rxDp7Fl4wfGmreSF6YNDvEM7TEpR7WfZjn8OM9ImupWGl3LPjnW772JFo/a2yELJwpSVPbh8NwP8A8hWzNtpSkwIIrTfwTyT5QOvWO9FSd6YHNDTIAkf4oiU87hgdutCtsoMzPIMelZKglQAEn1FBBgFJ79aykb5gwcUtHK5z45B/196AN2xI+Yqmbjd094q48ZBX+vuAmfIkzNU8JQvJgx2rnyejx3w8UKBKR1Pyj/mvISoPAlWCDipBSlODMD86w4FB8RgAYn4VLq2y4kLBJAJ4EipwPZp2SQByM/lUCSNqTnMjtREHZ5c7TmCMc0DaWxG5kEyDPHQUV1IQcwUx8aCsEOsjIyam+uXQIhIEE0tDbytqPKeIx6UK4JUtmMJBJiszAUDO1JgiouFJebB5gjpzVyI7oWum2W/ZvuW67lxskoDYkgkc1Vafeabp2opRatrXcvOqQsLELSZyfdzWywlRmB7jXvuzZWl2E+0AMEjPz5pp3EwVKOY3DmKIgAuZPxoKJBkSTmi75CQRJ7U5E26bf9nxP3+4gCNsxFdATAnOOa5/9nn/AOPuOwRW/A7iJBPaO9dOPp53LfJy1EtiOooiydvFBtk7UCJHEjminOSc9MUOUBCVdRBimmiAmCeaiFBQBAqRwkxzFCsXLPHywNfcAP8ATXOtQ8Ho1O9XcC7cYCiCpCE/v8K6D45Kh4hexJIAGMD0/KqFC94+PauTL29vh+iAtD7s0EAwlI7YJqduQpsKBHXiiONgghBg+6h2iYYVA2mcz3qK3MbSUEFUH5xUgkJRB+Z+FZ3EtncCTzihKJTg/mYmlorXtRYN1pymkoCyRgetU3h2zure923jat6QAle6RHatjbTwIMbcjtRNyTwCDNBbLOpCX0pGO1SUpQx3OBULhZ+8IOAQcEHNFQiSCuAR+lPRWpghI4BMT76gysb1CJCeR9fGs7tg5ntXmJcWQnM5+FGi2bQ00s7ihIMkyRRN0iBgfKgpxxJHapKSSgjcZicCjRbhu3IUnaoAoPSjssNtKPs07AD060mhW1CFKJjuRFMoMbBNM+5bW34k9esnvViQFJIhJTOQelVTDklIiTgDFWTZ2wAQeDIqom+zLDKEqEJTnGKtWAmOKrWpABKcd6fYAKRyOmaqxK+0MA3TER+Ida7FZKhCPdJrjOiAjUGInCq7DbqhKPcK2wedz3zFs0odxTKF4HSq5pyDjIpppZVk9a1jkWDSuORTCFwQP1pNtwK4ERTDaoj9aYPtqkCmEcDNJtLiBR2lT8aKDaDJ5oqVd+KXQYGKKDAxipOGEKk4opUIpdtU+lGTmhQiSCKoPGp2aK4ZjI/Wr9Na349Xt0Ncz+JIj41jy/Rf6a8X7mP9uaOpLqgRwDXrlQYtCQPMpQoyvIghJEgcVWPrW6pRWrypGB618pX0wGnom5c3GJPbpVhcOB5xKQQSO1J2SSlO8mdx71NlRU7PUk5qVGy4UkR0ojzm1kJAncQc0JLRIGZBjJqFy4QkJPAHTpVJLTuwMBR6iKZ01BLp2wQJM0i64UpWP9okTVjp4LVspZJBKdtSojqDke1HJM8dKr9MthvChxOR9e6nXwEpUJwsgVi2a2pBTIkk4oMxcODypwSOKprltX3swCrG0e+R/ard87doiDVY7L1+hPCQo5BoVHwEl1bbyTsAGSM55rtfjPwQ/wDamdN13RnmHgu3Sy82XAktqGevv/KubeCvs/1Hx5dvMaepkLaTvWX1lIiYgQDmt4tvsN8Y6VuatdRtrdBADns7pSJAnsP1r6DhnjzFdVljMpZnJlP/ANbPZ3dpY+OPC3h63ukXLuk2jiLpSDMLKU4+QV/+dmOvN/FPirTU+A9S0QuKGpOam64GQknyhX4twEZxg5wekVb6Z9iHjPRdTTf2F9Zs3aN0Om4KiokEEmUx/wAVr/ib7D/EmlWN5rN9c2jiWtzrqg6oqV1JHlyevSq5N2MOGcUyn69+v/nz/wD25epBCk+bpxx86JoBUxrWnqEk/eGwU/8AzEmou+Q7yY4OM8+tS0b+bq1iEmB7dGQeDuH965MPqj2M/pr7eBS42kzuBFBUlQSCZPuptlofdWyJwkfpUQiACqZPSvbfnxBTYWlR2EGYyZpdxOfX1FPvNdIHlHbrSbre4knBjiamnCoQSoGenIpS4QskZk9hTioClGSkdAaVeJEGTt6DrS0okQZJEdhXgkqycfDmirb34AB94rwSSeFJ6COazsDKQRHSsKJMEAxPA61KAZQcdKi8JSQkRnNPXgIlZIJGMisFxSUiU8dfr4VFJGCSBBznivOqVs3BMSOmaetE03VPtNbQvWmLLTL91zTUr9pdrZAtg4lG/aVbp6gcf4Xd+16ztHUW6tJ1W8uNzDTjllbpU17ZxtKw2FFQzCu3FazqWi6hqukeOxZ6w5pbbWoPlxIYS57cfdmoBJ4AE8T7qqG/EWl6Q60zdXCbdxWqaZdBshSiGhZs7lkgZHOfdzxV6hO/IUVJBymcwrn41MKCjnHvpW1fQ+yl1B3NrEpUeo6GjYJJ+ooJkoSTgz2isJOEAJJNeKokBJ7A15K5IBwaDVOoeErXVrxT7ynAojbKT0pb/wBBWCViVumBElQrZEEkkZBMZohTJSJBNLtlazOxrX/0/sCY9o8mRyCJqf8A9PbCZLjxMRJUK2hIiREgHEUXaQkZAil2w/zcvu1VP2eWG7/3XRJ4mi//AE/sMAOPHk5PNbETE8k96Ik7ME8iYo7IPzcvu1r/AOntj7RC/bOyJgT1rD/gOwCiA45xHNNeIteGlKa3nbuHJPH1NUJ8bpWB/M649aqYQfm5fc8Ps+sFLG1TmTnOIrP/ANO7AhJQtxKh2V36Utp/i/73dNNBf4zGK3FKigwOhFV2xP5t+7WR9n1jgEuA4nz8Yo48A2Iz7RwziJH9q2KQRlPqaIkAEACZo7YX5uX3a0fs8skQStw7p61lP2f2chPtFmc5NbStc49etYBB4k5jijtg/NtVGjeHWNHeddZUoladpB471akwAZxGa8ByoHI5mswlSc5EYxVMcstm7TcEFQIIPSiqJiSR61C2ENBMxjFSX5gZGeJpIZZSU9Z/ajEAxJye1LgwAZz2o5AOZpBWXvhew1F9Tz7PtFnEzSP/AKL0pDm4MATWy8A96EqNwgGOTmp1K2/NynqqT/0XpYlXsATyIJryfA+k9GAD1EzV0jB65o4gDHJo7YJy5/dQq8EaSQP+nk9c1BfgfS1GAxAHrWxfixx8a9H9P6UuyK/Myvyo0+C9NQnytfGaz/6L0zqzjtV3EAjippI2EGfQmp7Yr8zL7tYd8F6d7QKDZB6STioHwVp0yWseprYXJnPINIavefc7Jx0KgpFOYQfmZfdWjwZpykgLYEwczUk+CtNTJQyBIyR8aoz43TGFdMyeaPZ+MfbPtNhwSTFPsg/Mv3XbfgzT0cNqAnMmio8G6aFSWpPqatGF7mwSSMc0VCpgjNHbE/m5fdUp8F6bEbCB0gmmmvBem+XyGYqybVAngzRm3IAknnpT7Yf5mX3L2/grTUjDaxmZ3GrFnwXpys7FcR+I05bKwO1PsOAeXg0TGJ/My+6ub8GaelIASogYyaeZ8HWASAUq/wDzqdSuenSnGVkievBp9sH5mX3L2fhWyt3EONhW4Gea2dpWxIAwAKqm1kKGafQ4FDFOTTPLK5e1g0cY6U20qar2lwRyZpxpUQR1q0RYMq+E000oxmk2jKZ+dMIVgUwcacz6jtTTSj149KQbINNMmI6CkDzasYoqVTilm1UdBmKWgOgxRkqHHFAQqKmgxnrSVsdC8R3rXPHudGif6xz7xWwJM+6te8fEf6L38wrHm/by/ptxfuY/25unL4T1JgkUvq5Q0lSECaOygmVAcZn4UjdJKoCiFAJyRXylfTBsEpaCRkAeamLdG5UZx1NBQYCikCOKPbrG9WODUw6faA284Bj40koKcuFyPIDAEZphL4UAMiJPPXpSq1+aeoyaooTu0r9rAEkmAKftVlvTgk4MEifrvSaXgt+SCdiSfj0py6AaBQDOJHuqWkVWoPQUpGCMz8DT+nyGkk4kcn3VTXTvtXthGSY5q40lQc2p7JmO9KXyemLp0IdggmBz61Wst+1vSqOhMZ701qLobfUO8xUdM2lZ7iR76pUfnwL920V/JeU1P+wxu9/61vus+Dro+BrLxDpV69fqSn/rEJOWDxIAyABHzrna0qjzHjPP161t/wBnn2kXXgq5SkoF3pj0puLNZwoHGJ4I/eD0j3eO68V39Tx5Wd2E8z/y0tzVLtxxKl3LqkkkiVHE1sfi3wi/ofhzQ9Tevvbo1Vvf7EJIDY/2kyZxHQflXQn/ALPPCPjxZu/DOrt6e+5K1WF4YAOY24nv3FJ/bhoT2g+CvCNi6pPtLVC21qQSU8Dg9eI/5q8p+m7cE5sMuTDHGavzNfw4i4dxkiSABz+dH0hvfqdoSI/mCT1isYMADgZj31nT3lN6mwVEEb04HPNcuHuPRy9V9zW6ptWwckJGe+Pr50F9REkHNZto+6MCNp2JgdsV57akEdDya91+fX2C8RBIPOaTWJXJxI91GdIWtJB3SZFCIiSVdIGaiiUq5sJUSM5ikbhJWT6cyKsFxMT/AHpJakg5kDjA60lgIQUkA4ATyKkVEpICoPcVEhRUfMR6UFxJmSuYMc1OgIFwQOZ9aEoQTkAT3xNEAAGeY7++hlPWPcKeirDYAkn8R6zXlbVjjAB5rKgpbZV/THTihJUBIUZBOM/X1NFS559pXi5jT9Hv9OYsdQbeeUltVy3aLDStxSDLgAHGJqtb+0i7s3bu2Oj2SLCzYvU2zqbgla/um1JSU7YSDgCCYj0pr7T7XxD/AKbeu/fdORoiVIWplVoovlAUmRv3xM9Yqg1bwp4jt7Z5Vjov3511/VW1Q8hG1DxSG3PMYgkExz3q5IV27TYPqe060dWlIccaQ4sIkgEpBIE9Mx8KbQMyPKJmKS0Zly302zZWNrjbCEKSMiQkA/nNPpMjmQPWpNh1RSAenpmvDC+xjJ7VHcJ2qnMRWQ2Mnk8UwKiV5xnian1mMUMyESDn1qaSCQIxmaoDoPmOTj50UAq6jAoLA3JV1I+dTUdqjHp1paCW2FEGAMcGpiVIg5ih7yZGPTOawD02wZ5pjbk326a2rRLjTokhwKKiTj/muQPeNfaFSklSZEyFYrbP4sNUFhdaGkrIStDpicSNon3+aPia+bnvESpP8xICc+nMU2drvvg3xebnxRpbG/CnkwJ5NfUSRKUmeOszXwT9mWuJuPGuhD2gj7y2CCcHzR/avvNkKS1GDVb2Qye2PjRMiBUEDgzU+I7ig0iPdE81lIgTgiozBJwZryTBE5nkUgzPMyR0rKJUB1jkivTMYwP8V7MQMg5oBtmSnqaKSEgzieppdlRMDqeM0dwSkyJIMZqSYQgKO2YJODR0iJ6HihhQSlPE0Qx1M9hSoSG48DHahEAe8c1PdPoeleEEnbCqQR2x6557UQSBmoI5FECpNMM8dKwFzBjFeX+E+tYA2mMH9qF6EJnNeBA6VgSU8RXimeYpUt0s45K1Ccj9K1vx7dCz8NXrpISUoJnJrYF/+7OAfX8q0n7X7j7p4E1V3nY0pUTzg04qOAHxqEOk7oCTABPJq68J+Ljd65YMqV+JYGTXBnPEAC0qSrek87eg71tX2fa0LrxhpqOinUjHOf2pbRY+6rJR9kkzEpAimUeVWT5cUpaqhlsx0E46UzugYyO9MjCVQDB91FQczmZAj0pRtW4nsKM2YI7dqZ7XdmSlEQAKfYX5oEAVVWylJT+4qwYWCckyKD2sEGDNMtLyDSKV59OtMsLCoM4PagRZoMkdfWnGVAbYquaMjPWnLdfEUFT7S4PupxlcpBE5pBBAziaZZXFVPSIs2VyOeKZbKVEUg0ZGY+NNtqyMTQqnm1QfWmmlSMZpFsiJ70y2qTxTB1s0w2cUo0o9OaZaNIGQYGKmDuAoKT+tGSR8Kk4KgxWteP3AnSUSYG8VsiSD7q1f7Q07tHRnb5uax5v28v6dHD+5j/bnr75RahST5icx1qpcuFkkwTJAnqYzRr9xSUSMYgUmy6XUpbAEk4I618pX06wbQv2bQzKjuzR0JHJI5oN08WQgDMAAA9YoqVkNhWDuMe6kBi1DXTj9aXWoMsOKJk8cUd1wlvcAQlRpG4XLITGAaKJHmm0hYgZUpIimNQdmSBBAAJFQs0m4WiEj8RUR7h/mhaq4lKVAGCZGKTRUoUHH3liAkf3q8tLT7qylSVBJKZPxrX7TKlIiDuB49eK2Vb+ywTmVHpUwVVvuQ6XFQroAf1qFkTyDEAmfXj9zQbh3zqiDBwKLZhRsC6TtKjA9MTVQ4+FNB8Lal4qu1WmnWa7q4SneW24kDucjFXh+w/xf7MgaM+AOVHaZA+NUui+INQ8M3ZutLvnLZ9Q2e0bPm2kic/AVav8A2teMF4HiG7AP/cOkfGvaxuOvL0uX87u/161/KY+x7xowpBRpD6HAcH2iQodutL6/9mfjY2a7rU9Ou3WLYFXmdSsoTkmBJPHxwKE79qniwtpH+v3YKRzvzFI3/wBpvibULNy1uNbvHmFpKVoUuAR1HHXrVXLHWnJ29RvdmP8A5aiobMCQQTgnk1BgE3DaQoAKX+I425orjinCQE9RioNDe82FJJJUAMVjj7dmU8V9zadDmnW6lnJaSffiovW8yFTBqOkS7pFkrcTuZQZ7+URR3hJI4AxXu1+dZeyKmwnbsiAOgpRckny5k4HHpTy0BKoST8aWWniDsJ6damliUeETAJPJmlCynqkn1p55IWfMoE9qUeVDZAIPQAUmuyZSUKGJAz61BecxGamt2MAAH38UNS1EiAJyeKBtkSUnE571gJ28/AVFBUsDy7R3rxWSokiQOCCaKNslsHGfQUNTKQZyMDHavPuLmSNyROBWFOBafMYHrWZVUeINZ03QtPXcao+hliYG5JUVKOAlKQCVH0Aqp0z7S9Evbti1cF7YuvK2N/frJ23StX+0KWkAn9a1z7WPEmlWirUjVFWmuaYr71bNptnHkqJSpICkgQQeJBkekmtRR4+vPF13pdjr2oWydIfQLi8RpumXIebWnYtLKlKBwVACU/7ea2k3CfQKBORgZ5FSSoT2SY4odpdNX1o28klTTqQtO5JSYInIMEe4we9MKheVDg9sVKtMOJkwRnpWVKAUSOOxqKpKkwSPSaztE9IqolMKCzAScUQDbu6D9aiFwSEiR6CiJWABxjGaYTRwD6zBohhaZ5NCSoGeg4wKICQBnjmgBlwJBJBgf0jrXLda/ib8EaBeP2d8/d214yohxly2WlQIJxB5rqSgFzmJ6+lcd+3f7BrT7T7A31ilu119hPkeiEvAZ2L/AGPIpoy38OBfxL/a/oH2lXWiOaG486m1bc9qtxsogqIgeuB+lcNVeFcx0HrTevaFfeH9TuNOv2HLW7YXtcaXiD+49arTuSDzIGazu2Uu2zeAvELGgeLdG1K7WtNpbXKHnAgSdoOYHur7DR/F/wCCEpAm9WTjFuR+tfCyFQSFRHavqf8Ahw/hxc1Byz8UeKLfaykhyysFj8XZawfmB8TVY34VNvqLwp4nT4q0RnUkWNxZMv5bRdI2ubehI6fXHFXQVvzkR6V4MhtKGxASEhIA6DoKmWtgzgVakQAkCB8KJ7WVSeOfyrKGpE/Go+wIV7uBR7DycETE+lSbECPKAOtELPA6DiaJ7EDOKQSZSEpwZI61NaSoxECKigAJA5J5okEYPTFIkkpB4z7xUsSecdqGIGc1MEExxnpSCaTKQf1oU5MHM1OQJg81FtMpgic80Bls+UZmipGCRjrQ0AIBI6dKkhRUCZgUBNfHAxUIJyKyTMdJqKTxQexAqUAcmK9BIP5VERyKlICZP64oORov2n+J9X8IaWrUdL0xOqNtSp1jO/bBynIzxjtNfNHjn+KJfi7w7d6UrR/YC4TAX7TjpX2Tc27Vw2pDqUqQsQUnIM18k/xF/YGvSlv+ItCYUu2VKri2aTJBP9aR+oH/ACelvm9DqgfKT6D6FW/h3xC7oWr21+zC3GVpVtmRPb5TVCyobZUoERgHOKtvDugXevatbWVnbl551W3aOAOpPpURL6f8K/xO654ivGNO07w+1cXKwBO8wkf7lH6mvo/TH33LNlV0kNvLQCpI4B61zP7EPses/s/0VDrzaXNTc8zjyhkHOPhxXW0sp4VnGPWqLW2EgHO7HpRW4JmpttJGD1/tRUNCcEDNEPR21MIAyYp1pfpSLBgGDGacbI93uppONzKROD0ptojp86RSsKCelNNQAIFECwQvckCcU02sj3Ugwvz54pxo4kTmmZ9lyT6e+nWSJBmq1o9KcbV26U4zWKDgGmm1nBHWkWVSIxTLaykjtTXFgycZwKabxSTapgdKaCgBnNBG0KMgAxPWm2jIGaQaVETzTTaqKDqSO/WipMJ7+6lkKmKYQoRUgUEwK1n7QM6Y2kdXAK2ZJiK13xukKsWp4C5rDm/ay/p08H7uP9uU6mwUKSiTIzFQttqXwDn2SJFOX6/aOlQFYZZ2WzzhzvwCRXyvy+nJgF99IPTPFPuidqTjqPfSdu5/OWdpkYGKZXuWEkZM1IFufwhIP4U/M1WXLilLSk/h7jvTbzocXEQBjFJ6gCGlFIyDGRQDukOp2PLUozG1NJ3zoWSmBu7RVraMItdPSNoGJJqk1BchSvwqUYBj0os1FwCyAU6FAQSczV1dKSGGxMyaqNKYKgjaZ6n1qx1AkOBJjAnipkUrbkByIH4jFNEFq1SiQUjzAAcVXuNqS635sA7iB1x/mrF8+xaSnOExIFOeDfAam0BIKSPRM9KSeSCVNmSImJqwdbSj0zBFJvpKFb9pzOenur0o9ywk62CQQd3ScUJQCQoAHIp5wBRLf4h5sxwY/wA0l7Ib537pHT85qtsrPsA6AgqzB7R6/wCDUW1j2gEDdxFGc2rTBTIHeg7Vb4a/EcpnIBqsb5TZ4fb/AIeWl/w9pjqMpVatHcOD5BTLiDvII9x6Uv4RYCPCulbPKgWqCnpI2/XzqwebkAf1cYPNe9X5vl9VhBxO4mMAczSz4ICI8wB7VYFJgwTxSj8BB3Eg/kaSCDkLWSBz+dKOpKkdjzTqpKYmR0jtSziQCMQDwKlpFaonIKRAoaUQCQcDEetNqSA4QBPegu243g9OwNBoomT1A+HeoK8qjkGeoohCQlJGO8VFRklJMACfdS0ZZQgckk0MpJ3YMHgCjLASQCJJrKZAPIMUr4h1zzxloiLS4TeO6/r1su+dSw1bWWoLZaQvaeEpwB5ZJ71qXhp2xutNbevNX8SC6ItVqaRqrxQv2ytiSJUTtCsE+nHfY/tD8S6Xc6/oWjou0K1NvUmluWiZ3ez2qmcccVzxu3utVtfCzlmQyrRrSxbvHUE/9Sp15GxoxggDzT6jGK1lQ+htMbaYs2W2ni+y2gIS6pe8qjBJV1MzTyAYO7menWte8EaNc6D4YsdOulJXcM79xSZSdy1KHQZggfDrWwIBJjMmoVtFJO0ifia9CisZgcgVlz4jNeSrcQSQIwR8KqEm2SkgbziZFFB3hQnHehtJSTgz6VIcckwDJpgw2AFKHPvFFTCj5kyfWgJVKiAeByaKqUuCPdU7PSatvujkd6yECScZqCzKSRmaihfAJoDln25/YTp/2paQu5tw3Z68yn+TdBOVDnYvuK+EfEnhXU/Cur3OmapaLtr1lUKbIwfUGMj1r9R0q8wEebFan4p+yvw3401vTdV1XTm7m609e9lZAEyOD3GBg46+tOWfKLht85fw1/w3KvHLbxR4otym3B9pZWDgyo9FqH6D419fMsNtJHs0hCRgJAgCsNpSgIQhICE4AHAHpUwoJMUz7dRkjaR8688sEgTPeKyFbVJznvWXEiCTgnn0+pp7Ha8y5uTmjp80mcRGTQEAKTFEEgCJB5pJsH3Ax0iszIMR6YoIlURx1zREABJwQeffQlIHagACPU1gKhBEcV4fhEDpmoqX+HIJPMUBOY5zWTB80ZxQ2zPPxxzRQCqAeB3oAiVDYDHpIqIV2OfWsgpAKQcz2qCiJIzPOKQSQRBChnrU0KEEERng0NMGSonmiBMJ2xBPWgMkwCZkViNygFHPSvOKxjpUJB5iKDk2Mk4AJrKhKTn4UqrULdregvtpKeU7s1A6vZgK/wCpbn/yFJrowtR39qDd2bd4wtl5IW2sQoHOOKXc1uzSqDdtD/5YFSb12x3HddI2j/upDt2+UPtu/hsfs9ZOqeF7b2tvcOfzbMCAhROVp9O9da+xL7DrXwBp6L28Ql7V3UjctSfweg7d66odZsQTNw3PvqP+t2SFAG4QByM0tn2mmJCgJwabkmDxnNVI1yzKj/PST7jmio1+yHL8knmDS2O2xbo8ySQf80QdOKphr1ggyXxxzBEVaWF81dpC2nA4g43JNUWjze0eYRP6VW614pRoqg2Gy48oeVIMTToV5eOBWk+I7DVb6/W47bWj1qgEJ3OQVD9j0qozrZvCfjZvxLcXNr7JVu8yYUlQ/etytlQCOTXP/Aem3FmFOO2bdulfAQvf+5rfbVQBiek074I6hUHFPNKODPr76r0mYwacZVjFBnmsnvTzJHSq9DhTAn4040viMe6gj7RppCs8880iyqDzTTapmmU8H2l+sinWyCKrWjCQOlOMqlRAmmDqCDimWzM9KTSeO9HaUQDJxQD6CImaOmlmvw0Zv1NLQMonqa1jx6+WdORHJMAVsqScdq1T7RUTpjapOFftXPz/ALWX9Onp/wB3H+3OF3EqUmAo8x3p+9It7FtOBA3GKqbVaXL0pOQnkTTeqkvOJbEkRntXyj6elrZJcClpHJkAdqfQ3GSc1G2Z2AiIAA6U0QkJUAQZzk0QtqoK9m8VKAIJ61IpDj6EkzJBzmsLSHZUcSZFRt1KU8SRlJ2g/AfvQaw1Nz2aEgREQAK199SXfYNpkpEqn8qstSJloKnAwTVY3Da5JyBtBHc0smkO6ZDAO1P4RUbtyXFjdRrAhTZVHKokUlep27iqQScxS+DL26/b3TKlQR0/KmrklSzkCD76Vsrf2l5vThCDI/X+1N3Z2tLc4gd+KUN8Juo2ASnM1WuIPtDugD6Jq0ebBKuBngn8/wBKQUkKdEjHPPb6/WvSe7fJVaCCVAbSqSZx9Zml0pKxCQBI5px5sFCd3TqP1pZSUiSJiOOmKadBLQFpOcATCT6UBICXUmJMgwO9MrISlICZEQABzQCduyCAZAIV0pz2mx9p+ACtfgfQSQQv7m0CDz+ADPrVu5JJgEZql+zAb/s90NwjBtUc5nFX7wKVEEcyK+ir825Jrky/sm6QScQewpR5HtU56HEjrTi0TMjzd6XcATE8TzSrKq9ScyR8B6Um+IPJq2WkZxJiffikn0yAI2k0qrFXqHnPMj16UA7fKcD17Uy6nYqTk8e6lV/zFEiFAdRiBNSpGQB5R75FBckzIx3pnZAAAIBrBA8qZCu8UKhQQQAeTnisLgEYJjv0oy2xEA7ehio7ApRBQT2nGaKKSubZlv2jikj8JUVxx8aS8MN6SnTbYaT7I2xQFt+xOFJ6K7ketVXirxbd6Qu5tGvDurX6Utz94tEtFuCOBLgJI91aJpd+94W8LeFNdsk/erp5hNk5pbSQXLpMqUPZhI/EmVHqIJ45om9IdqmDxySTUkKBSYIzmKQ066dvrC3eetl2i1pBUw6oFSD2MYpyMkZ/eg2C4YCUzUvMTuHA5FBjYBjpRAIIz045qogVChBAlJI+VZJSlJVuHUknihpBUTPXoKjcoHsHNsQUEc+hpVcULvii5fuHkabbNraQvap54wCQcwB69T24oidd1hwkFq0EZlO6qrw0ylnRbMJxKAokjMnmfzq2bRuyYgCZms7W0jx1jVgkgC3zyFAmPzoY1PWCcLtkx0CDz86lvAJzOZGKzujPIAzmls9JDUdZXA9uwJ7I/TPuoqb7WCkRctif/wB3iYrSLn7Z/Ctk4G1agp5W4tgNMqVKk8pEDJGeOx7Vtmi6zba5YW2o2TgftX0BbawIkVW7BJDYutWKc3gB9GxUV3OrKOb9STMSG08UZYVu3A5PeiDbsJWTAHSns9QJa9RSmTfEkj/YBFQ9pqYBB1F0e5In500pA2bgPL2nmokEglR+dPY7YEnVNR04e3W/94ZQZWlwZjrnvW4MPJfZQ4n8KkyI6itJ1MbdOuT/AEpQSQMQK2vRwlGl2qQQUhsce6qjLKaQ8Qa4nw/pS7sNLuFpICWm5kkmqK38d6inUbZi90J20YuVltLpcCsxMRH71W/aPrr1r7CxaY9ql2FqJaUoAgyMiIrWbLxFqj2rKXeIQ+y6+l1DYtlAtK4kEn1rSTc2wt8u1NugN7icRM+laVrP2lMWDjvsbZx9poS6vcAEVsV9fv2+kqctrZV28U+VkKgmuSaho1/bMJVc6DdvOvKAWLd3CpPKgMQO/wAe9En3J1rwr4ga8R6SzfMmUOCcVeJMA9eK1nwJYmw0BhhdqLIomWwvdHxgd62JMJUSRzzPuqaBN3kJjivBZA/DP70NKxO0kScAV4KPvANIJo3YER0oh6HrFACzGRAEj1oiYAE8EdaAktR44war9cul2WnOOIneSACBxTghUEAxVV4qMaYqTiRzSrTFS29k24hC3QVrOSSaYNiwRPsxM162H8tI67Rz3ok7QB0rOuqADTmJUfYisjTrcr/9pInHFGK4gxiciiAjdP0KQAVYW+8n2SZmBjivfd2uS0PiKMtQXPECoKWJ8uKnZwNttqSPZA+hH160Zu2bCfKgETJkdPo0JtMmec/KjtHA6nPSkNJFluMoTB9KY0AG21RSWyQ2sZT0mgA8qIwBxRtLJ/1lMYSBIHTrVSs7G2KV5VYOB0Ncod9neaneqcvFSVmUJc4749K6uiFpjbM9/r1rW9Y0vw1ZXM3qEMvuZJCTKvlW0rCnvAl7dususLb3WzRhp4nKhA+vhW7tuCQeOlUOg3dhcWaU2KwtpHYcVdNKGJM9sUVCwQrA6g5xTLajIgyDiKr0EExBkU62QTBOKDOtqkg/lTjBiIHNV6TkRGDTrCxiOaYWDR4immwZmZpNvgd6cZUTiKqIONzg8DvTbSpMA0ggwJ/WnG+Mk0Kp5CiT7vSmGlDNJtLkUy2c0EebVIFHbM8+6lG/wiDmmmzCY60wOk8RmtV+0FyNMbnO1U/ka2hIxWlfajcG30luP63Nvuwc1zdR+1l/Tp6b97H+2g6a1ufU6Oo3U2paVOAnkSaDYShlUEQRg+4RUL9RStSk5hPSvldPp6smFe0RIxJAqV0AwCBM8x6UnpalOPIScJTkk0fUnPMCKChF8+VEQCeprNgSHijmBuJJ61jCkyo+VJmKxpivbuOL4AMUvlcj2qXA9uhJHSPyiqd8wsg9Dup15XtdRUDBCR1NIuArBMgSZms6td6W2r/T21RjJE9voUndHchO4GScZphpK2bBKZiEY6UpcJIQknkZqr6J7TFgOvgZA/4qOoLSG9oE4M0LTEHa6VAQRmaXv3fIsGBEn3dqn4XJt8VOJUUJ5GJgmk3pSiSDJ5APoKsHkTKiEkpPIHT50u+Dv2wSCP6eDXoR7kisU1uByfSKEps7SlI3HqJptf8ALSZSdskYyDQlKUkpIAGOAZq9ghcBQJSqQYJxxQwCXSCdihnGacd84mCMdRQUIG5Rgn1705Cs2+xPsdIf+zPQ1EFKjbjCufqZrbHkFKEzlXY9a1H7F3Eq+zjSoztSpMe5RrcLglagT6V9DPMlfmnUTXLnP5v/ANk3yAokZ7CknUbjJMelOOp2xIPeguIG3t6zQx9lHUJIkkTVbcpzBMgVaOgBIPNV9w15iZ4H4Sfr6NB70QuEgSQcdSk0r7OHPZg45k4p5TaQVAYPagLYSqeQPSpVKCScAQE+tBdUCCZGMc+6jOo2mUkwO1AuZUEnbM0lIRKp3CD3OKhMlKgcdqytJTjp091DCIEiAfSg9l72/tmVFhx1tLqwQhKlQVGOg6/CuS+F9S0Dwrd2Rur129vtHtF2KEoZIYSv2g9qWlq/EoSEqzgT61Hx1YsXOseLr+4XF9p9kyqyUoGWhKlSn3qAkjnbHStd122ZffTaOuayUOPOK0+2GlGS+6oqcIVyuPPAHrMZp4xG30DaXjF2yh5h1LzSjIWgyk+6mN+4k8d4ql8KWNtZaBbs2zNxbMICilq7RsdTuUVEKHIOfzq8RtCSCBu6ig3koJgYCJgGvbPOScjivFQJiMA/OpCCIMj3CnsIwEpMY9aHcf8A4R2Mq2kAUwoApxnPNL3bu20dHEJP+KVONP8AD5/+yWoGUhAzPIq2bUrZIgpOMmqjw817HRrNO4kBO3PJ+s1bAwRB/Ksm09JbCQOCZ4qq8Q6sjRNIfultLeDY/wDbQQCfcTVoVDbsJ9Z+vrFa744s7N7wvfqvLZu9aZaU8GnBgqSJH160Q65Ex4hRZq0ltvRHX02F088pb1wygkOTKcr9fyHw6x9mF8y54YaZt7RdkwwstoacdQ4qOZ3JJHXvWnW1h4VstV0O3uvD9la2mp2ft0Xu3+X7fyn2ZEQJBJnqfdXStE07T9Gt/Yabbs27G4q2MJATu+HWqyu0yLpRBCT1MAma8okpO446Gea1zXvGul+Gw6Lx8JdZCVFlHmWQokJgesH5Up4Y+0XTfFeoP2dmSFNNJcIX5VZ5BTyCOs9ZqVNtJBSElQzx6VlW7ZtnAFQSgFJ3GJ9ak8PIRiOwxRDB1EpOm3KVDCkEHOI61s+kp3WFspJwUDrWoaoCdMucbTtVBitp0fd/pluOCGxHyraMslb49u7uy8P3D+ntb7lP9SUgqSn+oiesVpmnXCGNS05ehapd37zjgFw08yQjYRkmQI7DnnpWx+N1X9g0b8a05ptm0EhxLbCXCTPSQe/FalpfiJpepttJ8QXJceeDW5VolsKXzE98cehrXH0577b54/v72w0NBsnzbPrcCPaJAOINaCm51f2dvfO6mq8eatw8d4/HCjjHpXSPEWgN+I9LFpcuOIRIPtG1QR6g1Q232YMWj1tF4++wymAhxZO/3nrz1omi023w7rA1nRre8Fs7be1RuLTohSfQ1bAlcE0i0gtJCE4SkAAU1CgkQJkVmYiSN24dRmaz5UE45MiaCrek7QPNFZCXCfNkg0EKARnAEzRCobcGR6GlQpRWUkyKLtlODFAF/CMHr0NUviwg6Z0KpE1ZlK4ycSaqPFMjTdw43D3mlW0KMuS0DmYEiihQCRiR8qUYbJaQSZJE0YtyIUSTJmKzvt0xIuAmZHxNES8kESQeOtLqASZAUPTtWAg7SYPw60kmCqFH/bEnvUQsQSSK1a78atWRuQpkulpZTsQZPWm/DfiRvX0vJNs7aOMnaW3hB6ioG2wNiUHjI70RAKcgx39aXRjCcT3phs7gZwAQaFDFRiBmcUXSEn/WkkkfhPSlgJI5kdqPpMjVUDiU5E04mtsCtpk9K0LxB4gY/wBZUtTHt1Np2hKykj5Gt6HmwRIitM8R29n/AK01ZhLFu66hSw47wqIBE/EVtHNl6W/gfVbe7W6WmQwogb0CIFbw0QMnMcelaJ4DCQblCmUJWgx7VAwv6zW8NmU5NNB5tYV7qbQQYM4pBkZkR7hTjBhPXPemDzK9o5Jpxk7sikGlyQIpxhQABFBrFqd3IPupxpWRVeyogjqaca8oEmnPLM+g/GnGlSB2pBsiBGacbJ3Cn8qNt4VzTTeYMUm0RuBIppBINModZ6Uy3znFKNLzGKaTkUGYbVPwrRvtUA/0613f1Pcd8H6+Fbqgk9etal9o7aXLC1CgCQ4CPTB/afnXN1H7WX9Onpv3cWlBLbVskgwqIP70isFbpBOJxUlr3lAnigofh0yMIH5mvla+nPWR/mJ2qB7/ABNe1B7e4rKcGJmsaaJQSolJAnOKAVB90pOfNMjvQaDxKAEmJKanpzRYY2ddpWT76G4SkkZIMAE5iiNFTbLypifKJGTUrnosBs+8OTlR2j86TKCpe0H4e40ylz2jao/CCTPegv4uk58ogD1qKa7uhstEgQSrHpVVeAlKYIx1n1qzvRgJ6IHPfAqpuVb0pHIHNVSgrCNtiBGFGqW/QVrVwTxPpV/eK9naspBBkZqhQ0ty4KT3BMHHelY0xunx1dqG6CBANLrJ3kghXk4nn0pl9CVNpO0eY5KcdP8ANKvANgefb6zn6zXdHv2ElbS4ZOwHgHp7qXKVLJIIBBByI99PuoO4rJB6mDxSykholW/cZ55ppKviAAo9OY5pdSMqhJCR+E8d/wC9OXJCinfJSlIzz9f5oKklKTGR2mtYl9X/AGAue1+zWyEyA44CTz+I10JbWSIHxrm/8N6vafZ9tOQm5WIniT9fnXTnkypXRVfQY+cZ/T836ua6jk/uq162yZO4TjFLvIhPXdxEU+UhSZKp7ml3WyJ4NDjVzyNojg9qSekgHHqTiatHxCpPB49KReSACaFK25bOIIJiMml1qKMpyqeJ9aedClR5RPvpVxC9pG07iOuIoBR0FeMjn5UL2ZcSpQJPwptaFAQRnnigOt4CRgHsM0tGTcUZ9OO9CKiCUyNojIHNO+yGFKwYzNBW1KY4FS0an4g8AaH4g1Bi91JkOPNFKRucUlKwDuAWkGFAESAqRzVe99kWg3j6bl9d+89uK0uL1F/yqPMeeB8KY+0Aqau/DhD3sh/qbYV5oEbVfrBHvNapp2qeMX9I1y4bu7BqxYvLtKFLSsvlKCUjPCTjtT8pdM0vS2dIsGbO33eyaEDesqPzMmnGhhRMHPTrVV4WuF3Hh7SnlLWsuWjSipZ8xlAyfWrZsELyOD0pGxEFOZPIJqSTzx2PpXlhRWEg4iBNY2mQJG7t3oAgMyEkTFLXTU2joB5QZ60ZCS2Tgwc5qL8LYVCogTxzQqRpnhtav9HYCoIgwe3mPerhX4MAH9qo/Cp36DaGfMd0wIg7jI+BxV1uKUT099Z322QUuAIxPWqjxg1958K6s2kKWs2roCUAlSjtOI71bESowIPrVR4xdct/CuqutKKXUWzikn1CTRPYrTNR8M3vi6x8P6G4y5baQLVt+7fjavcAIaHUHmTW/wCjaPZeG9MbtbNst2zAKgCorPc5OTma474h8U+JkG2a0rVEWTFvZaepaVMJWpwvHYpUmeFEfOug+ANbvrvwzd3Gov8A3u5tbi4YU6Ubd2wkCRxMRMVdngo594i1pnXPFF9qbbGsWyUMMJtrli0n2biFqUpRCsRnrjOSKb+x210tzxG/qlm1evG4Y2i8umSncvcorye5IOMeWvf/AFU8QalaPuI02205CPu60u7/AGiiHVgJ/X9a3XwB4mtb1lzR3w3Z6vaLW25ZhJTCdxhSR/tIgyPyp/CPlvKHAZmZ7VPmAeuaEkCQBHbHWiT5hn0qI1hfV0kaZdkdWyRn0kVtelCNNtkiP/bH6VqWrKUrTrlKVhJU2oT2xWz6MSNLtR0DScj3VpGecVHjq905Wniyur9m2dK0OQ6SZAVPQHsa1RGveHtR1PUm13qGVi9adCi2TvITAjEySVD4+tbR4xS1bM2r/sW1qVcttKU4JO1RgxWoW2vunUG7pKbAWar9Vl9xQ2n2uAZVMT61rHLXRPEzxb8Mag42spUlhRCk5MgdK0DS9WuPHOquJS/qGms29kHA3u2+0UZkxW9+Jjaf+nrpu7uU2Vu4gt+3JjYTgH51o/ij/SnLqyDX3u7fWx7IiwWAAhPfp8s0odbt4Gunn/Ddit55b7myC6sypWTknvWy7jtJ7fma1nwU/av+HbNVohbVvt8jbggj0I9K2BChEdJkUqB/aREwB1rTb37UNMZ8c2PhlhwXF8+FKXsM7ABOfnXPP4gPt+tvAGmvadprqXtYcSUpSOEDuTXzh9hPjhpn7XbfWNdvYLjbgU+8qJUY/t8AKW1Pv5KlB6cU2Yxiudj7aPCCFoSrWrZKiDAKx+RmrC2+1nw1eLAZ1Jt3M8j66UJbluTknkcQao/FKinTCCZ84iaNZeJLHUHAGXQsnoKF4tn/AE0EcKUImlWmJC3UUtowBIE0YT7Q59aWaClNgTkgGIo6VSmBM94rJ1Rgrl2CY6CetSDhAIiYoC1HcRBknqKHd3KmLZbkQpIJA/Og7HNdW8IXFzf3GosMuOXDdwFhpRwsAyCfdiK23wki8cvLy5vbYWq1mAgGT865xqP2k6reOXli6pDKN5AU3glMnr3iPzrcvszvU3iLhSLty7a3CC4rcUnt+lKzwhvxSVZHl6maMFqSRHxzQEypGcmOYxRYkQee0UpDg7ZkHIxRNIWEa1BO47M+lBQIVAz7hRNKP/3owmYRCvnVFW3JO5HIT6itG8R3Fwy/7O+eskNnKFOtkxz6etbqFACSQABM1pniTUNLeu3nHLllaUJCSgkSk1pHOuvBdxvbV7K4tX2RgFgEQfWRNbiwZgGPcK03waLEpdcsn0OIWlJhAgcc/nW3MEJiTn0qmdWDbghIBxTjK93WR0qtSraDGSe9WDKwlERgUgcaOBxzxTjRgpnikrdXmHcfnTaDCwYxFM1g1wAMGnERx04pFhXfvTrUQI/OnGd9nGDmOacaJIn4UkyIHOaabV8PWnfaodbXApptUkUo0ZNNtgRQDDf4x3702k5569aUQD0pkKyMUAwOB371qv2hK2WLGclcTW0JVgVpv2mlf3K0gxDhJz/2mufqP2sv6dPTfvY/20FDm+6MYBSYipLbCB2K1fOKHZAhIUcknHwo6R7V4A8DJPY18q+oozEmzecKsKVAHaABH7/GgWydqicDaPnimHCW7QACAZKcUohZShQVgxOKVEm0W2/bbTuHOcev9hTuouIZs4QMpj/NVxWWVJSBuO7AA99T1ErNs3vMFSsj1qVkVveztEyIkdB1NFsGTeONKJlJXP50pqitzSWwDJOIHAq20hgsqQQIShNTPNMbUVkmAQBycUi8pKhtTySBPanb9A3KjtnGKrbZKlXLUH+skiOREfrBqiHv0hOyDhKM44mqltxx28KUkJRG4x1q3vW9iHRyTCZ9aptOWFPOkngdvjRs3yI/tXCSYUMpIyPfSCtqUgkzEwY+f6U24gxvKfcKWcQSlKoBwTtJPSu6R9Loq6oqMDEcn4UK4cbQ0lG4yMkxIk9qcSUqBQlMJ5j691LXDUgg4A4n1J/saEWEnPMVJnBB6ARQZiYmBzTr7W1W7kAZxzmllJO7akRgc9M1UpafUH8M59p4MuknG26VwPQV1l9PBk/KuQfwtAjw7qzeSBcJUkdgUg/rXa3UHeIT1ggV9Fx/Rj/T83/EJ29Xyf2qVojAmKWeaCASVHGSOpq2cQQT+VIvpG4iMEzk81VcKqfSVKKeYFKutgCDGR1qxebM7grEZpR9OCJj1pBWvN7cgEe6k1sgTkx25kfRqzfEoKT1xmk3GypX5UAqttQEgfEj30sUbznr/erBSAEnaeMTQSkpTgdc0KnskpEK5hPEUEyFBUjaelOPQMhM/HNKObQcT3qFtJ+0NIVceG9pIWrWLcj4E457TWvt/Zvpi7zUmXdYuV3FxcPuoat7xaEoSoyEqaSoAwe4z6VZ/axd3Nhb6I9asm6uUamzsakJCpCuSZA98da0jwxbqRq9jduWrbF89rOpIuVgAmPZuSncYkCMGI47Vc9I3uuvaFYosNE060Q6LhDFu20l0cL2pA3Y7xPxqxThaldz091av9l6lv8A2e6CskhZtxM9RJFbS2CMZmcgipvtYayVEKJzXgYIKiSTwRWSncFEYHT1oapSO5jg0jMKG6QT0yTmhPiGVhIkbTFDbKkLOzIP4p71l8ksuAA7o9aVqpWl+GnEnSWtpUqCrnH9Rq4jdjvVL4XSU6WhJEQtyCnqN5q4yJyY6SeKitIxMKiSf7VWeI7F7V9Bv7O3IbefYW0hTiiAlRSYJwafKSBAPzFSC4n1zNI2os/Zsw62TdXKyt1q0bcQgQmWDuEE9CrMVdWOgJ0fSbywtllxNw486VOESC4SojA4kx7q0Kz8ReMNeW68xqem2Nuq+fs7dhdqouFSFKEc5J2/nW3+C9Z1LVPBzF9qASnUCl0OBKdqdyVKA/QVd2Uu3NU/Z34n0vT1tP3VlcIV92aQ0hBCylpe4EknnmR6V0fwP4TTo5ub2+LdxrV06tx99J6EkgD0AiuZ6jc+JLvwj4c1n/UVXd5dv+0S2tMIaKkKwAOwB5nM1sf2XaRe6VrLKnnLpbVzpjbr3t1lQS/vO8dp49fWnfSZ7dXCwds4BxiiBWJ5EzmhlQwBkDIipqWVQkxxnGOKjelltVlNi/HO08do4radHzpltEj+WOeuK1PWQHdJvAskBTage8kR+9bXpDgVp9oYjyJVB901rGeSj8YaTresKbbsV2rdqhaXJdCtwUkz06VSM+BdWRrg1KNNS8V7iptsgk9/f0mth8cX93a+H3DZuqYuFOITvSmSAVCSBBnE9K1fTde1231z/R3C7d+wvtq7soCR7IpmCJwZMe4DrzpHMu/tOtTfeHLdlTXtpeG9ESCNp/euU6dc6hahblq05buJVAWto989sGu761qtlo+nKu9RIDKcADJJiY+vWtWvvtL0LTg4t5KywCmHGmiqQY6fIfOnLoVdeBFKc8OW25oMkD8ITAHuFc5+3z7ebX7PdNd0/T3Ev6w8NiUDPsx3V/b0rqXh3XbTxNpbd9Yq32zk7SoEGPWuNfxFfw/I8e2rmtaOEta2ymSDw8IOD25591RTfFmr6xd63qDt9evrubl87lrVEn6ilEr8wKT8OKLqOm3WlXDtreNLtrllexaHBCkHqDQrVlbzoS2lTi+yQT+lZeaW2xaC4UOhIWYJnArrfg50OOsmSCDMdxXLvD+i3riwtu1eMEcIVjj0rrng/wAP6kl1tf3J7aDG4tmPdVyWD27/AOAFFJZUFSDBit+8SPKOlp5jcmtI8C2bzSWyplbZESDW4+J1FWlpTn8Qk0VtgC0dycTAoqlKUSopieKXaJU2n1gk0UhRQYmBAP18qzdMSA27Qo/iOD61F1tL9s43P4gUz8KislSkgD4DtUlOFDO8gyASQKFOV6/4F0fTrlT13qa2lEE7RHXsPj2q9+zjTtNs0Po068NwndCiqMH6Far4y1BvU9XuLlSLltDI2hwNEiYzPpxV39k1lbW4unmEPS6d25xO0kEjEdKljvzp0tCjInkCjlSusniJpdOTu5jBFE3ZI4jpUxcFaXED06CmNISDrf4pO3cRS6BgDv8AGjaMU/64Y5DfaOtXLsq2wQUZx6c1zvVtZatr+6tmbe1fuwrclDqJMcV0IEngSCO9aw94NTeXz9ypQQtaiQtIEwa0jA/4PvU3oWpVu1buACfZDB71tzROPdzWreFtBXoDS23LpV0FHBUAIHQY99bU2sECFYqqzphszFWFuvckCPWT3qtbVtPPzp+3VCRj1pEeaxAGSKcaJV1jFJIMnrmm21QrIntFUZ9lUHJ+VOMqGKSZiJmKdZUeeJoRTjPIpxuDSDSvMKcZVGZ+FVTh5oiR27022T8PWkmCZNNtqmkDSMUdJiJNLNmMU0gQnNMDpMxWo/aQUqs7YHA3fsa2xBn3Vpv2lf8A4a2yRKjx7jXP1H7WTq6X97Fo7aNqwew4oiHAlaiAAT070NEqVJ5FE2gLBInOJ+f9q+VfTiX6zKGsyhIBIpF0qCVKOd8DmmXgXXDOJ5oS1BDOR+EGpqoHZLDl+lUbkpJOfjH6UbUihx5sEnak5FJaR53lrJ8gV07RUr0LdumDkEiSKXwYC2vaXiyvvAA7Ve6eELbByoiZqiuXSl8pAyk4PeB/mrjS1lNsqfz70sfYBvJKHFHJ/tSOjpU5eLJyERHyzRvbrU69IlIGKJpqglpfRSiT76YKas6UI2oURKiZpazZm3UsSkFRAip6m4SsqPCT8z9RR7NndaIBmNskg9+aRvjF6C5AECTuI6+lLFSTMCDzHP5U08lSJ3Sdwk0F0LKlkgKHcgfvXoWvpoVUzEOHCVGPKI4pRazEgERHJxM06tnaCuBB5AGKA+gSkAQCJOOaVpUqokiMgwIHQnFDKQFknIHEnijR7JciRIiZPwoLqTER7yOaJSfRf8Kj+6211BkgKaIB6YVn16fU13d5G0k+vSvnz+FO4KNR1q2MQlltefeQPSvoYoKgVZzX0XD548a/OfxWa6vP/wD3wRWSknmffSzoC53DJ6RTzreTAEnj1oLySpEkZxNaV5cVjzO4CPzpG5aATxJzFWi5iM57Uo+zlJ2z3FIKh1uRmgLSTwQAO4p99vbMHnp2pRSdiAOVYz3pmSU3tmRHrUdpAJj86bU1gn+rsaAWykGT3/WkCSkAqkDHTNJPQCTtJgQO31zVktrYSOM5zSr0kAJAFQppnjvQrjUrG1dsm0vXVldt3aGFL2e12mdoVBiQTWltan9nmrMLtdXDdjce3XePWWqEtuIdWSVEySOsTMdq3rxtrlzpWnqDNu9cPOgtoLKm0lskHzfzCBj48cVy3TNR/wDT15ZuWnh7+SkqVe3F5qNqq5u1lACStftOQrJn1xVT0J7de8OjTU6LaDSPZ/6elG1gsxs2jHl9KeUkGQZ55qn8Lawdd0wu/dmbSHCn2LNwh4AYg7kEjr3q62lUgcg4pLRMKTBE0P2ZUuVDE5ohJBMkYqAWT0wRMetIPAbVwYJP51F0wlUDlMQKkkBSoUJA4isqSEySJTmYqaqNG8NbV6aFAky46QCMAFZIAH5VaTE8+6qzw6lLFhtUgpPtHCEk/wDeTVl2Ax6nmo23keglPEnp6VReLU6j/oVyNNaddu1AJSLdaUrEnJBOKvdwPkkAjPNYKkpBiQespx1pbKxwFzwZ4nLzDjrV+Sw+q4R7W9bRtUYJV5QIJM5iuofZ9pmpMaLdMao2UqcUdhU97UwZMz05ECtCurFCdT1F3xJpGrapfuXK/YuM7lNhB/ClG38MftPWuifZrbanp3hG2a1dSzcgqIDrm9aEE+VKldSBitL6RiXf+zDT7rTtMsVX2oJtrBsoaQ0+UgAmZx1yRP8AmntB8D2Xh29TcsXF6+6EqQRc3CnBkjoTA+Fc/wBW+0q70s63pbF8P9XVrP3W2LrZUENqKYExt4Ksf4rafB2oa3beMtQ0bVdQRqDSLRu6bcSx7M5WpJEScYHrRqq231KgCDtnrR0kJTlImefr6xSu4nbAge6i5Ek4MTmpnswNVSF6fcBOFezME+6tn0ZO3T7TcJHs0gz7q1XViE2FwSMbDNbRo5C7C0EmC2k/CBWjPJqv2h6NqGouh1lbLdk0iVKdcKBM5mtK8O6W3d62gW2oWqrlxxKlQ8qVFP8AxXRftBt06nojlm3qVvZXe5LqRcHyqKTMKHYxWsoeRrd7paLpzStORaOh0Ks3ApSlAQACDxn6mtZ6c3y2rx3b3Lmk2brVsu7Ns8lxbKDlYggj865Ox4J1Z7UX1ezVvIHtGyfIkGDI9Rmu+XF03bsF1TqEoT/Uo4muD6pruoJffTb3ziNS3OJufaOJ9gtO7ylMd/eIHUmniK6z9nGmvaJ4VtrW5RtfTO8DiT2/OtpKhsJUJB6TWveGHrh7QLJdy+3cvqaSVOtCEqMcgSeffVoXYSpKj64qabi32/8A8Pdn9oVo5qmkoRaa80nywkBL6edqvXGD61wH+HXw2q1+2NGm6rYw+2hYW0+JCSPQ/rX3KslSeZxFau/9n2lPeLLTxI3bhjVGElCnWoHtEkRCh+c81U18psX7Ogac0ry2Vuk9w2MVYN2Ns0k7GG0k8kIAmhpV5T3HesqdMDbORULNBTbYEISIqn8UrT/pqVDBKwKsNxVEgD1mqTxcFf6cAnqsCprXF5r+Y3gdMURS8QeAYNK2oIbQSTx060YHBzJxWbolGgLcJ2wTHPSh3DgtbR13aJCSr5ZrAUPL6mo3LZumHmQYC0lM+8RSt0NuVXPjjV70vIt7RhoBakpURM8jIx8q3jwXr9trVkQ2lLVywSl5tI/Coc1qTf2capbuObdQS8hS5A2AEfEVvXh7QUaJaBCUD2qyfaLH9R4mpqZ7XLKgkApnpRt6TiMxBmgIAUOIT6UUkpGOepjmksZIKCR69aLo0DXFRlWznp9ZpfcAQSREZmjaMT/rCjMhKMVUTk2vgSoHPatEe8VPI1B/T2XnE3Rf9mhRB2xjr8/yreFKDYJMnr9fOtH1RrSnrW6Uq6C1e0DiVMKhxJmREe6tI52x+Gru7Wblq4uPvKkKkKiD9YraGV8AAkiK0nwJcW62rr2Qug6HCFi6EH4elbk0vYqeTVMlgzyN3aeacaUYiMUgl0bUzn1p63WABOfSgLFo4AIyBTjUp2nme1ItKSTnoY5p1peQO/5UzPtYImKbaVxGMVXtrzPB4p5kyjoCKZWHmuRNNNwT8KSbUTB6dabb/FPTtVfCIdbMQJwOlNNqIiPzpNgjPeKZb64mhVOJJ8p5ppo9DzxSrREAAijoPegGkcQK037SyPYWnYLJ/I1tyTjHXrWmfaQrai1k8EkxXL1N/wBOTq6X97FpraiucdetTCC+82JhKASR34oNsoFBPA9aLbu+0DqkgFKYSD3OZ/avlq+nRU6CuB8fWlbskrWI8sRJohB+9JHIHcUPUlpS6E8I6n4YqKr0ZsbItMJ6FWT8aVeKzqCoHAwY9Z/arGycL7SSD7/dSzoSm4eOB5etM4rnGyXTKf8Abkn1k1aNYtF9YkYpJ1X8xJGeSPSrBuG7FAjzLnn1ohknJS2R1V+le07cGXFlMf0j0od0TtXKoCRIPSKNZpjTkniSJ9T1oCvu1B5wtgSEjcfUzx+tWLifYBlCcjZnPbAFL27QcuBIgE5mPeaachAUuACniiB8ZJY3SPMSDAPHTFAU1sc3f0zjrirJSAlxQKAVcAjp6xSD6Ul38HGBNdW31GiKlkOTtSUqzmI5mguJ3k4T5TA2jpFPuIlIggq481K7TA2k4EGqSUWkJG2NsDM8DmhOpGwSkJkZI+FFUhQWBMp6gZBqLyCpwRIITMDBI6fvVaLTtf8AC1CfFmpNJOHLbgmSPNP7/pX0w42pJMDHrXy1/DI57Hx+tEFPtLVQx7wa+rH0hSiADPXvX0HT/tYvz38Ymurv/ZWupAI6+tAcTORxTjqZIgSfWgLbPUAVtXjRXOJgDMCDxSrzY6gGM1ZOtzMgRSL6SkKMHuD60jVTytxHliIpR5CZJCcdJp95JlSScelJuSMZmmQCpVIAjE0NYhI7z3o5QVTxioLHE9KmqIL3DAMe8Uo7hRHTuetWDhJyR/jNJutAp52mPr9KKHN/te0i0vPDb129bMv3FsUlpTjaVFIK07onuO1VBsND8N+J3rLV9I0y2064IOnXn3ZIQARlpZIICpkjIBB4HFbP9rTRV4H1NpiVXCkAoQjKlQoSAOf8mkdV8Jr8beIXGNYa/wDyesUIU3aBXlvHSAdy+6E4AT1Mk4xT+A2HSmrBNvGmoYTbrJUDbRsJ4xtx0p4JmTOBme9I6OzpumhWnad93R90CQq3YIlqZIkDicnPNWBBA6bc8VNXsApT7RYUZJ7UNJChGQeh7U04kSSABSsJJB7iffSPaSTtIGCffUH3Nok5HWKyGySCAT6SOKw82VIM4xRVY1pGhKLlqtODtedTzOfaETVqCQo7jiMGqvw42lNq7A2qVcPKII5PtCf1qzO6dvPNYOiIrJKtw6fnVdr1gvWdPctm7x7Tyof+9bmFiDVluEHHPEVX6pqNnpdoq4vXkW7IIBcdMJGcUQq47f6t4atLtbD/AIj1+6ebuDbH2KnILgMbMc5+PrXRfs4OnvaCbrT37x5h11SSb0kubkqKTIORx+XFc6e13QNIFiDqzF0hGum8KmMhtCtyiSQOhiffXQvCVxpa9C1FOmXQu0e2ddXCSNqlyrb7s1rfTPFU6p4DQvS9dVe3TWnqe1L/AFBu7SZU0lITEz6pM/GifZ8zZq8R3moDxH/r148wlCjtA2oBMEAY5nNcYttYvX7H7pdalcXLd0iVpcXvKUqaUSAOCN0CDnPNdH+y/U7bVfFRfTafcXm7dVsltDYShxAUkhZMzuwPz+NfByuzCAVRgUQJhBUYkxGaCmfLnJ5ogKYid1Zz2orrSh/pl3uEn2Z4zFbVpco021SU7drSR+VatqqtmnXMx/7ap+VbJpap0qzMwPYowc9K1Rk594/8U6dpviX7teaGi+/lhRuVK/DIMCJ9Ko9C8UsDVrSzt/D1m4q4fKfbEbS2OkAiMcdKvvH/AIB1PxJq7j9n7MNlCACsxEcj671T6P8AZnr1pq1neNvsMtMv73EOIJK0hQOIiJE1t405b7dX17SXdV0ZVo04hlSolSkyPdAiufj7IFHUU3TmptpVs2+zbaG0j3E/nNdMuX22bVa3nUspCcrUYAxzXFSzaXLtj9/1h5h99p9JbVc/1/0q55jM+/iogrrWh6YrR9PatVPe32T54ifh8qsVbfw1W6ASvQ7Mre9ssNpSpYP4iME/lVgmIHfGKSmVZVFeBKukTxUVEieh71lPlBAFOAQBKpMCsKMYAn96xIMDdXlQVCOPWkEicRjFUvitSvuCO+8Ce9W5USqExxNUnioKGnoHUuDmlV4vWo/lJnmBiiAlPoetDYALQIPHTrRRnBgQeaxdDKVZ2+lFC5EgR3jmlyYVt5/XipNmFGRKjjmooFQlQJ99EBJSCTk5qIIgjnmohMHPekcTComIA4HvopT5IOcd6EmBJAk4jsaLIlIjNNSaE+0M5GeKLpCgjWHdwEFIiliuDAEppnQhu1Zwn/ZAkVUKtiuSTauHbnYea4e9YXttqLjbNo7tJUqfZq2ySqf1Fd4Sk7AkgGOnpWu674qtNIWWhbl1/kITgq/zWkc1hT7Ohchl43iClwmSVJIn51vTUkx3rWPCXihjxLbOuNo9mpCinYeYrZ2cbZg57U0yRYogwSB/amWs/Ok2gRtmJ91NsqA/Fx60oViwYwSI606mJERJ70gwqTGTHWmkKKgMdeKuEebUUxiRTzSh3qua3H1xTrKgcEimD7KyTJ4pxvEjmkGcJj8qabVmOlVGfo8wqDBim0qPApBvHBplpRwZzQr2sWleWjtrwDSbSoA70dtUj0ooNtueaDmtM+0hebWQnggTW3oOZrSPtLy5Z5kjcYiuTqv2cnZ0n72LWWIRbqAiSOlSALVkVJBkUoy5LUCZPEimrpeyyIBGcGvln03yEhe5IX/V2jmq+6Sq4SsdZMGmGXvbKICfKkRQLtOwATCp4Hakpa2DJYaUElQQhOD3H0aUeUF+2IInmm2bkosVHqYx6VVtJ9vaqdBKSpU57UzYsit1wiBExBq21dJCGkIx6ikLVCg7AjJAEiac1B7+YlswDHFKErrhcIUIlIGSD0poupasmxGUomB3+jS7jIP8sj8Qk45qd2lRT7IdQJI/MfpT9mJpKN1uXFDKj5Z5zk/pRFqCEqK8ZMk0SzbLVu2ngpTun1NAuUANqCv6jkVWtCPkNxKipW6UgYB+P/NIrUorlX4e/wAv7fnVtdJ/mGAT29KQeHtCpSBjbEdOf1rV9NLtXutnzAEknoDECgqhJVuHOAIzz1p1aiBCvLA4B/z8aVQnask95irirCq0pST5QiSYTH5/pS7qAYKSAoic04EjJAJHTFLuNkHAAJGFDr9TWkS6V/Ds97H7TbSBPtGlgnoTBr6/VAlRgT+VfGX2ILNv9qGjGTlZBIjMg19pLaO3ndNe70v7UfBfjk11Mv8ACvcAkKn8qXcSCRtketWC2RuAilXEBIyM10vnletEHPIpO4SQDFWD4lREdM0q6iEkgZ4ipCrebgYwaWcaExAnvT7iR6zxmlViQdxAzyaAry1ABid3WcUNxvIxxTjiQpIBMiOfr31AoE4PvzxQuK5TflPfpSbwgHcBJ59KsVojpzSzyCOOBSDVPE3hSw8TMtC4ah5mS1cNnatpREEpUMjjj0rX7jwt4muZsla4GtNgFVwhkfe1DqAr8KR6xPMVvpSFKIiM1BfEnngE0eja/ofhvT/Dlmm209gMNyVLJJUtZPKlKMlR9STVhtJkYjHFGKAnA54FRKU7tw6HM0GWfa3JIBJMyBSZT6QQMVY8DkFQ6ili1uMySRgxUgIpgSk4obqyGgZAg0wtMJgUJbXtREkSDRV4tJ8PrK7e6MFf/VPCev8A7ihP5VZBUmBieCardBJbauh1++PyAP8A94f2irASAJEisdOtkphuYBzgzS1zaM3qCy6hLiT/ALhINHMhRk0lqepM6RptzdvEoaaSSQgEmBzAHPupxCkv9T8K6Dchq8csLe5SYCCkbhV7am0v7EO2hbVauo8qmiClQyDB4r55d8T3Oka5rR0q2au2bpZuBc3lopTqlqOUyoxAxE966t9jjrCPB7LDTbza0rUt9DqAmHFeZW0DG2SQPQVdQ1d/TvB+mouLl7Q1Pu2l8rS2A0CpaiEgnB4iTx2mr/wA/wCGbvVmV6Xp5t7l60FylawZCSraUkdCCmDWsDwQ/e+Mn9UbTcrWjxCoqbk+xS17Ep3BHU5Gf+4irn7MvDusWGvKd1Cx+529tZm2QSsK9or2y1yPSFDHpT+BHVUrjtPvqSVccic5of4hIIFFQAACIPurNZTWgTpV0BBPs1QY6wYratHd36bbHgBtJjtitV1uP9Lus49mcxW0aKkjTLUKncW0knvitonJpnjH7SnvDfiS30tq3acU57Me0dXEb1FMgdQIzWLn7QLnTCqw1FDdtrH3tpDSCCUvtLcA3IPUhPPr6V7xZ4I1HXPGlpqVku2tktW+xx64a9sF5wnbIgiTBGc1J/RPFN3rrIdXpirBABLymJWFAjAHTHWa08Oa7bF4zbFz4YuJcLbaUhRITuxzWjM+DbW71T/Tl6kEXRZDwbDYG5B6/t863rxq2W/BOqISYWLVe2Od20n9a1LxFo9x4q1rTbS0U7p71myHTqLKylQSrGwd5IBM9hSia3nStL/0bSmrNL/tNn9UATn+9PHAPFBtGTb2rDa3FOrSgJK1cqIHJ9aKSD1PHakpnmTHfpXkk7TMTOawhUCOKklO4jqOKDRSYVOQR0OakPMlJkBU15SQE5OTXkp2pHPrQGFCJHXpFU3i1OzSwsjdsWkkjt9H8quSCTkTmsPtofaU2pIKViFJNKnGv2zg2pKSCCJmaOVwVBRA/btTLfg6zAOz2jaVZ2pXwZ7UdHhS0Bz7Q8f1HpWVa9xD2jRiXAJ9ayq4ZSJ3gEVaN+FbBHmCJI/3K4qafDliEbiwFH/uNTZsdyoRfNBMqcAwea8q9YTj2yUifxVsTGi2aUAhhO3r1rw0W1C5Fu3jOBml2q7mu/6g0kg7pz0BwKKnUmvLumeYjNbInT2Ck/ymx/8AGit2zKThtI6RAp6Hc1b/AFFKTPs3CO22rvw9auqWu5cTs3fhEVYlhtKhCU5GcCjtKCAB06U5NFc9ilRCD1PSa5p4jsdSvLt59ywbcQoDaC/sOCYg/KugX5Ldm+tKoUlJO4d4rlDQN848ty/en2hmXODJiPUYq4zrf/Amnv2FifaWzdvvO4JSrd763FpUoEmZ/KtT8G3t7dackXTSQW1FCXEkwtIMBUesf81tbRBERFMj6HNxTBwMe+nG1SYIiM8c1XNqCVpMHFPtzAzQVWDThJwME8062qPWq9s+Uj9KcaOY6CnEw6wsAHvFONFI4IHWaRYxtPAmm0mZCeJzVA80SiJn3022ry0gh0EgSTTbR6TTl0VOsqBUOkdRTLawB7u9JNknimGzjPup0osGlnEZplpcmq1tYA7022oHrmj2D6FyPStJ+0JQW+wScJQR8yK3BBH781o/j52b+3RnKYge+uTq/wBnJ3dJ+9i1hhR9sG+AlNG1AA2KAcEwY99KoUpLi0p/EQEj3zR9XG0IQJxEmvl6+jK2igyzAIEnMUNA9o4omJWvj8hUi0EtBQA54rzIDa2gogZ3HtUxZ64SGLZTYyVQBFIrdAtUNRtBBV2pjV7yETuKVEykdSOn6UooH2TIVCjtA7CnQd0lP8wOucJ9OtSuily8VukxgVPRoW2ogYk592KSW8VvrM47R1+poBq2Z33ayTJTwTXnl73AIJO6CetBsXQt5wAmDkmm7VgPLJ2iEDE++P71WKbRyQEnuqIqtuF7XUz0AVTlwhQewrAz8aRJAWpxWe08VroY+3yxqLQN28kYhUd8Dv8AnVY4wAVAKOScScfQrYfFtoGNd1FoI2qDyhHoDiqB/cUSBuxPTGf0oj6Xju5LCL4UoDy7/wCkTGKBvK1bSYTzBptYJMyAEnBNBLI2lYwVZyPhVtyhEkYBzwfhUVgkwoQPnRi2CgGduDM1hxsNkpOemeTzVQmy/ZZcKs/tA0ZaFpP/AFKAZOeYr7gT05HYmvhHwPc/dPGGlPICdwuUYHH4vr5195J86UnkESDXvdHd8ev5fDfj2OubDL+P/wBLrzSjqSoTwOKdcSd3GPWguNgjj4muuvmFc8mYPY0o4Ck881YONkT0k8mlHm5z1HalQqnkgEkA5pV1uFHGDmrJ9HHTtSaxG6f+KNAsUgCY6QaUcaACs9Yx1p9TeZGKA63PfGTUrlILR0AzSrrSjkKiOs5FPKGeuRSryUzMRQr2rHkFBBBMk5NYca3jsYmaYeZTIUTkxjvWHEBCCYgfpQlXOJMJgZJqCk8hQJj9abWBtMpIHFLRJGDjqKDhRzyCOSnvUFkJTzE5oy0FSiQM+tDWhCR+EkngRUGXVkkoBntFDWvakhW6IiKJhLsqEJoNw2gpEpxzQ0x8NI0pX8u9JJJ+9O4j/uNWCoVCQIM0jpbYUq+BPN04ZB7Ec1Y+zUDJ57jNZOhjaQMmc5FV2taO3rmmPWdzv9i9hfs1FCunBBkcVYGD6KmIApDWdYOk6e9cC3evC3B9hbJ3OETGB8RUqcW1BPhCx1Zi1NpdXVuFqS485cOeVSX0NGfNJhak89O9dN+z+30kWF0dHZNu0i7cYWCfxLTA3T1B6H0rkDWg6ndX1w1/p7zNxqjV4ja4kn2CHrhpRWTHMBUeomuo/ZL4LX4O0y+YcU+oOXjvs1PL3KKAqEn0kAGPWtb6Z68t7Syk9Ov1+lTWhIQc+mamkBJHPyrDpPYiahSASEEiJ5rEkAwYipISQAYkRzUy0cJV5j+KD2oCv1hC1afcbQSSkgE9cVtGlIP+m2iUmAGkDv0Fa3q8J0u5Iz/LMY69v2rZdIbI02z8vLSTjritMUZKrx/r9z4X8N3F9bNe2W2tAUqJDaCoBa4GTCZMVp+j+NLy517S7ay1ka0l5c3LIY2BDUZWFA9CRjOPytvtD0vWtWWGrIrRZrQULIfCdxPQg9fdWl+FvBN4bq0vLItJSiG0w+ZSMYI+FbT05Mr5dW8a3C7bwnqLqB/NRbqUkRMmPWtC1jxJriNXcYsLphthCkMpJRKss7/yOPcPl0bxHpLmueHLqxbPs3nmShKz0MYNVTngG2edW8+pQUpxL3/ioI2Y+FKeBd054W1C41TQrC7uFJU84yla9mEkxkj5VbZMTkzyaXstNb0nT2bVgeRpO1PTHajZEz8qSom4CCCeeRXmylSYmIyIqABKpKoPcVhKVBQEzQY64TkEQKiCFRtMECB6Vgjywc4IGagggROD1gUAUOQTgxU0kqUCTHY1BUb8COYzUgN5EgnjB70qcNIH8pIEjNTJ6cietRZzAOMUUxAxzUi7DCoMHrmiQQIkx2FCIMxBJHwo0b1e/vgVNkTsQAf0mAO3WsbitUce7pWACFGPjWAMnr2pKlGCBt9cCaypBSQTMc0NpJcSdx+FGWkkgSD2FBI7UlOSR6d68gEKJ4PBJrCVEL7RiiQQkLPPamGDCk+zUNwVIgnpVMrwJpJe9s3ahtwncSkxJq7Sgk7iOvyowVuJEyOBPxpB62ZRbspZQkJQgQBTbaYMxB70nJPl9abbMAA4+dVDhtpzaBOadY3EwZpBvCoPXmnmzPcdYNFKnWVwmR5sc0+0ZAM5FV7Ks8HNOW5AVMRIpxMNtGVCZH7U5buYwfNFJNABQI70ygGRA6TVmcbURBGadZ564FINKHBB9KaZWee+M0FTzZwRPuo7bh3Uo0uflzRkYByacI8hcGOKYQogJE0k2c96YbUQOTg8mmZ5CoAEQOc1ovja4KdZaH9KW/mZrc/aEqwI+NaB44cKtZHEJbHzzXD1t1w139DP90Vdmj+YhRUIBKiT2HFR1C53PlJM7RNZ0pYuEqKv9wTHHrSlyouX7kye3zr5mvo9GHVbbZH+4Aq4+VLbTcvxMJgAknsJNTfIW0pMCcCaZ0xnzncAJwBS+TVuqri+S0jASRGOgEcUzcqCOJKowB6Vi5KBdvPrAOxWOx+oodvufWMHcTgHmkFjpThQh2EkFKev176RcdU0xugZnPXrFOMLNpYuKCZnJPf6FIb99uCE8Uz+DOnuFGnqcUAl1RwI9Yq609otoCiccxVZb2+6xkcqVtiatiS3aqKYkQB8K2wjLIterQG5naVcdPrmq24ggZgEzJo7/wDMWlMHHpQHEBd0luAqCJBFVaePh89/aVbfdvGmutGQE3bokcjzkdu1ae7O0qAnMbfr31037cLD7t9o+spAje8VxHfPb1Fc2uUkAkK8sxzxir1rxX0XTZd3Fjl95CK0guEKSoBUkD+1RcBLgQIwAAqfy/OjKJBIzMn8PvNBmMnzQScH1FDs0XIUE7oISMZ5AoRBBK5iIx1ic02twhK4yngZoK0FaggeXHI91OFYLorgttUtXRgNuJWSRiBBzX33Zpm1ZmZ2CvgG3QEupCTCgehiCOIr728Nr+++HtMfyfaW7asmT+EV7nRX9Nj4z8fx88eX9mHEZEGg+zzJp5bWaApER0xXoV8ir3kyDIpN1mMDgflVi6gbuRz1pRxBJOJE1IVbrMJ54zSbqAOhjg1avohJ44pJxokkjE0BXrbBIPp8aGtBAGJE06tqDge6KXc4/eoVCS0DaeqpwTSNw3tjAniKtHG4QTERxSNy2UjB45FBzwrltkRgkTFQdQYjnHFMuJV5oz15oSox7qATebASYGeSRSq0FKh291WDyAUmI9/fpShQAqQQI5jNAKKbC9wjzcD0pZaYJmRTzoIdJHA+NKKE7f8AccCpUBsClGSAe80BwKIIgcYUDTAUCQDmcT86jtRsGT2pNJWg6WAjUNTZmHEXS1FI/wC7zT8Zn8ulWaUZhQgHBE0/qHhhF1fffGHVMPqTsUpP9Q9R9daCrwu8pQKr91MjhMCs7GspNaQncDx3rzjaYgnI7UyPCKUqhd3cqHP44oo8KWhQZdfWpRyfaml2n3K9LSN43bQT1xU0qQkiFp+fwqxY8KWKQjclaowJWZ/WjjwrprRH/TpUDnPJqpC2qUXNuCQXkADrPyFRcu2Eqn2yI5Ga2BPh3TklUWbUnklOSZog0WyQo7LVrmcIp9o7mq/6hbKTCnEkyE4M1J/U2EFIKlTtEQlR/atuTp9ukphlAHP4RzRhaNpSYQEjnGJo0juaLcNuay0bW1bMOHatxQICU9fjW6WzCWLVptKtwbSEjvjFMoZQ2IBme1YSgRBxM1ciLk0n7TrpDWhsst3KWrpV2wUoDgSpSd43QD6A1y63Op2+paaNJ/msOXLBvA6mUodlUFB/8AZ91d4vPDOnapcpfubZDzwwlSxJHPH50TTPDen6Tblm3tktN7t5HdXf31pLqMb5ptlCw2gqGSJrKxCgCeaOlGQO1e2QsADnqKlRR9MkCOOlC2gp5hXzpp9AmRB70NSd4V0xQZcNxBjms7SJk5nii7Cg4gwINQcRKInJNA2gokJMiTNQXkCQBPBNGLHQzisBBWMj50DaLQAHY+tS3KCogfA4rIG48cdxWVjaMAE9qVBpogtzAxU0rBHAmMVloANAkwOMVkpCfxD3ntWdUj7IkwDyeamJQfxZGJqQwpIJx6e+pgHbEc4HWkNMf1AZ4iBXoxgRFeKRuORujrWZ2kEfGKAklIRJ/p61NIKYzjnmhJ84AKs9fr40TcJkiP7UExzgn14ouw7SIz6fvUCciAO1TCyccH0phhpUCIgzk1NDhE+lQ3RBiJ6UUJCRnPvNARSCog4+NPNJ2wBkAYNKN8AmIPAmaba/AAMUQQwxIUPf1qwQkZjk8mq9AUCJV8qfaBTgmc9TVVRttXmiKabEnaDBHakmlmRTjSikiMj30mR1tRBBx6zR21QST+tKe0JiD76YQslW4mtFHm1QkEZEUy2Rik2VSkEmKYbO0H0GaAaQrzRMfGmkKAT7qQbVKjxTLaj8JoSbS4JBHNNIVKTSLcyJIimAuB76fs4aSvBma5/4xXv1pY4wkY+Nb2hQOMRmud+MLnZqT6h+MEARXn9df9L0ehn+7/sHagW9qCkyVGPdVZauKddWVQFqVAHcCnvbgMeyjzJSNx9TVbaqAvSSAUwQmOlfOV9GNdvezSpZH4SVQB2p7T1qt9MU4sH2vWTx6VX3LgcdKBHRPTqR/anVOBOnuycDA/f9KWyLWqlXTjyifKBABPu/tRbZSSpZH4k4AH160ro7KktPFZGySc8US0T/ADdwwCoRnpzx6YpGtNUAZs2kkHc4ZhI7VWvr2BLYgEzINWGtPJ+8IMD+WkCJ6xVSmX7sJnkpnPOeKpNbDbtbUNnEbd1MLUtNvgEiDxQwkJIlPYUW5ChASB5ec8fRreM75ViwVPSIH1/igyN7rsAycD07UZwBveo4G2OOtDZEpSMD07VNVHN/4krAW3jwvQEe2ZSuT1IEVxS4TKllJSDIwBnivo3+KPTx/qumXcDappSeOs188vtQN07uRJEd/wA66+edvJlP5ev+F59/S4X+CBkASdxPEwKipCJCAJJj19aYUkbSYkzMgekUDcobgnEdx1rF7BbYkKWgK83Pwzio+zVG4GMYn40QgFQE4Any9T9RUwAWQB5p9c880k0FkRce0ESDmK+6PsxfF14E0RYMzao6zwIr4YICFTgxElImvtP7CrlVz9mmjjqhCkY9FGvZ6G77o+U/H8f9eGX8t4dQE9I7Us6lJPbGKbcBKtoGO9AcSe/wr1HxJJSBPSR2pV9sAGBmn1pyMc80utseYHvSCpeSqP8ANKOpyc/CrK4xAgjdApJ1vE5g8YoBJbYVkYIoa24/EPhEUztM9D6UN0CAI9JpU4QeQCnMSI5pO5bC0nqfSrB9MkdPhSjsAp4qT2rSz5Sd3y6UBTR2wocHmm3PIqAO2Y5oLqlHOcmKDV7g3HiBxQVggncNs04tAOZAM9qEpvJkx0xQFZcthxWOO4PNLLJwRjvTzxVkxJM8UmtAWiBCSCck0HAFNA5PPPPFeiSSOT6UVQCUkHywSCIpfdk5H1/gVNVHgN0GYjOKiDCyYwYxWXGwNhHJA91eCCIpLYUOTHwFDTjj3xUipMxPvivARKSIzg0aGwrm+RatBbpCRMZqtPie1jMAgxk1rv2uaqrR9CtXgYKnwmUkD+hX9hXIj46SnYC7JOCZPw/T86qTY2+hGPFDKlJEjJ2j8hV8mDBJB/evmHSfHHtNSt0JKln2gEJOTn1xX0wHZhW3aOKdg2OUncRgjpWJhJg/PFR3SAN0+n18ayklSgAQmOSanSL7ZdgEAAE0NRlQgiDkSay9ASZI9PWoIBWATgdIOKpJhkkAAjHNTncvzKITQ0mJiOIB615UhUCZ70EIvoqZPPrWVHyQfKaGlUglWRWZTJ4AA5OKDDfWAEkgevSh+0BBAj0qbwkY49c0uVK3ZMzxQKIsblQJnmKHtVvA9etZCyMDI6VkDbBGaCTBKR15zOYoYVI4JHXpmp+0SDEyrtWEqG2CepECgMhAOIAIPNZA3QDgmvIMqjJ9T9e6sntPuoUZY/CDz8aLtAwCFdhWGQAlIEc9pmiGCNo579qizZysJAJMiR76IEgK48vTNRbhxPlGD3qQMmMT6ip1o0S2ZODAB6RUY8wPWixIVJgHEChPCcjjrRoJNJ3FST+IdZons4IBGe1RZSQg9+s1MA8gQPX86dFQJAAABgdqiZgR75NT2gumMCcRUgJUoHEHipJ5RkpzJ70RPlQJyJ571jJAHIntWZTskETPQUwm2sdcpNNIEIG3HFKAAgEDPHvptvykicDpFAMt8kmCOhNOpIUOeaRaUkmJx3pttzcOPlRs9m2zB4mnBASCkCTSLRMiDI5zTaAFDOR76bMy2kgGfdAphBkwfyoCF8dhR0pM8irijKVq3ADmmG1wM5NJtp8wz0NMIUCD7utMzTZO7GPdTLaiOs9KSbWSOM0dKsifnQk92gmpoWaXbWFfDvRULyM80EZQc8iubeISHNZuQqQkuDB9BXRd2ORxXMtVuEO6vdgCSHSM9Oleb1/7U/t6v4dP9l/pC7fRb6WVT/MdO4nv1j5RSumr9p5jgA7fSo6mFOssJBhJSVCce6jWpTaW6Exv2jPvr5+vofgRxwN3e6c/iwJ936UfUHfYaWlITuUpW0gHIjB/OarbPe5cqUTugyJ6mj3z5DTCOpJUT76QEaU4m09kkwVCCT2puwbO9AjeJn3+lKqWq3aaRncat7AhptKl4PXNOFolfLU9cKXO0ySfdQdNCV3alrxtUQD6kf5ppSkOriABwTPFT0thvbJEmJjsefyqpEVcWyiXCkp69ehqN277LaJ/H+I9KxarISpZyDn6/KgXbpcWnAIxM1v8IJXcurEkgETU7ZAkGYJx5qisSVxwOBzUwQ00tMgmJx3qKsr/ABTaf948PabcJSTteLSo9RI/Q/OvmBwECdsTPHX6zX2Z9v8Apn33wBcuJElpaVgRxHX6718bXJKXdqjGwkR8a7+tx1zV0/gefd0uvtaryooA245kntSqlFJIUlWD1PGY7U6rzJAB9wiKVdBUgQgAgA5MCK46+k9hISFEkCUg4z26fOoBCmgCpKpxyefSioASsAHIxJESfqflUlHYggCSkSATz3og0VUChKiQUkAKwY+fzr7C/htuTcfZ4yCctPOJiZnJI/KvkNaMkypSsEREx619RfwrXSnfCuosEbVNXIMdYKB/Y/IV6vQX9Vn8PnPxzHfS7+1jtSwd3PFAVzwMU6pB+NLuIPH517D4Cklgg9xSzg5gCaeUI5pd1HUY9KRKm4a3JMwRSrhicY9Ks3hjNIvNRJjNBknRmRnOKC43MSP8U2RJGOtCdAkUqCNwg9OneknE8xkjgVZOJyZ4iaQd809KNmrXJClYMzSzqVEyck5p8hI3DJ+HFKLyZP5ikISeBGFQRQylQGcR1ppxA+J70uogg/qaVUTeEq4JnFVzg2r44JmrJ0EAwee4pRwZV1JNAJKGTIMkj5UNaQlMHg0dwgHIg9PSguJUcROYAHapqkUSlJIUcc55FeCgMH8q9GQBzNCXKlHMmfN60lvODdjpUQZUBME8etSEQrHPSk3dStbVwFy6ZbUMEKcAoDlP8TNyLTwfZOKUW0i6AkHJJSfWvldXipX8whxISE+UGu//AMXPiGxvfAVqyzesruEXqVFpDoKo2qyRM18cr1IhMGUkn5096Tvzp1fw14kL3iDTR7aCLhuIPXeOa++WHSbdJiDAx8K/MHw/rBtNbsn1rDaW30KUZ6BQJ/evun/+Y7wNZ26Eq1ps4SAAk8HGe3xpy7PbriFTgDzHANSSuT0Eite8KeLLLxdpreo2PtTau5bW4goKh3APSr2QVCDTT7EWuEmSDGBmhIJTH5dq8oE5BIrDaJgBR7e6gDIJUkH1zipuEd49aVuNQZ09hTlw4G2UiStRgD40rb+IdPvEpU1dtuhS/ZBSVSN/+33+lTAsZIGFjacFNEU6CFA5kUBS0NkcxHEZ5rXL37Q9LtNxSh99hud7zSNyAByZ+BpwmxvL/wB2D0xjmoLWJABI9Y+vWht6jb6lZNXDCkusPIS4hxGQoESCPhUN5Vn9aYohXzEjrRG1YSNw5iq661e0sAU3Ny2ySMBaoqvd8baLb7Q5qduknIJcGPjNMRfyQUYEdc/GiFJGBj1HWtKufta8K2qilzW7NLgOR7UT07mqy8+37wTZtgnXLZSv+1YOPnSU6QFwFJgjsazMqmQDxNcfuf4nfBDKtqdSUsJOSlBM1XvfxZ+DW4KHrh7keVlQz8qPBO+Nr27RMnvRgrzJ4PSe9fN1z/GV4dtzDVhevk/7QmBn1UKrH/41bUpWbfQ3StJnY44kCPeJ/ao8DT6l3FHMz6VIHdz6TXyLe/xrX7qCbfQUJX/3PSB3H4fdVU9/GR4jechFhZsjpyZ+P+KV0cfaBcG4DPfBqDjiUiSQZ6c9a+Jr3+LHxg9BSq2YhJMpbye3UelU13/Ej41ugof6t93M/wD6ttIz8RS3F6feaHEpE7gZPU15d2ylPmdAzwTX56Xn24+L3yr/AO/XCjMFAKU49IFLPfahrr6lFzWbxcngPkD9cU9xNun6Hv6nabCV3DafVSgM0o74p0q3G52/t0mOS4MGvzqufFWp3oKntSuXFJwJeV6+vqaq16hcvuFS3luKGTmQM+/PP5VO4mV+jT32m+GrVO1zW7KR/SX0g/rTOg+OtD8RvONaZfsXjrYlSWlgxX5vi6dQI3EEmYB47fvX0l/B8XH9U1ZaoWv2SJBPGTRtT6yEkiJzn9aYbMEbsn1oCUKIC4n05pkDAPNNIrZAUI6022Sk8YilGxuJgmDETTKPKoKneTmIo0NaONp2EZ5PMcU22BzM+valGyFmSMmioKt2Oe9P4I6kgD+/SmELCog4pVowSegPFGaMiRgDuKcENYABoiFQYjPBmgpUCI/qqaVQurUbbnnijNrzjvmlUkgd+lTSo7gY99BbWDSwTOIHBoiVxlPypZKgY5/vRW/LmgjKngEE8iK5a+su39wRtKlOqSYPWulOKhhRjoa5hbtlu7k/1qUr5mf3ry+v+nGPX/D5+rKmNQbSoe1WYCQAAP0oaZSwgEAbwKUvrr2917FKto3QR+tNuOpS4nbPlRk14Ve7YFpq1LvXEJTASIMU3qrJWtlKRzjFC0dpIS68n8W6PfTby/bXPswYATg9aRg7Ve0UuQRwn3VYsuf9ItSoITAn1qnuXg3vSgEkHpT6YFggkEoJ3H1NECAWGLZaiDJSpX9qf0VhbdmhSjCj5j8fWqxSvvK1T+FRCAB06VfyD7NKMIJ/KtMWWVGU4UW+cnpiaX3hSpMgD4Tmi3KiBtHQQKTuHSpoBP4ycx2rSpiM704gSTxyaw8krbCUnMzWQSkAHG39etZb/mOnt7qhW3RftLszqPgjVmR1ZKoPoQf2r4WvmouVpUZ8xPHNfoRrdqm60y6ZUJ9q2pJnrIr4H8QWn3bUH21p/wDbWpEcmQTxXs9dP1TJP/8AH89Y54f0pHEEJSBkc/ChFJQCPKScgUdwk4UJnEpJmaCpwEAEHOAD1ry32IIQQduATkdzUHMLgGZERxmpqgzmMwDuxQwpIJJBmMEn14+vSgMJCgATycQPdX0b/CneSvW7eZILbkDpyK+ckLHM4PGek13P+Fi8DXiu+aCj/NtoCekBQM/mfnXo9FdcseL+L493R5/9v/t9QrRBGKA4JJOfdTSpPSMUFaDuJ/SvcfmhN5HHpSzjeOMU6pE9Mj1pd5HPQUj14VzyAI6YpV5ISQnk0+8ABHU0k6Tvn8qQhRxHalXkwR76dcUUjA47UsrMzNJRNxMY+EUjcIlRPSrF1AnIPNKXJKUAQM1J1WrRBPu44pV1G8Z4npT61biZzmKTdgAyCJ+v2oJXueY+oyaD07k0w+NxBAMnigczM0KLPIBQSQT6Ug+ZM8Cn7t32aICT2pCE7DPJPWkcmyi1gvCMQDQnCUmQrPMUV/aTwZg9BFAfWMz5oHBpKkCJ84EzIr0lQMielQlYIJTkDFTSmJGecH31O1PEEJI5Mc9K4r9uv2IK8cWr2qaI+q11tCDI3kJfiIBHAPSa7O8VKEgGOSRUFkgjEg8z0qdh+Ymvade6Vqb9jftOs3bSiFoeEEGapi2SRA4HAGYr9APtj+wrTftN0tTzQFlrTQV7C4SPxSPwq7j6618PeKPCOpeEdYf07VLdVvdskgpOQoThQPUHFCFC2k7tsR099d6/h5+wW58b3zes6y041orB3IQrym4Pp124E9+lLfw//YK/9oN+3rGqtFOhMKkAp/8AfUJxnlP6x8/trS9LY0qzRbW7aWmUDalKBEVUuj1U7K2bs2G22Gw2hKQhKEYAAwIFOIkoGIHehNJVu29AOoorcoABEZxHWq2emFrgAcnvWC/tmMH5wakdpykEj30spvfnI6R3o2NNQ+0jUbR3RRY3KCvettyI3BWxaVEH5VoWk31srxVcracetNMF2i7at2mAlClbQFE9siYA7etb99oNpplnpTmrai268GtqEtpcKQSpQAE9MnmtWVoydC1CwVqOm2amH3wygNPKW62pXv5A6x604jVdJ1zU06VpS7paS4ANoCTBPpXDXtQv2E3dnZPvtaat7e1blSTtQY3JmOOY7TXdn7a2urZQfbDiAmQlQxPSuPnxQ1o+pOX67G3a0lpKUPpS0JZJ3hKhHqBIpQq6p4WvG7vw9ZraZDLSE7EtgyExiPyq2VBSQmCD3qo8G62z4j8MafqDASUPNAn2eAFRmPjVuokKgRx1oXp8r/xl3j9o9oSWHVtLUHAoJVgjn3zIHzr5aVevrUnc4sjrnmvp3+NRP/VaBMFQC+D0xXy6SVKwJT3FY5WygQPr9oDuUYwIo4dcUj8ShGBB6UsUyIE7OZHNTadKTB46T1qN/dUHC1ESTJ/xUvabWwPMc9KG2gScdYk0ZtO0ZO7qJ70rSsGZaO0QTEQBEmplraFZB6flioboCdsT0Pb0qaN23gwQIz6UboTbCvJkpSqMxzR2VNrQEhOU/HrQ7axXc4J2pHQDBxRLi2+7OBtBOckzH10o3TTWqNyESMwkTkGOKCSYgk/inj4UYNoaAIJKuSJ/OsOtbgoGN4gA9ppb0GEjakySTGADz/iKlKyVQTtPlJBoaxsCExJ9KI05tckeWTKSc091NmzrdlcuN7w2ZwST1+NNNtJTuadb8/E8D4/IUXTA5c2SWf5iSPwkqgY7/Cl71alXRSNyeigRk0548wSIPI9m/AlITwcxE19N/wAHDRF3qzilAkpSAfT1+dfMzqiobeDtI3AgV9P/AMF43L1gkkgFCQO/r+Z+VEqn1Y2RAAJBAozMrSn1zEUHqKMzO3sOO9apMNZTAE9MUwhKgI6e+lGTtJmdvvP11p1G0AkTORzFUPgZuY7yevTFMNK2gdYGKXQoJJGJJzRkEAnMgYiKEGkHv8qM0dsdhSzeU4IzgUZsbjOSRmJoM02uCZxNET1PXtQQoFXX3URKpT+/erMZtQ/xR0ubIzk0klUcflTDZ6GcmmDSV5k9KO25PcZpRKgVDv3oyVJGCYoAt46EWjxONqSa5yy4l1SnyIDbZj3kfXyrd9Xd9npN0UnPszB+FaBYLU4y6OFKAAxx6/mK8jr79Mez+Hz6qr7NB9qp0ztSSQY+vWnEOhAeUoyoiJmfrmjbUKltswlvB/ek0JSh5YPTMk+oivEr26sdEU57FQUAAk7z9fKmLBW5N1cGfLIEmsMAM2DmwDcRn5UC3CjZuJGAYMHrQRdlSl+0UPM6s4gZitiv0pQyhlJEJlM+v0KpNJZ9q62YhW/AB5if3qzuXx7ctSCsfiIPJxThV6ztdzonO0lUnvxVtZNgJW6ThIhJpO1WLe3KlCNxz609t9lZNoCIWRuUK1xZWl1JUCpRM5illL3uiOBjNTK9wXJIobEJcIGRxRRBijaD5unXvTFokNNlfCk5Ec0OBJECScGjrCG8KOAY99EhV2N1PtGjuweK+HvtR086Z411e3Vwm5WRs4/F/aK+5Vg5mvkX+IjTRZ+Prt4JA+8IQ4Pft2n/APhFe/12O8JXn/gfJ289x+8cdKFFe0KwR60D2aQZUBwPnmmXSUq2kTPIJ6H/AIoCwFqO1M4g9vrNeHX3sqG4JAJOBgHaMVAhJQZEY4HWiobCkA7RnMEdKEUgnP4sEYoi4EGpUFD8J525HNdV/h0vCx9olqgkD2jbjffMT/8A81y8YUryBIGCn/it5+xu9+4/aFozijAU+EK6YII/cV29LlrlxcXX49/Tck/ivtcpIbBOTQ1DmmAvc3uzEUJY9K+ir8pKrTAnjFLOpwes064PLjpQHACU4xFSuelY8PKYpBwK3HiBirW4TB9RSTpAH4cntST6pFbZI5xS5REg06sAIjpS7iARAGKDIuAg4PwpO4jacDtVk4iJMZikX0yB3Pap0r2rnJUDIE9qVmAQoAEDNOvNBHckdKUchPTM0h6V76f5ioBnoKVUImnLgKG5W3J5npSriitXA91BlXkbyQDVa6EpUqSPKZ29enSrN4QFDHMZquegLUTCRzSOElqUXB1H6D6il30ZwAQDkU0sblRMDv8ACl1IKnAZwMmP0/epaIkhZG4AxifWobFJWR+H3DivLUG/NBJFI3GrWls6Uu3TSO6SofH9qhcxOqUmDOfWhFITBnMzSLviPTEhQ+8JV6pHTNLq8V6clMB4EgjygEnPH70H2rhKdyUqmOkVp32g/ZNoX2mot0avagusKCg8nCwOon8quf8A1jZREOKE4CWz/ehOeNGUiBb3C1KzAQeJ91LcOYxa6PpVto1kzaWraWLdhIQ2hIhIHYU6UbRE9efStbX4pWoJIsncc7oFBPiq6C1JTYEpP9Zcx9f3p7FxbTzBA6ZrM7ZVmCPnWqu+ItRIGyzaBIxuVj65oR1zV1kDYw2JEKkmfhFPZdrbXidpAAIgigLUScHrwOlU2meIH3LtNndtJS66mW1oyCRyCO8VepRG1QEnpJ9KcqdNX8V31062uwGif6tZOiFhbqUojIODzWq6VY3ovE3FtoloVNrKQXr4r9nnMAzn+3Jmqv7XdQvrTxOy6xdu27bbKPI25CVbisZHXpz2rU7G89v4j0tN9cugC7QpKPalIMuCd0ROO/7VcZ133Wre9d0/bZut2rxG0l0EpA68RnPfpXNrbwtY22oOr1LU2l2tvtaWD5Qpzas8e5cx6+lbx48YVfaTZsBakocumUObFbSUlQnPI+HetAu9J0vSvGi7g6ilFky6lfsHFFaVn2SkGZmSCQZ7j0pRFdV8OW9jZ+H9OZ05aHbNLSEtLaMpKQAAR8KcWnas5wMAxVd4ItGbbwtYMMOB5ptGxLu0iYxNXimZkc+tTtpHyF/GmVf6hoU4RsX1ia+X5xtnBE5zX1R/GygffvDxT/S24mN2ZwePn86+Wg2TnjpHxrLP2PlJORKhgfpWSQpKdox3Pzojq4wEpj9aCnCTgenesbVihcLgHPIn3UVC9wVkQM9+vFCRbuOtB0Ilr8O4ZAPX9qkhICiZkRFIjIeG0QmcEUZl0JWcAkgUFtr2kJSklWI7CnBpr+5SQgjMn0peTOWxUQooSpMDIJpFTijceYEqBzOCKsmglgElcADJOKVdJD5cUAoEzg9J5qtjSbW10DO8cSSKJ7IoRtwknJBEY5odspKyAAAEzM4nOJpp8NEKVO4jn5xVEXCFKUkqBABAPbMURFuEyVAgqHeJqKyR5t3lJ3Z6CmAQGk5mBkgUjXOkO+0tQFJUUpJBKcSTNJa0hVtfztAAyIIiIx8cVdaJp7bmmb1KSkKyCVZEdv0+dU2sMssvkoMgEe48UwUKtqDJUCskgz6ya+sP4N2EpstXIMq3J3ehiOZ9K+TU/wAxG2QIG7dM9eK+uf4OQf8ATNWKwEn2iPQcH9MfQqp7FfSiQpaZGfjTIBCQDMnoKWbWCndODTaRkHt1/StYiiITKhBBo6FcAiZMY4oCODAHfIphMgf3piDhIAJkwrmpoUcxzOaChZOCeD04owO0iOD16U0GUEbIyaMk+XkD1pZuQRiaMlckSPjQDKFgA9ffmiIcAgd6WSeMwT3oiCeh696cBpJzINESYwfnS4UIMYNE34jp6VWzGbXtgjE0wFBUd6T3nMdRxRGVyRIifjTMLXvNpVwByUxWh2V0La1cWZVuJgDPurbPFt17LQ3Y/qO34GtGu1C1at0AAzmB24rxOvy/VI938Px/RaeRhkrBAk+6kLhc3YTtneQTmOPo00HEps0kpA9R1NL2LoOpBwpThWDHuivIr11tcLVYWhQY3Kwox1P0KmyCLYgkgHIHP1zRb9vehC1mQMxH160o877FpAUJxwKELDSlISUJAhU89jUHgF3+4EpVOaDoyhudKiFAYExyMftVhZ2YLy3iQQMCe/WqhU6ltKnUo5Ccq+FMXT+/EZOAAKXYVK1KTlSiUiM/Go3SjAAyf8VqyCeXBBjjp3xWU/y2kkHnmBQHFF1aEhXJye1HCTBMQP0paOGm1ScDdtxjvWblzYSBzETUbVJDal4msss+1eiSD+lMV29QxGT69K+a/wCKfTQ3f6XeRG9stHHYk/vX0mokQDET2rjv8SulC+8I27+0yy/CiOdpSf3j519N1WPdxV89+GZ/l9Xhfv4fJbkkBSSo4P4hQUogAp8pBieZpt5G1JlAkT6GlXt0qSkdYgcZH6Z+dfOV+l4sOoLbR9ntBTgJORH0TQwnYSVbUwI9fX6jrUoUJBMq6nHXrWBuWClIiRkwKXppPCJSIUZmOoFXPg64+4+I9NfmAi4bmTGNw5qpCFI5EkcdcUSw8ty2oiAVZwCOffW3Fl25yo5Z34ZY/d+gtuS4yhQPIrziZIg5HSl/DV4m90KwfBB9oyhYPeQDT7gBmOtfUV+R2auqTIO0iPSgqTIJ5jpTjgAFKkeUx7qARuW5SQQKQdag4q0dTtEGDikXUggyKE1XOI3eUgdjS7qdh/annBtPGBSzgJPEjpUmRckyOhFKuogRGKdcBJJiCKVfBSmKDIupCf6RzzSL7YkEdJHvp58kjuCMUi6TERHpU09kHklQ9Z4iklnzDAHT3U65J3ZkzyKVcT3kkUjhF9BIJM98dKQuEhQInk8GrNwAryTHM1XXCN6jBKSfhSCvcUd0QCO8UI7SkiB0g980daIVEyJ4oC1JCsdBxFTVyqDxVfKstIeUhexR2oBMGCpQTMfGtet9OYUlBLQdX1WvKj6k+tXHjgb9EWDlKXGzEY/GPr4Uk3tCQoD8QAPY1jfbpxiItWw2ZQgKJOAmoexS2kpCOkg/OjmVJUAfd3FeIIWkjEiO09v3pNGG2kKSUnAx0/tXtqQO445M0RuNswBnAAFYKFez4yCQSKQeB5gEAnrQ1AQO4HSZouyAmfMCeec0MnJUCAqYiOBTDySXEpBhPAjdU1DCQE+6agpZKtwj3/XwoqUEdCCOKCqvcfS34g0VE7FLeUkGOuxSv0B+VbwidiSDJPM4rSnnNmuaX5iAt9Qx/wCCj+1bqlKlISpREEYgYqsWWSj13w9pGoOqd1Jlp4ACPa+hmfrvVZY+GfDDdsq6Q1bv26Xync5tWEuKUElHpmBHGa037WlXKvFmlf8AUIYYfbAQp3dsDiFTtKU8zjjsajep0+3uvY6Vrlrat3jjTt1pxAUAtKgdyP8AaTAHyraOeuvfdGH0pDqA4lHmAMGD3rVWfFPh261J1hNsn2iUuEOqZEK2GFQfQ1ea7qydD0R27O1xKSNpUqAZIGSff+VcT1DU7e5YtWVNti3t3Xn4W+Uk+0MqG4GRmDj+1CbXfdKvWL/Tra5tpDLyA4kFO0wciR0pskGZHXFUfg68Vd6Baq9ihkfh9m2SQgDAAwKvVfhH+6Zx7qhcfJf8a7aTeeH1FKlSlxMzAHf9RXy8txCUbEgAmeMivqD+Ntvdd+HxuMlLhHMR5Z/WvlRZB3AEeU8gc1lndLgrjglKCO4NDbcHATAP1+9R2gZmCefzrHJEGPWsDNtLKbT2U+Uqkp4FSS2QrywI6VJCSpgbQJmBxNHaZJSAgStREA+lUlKz/kuJUDiR0rbLNNrdtCXkoWrASmqa2tBbpVvCVkgk7jKT2zSa3SF70wpRlWMRml6Ut73TFpUpDY9pmBIJzmlbqwuLdW1aSBwCOD9TRGtcVbOISVbhAEk5jn507rfiAayGtqEto2jcB3xTCkbUUIUud3Xzc05bBAtZKYGfKeOORS5Pt2wAkpUBtSR/UM1NLjqbcJSlW4gg+XM9P+aQedMOJVA/2pz3qbLTlw6ltH4iqIPf5+tRRbXBQp32SvLI44+oqw0uzDjzaVOATmJgzQlhq+ubBtVuraVztmOOZoNy8q5ALxIKeIGJ4j9PlRnmEtPr9q6EpmAo8E/Kpts2rqyVuqQ0D+IJmO361WqCrbSkkGM7t0jp0r67/hAQU6HqSisK/mAcZPb69a+RjAUFNEkAiNo+u1fYn8HlulPhfUjgE3G3I58o+vhWmItfRCSQmQAU96ZaVvbniaEmU46CiIkyIjpP9q0iLR0EiZmO9TQ6VSDxHTr60OfLBjceakCABA99VCMJPUHHJmppA3GD8OwmsJBKiBGOcVJEpWnpE5I5pHIaQ5J2xkUVCoTIAJ/SlUKBkAwe9ESolOCOYxQrQ5Vx0jsaI2ogAJODQhxnmJr04lKgCOvammnEKg7jJBGaKhwBBUTSUzyZNGRjrmeKoeTm4T0rKF7T8+tKpe3LmT7h8KKkq6GSTxRsKnxayH7JlszCnQflWlaqFG7G0QhIgp7HvW2+KLhXtbVtMqkmfStVcuUm5MncUgk++vn+uy3yPpOgmuJiStAQMITn0OaY0RoO3qY4TnjrFLXbqmwpIyZAE1caIyEIS5jeoA46V5z0L6HvHii7U2kgCAIpC/dm8HYCBI+Pb3UdxtL2qF2ZSnik9QcD19vR/TxEZplF1Y7GtOcKT5lZBPbpTjDmyxAk+bkdulIsMOKZt2yNqRG4jr9Yp9UBSEGAAZ+vnWkjK09bDaoECMRg5k0rcHe4QnG3AJrLTqg2SQdxnApa4CloAS4UqJkkHirSy2iFKWDuBwBHoKYQnCU4OagykJ2pPITyaNbJ4J8xBkGOaD2cTCGoBgpAMd6g0v2QKvietQ37lecyJyOteCTuIIHuNBO5qSkiTwOlaN9sWmDUvAGqNAErQgOJ6ZBE/lNb2EyIz8aqvEdkb7RLxhQMLZUn4xX1mc7sbHyPDn+XyY5/ax8B3KZWVEbRODNJOKKV5IzPPvH19GrrXLL7teXDayQULKCJiCDVMslagoFWBEA9BXzF8P1nCyyVBbqlrJ5PEkV5SAUStWZwVGayTzJmBEioiCkpkp8vE4H1NKr9s7QDJgD8InBipgfzUgkATM8g0PYoqUFHcSQJ7ZqO07R+I8H86rH2en3N9k14m/8AAGjLGR93SmT6Y/atrVgdJrnH8O+oG8+zm0QTJZcWj8/7V01TY7xX1ON3JX5R1OPZzZ4/a0k5mRiaApMY6inFoApdbZSSelNyk3RNJPAEGBHarF1Jg/vSTyAkmkN7Vz4ngweKXOE5zTjgk9RNBcG0iTiiiK59BRI60q8CUSfWrB6IOSR6GknBvAEGB0pGrV5VkZFIPN7lQMjt2qzcBJJmM0g6NkASRU1UV1w15VQNp74zSDoPmzB7jirR8Eg1X3M/hGQRIpGQeKkiRIikHHEkEJUfhVi6pIGZ4z6VXXivZmEpOSZ6VNCvfWkGQM0uXCEkkbN39qYKFDoQY/D3pZYClAmCAIFTVxrfjhHtNDuVJEBMf/xDj4ikGEe0CfMSNk4+vd86tPGMHw/qHn2K9mTI5HbHwqpbKlIbUfKMEiMD31jfbqx9C7JjcOPTrUkEIRKgIGIqO7J809IFQKlJVkSJHT69aSxkwQQcgGD8pqS1bEpPA5NRbClkgbkgZrLikNoUqdu0GflQrTylyoDMmhuCUDbG/wBT76wHUKIBUJ6Ce9YlJUpKyMHv6c/rQlJSdoEQZIMemKm2eUjPrUUp3AR16ipFO0xtx6/4oBJ9ITrmjK2BQFyQew8i8/XU1vMJ2ojIHArSLhK0avo6iN3/AFGcgR5FRP5fOt2XtWQQBAGDV4sMlTrVtpdn/wDdNRSyj7sgp9u6PK2k8+7pVA3rvht7WLN52y9jdLX7K2fdttoBV2MYmOfSsfaVq1ojRXdNuGi6m6SR5HEpKDiFAn6xXMtL1vUUahZr1K6N8i386kuvJGRgKx2HU1rKyd/dYZftUpdZQ8gAKS2oSN3I/MCuS/e2njdC6vLjTNWS6sItGWQiAlXlgEeYEbTKe47V0LxHqDWm6Ab1Wot6a2nZN0vKUyYHvkkVol/rLKngbrxO+7bFO4O2qEkRiBiceb15pxFjpfhZd25oNgb1CEXnsk+2CEwN0ZxVuklUgjriqPwc+zc6Fb3FvcXF7bup3IdfncoScwY55+NXRUTEkwT2qD9Pkn+Nq4W3caAARBQ7ke9OPz/OvlAK83QDmK+s/wCNnT3FvaE62mW0BYKjyCSn+35V8pLSohCSdwmBmss5tUvgHJJJyRyDRWwMQJnImpoaSjBWJUe/FZbhsiVnbkAcis9H7OMIItt5wSoxFWAeIQJO4kd6a0dVuvS1ohJWVSgFOaYddtFvlDaHCpI5AAExwBVa0elclxSXUtHBOfWhLZKke0EndxPNMKdZS6dzStwH4t3SPr5URWqNJSU/d0FMkAHJqKFYhG5YUoCI4nPFMthKUqAITiJj86y7cm5CGylO1IhHlG4Cc5+FRbbUVgKTvBx2Hr+pqihxT7rTJt21BTSTAhInPrzUA44YO7fwTXt6gFR5cZI491BShWyQuAON3MfRqK0HQ4XCpayQAmIConn/AB8qZ0YA6gzvcKG0/iP4iBSp9odqioGIweg+j+dQUC46qFGBAAFVEVYXhDlytLZ3onakhMTkGaA0ypRKFZ3Zx3iR8aCXCkBMALTwZyPdRnAGyBuSoEyTHHr76YMMI2g7ADGD1+P6V9lfwioA8Evu7zIeKQRjISJr41tnFNPpEqKQRM4jsc19q/wsoJ8Cur3E/wA9UD4D/Pzq8U13MDcCZxzEfX0aZSIAz06daAyR5Z+NMBcpIgAd61RIknBnnpRmkFeQOO9CbcTASCZPNTCwTCfjQehkHZI/EDjFFaUPLPHv4oCVhKgR1MwcUSI9OwoUOPIZ560QHzEUvI28z6H4VMLgiDIPaloxguSEzPw+vSphUAAGIpYEhZIyYou4pSfNCvU1TO+zSHJ568DpRAvJjOeaTQoqIKVSmR1owWZUJhPYihcMg+aRzxijIdO2REnFKlWO84NYbXtMx1pBSeLLjZcNbcrgiB9elabbPg3uVQN2Y6Vc+Lr5f+oubf6UgYMVr1qiVpJMebknrXz3U3fJX1HSY64YtLpyVjMyJkdZq501/db7t3m6GZmtXuHi7cxkgnM1slqQ1YApMqjM5M/U1yR030y46pouwsbkpAIikbVRce3pyUZyea8UuPFwgyJyf1pnRrULEqOFLEe4Ux6jYbW4BHlHAjPTvREIDqyVQUxkRNKrUhgFKQdypMjpT7CClpAXyoZjrVxjWXCkJJwBzgUuSA4CB+XFGUqAo7ogRSykyoxPzqgbBlRJGfr+1Mod/ljA4Pwpa1QHHMjb1zT1wkMskAxOJiPf+VOAG3wFqIkE8nk+6o3KwSAOuZipGRABME8dOKGyA6/5pAANMo7/ALYEAYFRdb3tqHWKko5NRJwa+sfGPhj7UdN/0vxnqjG0IAuFEGI8p44/X0rSlMnE5A6cRiux/wASWkiz8cqcSgBL7aXCqYnkftXIXfKEkDJMGenT9q+b5Me3Ox+o9DyfmdPhl94XcT5cJO3mhpwCVYxGPdiiOEqAUSFCOlRAHs1dDESeprJ6ERSeUhXBGe2M/wDNTSBCdsSoCD3x/msKBVgGQSOa82Nq1EphJk5/Wmp9Q/ws3infD2p2u4lLb4IHaUj+013NSdoHX3183/wpX23UNYtv97aFge7H6frX0ioSnIivpOG93HjX5j+J4dnV8kBUnzftQHExuNHWM/2oS0mTz8a2eXCric5xHM0o81CTzTrqOvSlHjgp5pD0r3kbTBpVwYjJ6U46CFERzSy0Ecmigo80SnPWkXE8jmrFfER8qTdQQREikatuGyCSEmq51CtxIBjg1ZP70qMYmqx9H4uZpUybickmTt4J4quuU+YnME8mrF3zccegpK6CStW4GIOKkbVrw2hSgkz1+VVl06mR+LnP10q3f2xnk9O+ap7hiXCmcDEUlF3HABEZ91JOELT5hGYyYphwCRukREZoK28k+tTWsii8XtqXoF+GwC57FQRuOAojE1SWMOMIkEK2DpwIHwrYPEqSdIuxBKS2fnFa9YAKs2FCSS2DzI4FY2OjEZIAQDBUMTjistkJM9e5FZcaHAEEjFR8xMxMHH18KTT0kSW0+0gGZOOvwrjPi/xhrl7Z6kylSPu1yLhq29gCl1st8En1II+oPYViWlDcYIjBkdK5zr/hPQrPxG21d3V7ar1Bbi2lh7a2heNwB6FW6YMzBiKXyLVd9nWoaxqXiply6uLhdqbQkpeWlQ3bgEkxwYSqutKRJUTyMCDWg+GvB+i+GNeRaWVxdm5LXtf5joKFJBjgAZk/nW/uGNpxBMU/aRFEbSBjHasBHnUMgHPGJiotA705EAZjvFEK5UpUyJJEZikZC9bB1TSDvKf+oB2jgjarB+ulbswlISADj161p10nZf6aqSD7cAg55SYj4xW4qcSXRCTI57GrlZZxr3jhu3sdGc1JdnbXDzMBK3W0q2hSkg5Ix0rmSPH1z4bfSh0NbLu7Sm2Uy0dyYuAlSVACIKTA/wDL0muqeJfDz/iFCG/vxtrQQVtJQDvjOSeKp9G+zmxsPbOXLxuFF8PIUI8hS5vgf/KrYD/aLZua34YZFuyp0F9hexKcgFYEx7j8hXJWPDGruISE6Xdh3kMqQUkgFAIkiOh+Vd11/XbTwroqry5StTDWxGxsSokqCQB8TVHpf2k2Gpv2xTavW1pcb0N3LyQkFY6HtJkTwIp7pWrjwLaXFl4X022umCw+00G1NqjEYq+AKVZE9oFV+haunWbAXKBCVFSfkopqySmM8k+tJD5J/jcUlD+gmDvCXQDOOmK+TyqCk45r62/jXWfb6G2mf5iXARPJBT/f86+W2tJdcAKGyQcgnr3rPL21x9E0nJkA4mRiaklM7IJBIj9Kmtn2DqwpISPWsE7gnyjisvVNZWzq7VpK4OwSSBgk/wDFTZu1KWlZBSnkqHHxpUMufdySJRuxWWfwEBO4ZyD1qtls64tTjqyFH0IjI70BCYABEmetZSEttkbpJ6xUthLqd+ULIM/P+9TrZorASlPlCgQCCO3WmAvbujCMgqj8/Q1BaSlaT5iMZB7GpNwVRu2k8k8UwI5leU8GIjNSDaVJQEQJyc/Giptk48pSlQzHXvUHEqU9KQVETiImprRggqMmEGfn9RXmlnKefUCswlQISFKiQDMj86KVkpUNu3gAn86cTQwVKKEqaEdSDHTFMJShW8FKsJI2q7yOlBjaJPJM0wiEglMFIPmUOfrNKlEbdTilpzjiVGBBMV9yfwtMD/6coKZguq+VfEVshKyhe5QM5T3j6FfdX8MzCmvs0tlTlb7hjsnEfXrWmFK+nWkNgQmSB76YPlSSDAg+6aElQC84nt8qKtPE5HTrWyImD5ZBlQAjNEbBwo8TPvxQUr3JEiD7jRGlFPWD6++g6KTuIEYHNSSSpMwJJ57UEAwDMD/Jo6HBIByrv0pGmlRBhRMR3r26AmDunihnYYJyIkyK8ARBBPPNMGcQT1AmsNeTJ5iOaEgGQSTAGfdWShQEBWfTvRC9mGhvAIPxopXkmQTOJj1oCcJPpiK9uHIjijZmCfPxkYBOakqSCAqO0cUBMqTHSvKegKPbGKWzjTPEroN7AUTC4UPgKrGypaFLKYH4eDxR9de9vfFJwlKjzyTSjw2IQNxUjqmOtfNc13na+r4Z28eMTYcLt0DGJiCDxIrZ3nvu+mHamCeJxWsaM2h7UNhIgE4J6/U/OrrWbkt2/skSrImO/FZxrfYjTibe1bSRyCo5jrTWluKSlRKj5eCetUNxeKc2IzlIED9K2TT2EotgopkkBUDkz9fnR7RfEWGntl18ZJ25JyCasluQFK2hW0QBQLFBbaWrAJVHv7mpXBGwJScg561pIyRCgohJEn1HNYWop2AHM8dZqKUQqJkc++phsqKVRBE89aFQ/p6cTEx17Vl1RW9tEkJOfr40VpKWmpP4+pmgCA5nBOSR261SWXFbElxRgnj0FCZnZIAKlE/Ks3Ki4Ep/EonipkA7EweOgoF8O9kEHjNeCRxM+hqagScVFQg+tfW18Y+df4ptHVv0y/Sn8IU2T0zXzY4qTCgB6dvo19j/AMRWlm+8CuugSq3UFyBmOv1618fXDOxwhSZJOZFeF1U1yX+X6D+C59/Syfal3VDZAPTrQyuACpOPfNEdO1WRiBAPNRCVyZEiB2xXG+gjAWUoBnzeoqClBS0zHPr9GieWcqEZVHesoQlRURge/ntQp2L+GrUk2vj5pg4D7K0YOJEH+9fWjsBMxx618S/YrqAsvtF0hX4UqdCJ4kkR+9fbqkS3xOK97pbvij8//HMO3qu77yFFAJMEAdcUNfM9KY9nJJiaEtEKieBNdb50o4kq6DHWk30emQeRT60CR1xSryYBnigK55BPTFJlJ6mYzVk6nykDmlHmgk4zjnvQRNaYmPlSNwDMTirBxBVMAT3pR4YI5mkqKy4G4mADVY+k7Rjb6VcPIA47ZpF9Pm7mOlI1Q+mE4MHrFJXTSykkwccRirR8SCAQBgRVc/u3EqVGOo6dqk9Kt9PlEfLvVddJATvHlM47GrRwEJBwD+9V1wrEEAUKipeTtcUFcxxQVgbgenemnUkmc7vWlXBtUSBiYxU1oqdfHtdPuUjhLaiZ44rWtGUn/TbZSSNns07RPSMVt2pISbF6EqV5OSMVpejLUdMaAKSoIAV8MVjk6MVm+Q4gkEJAzzE0qlR9kCD1xBP5UeCpEkxJOO1QCSlcpMDipaVCTtWJG4SZNaR4t1du+RcWV3oF7esoO3c23hXPmBnHB+jW9FITJmIwakGQAoKCVTgwKROW+A7e4OoWV+xpmoos3WvZhd8+FKSgwQSCdyRjgyc++uq7QpEbSeJk5FRDaI8qQhIjakDiiKUQM+7tNCtIbdpkQAO0Rms7VJkbZniKGtZbk4AI/b8qmlZVugExjHBoSVfbU5fWG47T94AHB9Ird0I2gESJATFaNegm8sFBWzbcoVKTHw92a3X2m5RBMJjAA5pxlm0nx3r+qaffJttMdbt1NWbt4pToJ37ChIQMjndWo3r+tapfPtafcqY0+82ufdn1klwynd7M9BBGOD8Zrf8AxzpelP2ovNUQ57O2VHtGlKBhRSNuOZO3Fcge8U+Fyw1dPaTc7ApLTiw+stsLVygCRAweBEitY5svbsHjzTV694UurVtJW6sJKADwoGU+4SBWuMaDrFj4ZDKNH0q9aMlbSnVbSCc9DnjHpW/JurdrSWnypLTCWwfwxtEYHurlOnay5oTQ9nfffmgp4Fld622E+YiEhXOIIEj8qfwJHTvB1kqx0Rhn2FtbY8rVqSW0JM4E5/T3VfglP4xHpFa/4DdCvCtjDqHVBlKVKSrcCoYMH3zWwqJkTnpU05Hyb/GslSnvD60EBKS/5SRnCf7V87WiC/p4bUsNOBMhUEyntH1zX0T/ABokqv8AQGx5Gyl0k4IJBT/mvn+zetrFq3KrlZKsSloGE59Y60r7XGu3qFNuuJWQVpMGO9C9nASrG1XQUW/dSm8eAG+VfiUO9C9qQkEQCnHJxWF9kKtRKU5lI7HA/OiJEICSoR1nM0uhe9URuKjg/wBqMyvCkyIIxHXNAgiklzqEJAgZiamFkqO5MKET/aiWrAcKmjkYJwY9asP9NaQJ3EYBJHu/4onlXaQ9mp1CoAAAgflU0QVpkJSokRuMdaKgobR5CFcYBkelZCQHlKIEAQkDOaZaHsQkIVA3pj8RwD8ffWHES6lJkg4xMfCvW6lstgJMoJyQev8AwPzrFwj2iAVCBEk5M5qflTKmUKCl/gIg815pAeBUCd4MFJkdelRUr2mxZQVhIAAgmakn+UoeXYVCYAiKokikoQhIR7RK8TGB86igbkmQQJ/4orgUkCNylEgwTgGjBIRvCoECEpCskdzFTJs3mWQlaEJXJUoRtPm/xX3n/Dqz7H7OLEGUkqUraT0kxnrxXwtZsp9u0VKBSR0GR8a++PsJY9l9nekyAApvdj3/APJrXGaTXQGkltQBIg9BTCVb0gwZgAQaEFeYDlQgzHvoy4AEQRzumtKhJMhJHB9e1eKSpI2kEz7vrpUkkKBnOOKzvkAxEcVK0QDtiCCelFQrape7I9DUDmB0PWiBvM9B+dUh5R3CZjoM1lSikjbmo7eisD1rCdyiEpExnFCrREqzmNoogXPrOI60NRISQZ83PvqacAREg4kmmQiXdoOPmZrAO9JnA7xUJIMFUyOKkdqeuFCCRiPr9qRie0O4wRCRwDWHlpQiZAGfn9GvbcAgie80pqLpZs3l9kmD9c1GV1K0wm7I0q8UFXK1mFlS5jtweKw48hxk4A9RNVaXS89BXBWo4IPGKMlaUqKZERMTXzWV3dvrJNSRYaWw4p4KgGSEkD88/On9UdU64htIMcqJ7Ris6M2lhouCAkDHyqKClbzqlHdA5Pv4pDfko02pdyhUpBGZNbhb7pQ2SJHr+n10rW9Jt1LuQ6o/hzjpW02TalOFf+4yCDTicqtW1JCSJ/D8KXeA3Exz61j2mxUcqPOMVECYkyDkg9pq2aQTJbSAJP5fX9qetGvaukj8Ke9LsoEk8FQj4U6mG2sD8VBJLOF8beKGiUEk/Wam2sKBTgACgXKiB5ciYqgilQK95jBx600y1HmUJEdaXbbmAkfh7U+BDU5AA/akNO6ESYJoah5oohhRnvWCK+u9vjK1f7RNNGqeENSYiSWVET3AkfpXw1qSCh5bawJTMieemK/QLUWBc2bzKuFpKSPeK+F/G+mnSfE17b7DCHTOPWvK63H1k+t/AuTXfx/92qrb9oJgKMxtn670JSAk9JOf3+vfTSkFJBIA9PhNDcG3cBBgxBPb6/KvKfZS7LEgk5xJE9qylIQZAAAH4QI46flRFIWSDAzyR2qO1TYTAVEcTTWufCd2rT9f064Qdqm7hDgUDP4VBXPYxX37ave2t21k/iSDX55WhKH2ikwscEdMRX3x4HvRrHhLSbv/APbWzap96RXsdFd42Pjfx/Dzx5/2tl52nigOFXESO5phSJIoakkiMTXovkSak9aXdEdueadcSeJB5OKXcTznpQSvW2kEmBSziRJ7cYp51IEetKOoMmRIpkr3UwPhSj6ExI45qxWmRx0pVxryGe3UUqFQ+j8RB+BqvcTzzuq5fSC3MCTVa61Kp7dKSlXcIKVdwRzVe8ndOZq2db2pIPNV90gJI2g449ahaquEbdxBxPNVb5SpRBwFenWrh9AWCM4qruWyAoDIHWKApnkAAlMGTmeDQVE7VDmR0p9xkEZhWPfNLqSNpKf+aVXL8K3UWkqsXkApT5TNaNpAjT2gEpTBg7QI644+orfbwFbSwAM4zWjaQkpZUhWBvVxnqf8ANc+TowpzaCZASfh9d6GtOxUlcehowWUkiCoRnHGY5+NCS2ClJiSeI4PT+1RtqnAMCQTEzEdKxvUUqUVEiIA/P699eSZCfUEZrPlIITnECmc9iKTKMTMRisLUokAiRkyKySVIA4EdDUFKUP68AcdpoUksBW6eT0NYAJWrcTyKg2tW7acnoTnpUpKyog+sk/ChNKasUodsxtB/6hAMdpitxKiABHXgD1NaVrKXHF2ZQgqAumcgdPaJn8pNbwnd7MKAj4ZqsfbDNq3j2yv9S01uzt/YBDqwFqfc2kEEEAYzwflWhW3ga9s71ttdnpaHdqlfeFPrPJnKQIk94nPNb99oCbtNtYOWDSLi6ReNqaaWSlJJkZPQQTnjNagx4dXfadrd/esJOq293tSQ4VlCQEEZ9xnjiK2niOW+3UVW9u9pvsr5CH0bf5iVjchUd6oLu18L6fqdg4WLJlxctNOIaTsEx5CoCBPSexis+N2HLnw0EMpK1KcZx3G9Mk+kZ+Fcu0Cweu9OFhqdneuWSFN72U2i3C6EojoIA3GfgKFx362KCj+WISByOKYgbZjIqk8NBlOmNN2to7Zspwlp1JSofA5q4AJ2iZ7Saim+TP41UhNx4eUowAl0EE+qYNfOjLa16eACpROQIkR9R86+kf41ISvRDIO/ekkj8Mn/AB+VfMjOo+xbQlSVuBIgjfAj3CpyuqqK+7QW3Fpgkj5zQgS6sADzd4pu4eS6NwaDJIjymghJDgSQYHO3nisb5J5tCwErGCkwM0ZKwmVSAuICY5PX9qyjzpTK8qEn0zGKO4FIudqQQOqpyfyoA1jdbHt6hxGAOfSrlvUbe4gXCJ3qA3JHAge6qJtpRdwSE8yKcZQtBSdxSTAwMgzEUStDV2yyhaVMuDYQMFMTjn96WbXEA5iZxwPUVJA3xErMkDcr9/dRkMOFS1KQAONwMgYoMF0AqWdxyeATP1NelSvZiCkyDnrTDFg444dqCnkJSAc+gq0Y0d58JLTKlGJAg56wP1+FTbo5FS3bBYSXJIKcR3nsKIGUOEqmEK/qxFbhp/gLVr7ahnTLp4mQC22VZn0+uavtP+wfxhqCUqRol0kRISpsAnPr7+PQ0plsXFzMpHs1JQMpByRjkURTalrgjISQSvExXcNM/hV8VXjba3ra3tSUgErdA5H7fv8AGts07+EK99kkXGqsNSZKWwpWYjsKqX7F4fNmltD239KgIAgcc1+g32O2iWfs+0ZKZ2i3TAIgic/ua5lp/wDCLoqFJVc6jcrEgqDaUp/UHv8AlXdPD+hseHNJt9PtVKLDCAhKlxuIGOgA/IVtGayQ2Dknjv1qTgCUmBPqK82cZHEz061lYgAngEEiqCCEGew4/wCaIRMcKx3rwkQMHBz6xUko86pwBIp6Tt5Mk5yBxUvMocGe8cV4xzET1FRWBskAycSOlMMhMkpmetEbMJ2gZ7z1rARuIhUAnmYrKZKVDqRFAZH4YGI6ipKkBXSADQwdpj8QHT1og/CApEntNAYkrIMTESTmiyJJJBEfCoFJJTA4xxXkEkGSOCaRsztkkQO/SqvxW8bfQ3jjcramQelWoMlSR8I6Vrvj1Xs9HYaESpwA9MAGsOa6wtdPBN8mMaJahSXFbicevef7UcSSrlWDAjr9RQm0wgkgbUwR1P1FOWqg+4wJEI8yj3z9fOvm31EbA2pFnYBISDIlU88jj8qXYc3sKVHmUJwDnFDuyfYBRMKWQRPQdvyo1m0v7w0FYCUyRxR5T6XtoyltpLaRkwpQ+Ex+1XLUNoGIxn39qqNLUt1wKkBCMAd6sHHcJgYHOOtaMxFuguKTPGSKwXPIQCAoiIpZsnywAlSpmB8qMWocBCiB6Z+uKAs7IylKYwMTTDiykYgJiEyJNL2QKW9xBBmBmiuDfgEEjBirhaTZnKiMA8TWFjeraDMd8zUyQAYEYgjtUGB/PSTEp/M0zMNMRyAIyDU1rJG3dz+XNZQsJClHPU0FxW50JRJ7zTTvXl35ME5PWsbdxrxHBFeKoxX1r4xFSAQeZivj3+ILSzpfjW5Wn8L0OfHt+VfYnKa+df4ntDHtLG+CR5gUKOfSPzmuLq8e7j/p7P4Tyfl9VJ9/D5zW3K4UU9pj9aGQVEkEGTkmKYwpXMbY569eKitB3ACQOmRx9Yrwn6FKWUM94jEfXrXnE7lgDMwDIozie5Bnkj9ax7MKUSZHSfTpmkuVG3RtUONoggjjvmvtP7BdSGofZvpvmks72ccQlZCY+AFfFzZAUYjJEYr6o/hh1IXPhO6tZG1l8lI9CAf1mvS6HL9dj578cx7unmX2rtRgJPWhqASO/oalPyqKgNwNevXwhVaIBEcfrQFpGZxTjiczk0s5JEHI5pwE3kgE+/p1pZ1EgeaKdcRgUF1A2e6gqrVNkE5kUqtB6nmrJbIIPNKON5A6fnQardZmUgwKrLlEKxMjFXbicGar3WipU9z2pFFM62TyO2KQuWQFgkT/AHq7cZOVQSKTuGu8HrFTTUD7CdsmcZMdarHm0hRIHlNbC8x+IQAI4qsuLUuAkCFDPv8AqaSpVA+2WzEykZx3pF0EyAmJBIxj0q7cbKj+Gc5BpRbO4ECZH6UU1RcIAbJzJn31z6xa9lcXjSyQpLqjn1J/vXTnmlHaE+Y8T+VUus+F7XVCVOMq9qOFtuKQfmDxWOUa45NWWvaqQevB6xQ2nUFXmVAiUo4zWwp8JWYSBDymxIgukn4msDwvZACWtxmAVEn/AJ5NZdtbTJRhbKCAHAVDM+g/5oIu2wHFFYREgCfWtkT4fsEJAXbInBPl6/Ojo0yxaMJs2QR12A05KrujUnNRYQQPaSOnpUW722VkqUo9h8q3RrT2ggoSw2kcYbAj6ipFnakjbCRgdafbS7mli6JMJYdUQIwkmppQ+4CpFo7sA/281uiG4CComO04miBsqKhtSQDwRmjSbk0+00q6vLtlT6UtW7St+RBUQMVthIKEiPOIk9B7qI4lInIIrCQN0ZIjmqk0zt2rNVNq020q9dQhtKgoKWoDOe/1itbvPtG8M6ab9Djkrs17XkoaP4glKjwOxGaL4+sXHvut0LF6/QyFp9kyncUqUmAdsZziekmuZq8JanuWyqxvHGXAkOncG0GE7T1zwO351pE627tKF2u9Z2txuknAjnNci1TxReWms3KLHWWLa0cdKCh4e0UD5sgA4GIzXVV6edS0cMurdtg4iFbIKhj/ALgR8xVKPsz04IQF3F64MmfaBBJnqUJH5RS2If8ABDzz3hy0U64HHUoCVKSPxEckfGtgkrISQc4NJ6ZpbOlWbbFuVhCcgrWVH5nmnSsoVIM8GkmvlP8AjSaAXoiSDK0ubYB5kdsfOvlr7stATKVZ4gV+knjf7MND8fP2z2ssKu1W8+zTvhInnEZ4pGz+wfwRZgez0NgqJ3blKUrOOJOP0rHKW3w0xs15fniNFuLpUttKXmCIJp628HarebW2bJ9xeEpCGyffx2x86/SO0+z3w/YpSGdGskEdfYpP61a22lWrE+ztm2+wSgDvUdmUVbjX5z232PeKXVldvot26f8AalkyO09a2vTf4bfGepKQpWkraSo4U4QkYHSc/l0r739nsT7NI2pABAnFSSiZ3HEQD17U5jl81O4+LdL/AIRPFtysh9Vnagmcubjz1A+I56etbZpn8Gdy4lP37V2Eq5IaQrdPfp1mvqhsSrcAZwMijgQpUgQcknpT7Ie6+edM/hB0O1TF3qNw+rmUNpSB7uf0raNP/hl8H2G6bZ10A8LdwT3xXX0oKVCZJPrWCDEZ46iqmMLdaNYfYl4M08QzoduUiJU7LhJHfcTWwWPhDRNL2t2ul2jO0cpYQD+lXyeBtIkHiK8kAHgE8Y/vT7ZBsFq0ZbMpaSMQYSACO1FbaCEK4yYEHpUwCd0zzXhJEcH39PqKfaES3O5KSTP1+9FQPKD+E9/3ryNy1KUTj5VloboxkzGaAwhIgkHzTxUkpzCjgSIAqSGylRlQBV61hTcqkYjNATSkJTI4z15qSQOFGYnnMVBBwkA4+VEElJHAzzVfIYUrZPWBxXg5uzO2fSvJ3BSicKFYB2KOFSDnP13o2nTM5lOJMyTWECAJ5A5qYjbKceprISAjZPbNMmUJ29YEyO0/UVJJ2kKHmHWspMpBHSpKhI7nmc0GiomSBOcg9qklSiQJAPc1FQ6491ZR5yAeOZjFCds/hHmPP9XrUvaSlQ4g/OsmFbukZ6RXts+URM4P176S2ACQojg9eorT/tCudlux/VBmOx4n9a3FCZ8pgHgVoPjxYev2Wik7QB5p61x9Tdcdd3Rzu5ooWi4GgVDaBgpOPr/FP6fZLU5vI8qu3TvSqVh1xtpO5LaQVE+k9TV5arDbZ2IG1PBnrArwX0aVyPa3KAnKEjn3TVg2nakQklSxEHtS1pG1e5MKJyE9pyadtFlx5ZIgABIHenE1YWVv7BkrCtqQMcHpR93tVFW4EcHb8aG+kJZCJBKcR86IwE8qye//ADVMxEJlaSBAmcY9wptALihI559KAxhYhICYx8qsbVAwCY9TRAY9mEAYAjJ+NeSRyYAntNZUveURien7VJQgAcGMCetUEFEEBMxAzFFaEeXBMyT+1QaTvUUqMgScExTDRAVvkncJqoK86r+TM4FS063U6suEwBxNCekqDSJ3HJE8jrVmk/drb2SRmAMfX1NVGWVds2yAOIqKkhVSjd6T6VmAZAr6p8iElMnr765/9t3hhWveEHihve615gIrooR25FQeZTcNqQ4ApChBBFRnjM8bjWnFneLOZz3H5+3Vsth1xtxszMETkdMfXWkvYhaSCkBRkAdImvqvx7/D7ba5cOXemOexdVktGNs/L9a5lf8A8PviS2c3N2odSP8AYoZrxM+n5Mb6fdcP4lwckluWr/LkJYBCSYTBwRkH1rBYSFwdxBVzjHE10a4+xbxIwFBWmPic7koJqre+zbXWCn2unPJJJEbaw7Mp8O/HquK+s5/8tO9jtSNoIIiY54/Ou9/wuXRa1LUrVRn2jYUkeoJHHxrlafBGr7ygWTqdx6pIgV3v7AvszvvDtw/rOoNKtytBbZbWIJBglRHwAE+tdfSY5Tkl08/8U5uPLpcse6bdqKE5MUIgZoxBM9vShlHOMV7e3wQSx5eIoDqMExmKbKQJnigup56D0pBXrGYHypdY5BzTrqRMRSziBI79Kf8AJFimBS77e4CKcCMRPNCW2QTj0p+zirdYEGQQKTdaGfLx3FW7rQjjPakXUnIiloqrXWgJEQk4BFV7zMkmI4/4q3cbkR8aVfYJcMTHupCKV5kgHBNV10wlAOOREHNXrrRST26ikHmQTkBRE1Oja3cMKABJ6ZpVSEplJACj1q7uGDtmJA7iKTctQR+EiVDIFJUqnfttxHWMUs6ztmTB7Dmrly22Eg8x1xSbrWSIg9xSsUqFNQCkD1+u9AW1tXJEHJEp+voVbuW8BcEBQxj30FxkIP4Zxgk1Oj3VetmQONx6T+VBCYAmSCMVYrBAPlEBXAFLqaSghSdsjmKmzRzIrsMZxAisKRuQAADIzHTmmtu8giAZ+fpUSAFT+In+5/vSPZdY3JSRJxNR2TCjMnmDTJZ3AACNo6++olgpJVyIkU9AJSBuVgnsmsBIIMSBmBRVJS4iRgdKyhCQdv4h6YzSCt1q2t7rT3mHXfZJdBSVBewiRgg9DXPdS1PVtObVpzuoWN5blI2Xingh78XCkjBwANwI54ro9/olnqyEpvLVq5SgyEuICgKStPBui2lyt1Gn2yVLgKltImOOlCotLHa/ZsuIWHEKEhSTg45o7YEbYwO3SvMpQygtoQA2ngJEAe6ppXhRgFUc8f8ANIkCrbG0QAORRG0ecdDzg5GRUgNwPMmvBBBEiD060yZQncmCCTPPwrHl3pwffipg7VJCRg8/KoFJJJEiMYFBCBASJAE8RHFSSRuBCc8Cf+KGBBI3GeYFTSCDGOTxQGSlKQCOT0jmpNpIMRPWaxuHfcB0iiNypIE4kSZqVPN4JjM9O3rUnJG4zI9OleRlQkwOK8SQVYxEc4ph5CgCR+IHgp69Klgq82B1z1qLhKgEg5GZFFSkuiCYmiUvaDaT+LaFHg1MAESU9Mz3rCmwrpE5O2aknaUgCCImT2pnGfaHb+GTzXuEYSJ7A8VmZMck+tZUNqwQYj+npTDBQFQMntBoqBsUFQfeD76iUwoYCcR7qnHAgEcZxU048SFLyYry05KQDHevMon/ALaKtJQc5BPH19YogDLYxJIg0QIGCRyailBKoSPMevFZCiUgAAHriqKsqb2pVyMA/i9KyggAYkTmcV5R8kK5HJnJNeGUgnI6YxMVIZUZ/DMdqxtSoSJnsTxWSI8wA93es7CpKSkiRmKZMkKxzwOO9eJAEgzOam35RBhQBgT1rHsikEBWeKYsR2qWZ/pOO5rIG1XmE57RUkYMkEjt0qShtBMTx9fnSTIignJgCMe6pDiCIBwI5+uawhRCgFBJBPFTQgboEiOx99C0lhPtEdJHeub+LXA7rLg6pO2O/HHzrpBhbivwgJHXoa5drKkOatcOrPl3nM+p/avP6y/o09ToMf8AZaTZTveIgEfhHmz9Zq8Thkbeh+Z61UWQCr3GIkE+tW6lAXLbXlIGesfCvFe7aeth7BlS4KiUmMYmrDT3BtIjypEEnkn4e+lmEfeFyQQMATxFWQYFukIQiCBM7uacZ1JRK9y8AzwJ44orKUbQOueI5oCCTwQrrHX1plDSiSAmDOE8R6VQHtEbiJmOAR0qyaSC2rcYHM0K1tQgADA9KI5ClbQoGSCfQfX7VUjO0ZtYSqYjsJqZSnrkxMAwP0qKUgJjtR2kBah2FMJJaKWo25Vk5+vSiKAZbEYMfn0ryFh54kCARIjtNRfT7RzYOQYOcnjirK0ewtgtftVSQKafIV8TiiIQba2AjJilwtUhQ/Omzdz2yBPNeSAJBAr20q4xWQDEkRX1L5NkARgRWdsiBBrIMivDyipUgUegmoRE4460UmPd3qJyB604VRKEq4AFYUwgpgoSc9pohTx7+lTUBzNI4U+5sdGkbvQCihopERAqZRB5r3Of1oAShg/rQ9s++jKBM55qCkQeKZArTQowetMGJjoaGsCKCKvMhQ8vPrSi2IMkTFWJRPxoLiZ7/Cns9K9SQOKGtEpEzNOLbk8UJbclX7VRK9aJI7jFLLY8xJqycYG3qJpdxqDQarXbgEGl3mog9atVs9owOKTfQcj15qdlpTu2wJJA5mq5TYSDOY7irx1k7sAZ70m+0Fpk4igRRuW0yeoOJpRxhKU5ifdzVy60RM45iklteY++ppqR9kqMjJjE9KVXbygyNpxntFXVy0ACYxiKUcZBJj3YpKVDzRUpQiQM5+vSlfYgbhE5wD0q4cEZke6lXmcyqYEdKArFNSohUHOBQCxJidwznFWamSTke+lVNbSojAHEGpMqtATJGBBPTIoLjUyCMSDIpxSMKIke7NCcQRKYJn8/qKCKFGwkECOTB+vWvezkDMx/V1+VMLbBbAHHUATNCUz7RETtIiBFC8QNhXMKAGcVFaUpWJgK9/BqamiCIIhIzjjFZU0CsTlXEmkoKZIEicce80RQSqMwRx9fXSolrIITMnM1JLaAjqonBNTTSQ2CoiYx+VZTjcSkYxUQIRuiSRFESkgwmJEGkEUgJSQBkZxHHaiAQomeMY70MJUtZKhI91EUgoTIE8EmacidMpSeRmTUUxumecRFZQiURz1kfGsoMJBzHEc0EykDcsdAcVJSoIgCOPWoZM8pPQfHrUggomeY60BNlnfJ+fSppSnAgTE4xOawnyJO2MkwR9e6pIk4gJAjB61OjjIKQ4mB8c1GSdqVGZxFSCYSk5CjzPSorWEmIHYkUjvhIICkxxkce+phEqEHIMx0moIkmYg/3qQBgmDAI4oKfymEqSk9T3NZV5sASQM1lMLxBx3xUikSSkTJ6jmnFIoEwD1OD2ogQCgAZM89agF+Y9CM80RKiFEAZg9M1RMKClGU4gjNSSYVG6IOcfOvZCCE/i715QKZ3EfKoUkElKpTEc8VIubhBHvqKRugnkdIxUkmcT14Bpz2GQqVYOM++vbDHlEzyR1rytycxUmyUJE4jGetUn28tE7YSIxM1JKQjAEIPEVJSdyARG3n317cFRjzHBPFI9PfhVgSTiORzUEkpkAcGpAJQ4oEHBgAmcVlJxOIBOTTJh1RSkQSBxWUK285nHGa8QEpVukjIANSSjcPNkYjoaQeEJ3EZBM88VNKjtBgKB5rBzMjJBgTzXtgUkJHBMUE8gw4JJjp61JI8s+uSDUUFICBMjpBrK0I6n5D0pGE+sN2jpCdqtpiTXJ9ScCwt0/iV056yP1rqOuuew0t9QmdpAxnIrlNw8HLmFJAEyRPHHJryury9R7XQY+8lzoFkWGjcKIKzP8Ax+VO2doF3BWSQ4ScDt/xig2h227YGJGMTmBNWOnMAgLAJEQCOvxrzNPUq1sWNqwUmeDnOfqaacKknkFSjEEnGKA00sNFStwUTkdD61IGRuKpUD+c1SN7Ht2thlQ4yCT0NMNypwKI2x260NlSVIJHaAYzxTluyPLxMZxj5UAwV7W9xx6xWbbaQT1UJBFQe/GIG4DpEU4hO1IGD0wKtKDcjbKYphDYUqE+U8YqDbQEqSQfTpFMM25OSY6xR7SIgBpiZgnAnrWbJv2lxOPWT6UO4h1e1PTqP71ZMJTasJBHnVkkVcFQu3TtgYHupZxRVhM0wsDJzAEZFCtW5KlGSVEwI4qmdd4QJI9/yrGZrEEEZgc0QSFJmvqHyqKTz099Z3T2rJQQO4rxEciQKDRJme3uqITMTxU0iQc8V4iUgTFBME7iIxmvEcmfnUpzEzmvEg/GlTRkRGBNekEZwKnskzx0rBRHoO1Iw1ZiKgsQf3ohzMGsRPEiggVJgCTmhqTEzx0oxjIqBzx+lMgSmQJzFCWnPWRmmFSMD30NaZE0xsqpJPvoC0QcCO/pThEg9qGtE54qiJKTx2oK0RIjdNOuDGMdaEpMRQaucbyTQVtwTPXrVi80FZ4pVxomCDBoCruEST+WKRdaMniPdVytknsCDNJPNbcERQmqhbM9hE9KSeaUDEZ9auVNR60ncI3JmIg89qk1M4iUkFMCKUfa6gZ9BVstBOOaSdZKUR2/WpsCtWxGVROINLvtBSfNgyJI/SrNYHUEniaVeSFZAkcz/iktVuMlJUQPMcSc0u8mCT8OKtH287ek9BSTrflOCTE9aARUnzZ5E493pSyklW6Ohg/KnlQFKmZGMUFSCmSCQOeKDLhKRJiDxSqhCpkbvQU4oALiDJ6j0/5oC0SQBIg9vSpqsS6zDijIkgYA4+FYKfaqMGQDknrU3I/mGASD8u9YSChJjGJwKmqLhAEAjAJM9qntAGM5iO3rWXFFJJOTkGRxXkwqB16A9akJqICCn9K8AZBEHGIqOxKtxIwBAzNZJG0AjjGRxTGxIJClAiecCsKEtEGRJEEc1HftWJIA6Z5rIUAcqnjpVBhDMJMn3AYqbYARJwJwIrxVITMbf2rODMDy++elKlUp65AV2rKQAQRgjv3qIGNwiD0rKVlSoPmHoOc/XypEnulY8sEE5jmpA5I5JFRQognAxxPSi7AJBjHGOKD0GQRyTPMkZqYSpSAAQCYGayhIIPJB4NZSUIG5MkE8UtGiZUQBhMc9qIpBAJ9/vrCjj3CSeZqe8iE8qPQc0ExtJEztx7qmhKkgbiCY+ZqKVw4QOgk0X+oqmORIpfKgyjzggyUjMVIQrkncTHPP1FZSACok5jHr2rxlSgJJ6dulMhUGQOJieMjFYSsK4ggc4r20JBPJ4+vlUgJ2mSkn6/ajR7eHnxnODNYSQP6ecjFSCIICkmCePjWUIJb4AAHSj0XtkqSqdxxHapbRskZ8sivAlawDGBWYMkZVAwe9AYCuZgGI4rwg/iOSYxj9KkkCCJnv6Vn2e3qe460j2Go+ccmOtESDBHIzMdawopVwPyzUt8rCQDznHy/amTKBuM/hz+te3QQoGAe/urKY8oMHsVChKQJSTIxJAMxmgqmCHI7jgTippSUgxBM9uKGkHYcwcDHSizMxyO5oEeSYAJIGM4rG1W0iAZPWsnykFSpxREQshI8x54pKig8Y3RstGJnJIwK5nbN/eXNwgnfBPPSt1+0O6HsmWEgFeSQa1vSwktxtJVyT0ia8XqrvN9F0ePbxbWdkFLbQlf4iIBJ+u8VdMLDSkJAHOQOnb8qqbUbpXnH4e1WNmP5wKsDPJzxXK6qty6EJkEGOmKiydyEggFM5BpdxSleRJM8xjNMWyFFYSTMA4M1NSbtwODMTVownyKP4ZpFlO0D4CIptLkgIAgQSf2pyJqQQFAg5B9OKYDmc/wBVeQmBAMY61IIC1gzjp0x7qrRb0mhJUQAQJJmfd/erJRSywpROehPalWGIcB4CaMptTy0gECcQacJLTmVOvbyPIOpp11QK8d6myk21vskBfH5cUFWQCqOeO9WmgvHf5AQBIBFMMNncYIIiJNBSoJCioSFHHXP1FNWgKUSSd3cCDVRNdpTiAeaKE5BPvoaCUySCZzjNFEyqvp3y0RjKT1npWRzMkjvWDz1xUogcdeKRvE4NejJg4/OsLHbArETj9aAlCSYGTFeT8qiRJOAe+K9EDjNAeJgEdjXlK8oiaxMSflXgYETikECIPvqKpAxiayQDkHnoKwElQ49JppRkRNYI5wTRCkJjB7VEgglQntxRAGoEc8UNSZgREcCjFM96gUyRHSrALiBtESagUn3/ABoxEGAORUdpzQQBR1BwRQVt4MdabKM9zQyjPwxQCLiM5yPWgOJxxinnUQCB360s4g7oIyKDIPoMTwD1pB1rMAZmrZxvcjjn86Uda6x17UBWOtSJmKQeYMGOp44q2W0olUiaTeTHv7UJvhUOtBBVAxGZpR5o+bMg5FW7yElUbYquWg9Jz2paNXlIMyRI70stAyBnPEVYrQSo4gdM0o60rB3RB99SavdbJQRE44PFJKbO8jzAQeBirJ5CVAcSDSryQclM44NI9q5TZSrMc9RQXEE7lEkgGB6066ADhP4skUqv8JBBHJpKhFYLQkiM/lQXEycKkd5+f6UysSTk5mSaA4SSEdOJpaBZSchRg5IlXbvQ1pSoKyJJI5xRXPOo4IHqKAobStMZMkSKirRUClUkzme/1xUsSlJ/F0E9KxBUo4AHJgQJrIG0ZIkDvxUkymV4CQEnqa82ISSZjoI69q8ASSY65oze6SOxn0qocCW0AgRujt0+przZJVEQkZwfWiL8gmYkYHwqCSraMkgznmmaapPWAenUfX7VMJwoKMAQQAOT3qJUYCef1qSFSBJBniKml8vAlDeDCj1qaJATkkxweAKjuUpKgRPb1rKcoCiZHEigktqUwomfU56URAEBZJj1BqMEg7Rx0rKgAgiDu7E9aFRkrhZTMA5CgRj3VkghIASRHQGKwUlUHkADFeSN6yfw4gyPSnsPJEAZ2kmfjiiISqCIxJAnrUEoUDgGAcARzOKkJngUkpQd8j9Pr1qaEgpBHmx9fv8AOsSrkYHpRGESkKgCRyfdSt00iIPtV7RuGcwJrKlCTAkjM9qkABKyAAcQOlYWsDAhJnHep9hlKj7MSY9TXo2GN3Xj1rKTgK5AjpUoSCe8npVkkVEkk8cc+lZT5E5Pl9PhUQN22OfXFFKoRtUeh60gilQjynB9a8d5JSSMYxzXgYmJMj/msnsnJ5Jnmg9JLSlSSSSoE5HArK1JWsQCT6fKsEhKZn0OOlYSkKE4niD+VBJFQgHd1mJqTspWCNx6evxrC1DaBIgTJHxpW81y0sCfbXDSAOFLUmlfAk36NApIEiSkTnmooTtWCrKh0jrWtPfaPojO5DT/ALdUwQ2k59ZiD8Kp9T+09LAKrezKdpyVqBJGf7Vhlz8eHvJ049Ny5+sXQEqSSoggQaG9eMMyHHEhJ7qAHFcauPtB1K+cU2l0NpJMhtGesA1Wvapd3TpLr7iuSAomJrmy63CfTNuvDoM/+u6dhu/F9hZpKvbhe0/0eafSR7xVSv7QUvBabdlSdpyV4rnCnSSlJkpHXGfd9dKft0hG0pQQrn1OK5Mus5MvE8O7DoePH35O6xqr+tXYW4B+GExx9Zq0sWSlrzHbJnvAqmsyXX1ryAiE5NXdikrA2pBKu5rl7rld12TGYTU9LBu1ASAlc9IPP1FWrTCWGgpRIJAO1XEwP7flS1tsU/BmUiIP16GiOk+VWCDBgg45mkgZKJJnKZOR86sGEEBRjEzImq+2AcVidoAx6fGrRuYBMnFOEZYbJ3c8c9zTKEqBxE4MGhNghURMc0ckYPCpifr31QoiVqxuABB5inGEFMZg/KlmkHeARjMmKbQSVr2gDaYg0/aKaQkNADlQ6flTVkx7VXtEzA9aUSUqwCI6/OrBK0sWgQB5yMmqkR8vPOytROD1kwaWV51pSowO5+vfU3nUtjnryRzWWYgKgx1JFUTGHFJHGe9MOuFLchUkYCailvakqKc+6oqT7dcZByYHIFVCdubAKeYokRGeO9CQsKOYk1nfX0lr5eJhIkd68QZJ79Kxuxk8Vkq+J70wyAR/asBQGPhFe3xPEVgdSffNASBEc5qBMnPur2Rjp76yRJigIKIUYB45qM89akUyfjXkiFSIo2SJASSI561giMdTUyZH71AqI+H50thhOAcz2FeiAeuK8kwZzxXgTBAzNAYAz/asKwKJBA4HxqAxVS7AJEg8j4V5KIB9KKUEVGCaogdojFQ25PSmCk1FSRu9KCKLQcjvS7rZUexp5aY/agKTKpo0FetB95ImlXW/OQYme1WLqIc+HJNKrbIPEmgK55Hbk0k4yAZg1ZvIgbuTSj6YGBnmg/arW35iTj3Ui81tBHMHk1auoyrFKvNgqnkTTJVuJEbv2pK4SFJCepqzebgdKTebwep7VNVpWOICcFMHrSS0pS6qCRnqTVk6iJG0fHrS7qN8pgJM80i0rXkhYyMnETik32jMwDHfmrBxopKpMzikXkEpUQREDrU1RF1IA6iBHuoKkwNxknGIplSTtSSqZ/Sl3CQqaSoXeJhcDzDA99K4KhuxOCSc0ypSpzEyeopVajumYzBzULZPCSZCY6c+lQKSDG0lRHHr9CvPEpAMgH1ryCS4lWNuRxxRqAYbUlQQng9M1mElM+syKgoiOqgfT4VILkhI/DMyaAincpJgFJPfv7/riphvhRx0g4qMbTKyAZH4etSSuAQcARQGEoJnrnAJqaE+QQAI6YqKR5lGOTz2ogIBKpzMe8ZqUsA7dyYJChtERiipG9SSDAGUgHmoSN3+4dZEfXFTQE7iY9YFADSfZuFAweds/X1NMBKTySTxFRQFFR8oCu/7VNZ256fpQqJJTz/VNRCdwhw+ac17MBQUMdjg1NafKomJnmg9MTOUnMcCsyDv49J/KshBC1RgVIIIUSBgKiYoLSOwJSDIJnnmihRCSU/HvWE9swehHpFTQAkFUHOairePmBVNYUEwQBE9SeKz7QAAHiIgUo/qlpZply5abTH9awn9aJdexq30ewTIgAcjv9TUk7d4VzHSqFzxnpTZBS+FSeG/Nu46ikL77RbS0CfZW7rylKjoABHJz6+tZXlwx91vjwcmXrFt6gkJETgwDUglStp74yYrluo/afqS4FqhhtsEHcsFR5zGR0pS/wDFGr3FuAu72qVyG/LA5+vhWV6rjjox6Llvvw609d29kkLW4hCeNyiPSqq58W6VZ/jvG9ylQAjzZ68fGuKaheXNzuK33HAkFQJXMY/P/ND08LuX0qKwpLYwJMg+6ufLrf8AjHXj+Hz/AKsnWr/7SrK1/wDZZU8o8g4zmtf1H7TL9wLTbMttAyJV5iO1andOStM7pzkqx60rcOpbWVKI2nJ2nPWuXLq+W/OnVh0fFj8bWV34x1fUHgtV482QT5GjtAgzEDJrXNVuS9cLBeK1JVEqO4zJmP70e2ufZNFzCiAePlVUphV48tW9GZPmyJg1z3kyy9124ceGE1jNHNIDyDJIUcSYo9y8HdyJlK4AIPAphSQwypQSNwOIMmkSAVwTjjsJ7/nWVUbYR7BsGIAEdZOP+KPZje8kqJIHE4mh7whuTgp4GJPb86eYa9lbzPnWqY+f9qCs2I1Llwd6SpUcnn6xTjZiN0gTjn66Uoy37NbhIUFgR60yhzeQEgCFdBmaYW9o17IQY3LEz8fr51atggpSIHfOI493Wq2zSVsBZG0wRE8/4q6SnzbISQBkHk1cZU5bqDLad34yc9R6UwggqG4YMgYpQuBZ2D8IgCO3rT1og+QH8UTHE4FJBu3Rs2ZMlM8VZsJ3BKlRuj5UowkJ+PI71ZMQIEBQOSZqpEsoUEgDhPNHZQXHSogiBgkChqJU0AcHGCOKYZhIEx3pinClLbYz5ldDRmRtSUmAe8cUs2r27iiTgd6bbaLigSCZPA7TVxFNWrCWxuIkxj6PurK1e0ckiOgx6UVwRCQOegzQXIbKUgyT+5NWipphQSTKgOskZpm3aQAUgK7wcx7qXbB3BPORimnVpbAAxFER8huOwAOs9M/XNTtmkrPmSEkj+9CbQpSiJ3ACcmaOlRQncqI4mYxWkP5c/sf4wrjRXVN+IvC9zaJQopU7bO7lT/4qSkev4u3ea6D4f/ip8A64UD/VXLBS4hN8wpuPeYKR8SKS1rwNo3iNkt39k28BMEpyJ6g8iuKeNf4Y1XDr11o10s53ot1wnaY6EY79uYr6e4fZ81xZ8eX1zX9Pr3S/Gui60gLstTtrodPYuJV+hq7RctuAQoGcya/My6tfFn2d3QDls/bhJKkBQUII5G4CDmeCeK3Dwv8AxE69priEP3dwzAj/ANxRmVYMR274+ZnmyuWHuO7DpsOTxx5v0G3g9R6VLcMV8veGv4g7q6ZSRfofXiUqSO3w91dA077aVvtFbtu2oBUfylHNYzqeP5GfRcuP8uxE9qx1wYrnml/a9Z3iAXbd22McKKVdB2J71cWf2kaLekFN2EAmJcQU/qK1nLx5eq5suDkx941tgBE9RWFY6iKqLXxRpt1IYvGHowQhwGPkabTfNOkbVgg9JrXcvpjZZ7Mqx1wKxkqPSoIeQo4IzWSvJyKEvEbpM4ryBNR4xjipBWB3oKJFWQIivQO2J6VCQORHvrxJjFUEiqRxXhMT+tRBjrUgYM8imGCnrxUI8xkdKISCYqCojnNEGg1jJml1pgwcCmlAEndxQ3YPHSmRN1Mxj1pVaDxFOrAM/lS74kdCaCVzqCBHWk3iRI4xVk6lM+oEmkXG+VRzxVBXujpI4pJ1IIMiffVm62fNHTpSNw2DEme80BXutzPInNKPtmZ+H1+dWS0kJJBkUm+SvsR37VFXFUtELMjnE0s6mPSPSrF0CYJmaRdRtURPl7mp2rStWConk0hckhJhG71qyeIVABiMYpJ9M7043Hg1IV7gMTAT78Um9kQZBjvNOOgo3RM8KpR1s5G4RHIpLhRYhSMEdeaCRgqAmVHJphzCldQTgnHehLASkqjdkcjipPSKtobKtpKuT16UNCf5gwNsyTPWslAwtUKBk4EVJKEpgwMg4OKNjTClkp8vm5Hac17bJMEpV0ipIQEODzBQiOK8IbEyAOpHXNLYSKTKpkQSeaksbSARnsOev18qglxLgMrRuJgAH69aC/qVswFFx9CFcZI7c0u6Hq0wiN2DnnPwoiBBwAB76qz4g0xnK7xlEE5AmcegpB7x9pbKygKW6QkSlCCfd8P7VN5MJ7q5xZ5esWywk7iJ3EdPh/epoA3Kgk+pzWmOfaLaNqSG7ZS1JJHmJT29KWu/tLfS0Ci0bQTO0KVNY3qOOfLbHpOW/DfYMEk8c14LSqJVJjGYn6iuQ3H2g6u6pRDjTBEwhCTPAEZNIu+K9Wu3U7rt1KNpEJ8ok/2rK9Xxz06ceg5b707WbhAUkFQmMg+6lntfsLQKS7dsoUnkFYmuLG4eumgXLhalxPnUSYnHPrSji1oUUTwcEmPWsMut16jfHoP+WTszvjzSWJ2PLdjjY2rj4j0qmvftTs2lS1a3DiwMIUAPU8EjFc+EsW6EkSSAtRIOfrFVy1FIAKSoE/hkbsg1jeszvpvj0PHPbpB+0m6eQlTVuhowZ9pnqM81Qv8A2h61cOeW6CEExhASBj3fuapXn1Wtq3KhuX37dKnpjAfWCUhKRmPr3Vjlz8l+XRj03Fj6xXB1jUCwQ9duuqUZIW4pQHuE4FVvBCj+GJwOk/5otypRcITkBJiD9fRpdxZBSkqAkxtjOJP7Vjc8r7roxxxnqC2bxlXZPmBHf6NDu3VOLVuBUuMeuOc+6io/lMgqMFc5A6D9v70t7QblAkgmBKp5HPxzU7ULaNl1xCT+CYIHSPoUxd3ErISqUpGffMc/XX0qNkpLMrkkZMnpn+9CWvfhaonzdeM1OxordqcKQmCkQQkjOJHWj6Y0bRtTkg7s5/IVmzZ9vcKUpRxgcxI+hTVwosQkDBkxSVC63iXvMODPGecGq64hTRSnyJnA6QO3yp9ZhPKYIhKlDExSXstylLUVEnygenWhUJhKvZlQlIB4GZ+v3qdogpcTtEBIyR2gdKi9CCluQTtGY5jrH1zRmGlupWAIA5IkfAd+KRi3LqW5SOSPjP137VC3SCoqAMAQBwVY79a84S/sCRtVEH/MUVTQQwAVSYx1464oRRrNKwtS8gbuEjnpTynAsezTnn4R9D50hb7mivkKkncFfHin2WdyyYkCTPTrVEIULSkCNyyYBicxT1s0lRAByTMEx+tJMtOFwEKAMgYMbs1a2TUSVfiPBnHwNEKru1ZTtSQYgSIqyZZhZKlQIAikrUhAAgKUfX6mm0OFCAjgnnGR2qmdOM7dwUBvjHl781YWSTsClCATiYJqsYO5YS3yDnEDr/eKt0upSEhsp3ETtgfXahnTtq1ucKz0x2FPNKE+VOc89qUCw0Qj9PjTCHQswBEiPWtPghW8iBweQabLcAlWFHufShMAKIJPApsAqUVbhHAHeiFtJtHkEkycgg1YsKShM/1Dv76TYSZSAYjmn2wFqhPCfSrjO1ltW1JciI5P176G0srUjcJ6CelZUkqcAOBxzTNlbBawVcdNommXsxbsBoBZAP8A5UF0h5ISmDBkEUe9cCfKkeUCPf8AX7UtbpkjgT2GacibHiMAJkmACR0qQEpghRAMcdfdWSIbSZGf0pm2ShtMkHYDPX9quJbLdaO7ZEhbZg8kRApJTZCynbAgjIrfl7VAgwR60ldaOw8qRCFEeWK+n2+UuLnWq+H7LVmFs3Nuh5Cx5wsT0xzXHvGH8Muk6sS5prn3Bf4ShUqTxwJ99fRF5pL1usAp6mPdVc43sCQoyZyAIqvcGGWWF3jdPirxD9jXifwVvet23HrfJ3NCQkbj/f5++lND+0nVdDCGL5twBB2krAG7147dq+2VtoWghxAIJOCJrT/E32VaD4mbUl+yS06chbeCPgD+vpXFy9PjnPHt6nD12WN/X6ch8JfaZZalbbVqDDu3hShgx/mtvttYt3LcradBTOI6YxPyrRPGP8Neo6btc0K4TcMJn+TASuJJESQMSBHPbtXP7608U+D3HW3bW6bKVxCkqON3I6EZ98cV5efS8mHl63H1fFy+Ma79bPBxs+YGDz606nWbq0ebDVy6gAHCXCM/QrhPh37XfuivZXiFNH8Ktw4zxH7elbvo32g6dq92j+elBSmYUe54rksywdfbMvjbq1p4y1ZpI23rxITgrVOY9Zq2t/tC1RsqBfC9pjzJmK5+3qLDrO5twKlQAKcznP6GrBkKDDyjAWVqAM+sUpz8k9ZMsuDjvvGN7a+1DUUf+6lpQBB4In05qwtvtVW64AqzmT0XArmK4SCT/ViZrDFwtDalJgAJVkcycD4zVTrOWf8AUxvScN/6XXrb7ULd9I32riJ/7gcU+n7RbHypUhwLUYGJ6TXKrRQACRiE9/rvRy7/ADys4A8oj5T+VdE63kYXouK/d1T/ANf6biXFJJ6bCf2ozPjzSnPL94APqCP1rlBWAgZiBj30klYS6QDHSIq/8/P7RH+Bh8Wu2t+LdNUMXTXuKhNHT4jsH+LptQ9FCuKNfhAByo5NWdqkhAjdmaudff8Aiz/wcf8Ak62NYsl4D6CenmqKtUtSTDqfnXG13B/1gtJMot2QSY6qJ/Py1JbikMEknetRJzMSf7Vc6/8A9o/wJ/ydcVqdt1cSPjQHNRt5MOD51yB1Xs0pVPMVNf40hJI2nv3p/wCfP+Jf+n/+51R+8aKSoKSoenSlF3bOCVp47iubKUpCR5j5szJnrSCnHFOrkqUUJJAzkxin/wCoT/iqfh1/5OnvXTQJ84+YpB+6YGfaJE+taAtxbz7kbkgK2STBnaCY78j5msXDEKCEqI9mAkBPugfr+VT/AJ8/4j/0/X/U3Vy7a2wXATNKvuJE9R761mytfbutoCfaJSr2neAMA/Mirp9YehIMwMiq/wAy63pP+HJ8suOt9VAHjmqy6umUBSioETkzU7k7wJggDmqe5DbjxElQTCyOOJ/tWWXW5fZWPR435Fu7xoKJ3A4jA4pBepsKWAlRJwIA/OlXJLTxEqkxnpzVdbW6isuEmYny9Yx3rG9fl9nRj0HHfdot/rtvbuKCsgciM0sNWacUDsJSpIKcwfj+VUeop+8XSygKkKzn1gdPjTBT/NRtJCQnbHSI/wCKy/zuSt/8Hig91rCENA7TKpVAP12qpe8RuJcSlDCVycyvHPuqTy0uJdWmCEiIInrH176qWx50kDdIBAEc/RrO9Zy/drj0XD9lw9rLzIJDaZED+1VTviLUXHnAC2EAlKRtHaoX10Us7+AcgE/L9qSbXsZ2mdxk+bNReq5b8tZ0fDP+kR3X75SoNzhQOQmMcR+tKXWr3K1nfdObCrbgYH0etRWlCRJwCnkYIqoulLccXnkRjOT6fCo/O5L7yaTg456xhoPOuq/91xxPRB60K5SQ+dquMdiAAJ+vdTFqlTbBVwmCCRj6/wA1XXS3SsiRBB69TS7sr8jtxx+EXNRAcIlR25VAODBH7iqwOuOLcVt5VwcccUy+gNhxe5Q6CO8D/NLsAjqR3gen60lbh5gqSoTE4JjNS1R8hSSkFRAwB7p/ORSNlcqdyT50pmAeRWLpzcJEkphJ9THv9aKPYTjy1KUoIgK6KIA4n9+aetkgNpSQFFap3DsRzVcEnYDuIJAgxAHf9KtGIFv7QAbwDg8c8fpSVuR54pASEHaOoiPhQ9Pt/vlwqSAASTjj6mlitZCJcA3E7SOv1mrTT9QQbP2aIMjKwZkR76jZBOukp8qfNACUmQR76iwx94cZ3FITG4ySPjQLxZFyYkE4j3cdqZs0pRbvOqkKQklIHIGIj86r5JDVnC5ehttUoRiJwkTE8U9p5DdskqySJMZjHWq1JU66SSR5swY/q+vlVnbsq27SndtTwT7o/f8AKi1pGXwQJwQJEdaEhAeJJgKGMmRj/mf70R1WE8hKeUkZPHrQmXgMgKkiYIjHc/L66TBrZi42hISkJOIAIpVQDze0TuB8ox9c15TpuwogggZTB5+po7FulN0lS1EqGR2zinstCG3hpG8yoYEdaE6oNnaCRiQorzTFw4r2sAEmI/Oql8qLiCpYCfxEHMif80jkO6ckFAJhSTgySay86XfISYOJGM/QqZV7BkA4CBgHB49Pn8aRWkqWoncCRjGPlS2aNzcqS4hKlT7h9elFRItypW2QAcnuAefcRVe1tU8WyfOmPLkRJx+Zj4+tHv3UosgEcEAGMYjn9KlUIvPh283QAMSAYBHy5qxaUVoCTgRgzAPc1X2dspK1OkkKOQmJKqn94Cm1qICUoTuUSMEdPh1qgcadK1qKRtMkknPpTLzhDYSQQlPKgMQfo0m2wm0Z9klCWiZhI8s9+aIypLjo80pSORI+HTMEUkU4yVKcVuB3qmT29Pr05p5gFSfMDJPH/H1k0kwkvKbJUSk+aOZx7/dTBf2Oo3KGOBMeb3enamZzTGw9dbzG0/hjr9d6v7ZovuJIII5931FVOmBKWBztWJgGTHcEdKt7IbUkpJPUA04zyWTEOuAEZEDn69aYUtJeGDt4IUCD9f5oIUEElIG+SPIMg0VAC/MSJBnJjHeKr0y2etESnecCBz8asrBsqO8iPfSSFAltDZBnmDVk2fYDYV/I96EWmj5lbyJCfT67miW0+QwY4E/XpQUOhSSkcdz0p6xUCUkEFMCPfNWjZptshABHTMU4ADAREmcR1oKVokbuInFOWqEncuIIkc04ZhsBACUyFGM0eQykAj4CgoUMqHPAPwrK1FwgZMKxArSM6mglRBPkMZJxJp9MobbkApwZ+Wf0pVtkESYA7/CiqcSUhIKjkgR+9MR5wBxwgjHTPFT8uyOPUH5VhKQ23EyRJ5zUSQpQCVHb0qoLEAkuKwfLHSjuuKJQ2gSByCIqZQWGyByoyZ/agyYCids5kdYp7Q//2Q==)"
      ]
    },
    {
      "cell_type": "markdown",
      "metadata": {
        "id": "3L2D8fjlKHvY"
      },
      "source": [
        "#**03. 사이킷런의 기반 프레임 워크 익히기**"
      ]
    },
    {
      "cell_type": "markdown",
      "metadata": {
        "id": "nIuMDpPHKdZI"
      },
      "source": [
        "**Estimator 이해 및 fit(), predict() 메서드**\r\n",
        "\r\n",
        "- 사이킷런은 ML 모델 학습을 위해서 fit()을, 학습된 모델의 예측을 위해 predict() 메서드를 제공.\r\n",
        "- 지도학습의 주요 두 축인 분류(Classification)와 회귀(Regression)의 다양한 알고리즘을 구현한 모든 사이킷런 클래스는 fit()과 predict()만을 이용해 간단하게 학습과 예측 결과를 반환함.\r\n",
        "- 분류 알고리즘을 구현한 클래스를 Classifier로, 회귀 알고리즘을 구현한 클래스를 Regressor로 지칭함.\r\n",
        "- Classifier와 Regressor를 합쳐서 Estimator 클래스라고 부릅니다. 즉 지도학습의 모든 알고리즘을 구현한 클래스를 통칭해서 Estimator라고 부름.\r\n",
        "- 당연히 Estimator 클래스는 fit(), predict()를 내부에서 구현하고 있음\r\n",
        "------------------------------------------------------------------------\r\n",
        "- cross_val_score()와 같은 evaluation 함수, GridSearchCV와 같은 하이퍼 파라미터 튜닝을 지원하는 클래스의 경우 이 Estimator를 인자로 받습니다.\r\n",
        "- 인자로 받은 Estimator에 대해서 cross_val_score(), GridSearchCV.fit() 함수 내에서 이 Estimator의 fit()과 predict()를 호출해서 평가를 하거나 하이퍼 파라미터 튜닝을 수행하는 것입니다.\r\n",
        "\r\n"
      ]
    },
    {
      "cell_type": "markdown",
      "metadata": {
        "id": "8PqbQaUFNedG"
      },
      "source": [
        "# Estimator\r\n",
        "  -> 학습 : fit()\r\n",
        "\r\n",
        "  ->  예측 : predict()\r\n",
        "- Classifier (분류)\r\n",
        "  - 분류 구현 클래스\r\n",
        "  1.DecisionTreeClassifier\r\n",
        "  \r\n",
        "  2.RandomForestClassifier\r\n",
        "  \r\n",
        "  3.GradientBoostingClassifier\r\n",
        "  \r\n",
        "  4.GaussianNB\r\n",
        "  \r\n",
        "  5.SVC\r\n",
        "- Regressor (회귀)\r\n",
        "  - 회귀 구현 클래스\r\n",
        "  1.LinearRegression\r\n",
        "\r\n",
        "  2.Ridge\r\n",
        "\r\n",
        "  3.Lasso\r\n",
        "\r\n",
        "  4.RandomForestRegressor\r\n",
        "  \r\n",
        "  5.GradientBoostingRegressor\r\n",
        "\r\n"
      ]
    },
    {
      "cell_type": "markdown",
      "metadata": {
        "id": "QC9ZJb1-QX-6"
      },
      "source": [
        "- 사이킷런에서 비지도학습인 차원 축소, 클러스터링, 피처 추출(Feature Extraction) 등을 구현한 클래스 역시 대부분 fit(), transform()을 적용.\r\n",
        "\r\n",
        "- 비지도학습과 피처 추출에서 fit()은 지도학습의 fit()과 같이 학습을 의미하는 것이 아니라 입력 데이터의 형태에 맞춰 데이터를 변환하기 위한 사전 구조를 맞추는 작업이다. fit()으로 변환을 위한 사전 구조를 맞추면 이후 입력 데이터의 차원 변환, 클러스터링, 피처 추출 등의 실제 작업은 transform()으로 수행한다.\r\n",
        "\r\n",
        "- 사이킷런은 fit()과 transform()을 하나로 결합한 fit_transform()도 제공함. fit_transform()은 fit()과 transform()을 별도로 호출할 필요를 줄여주지만, 사용에 있어 약간의 주의가 필요함."
      ]
    },
    {
      "cell_type": "markdown",
      "metadata": {
        "id": "hB_pV2UbRv4q"
      },
      "source": [
        "###***사이킷런의 주요 모듈***"
      ]
    },
    {
      "cell_type": "markdown",
      "metadata": {
        "id": "mJ2YDPKKR8Fs"
      },
      "source": [
        "![image.png](data:image/png;base64,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)"
      ]
    },
    {
      "cell_type": "markdown",
      "metadata": {
        "id": "bb6Y-9pFYlFC"
      },
      "source": [
        "- 일반적으로 머신러닝 모델을 구축하는 주요 프로세스는 피처의 가공, 변경, 추출을 수행하는 피처 처리(feature processing), ML 알고리즘 학습/예측 수행, 그리고 모델 평가의 단계를 반복적으로 수행하는 것"
      ]
    },
    {
      "cell_type": "markdown",
      "metadata": {
        "id": "vRDjKFSsaNzN"
      },
      "source": [
        "#####**내장된 예제 데이터 세트**"
      ]
    },
    {
      "cell_type": "markdown",
      "metadata": {
        "id": "OwbyO2VtaSkn"
      },
      "source": [
        "![image.png](data:image/png;base64,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)"
      ]
    },
    {
      "cell_type": "markdown",
      "metadata": {
        "id": "PkPQ84Qea1DH"
      },
      "source": [
        "######**분류와 클러스터링을 위한 표본 데이터 생성기**\r\n",
        "- datasets.make_classifications() : 분류를 위한 데이터 세트를 만듬\r\n",
        "- datasets.make_blobs() : 클러스터링을 위한 데이터 세트를 무작위로 생성해줌"
      ]
    },
    {
      "cell_type": "markdown",
      "metadata": {
        "id": "btIX6eDfb7VG"
      },
      "source": [
        "분류나 회귀를 위한 연습용 예제 데이터가 어떻게 구성돼 있는지 좀 더 살펴보겠습니다. 사이킷런에 내장된 이 데이터 세트는 일반적으로 딕셔너리 형태로 돼 있습니다.\r\n",
        "\r\n",
        "키(key)는 보통 data, target, target_name, feature_names, DESCR로 구성돼있습니다.\r\n",
        "\r\n",
        "- data는 피처의 데이터 세트를 가리킴\r\n",
        "- target은 분류 시 레이블 값, 회귀일 때는 숫자 결과값 데이터 세트 입니다.\r\n",
        "- target_names는 개별 레이블의 이름을 나타냄\r\n",
        "- feature_names는 피처의 이름을 나타냄\r\n",
        "- DESCR은 데이터 세트에 대한 설명과 각 피처의 설명을 나타냄"
      ]
    },
    {
      "cell_type": "markdown",
      "metadata": {
        "id": "SKUXlu5SczHy"
      },
      "source": [
        ">data, target은 넘파이 배열(ndarray)타입이며, target_names, feature_names는 넘파이 배열 또는 리스트(list) 타입, DESCR은 스트링 타입"
      ]
    },
    {
      "cell_type": "code",
      "metadata": {
        "colab": {
          "base_uri": "https://localhost:8080/"
        },
        "id": "glR5EXbtHoN8",
        "outputId": "daaca00c-e951-4ceb-85ef-5ba6ce6a8dbb"
      },
      "source": [
        "from sklearn.datasets import load_iris\r\n",
        "iris_data = load_iris()\r\n",
        "print(type(iris_data)) # 결과 : sklearn.utils.Bunch 클래스는 파이썬 딕셔너리 자료형과 유사 (딕셔너리 형태의 값 반환)"
      ],
      "execution_count": null,
      "outputs": [
        {
          "output_type": "stream",
          "text": [
            "<class 'sklearn.utils.Bunch'>\n"
          ],
          "name": "stdout"
        }
      ]
    },
    {
      "cell_type": "code",
      "metadata": {
        "colab": {
          "base_uri": "https://localhost:8080/"
        },
        "id": "XDxmuhVjfI8w",
        "outputId": "d7cf2dee-adfc-445b-9dcd-8d44639a3175"
      },
      "source": [
        "keys = iris_data.keys()\r\n",
        "print(keys) # 데이터 키는 피처들의 데이터 값을 가리킴"
      ],
      "execution_count": null,
      "outputs": [
        {
          "output_type": "stream",
          "text": [
            "dict_keys(['data', 'target', 'target_names', 'DESCR', 'feature_names', 'filename'])\n"
          ],
          "name": "stdout"
        }
      ]
    },
    {
      "cell_type": "code",
      "metadata": {
        "colab": {
          "base_uri": "https://localhost:8080/"
        },
        "id": "pp4eA2oBf_j1",
        "outputId": "ea7b98d8-3f28-4cf2-8b03-3ddccf8df2cf"
      },
      "source": [
        "iris_data.target"
      ],
      "execution_count": null,
      "outputs": [
        {
          "output_type": "execute_result",
          "data": {
            "text/plain": [
              "array([0, 0, 0, 0, 0, 0, 0, 0, 0, 0, 0, 0, 0, 0, 0, 0, 0, 0, 0, 0, 0, 0,\n",
              "       0, 0, 0, 0, 0, 0, 0, 0, 0, 0, 0, 0, 0, 0, 0, 0, 0, 0, 0, 0, 0, 0,\n",
              "       0, 0, 0, 0, 0, 0, 1, 1, 1, 1, 1, 1, 1, 1, 1, 1, 1, 1, 1, 1, 1, 1,\n",
              "       1, 1, 1, 1, 1, 1, 1, 1, 1, 1, 1, 1, 1, 1, 1, 1, 1, 1, 1, 1, 1, 1,\n",
              "       1, 1, 1, 1, 1, 1, 1, 1, 1, 1, 1, 1, 2, 2, 2, 2, 2, 2, 2, 2, 2, 2,\n",
              "       2, 2, 2, 2, 2, 2, 2, 2, 2, 2, 2, 2, 2, 2, 2, 2, 2, 2, 2, 2, 2, 2,\n",
              "       2, 2, 2, 2, 2, 2, 2, 2, 2, 2, 2, 2, 2, 2, 2, 2, 2, 2])"
            ]
          },
          "metadata": {
            "tags": []
          },
          "execution_count": 51
        }
      ]
    },
    {
      "cell_type": "code",
      "metadata": {
        "colab": {
          "base_uri": "https://localhost:8080/"
        },
        "id": "C5DJMU0ngCdL",
        "outputId": "fd6be1a4-c6cf-4283-a64e-cde66f3fedf2"
      },
      "source": [
        "iris_data.target_names"
      ],
      "execution_count": null,
      "outputs": [
        {
          "output_type": "execute_result",
          "data": {
            "text/plain": [
              "array(['setosa', 'versicolor', 'virginica'], dtype='<U10')"
            ]
          },
          "metadata": {
            "tags": []
          },
          "execution_count": 52
        }
      ]
    },
    {
      "cell_type": "code",
      "metadata": {
        "colab": {
          "base_uri": "https://localhost:8080/"
        },
        "id": "X-qRtCdHfev9",
        "outputId": "901a22cc-ad94-4e1d-9f5e-ec8950311088"
      },
      "source": [
        "iris_data.feature_names"
      ],
      "execution_count": null,
      "outputs": [
        {
          "output_type": "execute_result",
          "data": {
            "text/plain": [
              "['sepal length (cm)',\n",
              " 'sepal width (cm)',\n",
              " 'petal length (cm)',\n",
              " 'petal width (cm)']"
            ]
          },
          "metadata": {
            "tags": []
          },
          "execution_count": 53
        }
      ]
    },
    {
      "cell_type": "code",
      "metadata": {
        "colab": {
          "base_uri": "https://localhost:8080/",
          "height": 148
        },
        "id": "CjnoKMP-gFYd",
        "outputId": "3c5a6882-f757-487f-c1f4-4cc3716d714f"
      },
      "source": [
        "iris_data.DESCR"
      ],
      "execution_count": null,
      "outputs": [
        {
          "output_type": "execute_result",
          "data": {
            "application/vnd.google.colaboratory.intrinsic+json": {
              "type": "string"
            },
            "text/plain": [
              "'.. _iris_dataset:\\n\\nIris plants dataset\\n--------------------\\n\\n**Data Set Characteristics:**\\n\\n    :Number of Instances: 150 (50 in each of three classes)\\n    :Number of Attributes: 4 numeric, predictive attributes and the class\\n    :Attribute Information:\\n        - sepal length in cm\\n        - sepal width in cm\\n        - petal length in cm\\n        - petal width in cm\\n        - class:\\n                - Iris-Setosa\\n                - Iris-Versicolour\\n                - Iris-Virginica\\n                \\n    :Summary Statistics:\\n\\n    ============== ==== ==== ======= ===== ====================\\n                    Min  Max   Mean    SD   Class Correlation\\n    ============== ==== ==== ======= ===== ====================\\n    sepal length:   4.3  7.9   5.84   0.83    0.7826\\n    sepal width:    2.0  4.4   3.05   0.43   -0.4194\\n    petal length:   1.0  6.9   3.76   1.76    0.9490  (high!)\\n    petal width:    0.1  2.5   1.20   0.76    0.9565  (high!)\\n    ============== ==== ==== ======= ===== ====================\\n\\n    :Missing Attribute Values: None\\n    :Class Distribution: 33.3% for each of 3 classes.\\n    :Creator: R.A. Fisher\\n    :Donor: Michael Marshall (MARSHALL%PLU@io.arc.nasa.gov)\\n    :Date: July, 1988\\n\\nThe famous Iris database, first used by Sir R.A. Fisher. The dataset is taken\\nfrom Fisher\\'s paper. Note that it\\'s the same as in R, but not as in the UCI\\nMachine Learning Repository, which has two wrong data points.\\n\\nThis is perhaps the best known database to be found in the\\npattern recognition literature.  Fisher\\'s paper is a classic in the field and\\nis referenced frequently to this day.  (See Duda & Hart, for example.)  The\\ndata set contains 3 classes of 50 instances each, where each class refers to a\\ntype of iris plant.  One class is linearly separable from the other 2; the\\nlatter are NOT linearly separable from each other.\\n\\n.. topic:: References\\n\\n   - Fisher, R.A. \"The use of multiple measurements in taxonomic problems\"\\n     Annual Eugenics, 7, Part II, 179-188 (1936); also in \"Contributions to\\n     Mathematical Statistics\" (John Wiley, NY, 1950).\\n   - Duda, R.O., & Hart, P.E. (1973) Pattern Classification and Scene Analysis.\\n     (Q327.D83) John Wiley & Sons.  ISBN 0-471-22361-1.  See page 218.\\n   - Dasarathy, B.V. (1980) \"Nosing Around the Neighborhood: A New System\\n     Structure and Classification Rule for Recognition in Partially Exposed\\n     Environments\".  IEEE Transactions on Pattern Analysis and Machine\\n     Intelligence, Vol. PAMI-2, No. 1, 67-71.\\n   - Gates, G.W. (1972) \"The Reduced Nearest Neighbor Rule\".  IEEE Transactions\\n     on Information Theory, May 1972, 431-433.\\n   - See also: 1988 MLC Proceedings, 54-64.  Cheeseman et al\"s AUTOCLASS II\\n     conceptual clustering system finds 3 classes in the data.\\n   - Many, many more ...'"
            ]
          },
          "metadata": {
            "tags": []
          },
          "execution_count": 55
        }
      ]
    },
    {
      "cell_type": "markdown",
      "metadata": {
        "id": "miDMZ_hOgP7K"
      },
      "source": [
        "#**04. Model selection 모듈 소개**"
      ]
    },
    {
      "cell_type": "markdown",
      "metadata": {
        "id": "Lv6Es4c-gUsF"
      },
      "source": [
        "**학습/테스트 데이터 세트 분리 - train_test_split()**"
      ]
    },
    {
      "cell_type": "markdown",
      "metadata": {
        "id": "xswpxZIgl7Fh"
      },
      "source": [
        "train_test_split() 파라미터\r\n",
        "- test_size\r\n",
        "- train_size\r\n",
        "- shuffle : 데이터를 분리하기 전에 데이터를 미리 섞을지 결정\r\n",
        "- random_state : 동일한 학습/테스트 데이터를 생성하기 위해 난수 값"
      ]
    },
    {
      "cell_type": "code",
      "metadata": {
        "id": "XYAOMpEkgLOa"
      },
      "source": [
        "from sklearn.datasets import load_iris\r\n",
        "from sklearn.tree import DecisionTreeClassifier\r\n",
        "from sklearn.metrics import accuracy_score\r\n",
        "from sklearn.model_selection import train_test_split\r\n",
        "\r\n",
        "dt_clf = DecisionTreeClassifier()\r\n",
        "iris_data = load_iris()\r\n",
        "\r\n",
        "X_train,X_test,y_train,y_test = train_test_split(iris_data.data,iris_data.target,test_size=0.3, random_state = 121) # 테스트데이터 30% 학습데이터 70%"
      ],
      "execution_count": null,
      "outputs": []
    },
    {
      "cell_type": "code",
      "metadata": {
        "colab": {
          "base_uri": "https://localhost:8080/"
        },
        "id": "5dHyaKJxl1jC",
        "outputId": "61a0e0f4-2c72-4dbc-9b9d-561d12a7f7b9"
      },
      "source": [
        "dt_clf.fit(X_train,y_train)"
      ],
      "execution_count": null,
      "outputs": [
        {
          "output_type": "execute_result",
          "data": {
            "text/plain": [
              "DecisionTreeClassifier(ccp_alpha=0.0, class_weight=None, criterion='gini',\n",
              "                       max_depth=None, max_features=None, max_leaf_nodes=None,\n",
              "                       min_impurity_decrease=0.0, min_impurity_split=None,\n",
              "                       min_samples_leaf=1, min_samples_split=2,\n",
              "                       min_weight_fraction_leaf=0.0, presort='deprecated',\n",
              "                       random_state=None, splitter='best')"
            ]
          },
          "metadata": {
            "tags": []
          },
          "execution_count": 64
        }
      ]
    },
    {
      "cell_type": "code",
      "metadata": {
        "id": "gdOcStVjmtbV"
      },
      "source": [
        "pred = dt_clf.predict(X_test)"
      ],
      "execution_count": null,
      "outputs": []
    },
    {
      "cell_type": "code",
      "metadata": {
        "colab": {
          "base_uri": "https://localhost:8080/"
        },
        "id": "AAenaihRnKDH",
        "outputId": "44046f5f-d69a-4d65-8d98-f91e3ba055e4"
      },
      "source": [
        "print('예측 정확도 : {0:4f}'.format(accuracy_score(y_test,pred)))"
      ],
      "execution_count": null,
      "outputs": [
        {
          "output_type": "stream",
          "text": [
            "예측 정확도 : 0.955556\n"
          ],
          "name": "stdout"
        }
      ]
    },
    {
      "cell_type": "markdown",
      "metadata": {
        "id": "lgLsINxc7R1f"
      },
      "source": [
        "## **교차검증**"
      ]
    },
    {
      "cell_type": "markdown",
      "metadata": {
        "id": "OFbDli7A7VXm"
      },
      "source": [
        "- 앞의 내용 알고리즘을 학습시키는 학습 데이터와 이에 대한 에측 성능을 평가하기 위한 별도의 테스트용 데이터가 필요 <- 과적합 문제점 발생\r\n",
        "- 과적합은 모델이 학습 데이터만 과도하게 최적화되어, 실제 예측을 다른 데이터로 수행할 경우 예측 성능이 과도하게 떨어지는 것을 말함\r\n",
        "- 그런데 고정된 학습 데이터와 테스트 데이터로 평가를 하다 보면 테스트 데이터에만 최적의 성능을 발휘할 수 있도록 편향이 발생하게 됨. 결국 해당 테스트 데이터에만 과적합되는 학습 모델이 만들어져 다른 테스트 데이터가 들어올때는 성능 저하... <- 문제점 해결 : **교차검증**"
      ]
    },
    {
      "cell_type": "markdown",
      "metadata": {
        "id": "TAQ7xQTp-5uM"
      },
      "source": [
        "교차 검증을 좀 더 간략히 설명하자면?\r\n",
        "- ex) 수능을 치르기 전에 모의고사를 여러번 보는 것\r\n",
        "- 즉 수능이 테스트 데이터 세트에 대해 평가하는 거라면 모의고사는 교차 검증에서 많은 학습과 검증 세트에서 알고리즘 학습과 평가를 수행하는 것\r\n",
        "- 데이터는 이상치, 분포도, 다양한 속성값, 피처 중요도 등 여러가지 ML에 영향을 미치는 요소를 가지고있습니다.\r\n",
        "- 특정 ML 알고리즘에서 최적으로 동작할 수 있도록 데이터를 선별해 학습한다면 실제 데이터 양식과는 많은 차이가 있을 것이고 결국 성능 저하가 이어짐\r\n",
        "- 교차 검증은 이러한 데이터 편증을 막기 위해 별도의 여러 세트로 구성된 학습 데이터 세트와 검증 데이터 세트에서 학습과 평가를 수행하는 것"
      ]
    },
    {
      "cell_type": "markdown",
      "metadata": {
        "id": "mR6a4WD0-5lu"
      },
      "source": [
        "**K 폴드 교차 검증**\r\n",
        "- 먼저 K개의 데이터 폴드 세트를 만들어서 K번 만큼 각 폴드 세트에 학습과 검증 평가를 반복적으로 수행\r\n",
        "- K가 5이면 5번 교차 검증을 수행 -> 이 5개의 평가를 평균한 결과를 가지고 예측 성능 평가\r\n",
        "- 먼저 데이터를 K등분하고 첫번째 반복에서는 처음부터 4개 등분을 학습 데이터 세트, 마지막 5번째 등분 하나를 검증 데이터 세트로 설정하고 학습 데이터 세트에서 학습 수행, 검증 데이터 세트에서 평가를 수행 두번째 반복에서도 비슷하게 (처음부터 3개 등분까지, 그리고 마지막 5번째 등분을 학습 데이터, 4번째 등분을 검증 데이터 세트로 설정) <- 이 수행을 k번 하는 것"
      ]
    },
    {
      "cell_type": "markdown",
      "metadata": {
        "id": "hXswjXUqBlFp"
      },
      "source": [
        "- 사이킷런에서는 K폴드 교차 검증 프로세스를 구현하기 위해 KFold와 StratifiedKFold 클래스를 제공"
      ]
    },
    {
      "cell_type": "code",
      "metadata": {
        "colab": {
          "base_uri": "https://localhost:8080/"
        },
        "id": "39aqeOFKnPJF",
        "outputId": "57c9e8bc-b491-4d52-a50b-3be52955155b"
      },
      "source": [
        "from sklearn.datasets import load_iris\r\n",
        "from sklearn.tree import DecisionTreeClassifier\r\n",
        "from sklearn.metrics import accuracy_score\r\n",
        "from sklearn.model_selection import KFold\r\n",
        "import numpy as np\r\n",
        "\r\n",
        "iris = load_iris()\r\n",
        "features = iris.data\r\n",
        "label = iris.target\r\n",
        "dt_clf = DecisionTreeClassifier(random_state=156)\r\n",
        "\r\n",
        "# 5개의 폴드 세트로 분리하는 KFold 객체와 폴드 세트별 정확도를 담을 리스트 객체 생성\r\n",
        "kfold = KFold(n_splits = 5) # K=5\r\n",
        "cv_accuracy = []\r\n",
        "print('붓꽃 데이터 세트 크기 :',features.shape[0])"
      ],
      "execution_count": null,
      "outputs": [
        {
          "output_type": "stream",
          "text": [
            "붓꽃 데이터 세트 크기 : 150\n"
          ],
          "name": "stdout"
        }
      ]
    },
    {
      "cell_type": "markdown",
      "metadata": {
        "id": "kY0NQUDhDmBC"
      },
      "source": [
        "- KFold(n_split = 5)로 KFold 객체를 생성했으니 이제 생성된 KFold 객체의 split()를 호출해 전체 붓꽃 데이터를 5개의 폴드 데이터 세트로 분리합니다.\r\n",
        "- 전체 붓꽃 데이터는 150개 따라서 학습용 데이터 세트는 이 중 4/5인 120개, 검증용 데이터 세트는 1/5인 30개로 분할\r\n",
        "- KFold 객체는 split()을 호출하면 학습용/검증용 데이터로 분할할 수 있는 인덱스를 반환\r\n",
        "- 반환된 인덱스를 기반으로 수행"
      ]
    },
    {
      "cell_type": "code",
      "metadata": {
        "colab": {
          "base_uri": "https://localhost:8080/"
        },
        "id": "AoagZv6PDlNA",
        "outputId": "7083e789-608a-4b2d-82d0-74d6f15c432c"
      },
      "source": [
        "n_iter = 0\r\n",
        "\r\n",
        "# KFold 객체의 split()를 호출하면 폴드 별 학습용, 검증용 테스트의 로우 인덱스를 array로 반환\r\n",
        "for train_index, test_index in kfold.split(features):\r\n",
        "  # kfold.split()으로 반환된 인덱스를 이용해 학습용, 검증용 테스트 데이터 추출\r\n",
        "  X_train, X_test = features[train_index], features[test_index]\r\n",
        "  y_train, y_test = label[train_index], label[test_index]\r\n",
        "  #학습 및 예측\r\n",
        "  dt_clf.fit(X_train,y_train)\r\n",
        "  pred = dt_clf.predict(X_test)\r\n",
        "  n_iter += 1\r\n",
        "  # 반복 시마다 정확도 측정하기 위해서\r\n",
        "  accuracy = np.round(accuracy_score(y_test,pred),4)\r\n",
        "  train_size = X_train.shape[0]\r\n",
        "  test_size = X_test.shape[0]\r\n",
        "  print('\\n#{0} 교차 검증 정확도 :{1}, 학습 데이터 크기: {2}, 검증 데이터 크기:{3}'.format(n_iter,accuracy,train_size,test_size))\r\n",
        "  print('#{0} 검증 세트 인덱스: {1}'.format(n_iter,test_index))\r\n",
        "  cv_accuracy.append(accuracy)\r\n",
        "\r\n",
        "# 개별 iteration별 정확도를 합하여 평균 정확도 계산\r\n",
        "print('\\n## 평균 검증 정확도 :{0}'.format(np.mean(cv_accuracy)))"
      ],
      "execution_count": null,
      "outputs": [
        {
          "output_type": "stream",
          "text": [
            "\n",
            "#1 교차 검증 정확도 :1.0, 학습 데이터 크기: 120, 검증 데이터 크기:30\n",
            "#1 검증 세트 인덱스: [ 0  1  2  3  4  5  6  7  8  9 10 11 12 13 14 15 16 17 18 19 20 21 22 23\n",
            " 24 25 26 27 28 29]\n",
            "\n",
            "#2 교차 검증 정확도 :0.9667, 학습 데이터 크기: 120, 검증 데이터 크기:30\n",
            "#2 검증 세트 인덱스: [30 31 32 33 34 35 36 37 38 39 40 41 42 43 44 45 46 47 48 49 50 51 52 53\n",
            " 54 55 56 57 58 59]\n",
            "\n",
            "#3 교차 검증 정확도 :0.8667, 학습 데이터 크기: 120, 검증 데이터 크기:30\n",
            "#3 검증 세트 인덱스: [60 61 62 63 64 65 66 67 68 69 70 71 72 73 74 75 76 77 78 79 80 81 82 83\n",
            " 84 85 86 87 88 89]\n",
            "\n",
            "#4 교차 검증 정확도 :0.9333, 학습 데이터 크기: 120, 검증 데이터 크기:30\n",
            "#4 검증 세트 인덱스: [ 90  91  92  93  94  95  96  97  98  99 100 101 102 103 104 105 106 107\n",
            " 108 109 110 111 112 113 114 115 116 117 118 119]\n",
            "\n",
            "#5 교차 검증 정확도 :0.7333, 학습 데이터 크기: 120, 검증 데이터 크기:30\n",
            "#5 검증 세트 인덱스: [120 121 122 123 124 125 126 127 128 129 130 131 132 133 134 135 136 137\n",
            " 138 139 140 141 142 143 144 145 146 147 148 149]\n",
            "\n",
            "## 평균 검증 정확도 :0.9\n"
          ],
          "name": "stdout"
        }
      ]
    },
    {
      "cell_type": "markdown",
      "metadata": {
        "id": "ipWy4dQMHnAJ"
      },
      "source": [
        "**Stratified KFold**\r\n",
        "- Stratified KFold는 불균형한(imbalanced) 분포도를 가진 레이블(결정 클래스) 데이터 집합을 위한 K폴드 방식\r\n",
        "- 불균형한 분포도를 가진 레이블 데이터 집합은 특정 레이블 값이 특이하게 많거나 매우 적어서 값의 분포가 한쪽으로 치우치는 것을 말합니다. (왜도, 첨도)?\r\n",
        "- Stratified KFold는 K Fold가 레이블 데이터 집합이 원본 데이터 집합의 레이블 분포를 학습 및 테스트 세트에 제대로 분배하지 못하는 경우 이러한 문제를 해결\r\n",
        "- **Stratified KFold는 원본 데이터의 레이블 분포를 먼저 고려한 뒤 이 분포와 동일하게 학습과 검증 데이터 세트를 분배.**\r\n"
      ]
    },
    {
      "cell_type": "code",
      "metadata": {
        "colab": {
          "base_uri": "https://localhost:8080/"
        },
        "id": "NXu5obDyHevg",
        "outputId": "89839e07-0cef-40e9-8614-dc5cc6c07c59"
      },
      "source": [
        "import pandas as pd\r\n",
        "\r\n",
        "iris = load_iris()\r\n",
        "iris_df = pd.DataFrame(data = iris.data, columns = iris.feature_names)\r\n",
        "iris_df['label'] = iris.target\r\n",
        "iris_df['label'].value_counts()"
      ],
      "execution_count": null,
      "outputs": [
        {
          "output_type": "execute_result",
          "data": {
            "text/plain": [
              "2    50\n",
              "1    50\n",
              "0    50\n",
              "Name: label, dtype: int64"
            ]
          },
          "metadata": {
            "tags": []
          },
          "execution_count": 74
        }
      ]
    },
    {
      "cell_type": "code",
      "metadata": {
        "colab": {
          "base_uri": "https://localhost:8080/"
        },
        "id": "U9UXkwiHJShm",
        "outputId": "664a733b-e90e-440f-fba0-54be58795e78"
      },
      "source": [
        "n_iter = 0\r\n",
        "kfold = KFold(n_splits=3)\r\n",
        "for train_index,test_index in kfold.split(features):\r\n",
        "  n_iter += 1\r\n",
        "  label_train = iris_df['label'].iloc[train_index]\r\n",
        "  label_test = iris_df['label'].iloc[test_index]\r\n",
        "  print('##교차 검증: {0}'.format(n_iter))\r\n",
        "  print('학습 레이블 데이터 분포:\\n',label_train.value_counts())\r\n",
        "  print('검증 레이블 데이터 분포:\\n',label_test.value_counts())"
      ],
      "execution_count": null,
      "outputs": [
        {
          "output_type": "stream",
          "text": [
            "##교차 검증: 1\n",
            "학습 레이블 데이터 분포:\n",
            " 2    50\n",
            "1    50\n",
            "Name: label, dtype: int64\n",
            "검증 레이블 데이터 분포:\n",
            " 0    50\n",
            "Name: label, dtype: int64\n",
            "##교차 검증: 2\n",
            "학습 레이블 데이터 분포:\n",
            " 2    50\n",
            "0    50\n",
            "Name: label, dtype: int64\n",
            "검증 레이블 데이터 분포:\n",
            " 1    50\n",
            "Name: label, dtype: int64\n",
            "##교차 검증: 3\n",
            "학습 레이블 데이터 분포:\n",
            " 1    50\n",
            "0    50\n",
            "Name: label, dtype: int64\n",
            "검증 레이블 데이터 분포:\n",
            " 2    50\n",
            "Name: label, dtype: int64\n"
          ],
          "name": "stdout"
        }
      ]
    },
    {
      "cell_type": "markdown",
      "metadata": {
        "id": "SP1iPl6-K0k7"
      },
      "source": [
        "- 첫번째 교차 검증에서는 학습 레이블의 1,2 값이 각각 50개가 추출 검증 레이블의 0 값이 50개 추출. 따라서 학습 레이블은 1,2 밖에 없으므로 0의 경우를 전혀 예측 하지 못함. 이렇게 KFold로 분할된 레이블 데이터 세트가 전체 레이블 값의 분포도를 반영하지 못하는 문제를 해결 <- Stratified KFold\r\n",
        "- Stratified KFold 와 KFold 의 차이점 : Stratified KFold 는 레이블 분포도에 따라 학습/검증 데이터를 나누기에 split()메서드에 인자로 피처 데이터 세트뿐만 아니라 레이블 데이터 세트가 필요\r\n"
      ]
    },
    {
      "cell_type": "code",
      "metadata": {
        "colab": {
          "base_uri": "https://localhost:8080/"
        },
        "id": "NPojqHzJKuwT",
        "outputId": "8330dfd3-284b-4355-bb71-42a0a7ff28c4"
      },
      "source": [
        "from sklearn.model_selection import StratifiedKFold\r\n",
        "\r\n",
        "skt = StratifiedKFold(n_splits = 3)\r\n",
        "n_iter = 0\r\n",
        "\r\n",
        "for trian_index, test_index in skt.split(iris_df,iris_df['label']):\r\n",
        "  n_iter += 1\r\n",
        "  label_train = iris_df['label'].iloc[train_index]\r\n",
        "  label_test = iris_df['label'].iloc[test_index]\r\n",
        "  print('##교차 검증: {0}'.format(n_iter))\r\n",
        "  print('학습 레이블 데이터 분포 :\\n',label_train.value_counts())\r\n",
        "  print('검증 레이블 데이터 분포 :\\n',label_test.value_counts())"
      ],
      "execution_count": null,
      "outputs": [
        {
          "output_type": "stream",
          "text": [
            "##교차 검증: 1\n",
            "학습 레이블 데이터 분포 :\n",
            " 1    50\n",
            "0    50\n",
            "Name: label, dtype: int64\n",
            "검증 레이블 데이터 분포 :\n",
            " 1    17\n",
            "0    17\n",
            "2    16\n",
            "Name: label, dtype: int64\n",
            "##교차 검증: 2\n",
            "학습 레이블 데이터 분포 :\n",
            " 1    50\n",
            "0    50\n",
            "Name: label, dtype: int64\n",
            "검증 레이블 데이터 분포 :\n",
            " 2    17\n",
            "0    17\n",
            "1    16\n",
            "Name: label, dtype: int64\n",
            "##교차 검증: 3\n",
            "학습 레이블 데이터 분포 :\n",
            " 1    50\n",
            "0    50\n",
            "Name: label, dtype: int64\n",
            "검증 레이블 데이터 분포 :\n",
            " 2    17\n",
            "1    17\n",
            "0    16\n",
            "Name: label, dtype: int64\n"
          ],
          "name": "stdout"
        }
      ]
    },
    {
      "cell_type": "code",
      "metadata": {
        "colab": {
          "base_uri": "https://localhost:8080/"
        },
        "id": "Cuazl_htMscW",
        "outputId": "207e2891-7c08-41a2-aaff-262bfa6b662a"
      },
      "source": [
        "df_clf = DecisionTreeClassifier(random_state=156)\r\n",
        "\r\n",
        "skt = StratifiedKFold(n_splits=3)\r\n",
        "n_iter = 0\r\n",
        "cv_accuracy = []\r\n",
        "\r\n",
        "for train_index,test_index in skt.split(features, label):\r\n",
        "  X_train,X_test = features[train_index], features[test_index]\r\n",
        "  y_train,y_test = label[train_index], label[test_index]\r\n",
        "  n_iter += 1\r\n",
        "  dt_clf.fit(X_train,y_train)\r\n",
        "  pred = dt_clf.predict(X_test)\r\n",
        "\r\n",
        "  accuracy = np.round(accuracy_score(y_test, pred),4)\r\n",
        "  train_size = train_index.shape[0]\r\n",
        "  test_size = test_index.shape[0]\r\n",
        "  print('\\n#{0} 교차 검증 정확도 :{1}, 학습 데이터 크기: {2}, 검증 데이터 크기: {3}'.format(n_iter,accuracy,train_size,test_size))\r\n",
        "  print('#{0} 검증 데이터 세트 인덱스: \\n{1}'.format(n_iter,test_index))\r\n",
        "  cv_accuracy.append(accuracy)\r\n",
        "\r\n",
        "print('\\n## 교차 검증 정확도 :',np.round(cv_accuracy,4))\r\n",
        "print('\\n## 평균 검증 정확도 :',np.mean(cv_accuracy))"
      ],
      "execution_count": null,
      "outputs": [
        {
          "output_type": "stream",
          "text": [
            "\n",
            "#1 교차 검증 정확도 :0.98, 학습 데이터 크기: 100, 검증 데이터 크기: 50\n",
            "#1 검증 데이터 세트 인덱스: \n",
            "[  0   1   2   3   4   5   6   7   8   9  10  11  12  13  14  15  16  50\n",
            "  51  52  53  54  55  56  57  58  59  60  61  62  63  64  65  66 100 101\n",
            " 102 103 104 105 106 107 108 109 110 111 112 113 114 115]\n",
            "\n",
            "#2 교차 검증 정확도 :0.94, 학습 데이터 크기: 100, 검증 데이터 크기: 50\n",
            "#2 검증 데이터 세트 인덱스: \n",
            "[ 17  18  19  20  21  22  23  24  25  26  27  28  29  30  31  32  33  67\n",
            "  68  69  70  71  72  73  74  75  76  77  78  79  80  81  82 116 117 118\n",
            " 119 120 121 122 123 124 125 126 127 128 129 130 131 132]\n",
            "\n",
            "#3 교차 검증 정확도 :0.98, 학습 데이터 크기: 100, 검증 데이터 크기: 50\n",
            "#3 검증 데이터 세트 인덱스: \n",
            "[ 34  35  36  37  38  39  40  41  42  43  44  45  46  47  48  49  83  84\n",
            "  85  86  87  88  89  90  91  92  93  94  95  96  97  98  99 133 134 135\n",
            " 136 137 138 139 140 141 142 143 144 145 146 147 148 149]\n",
            "\n",
            "## 교차 검증 정확도 : [0.98 0.94 0.98]\n",
            "\n",
            "## 평균 검증 정확도 : 0.9666666666666667\n"
          ],
          "name": "stdout"
        }
      ]
    },
    {
      "cell_type": "markdown",
      "metadata": {
        "id": "MPlbprwIP7Ho"
      },
      "source": [
        "> 일반적으로 분류(Classification)에서의 교차 검증은 KFold 가 아니라 Stratified KFold를 이용해서 교차 검증을 해야 합니다.\r\n",
        ">> 회귀(Regression)에서는 Stratified KFold가 지원되지 않습니다. 이유는? : 회귀의 결정값은 이산형이 아니라 연속형이기에 결정값별로 분포를 정하는 의미가 없다."
      ]
    },
    {
      "cell_type": "markdown",
      "metadata": {
        "id": "-HwR6LcOE_Sw"
      },
      "source": [
        "**교차 검증보다 간편하게 제공해주는 사이킷런의 API -> cross_val_score()**"
      ]
    },
    {
      "cell_type": "markdown",
      "metadata": {
        "id": "Ytmk5mk7FjNG"
      },
      "source": [
        "KFold\r\n",
        "1. 폴드 세트를 설정하고\r\n",
        "2. for 루프에서 반복으로 학습 및 테스트 데이터의 인덱스를 추출한 뒤\r\n",
        "3. 반복적으로 학습과 예측을 수행하고 예측 성능을 반환했습니다.\r\n",
        "- cross_val_score()는 이런 일련의 과정을 한꺼번에 수행해주는 API이다.\r\n",
        "\r\n",
        "**cross_val_score(estimator, X ,y=None, scoting=None, cv=None, n_jobs=1, verbose=0, fit_params=None, pre_dispatch='2*n_jobs') 이중 estimator, X, y, scoring, cv가 주요 파라미터입니다.**\r\n",
        "\r\n",
        "- estimator는 사이킷런의 분류 알고리즘 클래스인 Classifier 또는 회귀 알고리즘 클레스인 regressor를 의미하고, X는 피처 데이터 세트, y는 레이블 데이터 세트, scoring은 예측 성능 평가 지표를 기술하며, cv는 교차 검증 폴드 수를 의미.\r\n",
        "- cross_val_score() 수행 후 반환 값은 scoring 파라미터로 지정된 성능 지표 측정값을 배열 형태로 반환. cross_val_score()는 classifier가 입력되면 Stratified KFold 폴드 방식으로 레이블값의 분포에 따라 학습/테스트를 분할, 회귀인 경우는 KFold방식으로 분할"
      ]
    },
    {
      "cell_type": "code",
      "metadata": {
        "id": "1M5kBeMQPf5l",
        "colab": {
          "base_uri": "https://localhost:8080/"
        },
        "outputId": "d5e5e236-c10e-4c5a-c1a6-898f271b51c5"
      },
      "source": [
        "import numpy as np\r\n",
        "from sklearn.tree import DecisionTreeClassifier\r\n",
        "from sklearn.model_selection import cross_val_score, cross_validate\r\n",
        "from sklearn.datasets import load_iris\r\n",
        "\r\n",
        "iris_data = load_iris()\r\n",
        "dt_clf = DecisionTreeClassifier(random_state = 156)\r\n",
        "\r\n",
        "data = iris_data.data\r\n",
        "label = iris_data.target\r\n",
        "\r\n",
        "# 성능 지표는 정확도(accuracy), 교차 검증 세트는 3개\r\n",
        "scores = cross_val_score(dt_clf,data,label,scoring = 'accuracy',cv=3)\r\n",
        "print('교차 검증별 정확도 :',np.round(scores,4))\r\n",
        "print('평균 검증 정확도 :',np.round(np.mean(scores),4))"
      ],
      "execution_count": null,
      "outputs": [
        {
          "output_type": "stream",
          "text": [
            "교차 검증별 정확도 : [0.98 0.94 0.98]\n",
            "평균 검증 정확도 : 0.9667\n"
          ],
          "name": "stdout"
        }
      ]
    },
    {
      "cell_type": "markdown",
      "metadata": {
        "id": "SVxK-f2WKZ-D"
      },
      "source": [
        "- 비슷한 API로 cross_validate()는 여러 개의 평가 지표를 반환할 수 있습니다. 또한 학습 데이터에 대한 성능 평가 지표와 수행 시간도 같이 제공.(많이 사용 안하므로 알아만 두기)"
      ]
    },
    {
      "cell_type": "markdown",
      "metadata": {
        "id": "nqlOrTH0KwvQ"
      },
      "source": [
        "**GridSearchCV - 교차 검증과 최적 하이퍼 파라미터 튜닝을 한번에**"
      ]
    },
    {
      "cell_type": "markdown",
      "metadata": {
        "id": "tt3OyfONLo4y"
      },
      "source": [
        "- 하이퍼 파라미터는 머신러닝 알고리즘을 구성하는 주요 구성 요소이며, 이 값을 조종해 알고리즘 예측 성능을 개선할 수 있다.\r\n",
        "- 사이킷런은 GridSearchCV API를 이용해 분류 회귀와 같은 알고리즘에 사용되는 하이퍼 파라미터를 순차적으로 입력하면서 편리하게 최적의 파라미터를 도출할 수 있는 방안을 제공.\r\n",
        "(Grid는 격자라는 뜻으로, 촘촘하게 파라미터를 입력하면서 테스트를 하는 방식)\r\n",
        "- 예를 들면 결정 트리 알고리즘의 여러 파라미터를 순차적으로 변경하면서 최고 성능을 가지는 파라미터 조합을 찾고자 한다면 다음과 같이 파라미터의 집합을 만들고 이를 순차적으로 적용하면서 최적화를 수행할 수 있다.\r\n",
        "```\r\n",
        "# grid_parameters = {'max_depth':[1,2,3],'min_samples_split':[2,3]}\r\n",
        "```"
      ]
    },
    {
      "cell_type": "markdown",
      "metadata": {
        "id": "0WYmaEqpMxjE"
      },
      "source": [
        "- 하이퍼 파라미터는 순차적으로 적용되며, 총 6회에 걸쳐 파라미터를 순차적으로 바꿔 실행 하면서 최적의 파라미터와 수행 결과를 도출할 수 있습니다.\r\n",
        "\r\n",
        "순번, max_depth, min_samples_split\r\n",
        "\r\n",
        "1,    1,         2\r\n",
        "\r\n",
        "2,    1,         3\r\n",
        "\r\n",
        "3,    2,         2\r\n",
        "\r\n",
        "4,    2,         3\r\n",
        "\r\n",
        "5,    3,         2\r\n",
        "\r\n",
        "6,    3,         3"
      ]
    },
    {
      "cell_type": "markdown",
      "metadata": {
        "id": "vU3O-Hu-N9hj"
      },
      "source": [
        "- GridSearchCV는 교차 검증을 기반으로 이 하이퍼 파라미터의 최적 값을 찾게 해준다.\r\n",
        "- GridSearchCV는 사용자가 튜닝하고자 하는 여러 종류의 하이퍼 파라미터를 다양하게 테스트 하면서 최적의 파라미터를 편리하게 찾게 해주지만, 동시에 순차적으로 파라미터를 테스트 하므로 수행시간이 상대적으로 오래 걸리는 단점이 있다.\r\n",
        "- 만약 CV가 3회라면 개별 파라미터 조합마다 3개의 폴딩 세트를 3회에 걸쳐 학습/평가해 평균값으로 성능을 측정. 예시) 6개의 파라미터 조합이라면 총 CV 3회 X 6개 파라미터 조합 = 18회의 학습/평가가 이루어짐"
      ]
    },
    {
      "cell_type": "markdown",
      "metadata": {
        "id": "lTmYzen1Pj8x"
      },
      "source": [
        "- GridSeachCV 클래스의 생성자로 들어가는 주요 파라미터\r\n",
        "  - estimator : classifier, regressor, pipeline이 사용\r\n",
        "  - param_grid : key+리스트 값을 가지는 딕셔너리가 주어진다. estimator의 튜닝을 위해 파라미터명과 사용될 여러 파라미터 값을 지정합니다.\r\n",
        "  - scoring : 예측 성능을 측정할 평가 방법을 지정. 보통은 사이킷런 성능 평가 지표를 지정하는 문자열(예:정확도의 경우 'accuracy')로 지정하나 별도의 성능 평가 지표 함수도 지정할 수 있다.\r\n",
        "  - cv : 교차 검증을 위해 분할되는 학습/테스트 세트의 개수를 지정\r\n",
        "  - refit : 디폴트가 True 이며 True로 생성 시 가장 최적의 하이퍼 파라미터를 찾은 뒤 입력된 estimator 객체를 해당 하이퍼 파라미터로 재학습 시킨다."
      ]
    },
    {
      "cell_type": "code",
      "metadata": {
        "id": "BIF1suPgIkRi"
      },
      "source": [
        "# DecisionTreeClassifier의 중요 하이퍼 파라미터인 max_depth, min_samples_split의 값을 변화시키면서 최적화 진행\r\n",
        "from sklearn.datasets import load_iris\r\n",
        "from sklearn.model_selection import GridSearchCV, train_test_split\r\n",
        "from sklearn.tree import DecisionTreeClassifier\r\n",
        "\r\n",
        "# 데이터를 로딩하고 학습 데이터와 테스트 데이터 분리\r\n",
        "iris_data = load_iris()\r\n",
        "X_train,X_test,y_train,y_test = train_test_split(iris_data.data,iris_data.target,test_size=0.2,random_state=21)\r\n",
        "\r\n",
        "dtree = DecisionTreeClassifier()\r\n",
        "\r\n",
        "# 파라미터를 딕셔너리 형태로 설정\r\n",
        "parameters = {'max_depth':[1,2,3],'min_samples_split':[2,3]}"
      ],
      "execution_count": null,
      "outputs": []
    },
    {
      "cell_type": "code",
      "metadata": {
        "colab": {
          "base_uri": "https://localhost:8080/",
          "height": 233
        },
        "id": "W2GXDTsWWg0K",
        "outputId": "e24bfd31-cb80-4f9f-a25b-eb363b563f95"
      },
      "source": [
        "import pandas as pd\r\n",
        "\r\n",
        "# param_grid의 하이퍼 파라미터 3개의 train,test set fold로 나누어 테스트 수행 설정,\r\n",
        "### refit = True가 deafult임. True이면 가장 좋은 파라미터를 설정으로 재학습 시킴\r\n",
        "grid_dtree = GridSearchCV(dtree, param_grid = parameters, cv = 3, refit = True)\r\n",
        "\r\n",
        "# 붓꽃 학습 데이터로 param_grid의 하이퍼 파라미터 순차적으로 학습/평가\r\n",
        "grid_dtree.fit(X_train,y_train)\r\n",
        "\r\n",
        "# GridSearchCV 결과를 추출하여 데이터 프레임으로 변환\r\n",
        "scores_df = pd.DataFrame(grid_dtree.cv_results_)\r\n",
        "scores_df[['params','mean_test_score','rank_test_score','split0_test_score','split1_test_score','split2_test_score']]"
      ],
      "execution_count": null,
      "outputs": [
        {
          "output_type": "execute_result",
          "data": {
            "text/html": [
              "<div>\n",
              "<style scoped>\n",
              "    .dataframe tbody tr th:only-of-type {\n",
              "        vertical-align: middle;\n",
              "    }\n",
              "\n",
              "    .dataframe tbody tr th {\n",
              "        vertical-align: top;\n",
              "    }\n",
              "\n",
              "    .dataframe thead th {\n",
              "        text-align: right;\n",
              "    }\n",
              "</style>\n",
              "<table border=\"1\" class=\"dataframe\">\n",
              "  <thead>\n",
              "    <tr style=\"text-align: right;\">\n",
              "      <th></th>\n",
              "      <th>params</th>\n",
              "      <th>mean_test_score</th>\n",
              "      <th>rank_test_score</th>\n",
              "      <th>split0_test_score</th>\n",
              "      <th>split1_test_score</th>\n",
              "      <th>split2_test_score</th>\n",
              "    </tr>\n",
              "  </thead>\n",
              "  <tbody>\n",
              "    <tr>\n",
              "      <th>0</th>\n",
              "      <td>{'max_depth': 1, 'min_samples_split': 2}</td>\n",
              "      <td>0.683333</td>\n",
              "      <td>5</td>\n",
              "      <td>0.700</td>\n",
              "      <td>0.675</td>\n",
              "      <td>0.675</td>\n",
              "    </tr>\n",
              "    <tr>\n",
              "      <th>1</th>\n",
              "      <td>{'max_depth': 1, 'min_samples_split': 3}</td>\n",
              "      <td>0.683333</td>\n",
              "      <td>5</td>\n",
              "      <td>0.700</td>\n",
              "      <td>0.675</td>\n",
              "      <td>0.675</td>\n",
              "    </tr>\n",
              "    <tr>\n",
              "      <th>2</th>\n",
              "      <td>{'max_depth': 2, 'min_samples_split': 2}</td>\n",
              "      <td>0.975000</td>\n",
              "      <td>3</td>\n",
              "      <td>0.950</td>\n",
              "      <td>0.975</td>\n",
              "      <td>1.000</td>\n",
              "    </tr>\n",
              "    <tr>\n",
              "      <th>3</th>\n",
              "      <td>{'max_depth': 2, 'min_samples_split': 3}</td>\n",
              "      <td>0.975000</td>\n",
              "      <td>3</td>\n",
              "      <td>0.950</td>\n",
              "      <td>0.975</td>\n",
              "      <td>1.000</td>\n",
              "    </tr>\n",
              "    <tr>\n",
              "      <th>4</th>\n",
              "      <td>{'max_depth': 3, 'min_samples_split': 2}</td>\n",
              "      <td>0.991667</td>\n",
              "      <td>1</td>\n",
              "      <td>0.975</td>\n",
              "      <td>1.000</td>\n",
              "      <td>1.000</td>\n",
              "    </tr>\n",
              "    <tr>\n",
              "      <th>5</th>\n",
              "      <td>{'max_depth': 3, 'min_samples_split': 3}</td>\n",
              "      <td>0.991667</td>\n",
              "      <td>1</td>\n",
              "      <td>0.975</td>\n",
              "      <td>1.000</td>\n",
              "      <td>1.000</td>\n",
              "    </tr>\n",
              "  </tbody>\n",
              "</table>\n",
              "</div>"
            ],
            "text/plain": [
              "                                     params  ...  split2_test_score\n",
              "0  {'max_depth': 1, 'min_samples_split': 2}  ...              0.675\n",
              "1  {'max_depth': 1, 'min_samples_split': 3}  ...              0.675\n",
              "2  {'max_depth': 2, 'min_samples_split': 2}  ...              1.000\n",
              "3  {'max_depth': 2, 'min_samples_split': 3}  ...              1.000\n",
              "4  {'max_depth': 3, 'min_samples_split': 2}  ...              1.000\n",
              "5  {'max_depth': 3, 'min_samples_split': 3}  ...              1.000\n",
              "\n",
              "[6 rows x 6 columns]"
            ]
          },
          "metadata": {
            "tags": []
          },
          "execution_count": 9
        }
      ]
    },
    {
      "cell_type": "code",
      "metadata": {
        "colab": {
          "base_uri": "https://localhost:8080/"
        },
        "id": "YudHMyC1YFil",
        "outputId": "ef5edc34-18df-4830-e0b3-c5625bf24541"
      },
      "source": [
        "# GridSearchCV 객체와 fit()을 수행하면 최고 성능을 나타낸 하이퍼 파라미터의 값과 그때의 평가 결과 값이 각각 best_params, best_score_ 속성에 기록(즉, cv_results_의 rank_test_score가 1일때의 값)\r\n",
        "print('GridSearchCV 최적 파라미터:',grid_dtree.best_params_)\r\n",
        "print('GridSearchCV 최고 정확도:{0:4f}'.format(grid_dtree.best_score_))"
      ],
      "execution_count": null,
      "outputs": [
        {
          "output_type": "stream",
          "text": [
            "GridSearchCV 최적 파라미터: {'max_depth': 3, 'min_samples_split': 2}\n",
            "GridSearchCV 최고 정확도:0.991667\n"
          ],
          "name": "stdout"
        }
      ]
    },
    {
      "cell_type": "code",
      "metadata": {
        "colab": {
          "base_uri": "https://localhost:8080/"
        },
        "id": "yIgXVJCRaM6n",
        "outputId": "15afa948-0278-4030-f9b3-bca638062b37"
      },
      "source": [
        "# refit = True이면 GridSearchCV가 최적 성능을 나타내는 하이퍼 파라미터로 Estimator를 학습해 best_estimator_로 저장\r\n",
        "# GridSearchCV의 refit으로 이미 학습된 estimator 반환\r\n",
        "from sklearn.metrics import accuracy_score\r\n",
        "estimator = grid_dtree.best_estimator_\r\n",
        "\r\n",
        "# GridSearchCV의 best_estimator_는 이미 최적 학습이 됐으므로 별도 학습이 필요 없음\r\n",
        "pred = estimator.predict(X_test)\r\n",
        "print('테스트 데이터 세트 정확도:{0:4f}',format(accuracy_score(y_test,pred)))"
      ],
      "execution_count": null,
      "outputs": [
        {
          "output_type": "stream",
          "text": [
            "테스트 데이터 세트 정확도:{0:4f} 0.9333333333333333\n"
          ],
          "name": "stdout"
        }
      ]
    },
    {
      "cell_type": "markdown",
      "metadata": {
        "id": "jueD43nZeSap"
      },
      "source": [
        "#**05. 데이터 전처리**"
      ]
    },
    {
      "cell_type": "markdown",
      "metadata": {
        "id": "PLOfxmhcgNUl"
      },
      "source": [
        "- 결측치 처리\r\n",
        "- 사이킷런의 머신러닝 알고리즘은 문자열 값을 입력 값으로 허용 x -> 모든 문자열은 인코딩해서 숫자 형으로 변환해야 함\r\n",
        "- 불필요한 피처는 삭제 등"
      ]
    },
    {
      "cell_type": "markdown",
      "metadata": {
        "id": "4agk-2Jdg24h"
      },
      "source": [
        "**데이터 인코딩**\r\n",
        "1. 레이블 인코딩\r\n",
        "2. 원 핫 인코딩"
      ]
    },
    {
      "cell_type": "markdown",
      "metadata": {
        "id": "lOcRYZHWhg_9"
      },
      "source": [
        "레이블 인코딩\r\n",
        "- 카테고리 피처를 코드형 숫자 값으로 변환하는 것\r\n",
        "- ex) 상품데이터 TV, 냉장고, 전자레인지 값으로 돼있다면 TV:1, 냉장고:2, 전자레인지:3 숫자형 값으로 변환\r\n",
        "- 주의해야될점 : 01 02 와 같은 코드 값 역시 문자열이므로 1,2 와 같은 숫자형 값으로 변환 해야됨\r\n",
        "- 사이킷런 레이블 인코딩은 LabelEncoder 클래스로 구현함\r\n",
        "- LabelEncoder를 객체로 생성한 후 fit()과 transform()을 호출해 레이블 인코딩을 수행"
      ]
    },
    {
      "cell_type": "code",
      "metadata": {
        "colab": {
          "base_uri": "https://localhost:8080/"
        },
        "id": "3BCddJQ1bSBt",
        "outputId": "f54006dc-3ef0-48d0-9b2f-3d4dba9cd109"
      },
      "source": [
        "from sklearn.preprocessing import LabelEncoder\r\n",
        "\r\n",
        "items = ['TV','냉장고','전자레인지','컴퓨터','선풍기','선풍기','믹서','믹서']\r\n",
        "\r\n",
        "# LabelEncoder를 객체 생성 후 fit(), transform()으로 레이블 인코딩 수행\r\n",
        "encoder = LabelEncoder()\r\n",
        "encoder.fit(items)\r\n",
        "labels = encoder.transform(items)\r\n",
        "print('인코딩 변환값 :',labels)\r\n"
      ],
      "execution_count": null,
      "outputs": [
        {
          "output_type": "stream",
          "text": [
            "인코딩 변환값 : [0 1 4 5 3 3 2 2]\n"
          ],
          "name": "stdout"
        }
      ]
    },
    {
      "cell_type": "code",
      "metadata": {
        "colab": {
          "base_uri": "https://localhost:8080/"
        },
        "id": "PAekusRrizKN",
        "outputId": "8dbca436-4e93-4667-c3ec-5fc42df978d1"
      },
      "source": [
        "print('인코딩 클래스 :',encoder.classes_) # LabelEncoder 객체의 classes_ 속성값으로 확인"
      ],
      "execution_count": null,
      "outputs": [
        {
          "output_type": "stream",
          "text": [
            "인코딩 클래스 : ['TV' '냉장고' '믹서' '선풍기' '전자레인지' '컴퓨터']\n"
          ],
          "name": "stdout"
        }
      ]
    },
    {
      "cell_type": "markdown",
      "metadata": {
        "id": "OzfEgglljQCC"
      },
      "source": [
        "- inverse_transform()을 통해 인코딩된 값을 다시 디코딩할 수 있다."
      ]
    },
    {
      "cell_type": "code",
      "metadata": {
        "colab": {
          "base_uri": "https://localhost:8080/"
        },
        "id": "0VufA0eKi3rT",
        "outputId": "550039b6-6f2f-410b-8d3f-178032f97046"
      },
      "source": [
        "print('디코딩 원본값 :',encoder.inverse_transform([4,5,2,0,1,1,3,3]))"
      ],
      "execution_count": null,
      "outputs": [
        {
          "output_type": "stream",
          "text": [
            "디코딩 원본값 : ['전자레인지' '컴퓨터' '믹서' 'TV' '냉장고' '냉장고' '선풍기' '선풍기']\n"
          ],
          "name": "stdout"
        }
      ]
    },
    {
      "cell_type": "markdown",
      "metadata": {
        "id": "7VxBU6vIkQzT"
      },
      "source": [
        "**원 핫 인코딩**\r\n",
        "- 원 핫 인코딩은 피처 값의 유형에 따라 새로운 피처를 추가해 공 값에 해당하는 컬럼에만 1을 표시하고 나머지는 0을 표시하는 방식\r\n",
        "- 원-핫 인코딩은 사이킷런에서 OneHotEncoder 클래스로 쉽게 변환이 가능.\r\n",
        "- 주의할 점 : 첫번째는 OneHotEncoder로 변환하기 전에 모든 문자열 값이 숫자형 값으로 변환돼어야 하고, 두번째는 입력 값으로 2차원 데이터가 필요"
      ]
    },
    {
      "cell_type": "code",
      "metadata": {
        "colab": {
          "base_uri": "https://localhost:8080/"
        },
        "id": "BNpoDLQ7jhDt",
        "outputId": "3eb15160-5757-4090-d1fd-f483773d82ba"
      },
      "source": [
        "from sklearn.preprocessing import OneHotEncoder\r\n",
        "import numpy as np\r\n",
        "\r\n",
        "items = ['TV','냉장고','전자레인지','컴퓨터','선풍기','선풍기','믹서','믹서']\r\n",
        "\r\n",
        "# 먼저 숫자형으로 변환을 위해 LabelEncoder 수행\r\n",
        "encoder = LabelEncoder()\r\n",
        "encoder.fit(items)\r\n",
        "labels = encoder.transform(items)\r\n",
        "# 2차원 데이터로 변환\r\n",
        "labels_2d = labels.reshape(-1,1) # reshape(-1,1) 2차원으로 변환시켜줌 이 형태 기억하기\r\n",
        "\r\n",
        "# 원 핫 인코딩 적용\r\n",
        "oh_encoder = OneHotEncoder()\r\n",
        "oh_encoder.fit(labels_2d)\r\n",
        "oh_labels = oh_encoder.transform(labels_2d)\r\n",
        "print('원 핫 인코딩 데이터')\r\n",
        "print(oh_labels.toarray())\r\n",
        "print('원 핫 인코딩 데이터 차원')\r\n",
        "print(oh_labels.shape)"
      ],
      "execution_count": null,
      "outputs": [
        {
          "output_type": "stream",
          "text": [
            "원 핫 인코딩 데이터\n",
            "[[1. 0. 0. 0. 0. 0.]\n",
            " [0. 1. 0. 0. 0. 0.]\n",
            " [0. 0. 0. 0. 1. 0.]\n",
            " [0. 0. 0. 0. 0. 1.]\n",
            " [0. 0. 0. 1. 0. 0.]\n",
            " [0. 0. 0. 1. 0. 0.]\n",
            " [0. 0. 1. 0. 0. 0.]\n",
            " [0. 0. 1. 0. 0. 0.]]\n",
            "원 핫 인코딩 데이터 차원\n",
            "(8, 6)\n"
          ],
          "name": "stdout"
        }
      ]
    },
    {
      "cell_type": "markdown",
      "metadata": {
        "id": "uylFSoNsmSFo"
      },
      "source": [
        "- 판다스에는 원 핫 인코딩을 더 쉽게 지원하는 API가 있습니다 -> get_dummies()\r\n",
        "- 사이킷런의 OneHotEncoder와 다르게 문자열 카테고리 값을 숫자형으로 변환할 필요 없이 바로 변환"
      ]
    },
    {
      "cell_type": "code",
      "metadata": {
        "colab": {
          "base_uri": "https://localhost:8080/",
          "height": 294
        },
        "id": "qmj3N3nJl8jz",
        "outputId": "51b2b7fc-e239-425c-dac2-38f74f3a06f4"
      },
      "source": [
        "import pandas as pd\r\n",
        "\r\n",
        "df = pd.DataFrame({'item':['TV','냉장고','전자레인지','컴퓨터','선풍기','선풍기','믹서','믹서']})\r\n",
        "pd.get_dummies(df)"
      ],
      "execution_count": null,
      "outputs": [
        {
          "output_type": "execute_result",
          "data": {
            "text/html": [
              "<div>\n",
              "<style scoped>\n",
              "    .dataframe tbody tr th:only-of-type {\n",
              "        vertical-align: middle;\n",
              "    }\n",
              "\n",
              "    .dataframe tbody tr th {\n",
              "        vertical-align: top;\n",
              "    }\n",
              "\n",
              "    .dataframe thead th {\n",
              "        text-align: right;\n",
              "    }\n",
              "</style>\n",
              "<table border=\"1\" class=\"dataframe\">\n",
              "  <thead>\n",
              "    <tr style=\"text-align: right;\">\n",
              "      <th></th>\n",
              "      <th>item_TV</th>\n",
              "      <th>item_냉장고</th>\n",
              "      <th>item_믹서</th>\n",
              "      <th>item_선풍기</th>\n",
              "      <th>item_전자레인지</th>\n",
              "      <th>item_컴퓨터</th>\n",
              "    </tr>\n",
              "  </thead>\n",
              "  <tbody>\n",
              "    <tr>\n",
              "      <th>0</th>\n",
              "      <td>1</td>\n",
              "      <td>0</td>\n",
              "      <td>0</td>\n",
              "      <td>0</td>\n",
              "      <td>0</td>\n",
              "      <td>0</td>\n",
              "    </tr>\n",
              "    <tr>\n",
              "      <th>1</th>\n",
              "      <td>0</td>\n",
              "      <td>1</td>\n",
              "      <td>0</td>\n",
              "      <td>0</td>\n",
              "      <td>0</td>\n",
              "      <td>0</td>\n",
              "    </tr>\n",
              "    <tr>\n",
              "      <th>2</th>\n",
              "      <td>0</td>\n",
              "      <td>0</td>\n",
              "      <td>0</td>\n",
              "      <td>0</td>\n",
              "      <td>1</td>\n",
              "      <td>0</td>\n",
              "    </tr>\n",
              "    <tr>\n",
              "      <th>3</th>\n",
              "      <td>0</td>\n",
              "      <td>0</td>\n",
              "      <td>0</td>\n",
              "      <td>0</td>\n",
              "      <td>0</td>\n",
              "      <td>1</td>\n",
              "    </tr>\n",
              "    <tr>\n",
              "      <th>4</th>\n",
              "      <td>0</td>\n",
              "      <td>0</td>\n",
              "      <td>0</td>\n",
              "      <td>1</td>\n",
              "      <td>0</td>\n",
              "      <td>0</td>\n",
              "    </tr>\n",
              "    <tr>\n",
              "      <th>5</th>\n",
              "      <td>0</td>\n",
              "      <td>0</td>\n",
              "      <td>0</td>\n",
              "      <td>1</td>\n",
              "      <td>0</td>\n",
              "      <td>0</td>\n",
              "    </tr>\n",
              "    <tr>\n",
              "      <th>6</th>\n",
              "      <td>0</td>\n",
              "      <td>0</td>\n",
              "      <td>1</td>\n",
              "      <td>0</td>\n",
              "      <td>0</td>\n",
              "      <td>0</td>\n",
              "    </tr>\n",
              "    <tr>\n",
              "      <th>7</th>\n",
              "      <td>0</td>\n",
              "      <td>0</td>\n",
              "      <td>1</td>\n",
              "      <td>0</td>\n",
              "      <td>0</td>\n",
              "      <td>0</td>\n",
              "    </tr>\n",
              "  </tbody>\n",
              "</table>\n",
              "</div>"
            ],
            "text/plain": [
              "   item_TV  item_냉장고  item_믹서  item_선풍기  item_전자레인지  item_컴퓨터\n",
              "0        1         0        0         0           0         0\n",
              "1        0         1        0         0           0         0\n",
              "2        0         0        0         0           1         0\n",
              "3        0         0        0         0           0         1\n",
              "4        0         0        0         1           0         0\n",
              "5        0         0        0         1           0         0\n",
              "6        0         0        1         0           0         0\n",
              "7        0         0        1         0           0         0"
            ]
          },
          "metadata": {
            "tags": []
          },
          "execution_count": 27
        }
      ]
    },
    {
      "cell_type": "markdown",
      "metadata": {
        "id": "9Y9ZNrzltkti"
      },
      "source": [
        "**피처 스케일링과 정규화**"
      ]
    },
    {
      "cell_type": "markdown",
      "metadata": {
        "id": "3GH63hu6tqF0"
      },
      "source": [
        "- 서로 다른 변수의 값 범위를 일정한 수준으로 맞추는 작업을 피처 스케일링(feature scaling)이라고 한다.\r\n",
        "- 대표적인 방법으로는 표준화(Standardization)과 정규화(Normalization)가 있다.\r\n",
        "- 사이킷런에서 제공하는 대표적인 피처 스케일링 클래스인 StandardScaler와 MinMaxScaler를 알아보겠습니다."
      ]
    },
    {
      "cell_type": "markdown",
      "metadata": {
        "id": "ERFAcaHAvJqF"
      },
      "source": [
        "**StandardScaler**\r\n",
        "- 개별 피처를 평균이 0이고 분산이 1인 값으로 변환\r\n",
        "- 가우시안 정규 분포를 가질 수 있도록 데이터롤 변환하는 것이 몇몇 알고리즘에서 중요! (특히 사이킷런에서 구현한 RBF 커널을 이용한 서포트 벡터 머신, 선형 회귀, 로지스틱 회귀는 데이터가 가우시안 분포를 가지고 있다고 가정하고 구현됐기 때문에 사전에 표준화를 적용하는 것은 예측 성능 향상에 중요한 요소가 될 수 있다.\r\n"
      ]
    },
    {
      "cell_type": "code",
      "metadata": {
        "colab": {
          "base_uri": "https://localhost:8080/"
        },
        "id": "e8Fw8hXzvH6N",
        "outputId": "477b20f1-5442-4004-bd0f-fb008d6b8819"
      },
      "source": [
        "from sklearn.datasets import load_iris\r\n",
        "import pandas as pd\r\n",
        "# 붓꽃 데이터 생성 -> 데이터 프레임으로 변환\r\n",
        "iris = load_iris()\r\n",
        "iris_data = iris.data\r\n",
        "iris_df = pd.DataFrame(data = iris_data, columns = iris.feature_names)\r\n",
        "\r\n",
        "print(iris_df.mean())\r\n",
        "print(iris_df.var())"
      ],
      "execution_count": null,
      "outputs": [
        {
          "output_type": "stream",
          "text": [
            "sepal length (cm)    5.843333\n",
            "sepal width (cm)     3.057333\n",
            "petal length (cm)    3.758000\n",
            "petal width (cm)     1.199333\n",
            "dtype: float64\n",
            "sepal length (cm)    0.685694\n",
            "sepal width (cm)     0.189979\n",
            "petal length (cm)    3.116278\n",
            "petal width (cm)     0.581006\n",
            "dtype: float64\n"
          ],
          "name": "stdout"
        }
      ]
    },
    {
      "cell_type": "code",
      "metadata": {
        "colab": {
          "base_uri": "https://localhost:8080/"
        },
        "id": "rh2f083kwIds",
        "outputId": "b35952b8-5b7a-4d62-fa10-3b1aad93ceb4"
      },
      "source": [
        "# StandardScaler\r\n",
        "from sklearn.preprocessing import StandardScaler\r\n",
        "\r\n",
        "# StandarScaler 객체 생성\r\n",
        "scaler = StandardScaler()\r\n",
        "scaler.fit(iris_df)\r\n",
        "iris_scaler = scaler.transform(iris_df)\r\n",
        "\r\n",
        "# transform()시 스케일 변환된 데이터 세트가 넘파이 배열로 반환돼 이를 데이터 프레임으로 다시 변환\r\n",
        "iris_df_scaled = pd.DataFrame(data = iris_scaler, columns = iris.feature_names)\r\n",
        "print(iris_df_scaled.mean())\r\n",
        "print(iris_df_scaled.var())"
      ],
      "execution_count": null,
      "outputs": [
        {
          "output_type": "stream",
          "text": [
            "sepal length (cm)   -1.690315e-15\n",
            "sepal width (cm)    -1.842970e-15\n",
            "petal length (cm)   -1.698641e-15\n",
            "petal width (cm)    -1.409243e-15\n",
            "dtype: float64\n",
            "sepal length (cm)    1.006711\n",
            "sepal width (cm)     1.006711\n",
            "petal length (cm)    1.006711\n",
            "petal width (cm)     1.006711\n",
            "dtype: float64\n"
          ],
          "name": "stdout"
        }
      ]
    },
    {
      "cell_type": "markdown",
      "metadata": {
        "id": "0mkNQGA_xOaR"
      },
      "source": [
        "- 모든 컬럼 값의 평군이 0에 아주 가까운 값으로, 분산이 1에 아주 가까운 값으로 변환됐음을 알 수 있다."
      ]
    },
    {
      "cell_type": "markdown",
      "metadata": {
        "id": "mCnuu9B1xWWx"
      },
      "source": [
        "**MinMaxScaler**\r\n",
        "- MinMaxScaler는 데이터 값을 0과 1사이의 범위 값으로 변환(음수값이 있으면 -1에서 1로 변환).\r\n",
        "- 데이터의 분포가 가우시안 분포가 아닐경우에 Min, Max Scale을 적용해 볼 수 있다."
      ]
    },
    {
      "cell_type": "code",
      "metadata": {
        "colab": {
          "base_uri": "https://localhost:8080/"
        },
        "id": "oJKAfC6kxCAK",
        "outputId": "7b6f9f7c-cc09-48e9-cf1a-f2c7dfdec675"
      },
      "source": [
        "from sklearn.preprocessing import MinMaxScaler\r\n",
        "\r\n",
        "# MinMaxScaler 객체 생성\r\n",
        "scaler = MinMaxScaler()\r\n",
        "scaler.fit(iris_df)\r\n",
        "iris_scaled = scaler.transform(iris_df)\r\n",
        "\r\n",
        "# transform() 시 스케일 변환된 데이터 세트가 넘파이 배열로 반환돼 이를 다시 데이터 프레임으로 변환 시켜줘야됨\r\n",
        "iris_df_scaled = pd.DataFrame(data = iris_scaled, columns = iris.feature_names)\r\n",
        "print(iris_df_scaled.min())\r\n",
        "print(iris_df_scaled.max())"
      ],
      "execution_count": null,
      "outputs": [
        {
          "output_type": "stream",
          "text": [
            "sepal length (cm)    0.0\n",
            "sepal width (cm)     0.0\n",
            "petal length (cm)    0.0\n",
            "petal width (cm)     0.0\n",
            "dtype: float64\n",
            "sepal length (cm)    1.0\n",
            "sepal width (cm)     1.0\n",
            "petal length (cm)    1.0\n",
            "petal width (cm)     1.0\n",
            "dtype: float64\n"
          ],
          "name": "stdout"
        }
      ]
    },
    {
      "cell_type": "markdown",
      "metadata": {
        "id": "RrJbfHv7yqA6"
      },
      "source": [
        "- 모든 피처에 0에서 1사이의 값으로 변환되는 스케일이 적용됐음을 알 수 있다."
      ]
    },
    {
      "cell_type": "markdown",
      "metadata": {
        "id": "Dw5YzeuT0iaj"
      },
      "source": [
        "**학습 데이터와 테스트 데이터의 스케일링 변환 시 유의점**\r\n",
        "- 즉 학습 데이터로 fit()이 적용된 스케일링 기준 정보를 그대로 테스트 데이터에 적용해야 하며, 그렇지 않고 테스트 데이터로 다시 새로운 스케일링 기준 정보를 만들게 되면 학습데이터와 테스트 데이터의 스케일링 기준 정보가 서로 달라지기 때문에 올바른 예측 결과를 도출하지 못할 수 있습니다."
      ]
    },
    {
      "cell_type": "code",
      "metadata": {
        "colab": {
          "base_uri": "https://localhost:8080/"
        },
        "id": "W_XVDiEMymO7",
        "outputId": "4c2b0b37-e250-4d6e-f55e-5c0f5a123024"
      },
      "source": [
        "from sklearn.preprocessing import MinMaxScaler\r\n",
        "import numpy as np\r\n",
        "\r\n",
        "# 학습데이터는 0~10 테스트데이터는 0~5 값을 가지는 데이터 생성\r\n",
        "train_data = np.arange(11).reshape(-1,1)\r\n",
        "test_data = np.arange(6).reshape(-1,1)\r\n",
        "\r\n",
        "# MinMaxSacler 객체에 별도의 feature_range 파라미터 값을 지정하지 않으면 0~1값으로 변환\r\n",
        "scaler = MinMaxScaler()\r\n",
        "\r\n",
        "# fit()하게 되면 train_data 데이터 최솟값이 0 최댓값이 10으로 설정\r\n",
        "scaler.fit(train_data)\r\n",
        "\r\n",
        "# 1/10 scale로 train_data 데이터 변환함. 원본 10 -> 1로 변환됨.\r\n",
        "train_scaled = scaler.transform(train_data)\r\n",
        "\r\n",
        "print('원본 train_data 데이터 :',np.round(train_data.reshape(-1),2))\r\n",
        "print('Scale된 train_data 데이터 :',np.round(train_scaled.reshape(-1),2))\r\n"
      ],
      "execution_count": null,
      "outputs": [
        {
          "output_type": "stream",
          "text": [
            "원본 train_data 데이터 : [ 0  1  2  3  4  5  6  7  8  9 10]\n",
            "Scale된 train_data 데이터 : [0.  0.1 0.2 0.3 0.4 0.5 0.6 0.7 0.8 0.9 1. ]\n"
          ],
          "name": "stdout"
        }
      ]
    },
    {
      "cell_type": "code",
      "metadata": {
        "colab": {
          "base_uri": "https://localhost:8080/"
        },
        "id": "sbSXB7_d4iXX",
        "outputId": "a8c044e3-cd26-4363-e74c-a16dd350d2f3"
      },
      "source": [
        "# 테스트 데이터도 마찬가지\r\n",
        "\r\n",
        "scaler.fit(test_data)\r\n",
        "test_scaled = scaler.transform(test_data)\r\n",
        "\r\n",
        "print('원본 test_data 데이터 :',np.round(test_data.reshape(-1),2))\r\n",
        "print('Scale된 test_data 데이터 :',np.round(test_scaled.reshape(-1),2))"
      ],
      "execution_count": null,
      "outputs": [
        {
          "output_type": "stream",
          "text": [
            "원본 test_data 데이터 : [0 1 2 3 4 5]\n",
            "Scale된 test_data 데이터 : [0.  0.2 0.4 0.6 0.8 1. ]\n"
          ],
          "name": "stdout"
        }
      ]
    },
    {
      "cell_type": "markdown",
      "metadata": {
        "id": "0NqYl86s5ED5"
      },
      "source": [
        "- 출력 결과를 확인하면 학습 데이터와 테스트 데이터의 스케일링이 맞지 않음을 확인할 수 있다.\r\n",
        "- 따라서 테스트 데이터에 다시 fit()을 적용해서는 안되며, 학습 데이터로 이미 fit()이 적용된 Scaler 객체를 이용해 transform()으로 변환해야 함.\r\n"
      ]
    },
    {
      "cell_type": "code",
      "metadata": {
        "colab": {
          "base_uri": "https://localhost:8080/"
        },
        "id": "c8sFkzEp47wZ",
        "outputId": "f3e0bcc2-8bb3-4f27-ad59-a1f852a53afd"
      },
      "source": [
        "# [올바른 예시]\r\n",
        "scaler = MinMaxScaler()\r\n",
        "\r\n",
        "# fit()하게 되면 train_data 데이터 최솟값이 0 최댓값이 10으로 설정\r\n",
        "scaler.fit(train_data)\r\n",
        "\r\n",
        "# 1/10 scale로 train_data 데이터 변환함. 원본 10 -> 1로 변환됨.\r\n",
        "train_scaled = scaler.transform(train_data)\r\n",
        "test_scaled = scaler.transform(test_data)\r\n",
        "\r\n",
        "print('원본 train_data 데이터 :',np.round(train_data.reshape(-1),2))\r\n",
        "print('Scale된 train_data 데이터 :',np.round(train_scaled.reshape(-1),2))\r\n",
        "print('='*50)\r\n",
        "print('원본 test_data 데이터 :',np.round(test_data.reshape(-1),2))\r\n",
        "print('Scale된 test_data 데이터 :',np.round(test_scaled.reshape(-1),2))"
      ],
      "execution_count": null,
      "outputs": [
        {
          "output_type": "stream",
          "text": [
            "원본 train_data 데이터 : [ 0  1  2  3  4  5  6  7  8  9 10]\n",
            "Scale된 train_data 데이터 : [0.  0.1 0.2 0.3 0.4 0.5 0.6 0.7 0.8 0.9 1. ]\n",
            "==================================================\n",
            "원본 test_data 데이터 : [0 1 2 3 4 5]\n",
            "Scale된 test_data 데이터 : [0.  0.1 0.2 0.3 0.4 0.5]\n"
          ],
          "name": "stdout"
        }
      ]
    },
    {
      "cell_type": "markdown",
      "metadata": {
        "id": "TK46qWQN63mS"
      },
      "source": [
        "**[정리]**\r\n",
        ">1. 가능하다면 전체 데이터의 스케일링 변환을 적용한 뒤 학습과 테스트 데이터로 분리\r\n",
        ">2. 1이 여의치 않다면 테스트 데이터 변환시에는 fit()이나 fit_transform()을 적용하지 않고 학습 데이터로 이미 fit()된 Scaler 객체를 이용해 transform()으로 변환"
      ]
    },
    {
      "cell_type": "markdown",
      "metadata": {
        "id": "U-vJ6LEr7bMF"
      },
      "source": [
        "#**06. 사이킷런으로 수행하는 타이타닉 생존자 예측**"
      ]
    },
    {
      "cell_type": "code",
      "metadata": {
        "colab": {
          "base_uri": "https://localhost:8080/",
          "height": 141
        },
        "id": "siwiuUwU6sSk",
        "outputId": "bf0ab9b7-103f-46f1-ecae-d1540adc440c"
      },
      "source": [
        "import numpy as np\r\n",
        "import pandas as pd\r\n",
        "import matplotlib.pyplot as plt\r\n",
        "import seaborn as sns\r\n",
        "%matplotlib inline\r\n",
        "\r\n",
        "titanic_df = pd.read_csv('train.csv')\r\n",
        "titanic_df.head(3)"
      ],
      "execution_count": null,
      "outputs": [
        {
          "output_type": "execute_result",
          "data": {
            "text/html": [
              "<div>\n",
              "<style scoped>\n",
              "    .dataframe tbody tr th:only-of-type {\n",
              "        vertical-align: middle;\n",
              "    }\n",
              "\n",
              "    .dataframe tbody tr th {\n",
              "        vertical-align: top;\n",
              "    }\n",
              "\n",
              "    .dataframe thead th {\n",
              "        text-align: right;\n",
              "    }\n",
              "</style>\n",
              "<table border=\"1\" class=\"dataframe\">\n",
              "  <thead>\n",
              "    <tr style=\"text-align: right;\">\n",
              "      <th></th>\n",
              "      <th>PassengerId</th>\n",
              "      <th>Survived</th>\n",
              "      <th>Pclass</th>\n",
              "      <th>Name</th>\n",
              "      <th>Sex</th>\n",
              "      <th>Age</th>\n",
              "      <th>SibSp</th>\n",
              "      <th>Parch</th>\n",
              "      <th>Ticket</th>\n",
              "      <th>Fare</th>\n",
              "      <th>Cabin</th>\n",
              "      <th>Embarked</th>\n",
              "    </tr>\n",
              "  </thead>\n",
              "  <tbody>\n",
              "    <tr>\n",
              "      <th>0</th>\n",
              "      <td>1</td>\n",
              "      <td>0</td>\n",
              "      <td>3</td>\n",
              "      <td>Braund, Mr. Owen Harris</td>\n",
              "      <td>male</td>\n",
              "      <td>22.0</td>\n",
              "      <td>1</td>\n",
              "      <td>0</td>\n",
              "      <td>A/5 21171</td>\n",
              "      <td>7.2500</td>\n",
              "      <td>NaN</td>\n",
              "      <td>S</td>\n",
              "    </tr>\n",
              "    <tr>\n",
              "      <th>1</th>\n",
              "      <td>2</td>\n",
              "      <td>1</td>\n",
              "      <td>1</td>\n",
              "      <td>Cumings, Mrs. John Bradley (Florence Briggs Th...</td>\n",
              "      <td>female</td>\n",
              "      <td>38.0</td>\n",
              "      <td>1</td>\n",
              "      <td>0</td>\n",
              "      <td>PC 17599</td>\n",
              "      <td>71.2833</td>\n",
              "      <td>C85</td>\n",
              "      <td>C</td>\n",
              "    </tr>\n",
              "    <tr>\n",
              "      <th>2</th>\n",
              "      <td>3</td>\n",
              "      <td>1</td>\n",
              "      <td>3</td>\n",
              "      <td>Heikkinen, Miss. Laina</td>\n",
              "      <td>female</td>\n",
              "      <td>26.0</td>\n",
              "      <td>0</td>\n",
              "      <td>0</td>\n",
              "      <td>STON/O2. 3101282</td>\n",
              "      <td>7.9250</td>\n",
              "      <td>NaN</td>\n",
              "      <td>S</td>\n",
              "    </tr>\n",
              "  </tbody>\n",
              "</table>\n",
              "</div>"
            ],
            "text/plain": [
              "   PassengerId  Survived  Pclass  ...     Fare Cabin  Embarked\n",
              "0            1         0       3  ...   7.2500   NaN         S\n",
              "1            2         1       1  ...  71.2833   C85         C\n",
              "2            3         1       3  ...   7.9250   NaN         S\n",
              "\n",
              "[3 rows x 12 columns]"
            ]
          },
          "metadata": {
            "tags": []
          },
          "execution_count": 86
        }
      ]
    },
    {
      "cell_type": "code",
      "metadata": {
        "colab": {
          "base_uri": "https://localhost:8080/"
        },
        "id": "GOqFg0Q3_q1M",
        "outputId": "7220f3db-6850-4b14-db6e-4928d5b8ca2a"
      },
      "source": [
        "titanic_df.info()"
      ],
      "execution_count": null,
      "outputs": [
        {
          "output_type": "stream",
          "text": [
            "<class 'pandas.core.frame.DataFrame'>\n",
            "RangeIndex: 891 entries, 0 to 890\n",
            "Data columns (total 12 columns):\n",
            " #   Column       Non-Null Count  Dtype  \n",
            "---  ------       --------------  -----  \n",
            " 0   PassengerId  891 non-null    int64  \n",
            " 1   Survived     891 non-null    int64  \n",
            " 2   Pclass       891 non-null    int64  \n",
            " 3   Name         891 non-null    object \n",
            " 4   Sex          891 non-null    object \n",
            " 5   Age          714 non-null    float64\n",
            " 6   SibSp        891 non-null    int64  \n",
            " 7   Parch        891 non-null    int64  \n",
            " 8   Ticket       891 non-null    object \n",
            " 9   Fare         891 non-null    float64\n",
            " 10  Cabin        204 non-null    object \n",
            " 11  Embarked     889 non-null    object \n",
            "dtypes: float64(2), int64(5), object(5)\n",
            "memory usage: 83.7+ KB\n"
          ],
          "name": "stdout"
        }
      ]
    },
    {
      "cell_type": "code",
      "metadata": {
        "colab": {
          "base_uri": "https://localhost:8080/"
        },
        "id": "2xcZ2RrZ_s2L",
        "outputId": "0766127b-8e95-4e1b-ca78-34f2c6c41de4"
      },
      "source": [
        "print(titanic_df.isnull().sum())"
      ],
      "execution_count": null,
      "outputs": [
        {
          "output_type": "stream",
          "text": [
            "PassengerId      0\n",
            "Survived         0\n",
            "Pclass           0\n",
            "Name             0\n",
            "Sex              0\n",
            "Age            177\n",
            "SibSp            0\n",
            "Parch            0\n",
            "Ticket           0\n",
            "Fare             0\n",
            "Cabin          687\n",
            "Embarked         2\n",
            "dtype: int64\n"
          ],
          "name": "stdout"
        }
      ]
    },
    {
      "cell_type": "code",
      "metadata": {
        "colab": {
          "base_uri": "https://localhost:8080/"
        },
        "id": "LOHLn9FHAtsG",
        "outputId": "5c6bf9bd-c6ad-4c9e-fb93-e6eb98b233d2"
      },
      "source": [
        "titanic_df['Age'].fillna(titanic_df['Age'].mean(),inplace=True)\r\n",
        "titanic_df['Cabin'].fillna('N',inplace=True)\r\n",
        "titanic_df['Embarked'].fillna('N',inplace=True)\r\n",
        "print(titanic_df.isnull().sum())"
      ],
      "execution_count": null,
      "outputs": [
        {
          "output_type": "stream",
          "text": [
            "PassengerId    0\n",
            "Survived       0\n",
            "Pclass         0\n",
            "Name           0\n",
            "Sex            0\n",
            "Age            0\n",
            "SibSp          0\n",
            "Parch          0\n",
            "Ticket         0\n",
            "Fare           0\n",
            "Cabin          0\n",
            "Embarked       0\n",
            "dtype: int64\n"
          ],
          "name": "stdout"
        }
      ]
    },
    {
      "cell_type": "code",
      "metadata": {
        "colab": {
          "base_uri": "https://localhost:8080/"
        },
        "id": "aMu6loFLBNyF",
        "outputId": "953ae029-634b-479d-dd3e-1da87980674b"
      },
      "source": [
        "print('Sex 값 분포:\\n',titanic_df['Sex'].value_counts())\r\n",
        "print('Cabin 값 분포:\\n',titanic_df['Cabin'].value_counts())\r\n",
        "print('Embarked 값 분포:\\n',titanic_df['Embarked'].value_counts())"
      ],
      "execution_count": null,
      "outputs": [
        {
          "output_type": "stream",
          "text": [
            "Sex 값 분포:\n",
            " male      577\n",
            "female    314\n",
            "Name: Sex, dtype: int64\n",
            "Cabin 값 분포:\n",
            " N              687\n",
            "G6               4\n",
            "C23 C25 C27      4\n",
            "B96 B98          4\n",
            "F33              3\n",
            "              ... \n",
            "C70              1\n",
            "T                1\n",
            "C104             1\n",
            "B19              1\n",
            "B41              1\n",
            "Name: Cabin, Length: 148, dtype: int64\n",
            "Embarked 값 분포:\n",
            " S    644\n",
            "C    168\n",
            "Q     77\n",
            "N      2\n",
            "Name: Embarked, dtype: int64\n"
          ],
          "name": "stdout"
        }
      ]
    },
    {
      "cell_type": "code",
      "metadata": {
        "colab": {
          "base_uri": "https://localhost:8080/"
        },
        "id": "QRhmZVMkBY1u",
        "outputId": "d09caf4d-4457-465e-941c-93011e3867d8"
      },
      "source": [
        "titanic_df['Cabin'] = titanic_df['Cabin'].str[:1]\r\n",
        "titanic_df['Cabin'].head(3)"
      ],
      "execution_count": null,
      "outputs": [
        {
          "output_type": "execute_result",
          "data": {
            "text/plain": [
              "0    N\n",
              "1    C\n",
              "2    N\n",
              "Name: Cabin, dtype: object"
            ]
          },
          "metadata": {
            "tags": []
          },
          "execution_count": 91
        }
      ]
    },
    {
      "cell_type": "code",
      "metadata": {
        "colab": {
          "base_uri": "https://localhost:8080/"
        },
        "id": "KnOzR-FuBwSA",
        "outputId": "7322984c-fbd6-43a5-de55-764c97c647b1"
      },
      "source": [
        "titanic_df.groupby(['Sex','Survived'])['Survived'].count()"
      ],
      "execution_count": null,
      "outputs": [
        {
          "output_type": "execute_result",
          "data": {
            "text/plain": [
              "Sex     Survived\n",
              "female  0            81\n",
              "        1           233\n",
              "male    0           468\n",
              "        1           109\n",
              "Name: Survived, dtype: int64"
            ]
          },
          "metadata": {
            "tags": []
          },
          "execution_count": 92
        }
      ]
    },
    {
      "cell_type": "code",
      "metadata": {
        "colab": {
          "base_uri": "https://localhost:8080/",
          "height": 298
        },
        "id": "LVFGJPGYB7HE",
        "outputId": "3112b73f-4d66-44c9-d965-8a6b39ca4b81"
      },
      "source": [
        "sns.barplot(x='Sex',y='Survived',data = titanic_df)"
      ],
      "execution_count": null,
      "outputs": [
        {
          "output_type": "execute_result",
          "data": {
            "text/plain": [
              "<matplotlib.axes._subplots.AxesSubplot at 0x7fc0f9625d30>"
            ]
          },
          "metadata": {
            "tags": []
          },
          "execution_count": 93
        },
        {
          "output_type": "display_data",
          "data": {
            "image/png": "[encoded data removed]",
            "text/plain": [
              "<Figure size 432x288 with 1 Axes>"
            ]
          },
          "metadata": {
            "tags": [],
            "needs_background": "light"
          }
        }
      ]
    },
    {
      "cell_type": "code",
      "metadata": {
        "colab": {
          "base_uri": "https://localhost:8080/",
          "height": 298
        },
        "id": "iQFHtbinCIVy",
        "outputId": "5e08fd6e-c5f6-4901-ee39-ab32f986892e"
      },
      "source": [
        "sns.barplot(x='Pclass',y='Survived',hue = 'Sex',data=titanic_df)"
      ],
      "execution_count": null,
      "outputs": [
        {
          "output_type": "execute_result",
          "data": {
            "text/plain": [
              "<matplotlib.axes._subplots.AxesSubplot at 0x7fc0f95ba358>"
            ]
          },
          "metadata": {
            "tags": []
          },
          "execution_count": 94
        },
        {
          "output_type": "display_data",
          "data": {
            "image/png": "[encoded data removed]",
            "text/plain": [
              "<Figure size 432x288 with 1 Axes>"
            ]
          },
          "metadata": {
            "tags": [],
            "needs_background": "light"
          }
        }
      ]
    },
    {
      "cell_type": "code",
      "metadata": {
        "colab": {
          "base_uri": "https://localhost:8080/",
          "height": 354
        },
        "id": "-C-1SlhcCNr4",
        "outputId": "41b00442-2e78-4e0c-bcde-7f2a4b45dab6"
      },
      "source": [
        "def get_category(age):\r\n",
        "  cat = ''\r\n",
        "  if age <= -1: cat = 'Unknown'\r\n",
        "  elif age <=5: cat = 'Baby'\r\n",
        "  elif age <=12: cat = 'Child'\r\n",
        "  elif age <=18: cat = 'Teenager'\r\n",
        "  elif age <=25: cat = 'Student'\r\n",
        "  elif age <=35: cat = 'Young Adult'\r\n",
        "  elif age <=60: cat = 'Adult'\r\n",
        "  else: cat = 'Elderly'\r\n",
        "\r\n",
        "  return cat\r\n",
        "\r\n",
        "plt.figure(figsize = (10,5))\r\n",
        "\r\n",
        "group_names = ['Unknown','Baby','Child','Teenager','Student','Young Adult','Adult','Elderly']\r\n",
        "\r\n",
        "titanic_df['Age_cat'] = titanic_df['Age'].apply(lambda x: get_category(x))\r\n",
        "sns.barplot(x='Age_cat', y='Survived',hue = 'Sex', data = titanic_df, order = group_names)\r\n",
        "#titanic_df.drop('Age',axis=1, inplace=True)"
      ],
      "execution_count": null,
      "outputs": [
        {
          "output_type": "execute_result",
          "data": {
            "text/plain": [
              "<matplotlib.axes._subplots.AxesSubplot at 0x7fc0f958a9b0>"
            ]
          },
          "metadata": {
            "tags": []
          },
          "execution_count": 97
        },
        {
          "output_type": "display_data",
          "data": {
            "image/png": "[encoded data removed]",
            "text/plain": [
              "<Figure size 720x360 with 1 Axes>"
            ]
          },
          "metadata": {
            "tags": [],
            "needs_background": "light"
          }
        }
      ]
    },
    {
      "cell_type": "code",
      "metadata": {
        "colab": {
          "base_uri": "https://localhost:8080/",
          "height": 175
        },
        "id": "aFbnqh71C6_-",
        "outputId": "940168c9-1c7a-4d00-b2a5-d85334b78031"
      },
      "source": [
        "from sklearn.preprocessing import LabelEncoder\r\n",
        "\r\n",
        "def encode_features(dataDF):\r\n",
        "  features = ['Cabin','Embarked','Sex','Age_cat']\r\n",
        "  for feature in features:\r\n",
        "    le = LabelEncoder()\r\n",
        "    le = le.fit(dataDF[feature])\r\n",
        "    dataDF[feature] = le.transform(dataDF[feature])\r\n",
        "\r\n",
        "  return dataDF\r\n",
        "\r\n",
        "titanic_df = encode_features(titanic_df)\r\n",
        "titanic_df.head(3)"
      ],
      "execution_count": null,
      "outputs": [
        {
          "output_type": "execute_result",
          "data": {
            "text/html": [
              "<div>\n",
              "<style scoped>\n",
              "    .dataframe tbody tr th:only-of-type {\n",
              "        vertical-align: middle;\n",
              "    }\n",
              "\n",
              "    .dataframe tbody tr th {\n",
              "        vertical-align: top;\n",
              "    }\n",
              "\n",
              "    .dataframe thead th {\n",
              "        text-align: right;\n",
              "    }\n",
              "</style>\n",
              "<table border=\"1\" class=\"dataframe\">\n",
              "  <thead>\n",
              "    <tr style=\"text-align: right;\">\n",
              "      <th></th>\n",
              "      <th>PassengerId</th>\n",
              "      <th>Survived</th>\n",
              "      <th>Pclass</th>\n",
              "      <th>Name</th>\n",
              "      <th>Sex</th>\n",
              "      <th>Age</th>\n",
              "      <th>SibSp</th>\n",
              "      <th>Parch</th>\n",
              "      <th>Ticket</th>\n",
              "      <th>Fare</th>\n",
              "      <th>Cabin</th>\n",
              "      <th>Embarked</th>\n",
              "      <th>Age_cat</th>\n",
              "    </tr>\n",
              "  </thead>\n",
              "  <tbody>\n",
              "    <tr>\n",
              "      <th>0</th>\n",
              "      <td>1</td>\n",
              "      <td>0</td>\n",
              "      <td>3</td>\n",
              "      <td>Braund, Mr. Owen Harris</td>\n",
              "      <td>1</td>\n",
              "      <td>22.0</td>\n",
              "      <td>1</td>\n",
              "      <td>0</td>\n",
              "      <td>A/5 21171</td>\n",
              "      <td>7.2500</td>\n",
              "      <td>7</td>\n",
              "      <td>3</td>\n",
              "      <td>4</td>\n",
              "    </tr>\n",
              "    <tr>\n",
              "      <th>1</th>\n",
              "      <td>2</td>\n",
              "      <td>1</td>\n",
              "      <td>1</td>\n",
              "      <td>Cumings, Mrs. John Bradley (Florence Briggs Th...</td>\n",
              "      <td>0</td>\n",
              "      <td>38.0</td>\n",
              "      <td>1</td>\n",
              "      <td>0</td>\n",
              "      <td>PC 17599</td>\n",
              "      <td>71.2833</td>\n",
              "      <td>2</td>\n",
              "      <td>0</td>\n",
              "      <td>0</td>\n",
              "    </tr>\n",
              "    <tr>\n",
              "      <th>2</th>\n",
              "      <td>3</td>\n",
              "      <td>1</td>\n",
              "      <td>3</td>\n",
              "      <td>Heikkinen, Miss. Laina</td>\n",
              "      <td>0</td>\n",
              "      <td>26.0</td>\n",
              "      <td>0</td>\n",
              "      <td>0</td>\n",
              "      <td>STON/O2. 3101282</td>\n",
              "      <td>7.9250</td>\n",
              "      <td>7</td>\n",
              "      <td>3</td>\n",
              "      <td>6</td>\n",
              "    </tr>\n",
              "  </tbody>\n",
              "</table>\n",
              "</div>"
            ],
            "text/plain": [
              "   PassengerId  Survived  Pclass  ... Cabin  Embarked  Age_cat\n",
              "0            1         0       3  ...     7         3        4\n",
              "1            2         1       1  ...     2         0        0\n",
              "2            3         1       3  ...     7         3        6\n",
              "\n",
              "[3 rows x 13 columns]"
            ]
          },
          "metadata": {
            "tags": []
          },
          "execution_count": 98
        }
      ]
    },
    {
      "cell_type": "code",
      "metadata": {
        "id": "YlokA3SHExGc"
      },
      "source": [
        "def drop_features(df):\r\n",
        "  df.drop(['PassengerId','Name','Ticket'],axis=1, inplace=True)\r\n",
        "  return df\r\n",
        "\r\n",
        "titnaic_df = drop_features(titanic_df)"
      ],
      "execution_count": null,
      "outputs": []
    },
    {
      "cell_type": "code",
      "metadata": {
        "id": "5uwd9ngvFQ51"
      },
      "source": [
        "y_titanic_df = titanic_df['Survived']\r\n",
        "X_titanic_df = titanic_df.drop('Survived',axis=1)"
      ],
      "execution_count": null,
      "outputs": []
    },
    {
      "cell_type": "code",
      "metadata": {
        "id": "XI99gZBLF0K0"
      },
      "source": [
        "from sklearn.model_selection import train_test_split\r\n",
        "\r\n",
        "X_train,X_test,y_train,y_test  = train_test_split(X_titanic_df, y_titanic_df, test_size= 0.2, random_state = 11)"
      ],
      "execution_count": null,
      "outputs": []
    },
    {
      "cell_type": "code",
      "metadata": {
        "id": "kQUcFFyWGGli"
      },
      "source": [
        "from sklearn.tree import DecisionTreeClassifier\r\n",
        "from sklearn.ensemble import RandomForestClassifier\r\n",
        "from sklearn.linear_model import LogisticRegression\r\n",
        "from sklearn.metrics import accuracy_score"
      ],
      "execution_count": null,
      "outputs": []
    },
    {
      "cell_type": "code",
      "metadata": {
        "colab": {
          "base_uri": "https://localhost:8080/"
        },
        "id": "GtRp0GS8Ga2r",
        "outputId": "f9c29ff5-5796-41a1-db2a-e9584bb96dc1"
      },
      "source": [
        "dt_clf = DecisionTreeClassifier(random_state=11)\r\n",
        "rt_clf = RandomForestClassifier(random_state=11)\r\n",
        "lr_clf = LogisticRegression()\r\n",
        "\r\n",
        "dt_clf.fit(X_train,y_train)\r\n",
        "dt_pred = dt_clf.predict(X_test)\r\n",
        "dt_acc = accuracy_score(y_test,dt_pred)\r\n",
        "print('DecisionTreeClassifier 정확도 :',dt_acc)\r\n",
        "\r\n",
        "rt_clf.fit(X_train,y_train)\r\n",
        "rt_pred = rt_clf.predict(X_test)\r\n",
        "rt_acc = accuracy_score(y_test,rt_pred)\r\n",
        "print('RandomForestClassion 정확도 :',rt_acc)\r\n",
        "\r\n",
        "lr_clf.fit(X_train,y_train)\r\n",
        "pred = lr_clf.predict(X_test)\r\n",
        "print('LogisticRegression 정확도 :{0:4f}'.format(accuracy_score(y_test,pred)))"
      ],
      "execution_count": null,
      "outputs": [
        {
          "output_type": "stream",
          "text": [
            "DecisionTreeClassifier 정확도 : 0.8044692737430168\n",
            "RandomForestClassion 정확도 : 0.8659217877094972\n",
            "LogisticRegression 정확도 :0.860335\n"
          ],
          "name": "stdout"
        },
        {
          "output_type": "stream",
          "text": [
            "/usr/local/lib/python3.6/dist-packages/sklearn/linear_model/_logistic.py:940: ConvergenceWarning: lbfgs failed to converge (status=1):\n",
            "STOP: TOTAL NO. of ITERATIONS REACHED LIMIT.\n",
            "\n",
            "Increase the number of iterations (max_iter) or scale the data as shown in:\n",
            "    https://scikit-learn.org/stable/modules/preprocessing.html\n",
            "Please also refer to the documentation for alternative solver options:\n",
            "    https://scikit-learn.org/stable/modules/linear_model.html#logistic-regression\n",
            "  extra_warning_msg=_LOGISTIC_SOLVER_CONVERGENCE_MSG)\n"
          ],
          "name": "stderr"
        }
      ]
    },
    {
      "cell_type": "code",
      "metadata": {
        "colab": {
          "base_uri": "https://localhost:8080/"
        },
        "id": "OabRPIQzHL9u",
        "outputId": "1b2de73a-6451-4d2f-af7d-d2890d1f0fe5"
      },
      "source": [
        "from sklearn.model_selection import KFold\r\n",
        "\r\n",
        "def exec_kfold(clf,folds=5):\r\n",
        "  kfold = KFold(n_splits = folds)\r\n",
        "  scores = []\r\n",
        "  for iter_count, (train_index,test_index) in enumerate(kfold.split(X_titanic_df)):\r\n",
        "    X_train,X_test = X_titanic_df.values[train_index],X_titanic_df.values[test_index]\r\n",
        "    y_train,y_test = y_titanic_df.values[train_index],y_titanic_df.values[test_index]\r\n",
        "    clf.fit(X_train,y_train)\r\n",
        "    predictions = clf.predict(X_test)\r\n",
        "    accuracy = accuracy_score(y_test, predictions)\r\n",
        "    scores.append(accuracy)\r\n",
        "    print('교차 검증 {0} 정확도:{1:4f}'.format(iter_count,accuracy))\r\n",
        "  mean_score = np.mean(accuracy)\r\n",
        "  print('평균 검증 정확도:{0:4f}'.format(mean_score))\r\n",
        "\r\n",
        "exec_kfold(dt_clf,folds=5)"
      ],
      "execution_count": null,
      "outputs": [
        {
          "output_type": "stream",
          "text": [
            "교차 검증 0 정확도:0.731844\n",
            "교차 검증 1 정확도:0.769663\n",
            "교차 검증 2 정확도:0.792135\n",
            "교차 검증 3 정확도:0.769663\n",
            "교차 검증 4 정확도:0.814607\n",
            "평균 검증 정확도:0.814607\n"
          ],
          "name": "stdout"
        }
      ]
    },
    {
      "cell_type": "code",
      "metadata": {
        "colab": {
          "base_uri": "https://localhost:8080/"
        },
        "id": "cXb2tkDfJaJT",
        "outputId": "1d2a5b0f-3286-432f-8e65-af4abdd83161"
      },
      "source": [
        "from sklearn.model_selection import cross_val_score\r\n",
        "\r\n",
        "scores = cross_val_score(dt_clf, X_titanic_df, y_titanic_df, cv=5)\r\n",
        "for iter_count, accuracy in enumerate(scores):\r\n",
        "  print('교차 검증 {0} 정확도: {1:4f}'.format(iter_count,accuracy))\r\n",
        "\r\n",
        "print('평균 검증 정확도',np.mean(scores))"
      ],
      "execution_count": null,
      "outputs": [
        {
          "output_type": "stream",
          "text": [
            "교차 검증 0 정확도: 0.765363\n",
            "교차 검증 1 정확도: 0.758427\n",
            "교차 검증 2 정확도: 0.808989\n",
            "교차 검증 3 정확도: 0.792135\n",
            "교차 검증 4 정확도: 0.820225\n",
            "평균 검증 정확도 0.7890276818780995\n"
          ],
          "name": "stdout"
        }
      ]
    },
    {
      "cell_type": "code",
      "metadata": {
        "colab": {
          "base_uri": "https://localhost:8080/"
        },
        "id": "WFSbcCGtKaQ0",
        "outputId": "208104a9-b1c3-4ef3-e94f-5c31d7607261"
      },
      "source": [
        "from sklearn.model_selection import GridSearchCV\r\n",
        "\r\n",
        "parameters = {'max_depth':[2,3,5,10],'min_samples_split':[2,3,5],'min_samples_leaf':[1,5,8]}\r\n",
        "\r\n",
        "grid_dclf = GridSearchCV(dt_clf,param_grid=parameters, scoring='accuracy',cv=5)\r\n",
        "grid_dclf.fit(X_train,y_train)\r\n",
        "\r\n",
        "print('GridSearchCV 최적 하이퍼 파라미터:',grid_dclf.best_params_)\r\n",
        "print('GridSearchCV 최고 정확도 {0:4f}:'.format(grid_dclf.best_score_))\r\n",
        "best_dclf = grid_dclf.best_estimator_\r\n",
        "\r\n",
        "dprediction = best_dclf.predict(X_test)\r\n",
        "accuracy = accuracy_score(y_test,dprediction)\r\n",
        "print('테스트 세트에서 최고 정확도 {0:4f}'.format(accuracy))"
      ],
      "execution_count": null,
      "outputs": [
        {
          "output_type": "stream",
          "text": [
            "GridSearchCV 최적 하이퍼 파라미터: {'max_depth': 3, 'min_samples_leaf': 5, 'min_samples_split': 2}\n",
            "GridSearchCV 최고 정확도 0.799183:\n",
            "테스트 세트에서 최고 정확도 0.871508\n"
          ],
          "name": "stdout"
        }
      ]
    },
    {
      "cell_type": "code",
      "metadata": {
        "id": "pEuVIvHyMoAI"
      },
      "source": [
        ""
      ],
      "execution_count": null,
      "outputs": []
    }
  ]
}